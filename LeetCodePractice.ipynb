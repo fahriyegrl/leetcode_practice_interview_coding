{
  "nbformat": 4,
  "nbformat_minor": 0,
  "metadata": {
    "colab": {
      "provenance": [],
      "authorship_tag": "ABX9TyN5dGzfMNeFinppQoWa18Pb",
      "include_colab_link": true
    },
    "kernelspec": {
      "name": "python3",
      "display_name": "Python 3"
    },
    "language_info": {
      "name": "python"
    }
  },
  "cells": [
    {
      "cell_type": "markdown",
      "metadata": {
        "id": "view-in-github",
        "colab_type": "text"
      },
      "source": [
        "<a href=\"https://colab.research.google.com/github/fahriyegrl/leetcode_practice_interview_coding/blob/main/LeetCodePractice.ipynb\" target=\"_parent\"><img src=\"https://colab.research.google.com/assets/colab-badge.svg\" alt=\"Open In Colab\"/></a>"
      ]
    },
    {
      "cell_type": "markdown",
      "source": [
        "https://leetcode.com/studyplan/leetcode-75/"
      ],
      "metadata": {
        "id": "PGdtQBOvLc0x"
      }
    },
    {
      "cell_type": "markdown",
      "source": [
        "1- You are given two strings word1 and word2. Merge the strings by adding letters in alternating order, starting with word1. If a string is longer than the other, append the additional letters onto the end of the merged string.\n",
        "\n",
        "Return the merged string.\n",
        "Hint: Use two pointers, one pointer for each string. Alternately choose the character from each pointer, and move the pointer upwards"
      ],
      "metadata": {
        "id": "g1prTLBGLg6d"
      }
    },
    {
      "cell_type": "code",
      "source": [
        "class Solution(object):\n",
        "  def mergeString(self, word1:str, word2:str) -> str:\n",
        "    m = len(word1)\n",
        "    n = len(word2)\n",
        "    i = 0\n",
        "    j = 0\n",
        "    result = []\n",
        "\n",
        "    while i < m or j < n:\n",
        "      if i < m:\n",
        "        result += word1[i]\n",
        "        i += 1\n",
        "      if j < n:\n",
        "        result += word2[j]\n",
        "        j += 1\n",
        "    return ''.join(result)\n",
        "\n",
        "\n",
        "\n"
      ],
      "metadata": {
        "id": "eZxh6y0LLksV"
      },
      "execution_count": null,
      "outputs": []
    },
    {
      "cell_type": "code",
      "source": [
        "word1 = \"ghtuen\"\n",
        "word2 = \"dfhhe\"\n",
        "s = Solution()\n",
        "s.mergeString(word1, word2)"
      ],
      "metadata": {
        "colab": {
          "base_uri": "https://localhost:8080/",
          "height": 35
        },
        "id": "lAXzHrhbTB7f",
        "outputId": "9ceb487f-c328-4685-b946-c2cd65b8016f"
      },
      "execution_count": null,
      "outputs": [
        {
          "output_type": "execute_result",
          "data": {
            "text/plain": [
              "'gdhfthuheen'"
            ],
            "application/vnd.google.colaboratory.intrinsic+json": {
              "type": "string"
            }
          },
          "metadata": {},
          "execution_count": 9
        }
      ]
    },
    {
      "cell_type": "code",
      "source": [
        "class Solution2(object):\n",
        "  def mergers(self, word1:str, word2:str) -> str:\n",
        "    result =[]\n",
        "    n = max(len(word1), len(word2))\n",
        "    for i in range(n):\n",
        "      if i< len(word1):\n",
        "        result += word1[i]\n",
        "      if i < len(word2):\n",
        "        result += word2[i]\n",
        "    return \"\".join(result)\n",
        "\n"
      ],
      "metadata": {
        "id": "TCtTbr1kTd7Z"
      },
      "execution_count": null,
      "outputs": []
    },
    {
      "cell_type": "code",
      "source": [
        "sol2 = Solution2()\n",
        "s = sol2.mergers(word1, word2)\n",
        "print(s)"
      ],
      "metadata": {
        "colab": {
          "base_uri": "https://localhost:8080/"
        },
        "id": "W-W2ZmpoUjoW",
        "outputId": "0704d708-8007-4b2d-9040-d9fa9086ed10"
      },
      "execution_count": null,
      "outputs": [
        {
          "output_type": "stream",
          "name": "stdout",
          "text": [
            "gdhfthuheen\n"
          ]
        }
      ]
    },
    {
      "cell_type": "markdown",
      "source": [
        "2- For two strings s and t, we say \"t divides s\" if and only if s = t + t + t + ... + t + t (i.e., t is concatenated with itself one or more times).\n",
        "\n",
        "Given two strings str1 and str2, return the largest string x such that x divides both str1 and str2."
      ],
      "metadata": {
        "id": "SGP0H_4YymcJ"
      }
    },
    {
      "cell_type": "code",
      "source": [
        "class Solution2(object):\n",
        "  def largestDivisible(self, str1:str, str2:str) -> str:\n",
        "    if str1 + str2 != str2 + str1:\n",
        "      return \"\"\n",
        "    if len(str1) == len(str2):\n",
        "      return str1\n",
        "    if len(str1) > len(str2):\n",
        "      return self.largestDivisible(str1[len(str2):], str2)\n",
        "    return   self.largestDivisible(str1, str2[len(str1):])\n",
        "\n"
      ],
      "metadata": {
        "id": "G68CsqJMy586"
      },
      "execution_count": null,
      "outputs": []
    },
    {
      "cell_type": "markdown",
      "source": [
        "3- There are n kids with candies. You are given an integer array candies, where each candies[i] represents the number of candies the ith kid has, and an integer extraCandies, denoting the number of extra candies that you have.\n",
        "\n",
        "Return a boolean array result of length n, where result[i] is true if, after giving the ith kid all the extraCandies, they will have the greatest number of candies among all the kids, or false otherwise.\n",
        "\n",
        "Note that multiple kids can have the greatest number of candies."
      ],
      "metadata": {
        "id": "dyW9VzXXgKjy"
      }
    },
    {
      "cell_type": "code",
      "source": [
        "from typing import List\n",
        "\n",
        "class Kids:\n",
        "  def candies(self, candies: List[int], extra: int) -> List[bool]:\n",
        "    max_candies = max(candies)\n",
        "    results = []\n",
        "    for candy in candies:\n",
        "      if candy + extra >= max_candies:\n",
        "        results.append(True)\n",
        "      else:\n",
        "        results.append(False)\n",
        "    return results"
      ],
      "metadata": {
        "id": "J6vMShtu862E"
      },
      "execution_count": null,
      "outputs": []
    },
    {
      "cell_type": "code",
      "source": [
        "kiddo = Kids()\n",
        "kiddo.candies(candies = [8,4,2,4,7], extra=1)"
      ],
      "metadata": {
        "colab": {
          "base_uri": "https://localhost:8080/"
        },
        "id": "qZpiSsStjLRd",
        "outputId": "206f350f-6923-4c69-a6b5-32d2127b548a"
      },
      "execution_count": null,
      "outputs": [
        {
          "output_type": "execute_result",
          "data": {
            "text/plain": [
              "[True, False, False, False, True]"
            ]
          },
          "metadata": {},
          "execution_count": 14
        }
      ]
    },
    {
      "cell_type": "markdown",
      "source": [
        "4- You have a long flowerbed in which some of the plots are planted, and some are not. However, flowers cannot be planted in adjacent plots.\n",
        "\n",
        "Given an integer array flowerbed containing 0's and 1's, where 0 means empty and 1 means not empty, and an integer n, return true if n new flowers can be planted in the flowerbed without violating the no-adjacent-flowers rule and false otherwise."
      ],
      "metadata": {
        "id": "F65ePVzHkFaI"
      }
    },
    {
      "cell_type": "code",
      "source": [
        "from typing import List\n",
        "class Plant:\n",
        "  def flower(self, flowerbed: List[int], n: int) -> bool:\n",
        "    if n==0:\n",
        "      return True\n",
        "    for i in range(len(flowerbed)):\n",
        "      if flowerbed[i] == 0 and (i== 0 or flowerbed[i-1] == 0) and (i==len(flowerbed)-1 or flowerbed[i+1]==0 ):\n",
        "        flowerbed[i]=1\n",
        "        n-=1\n",
        "        if n==0:\n",
        "          return True\n",
        "    return False\n",
        "\n"
      ],
      "metadata": {
        "id": "rPHCJ3BKQhYe"
      },
      "execution_count": 18,
      "outputs": []
    },
    {
      "cell_type": "code",
      "source": [
        "plant1 = Plant()\n",
        "flowerbed = [0,0,0,1,1,1]\n",
        "\n",
        "plant1.flower(flowerbed, 2)\n"
      ],
      "metadata": {
        "id": "_nxW_nSj0XiV",
        "colab": {
          "base_uri": "https://localhost:8080/"
        },
        "outputId": "56519903-f995-40f0-e6b1-7fc52fffe70c"
      },
      "execution_count": 19,
      "outputs": [
        {
          "output_type": "execute_result",
          "data": {
            "text/plain": [
              "False"
            ]
          },
          "metadata": {},
          "execution_count": 19
        }
      ]
    }
  ]
}