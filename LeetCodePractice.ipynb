{
  "nbformat": 4,
  "nbformat_minor": 0,
  "metadata": {
    "colab": {
      "provenance": [],
      "authorship_tag": "ABX9TyNUvMSxFfphLIdaecH7DIOB",
      "include_colab_link": true
    },
    "kernelspec": {
      "name": "python3",
      "display_name": "Python 3"
    },
    "language_info": {
      "name": "python"
    }
  },
  "cells": [
    {
      "cell_type": "markdown",
      "metadata": {
        "id": "view-in-github",
        "colab_type": "text"
      },
      "source": [
        "<a href=\"https://colab.research.google.com/github/fahriyegrl/leetcode_practice_interview_coding/blob/main/LeetCodePractice.ipynb\" target=\"_parent\"><img src=\"https://colab.research.google.com/assets/colab-badge.svg\" alt=\"Open In Colab\"/></a>"
      ]
    },
    {
      "cell_type": "markdown",
      "source": [
        "https://leetcode.com/studyplan/leetcode-75/"
      ],
      "metadata": {
        "id": "PGdtQBOvLc0x"
      }
    },
    {
      "cell_type": "markdown",
      "source": [
        "1- You are given two strings word1 and word2. Merge the strings by adding letters in alternating order, starting with word1. If a string is longer than the other, append the additional letters onto the end of the merged string.\n",
        "\n",
        "Return the merged string.\n",
        "Hint: Use two pointers, one pointer for each string. Alternately choose the character from each pointer, and move the pointer upwards"
      ],
      "metadata": {
        "id": "g1prTLBGLg6d"
      }
    },
    {
      "cell_type": "code",
      "source": [
        "class Solution(object):\n",
        "  def mergeString(self, word1:str, word2:str) -> str:\n",
        "    m = len(word1)\n",
        "    n = len(word2)\n",
        "    i = 0\n",
        "    j = 0\n",
        "    result = []\n",
        "\n",
        "    while i < m or j < n:\n",
        "      if i < m:\n",
        "        result += word1[i]\n",
        "        i += 1\n",
        "      if j < n:\n",
        "        result += word2[j]\n",
        "        j += 1\n",
        "    return ''.join(result)\n",
        "\n",
        "\n",
        "\n"
      ],
      "metadata": {
        "id": "eZxh6y0LLksV"
      },
      "execution_count": null,
      "outputs": []
    },
    {
      "cell_type": "code",
      "source": [
        "word1 = \"ghtuen\"\n",
        "word2 = \"dfhhe\"\n",
        "s = Solution()\n",
        "s.mergeString(word1, word2)"
      ],
      "metadata": {
        "colab": {
          "base_uri": "https://localhost:8080/",
          "height": 35
        },
        "id": "lAXzHrhbTB7f",
        "outputId": "6cf08131-1276-4c30-ab74-10f247185787"
      },
      "execution_count": null,
      "outputs": [
        {
          "output_type": "execute_result",
          "data": {
            "text/plain": [
              "'gdhfthuheen'"
            ],
            "application/vnd.google.colaboratory.intrinsic+json": {
              "type": "string"
            }
          },
          "metadata": {},
          "execution_count": 9
        }
      ]
    },
    {
      "cell_type": "code",
      "source": [
        "class Solution2(object):\n",
        "  def mergers(self, word1:str, word2:str) -> str:\n",
        "    result =[]\n",
        "    n = max(len(word1), len(word2))\n",
        "    for i in range(n):\n",
        "      if i< len(word1):\n",
        "        result += word1[i]\n",
        "      if i < len(word2):\n",
        "        result += word2[i]\n",
        "    return \"\".join(result)\n",
        "\n"
      ],
      "metadata": {
        "id": "TCtTbr1kTd7Z"
      },
      "execution_count": null,
      "outputs": []
    },
    {
      "cell_type": "code",
      "source": [
        "sol2 = Solution2()\n",
        "s = sol2.mergers(word1, word2)\n",
        "print(s)"
      ],
      "metadata": {
        "colab": {
          "base_uri": "https://localhost:8080/"
        },
        "id": "W-W2ZmpoUjoW",
        "outputId": "b1f7ad0c-69a4-4272-b450-cddd8cd0e76d"
      },
      "execution_count": null,
      "outputs": [
        {
          "output_type": "stream",
          "name": "stdout",
          "text": [
            "gdhfthuheen\n"
          ]
        }
      ]
    }
  ]
}