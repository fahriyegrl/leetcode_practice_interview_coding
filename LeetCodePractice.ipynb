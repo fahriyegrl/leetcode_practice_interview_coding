{
  "nbformat": 4,
  "nbformat_minor": 0,
  "metadata": {
    "colab": {
      "provenance": [],
      "authorship_tag": "ABX9TyNgegbql+G5vz7viCPGunFW",
      "include_colab_link": true
    },
    "kernelspec": {
      "name": "python3",
      "display_name": "Python 3"
    },
    "language_info": {
      "name": "python"
    }
  },
  "cells": [
    {
      "cell_type": "markdown",
      "metadata": {
        "id": "view-in-github",
        "colab_type": "text"
      },
      "source": [
        "<a href=\"https://colab.research.google.com/github/fahriyegrl/leetcode_practice_interview_coding/blob/main/LeetCodePractice.ipynb\" target=\"_parent\"><img src=\"https://colab.research.google.com/assets/colab-badge.svg\" alt=\"Open In Colab\"/></a>"
      ]
    },
    {
      "cell_type": "markdown",
      "source": [
        "https://leetcode.com/studyplan/leetcode-75/"
      ],
      "metadata": {
        "id": "PGdtQBOvLc0x"
      }
    },
    {
      "cell_type": "markdown",
      "source": [
        "1- You are given two strings word1 and word2. Merge the strings by adding letters in alternating order, starting with word1. If a string is longer than the other, append the additional letters onto the end of the merged string.\n",
        "\n",
        "Return the merged string.\n",
        "Hint: Use two pointers, one pointer for each string. Alternately choose the character from each pointer, and move the pointer upwards"
      ],
      "metadata": {
        "id": "g1prTLBGLg6d"
      }
    },
    {
      "cell_type": "code",
      "source": [
        "class Solution(object):\n",
        "  def mergeString(self, word1:str, word2:str) -> str:\n",
        "    m = len(word1)\n",
        "    n = len(word2)\n",
        "    i = 0\n",
        "    j = 0\n",
        "    result = []\n",
        "\n",
        "    while i < m or j < n:\n",
        "      if i < m:\n",
        "        result += word1[i]\n",
        "        i += 1\n",
        "      if j < n:\n",
        "        result += word2[j]\n",
        "        j += 1\n",
        "    return ''.join(result)\n",
        "\n",
        "\n",
        "\n"
      ],
      "metadata": {
        "id": "eZxh6y0LLksV"
      },
      "execution_count": null,
      "outputs": []
    },
    {
      "cell_type": "code",
      "source": [
        "word1 = \"ghtuen\"\n",
        "word2 = \"dfhhe\"\n",
        "s = Solution()\n",
        "s.mergeString(word1, word2)"
      ],
      "metadata": {
        "colab": {
          "base_uri": "https://localhost:8080/",
          "height": 35
        },
        "id": "lAXzHrhbTB7f",
        "outputId": "9ceb487f-c328-4685-b946-c2cd65b8016f"
      },
      "execution_count": null,
      "outputs": [
        {
          "output_type": "execute_result",
          "data": {
            "text/plain": [
              "'gdhfthuheen'"
            ],
            "application/vnd.google.colaboratory.intrinsic+json": {
              "type": "string"
            }
          },
          "metadata": {},
          "execution_count": 9
        }
      ]
    },
    {
      "cell_type": "code",
      "source": [
        "class Solution2(object):\n",
        "  def mergers(self, word1:str, word2:str) -> str:\n",
        "    result =[]\n",
        "    n = max(len(word1), len(word2))\n",
        "    for i in range(n):\n",
        "      if i< len(word1):\n",
        "        result += word1[i]\n",
        "      if i < len(word2):\n",
        "        result += word2[i]\n",
        "    return \"\".join(result)\n",
        "\n"
      ],
      "metadata": {
        "id": "TCtTbr1kTd7Z"
      },
      "execution_count": null,
      "outputs": []
    },
    {
      "cell_type": "code",
      "source": [
        "sol2 = Solution2()\n",
        "s = sol2.mergers(word1, word2)\n",
        "print(s)"
      ],
      "metadata": {
        "colab": {
          "base_uri": "https://localhost:8080/"
        },
        "id": "W-W2ZmpoUjoW",
        "outputId": "0704d708-8007-4b2d-9040-d9fa9086ed10"
      },
      "execution_count": null,
      "outputs": [
        {
          "output_type": "stream",
          "name": "stdout",
          "text": [
            "gdhfthuheen\n"
          ]
        }
      ]
    },
    {
      "cell_type": "markdown",
      "source": [
        "2- For two strings s and t, we say \"t divides s\" if and only if s = t + t + t + ... + t + t (i.e., t is concatenated with itself one or more times).\n",
        "\n",
        "Given two strings str1 and str2, return the largest string x such that x divides both str1 and str2."
      ],
      "metadata": {
        "id": "SGP0H_4YymcJ"
      }
    },
    {
      "cell_type": "code",
      "source": [
        "class Solution2(object):\n",
        "  def largestDivisible(self, str1:str, str2:str) -> str:\n",
        "    if str1 + str2 != str2 + str1:\n",
        "      return \"\"\n",
        "    if len(str1) == len(str2):\n",
        "      return str1\n",
        "    if len(str1) > len(str2):\n",
        "      return self.largestDivisible(str1[len(str2):], str2)\n",
        "    return   self.largestDivisible(str1, str2[len(str1):])\n",
        "\n"
      ],
      "metadata": {
        "id": "G68CsqJMy586"
      },
      "execution_count": null,
      "outputs": []
    },
    {
      "cell_type": "markdown",
      "source": [
        "3- There are n kids with candies. You are given an integer array candies, where each candies[i] represents the number of candies the ith kid has, and an integer extraCandies, denoting the number of extra candies that you have.\n",
        "\n",
        "Return a boolean array result of length n, where result[i] is true if, after giving the ith kid all the extraCandies, they will have the greatest number of candies among all the kids, or false otherwise.\n",
        "\n",
        "Note that multiple kids can have the greatest number of candies."
      ],
      "metadata": {
        "id": "dyW9VzXXgKjy"
      }
    },
    {
      "cell_type": "code",
      "source": [
        "from typing import List\n",
        "\n",
        "class Kids:\n",
        "  def candies(self, candies: List[int], extra: int) -> List[bool]:\n",
        "    max_candies = max(candies)\n",
        "    results = []\n",
        "    for candy in candies:\n",
        "      if candy + extra >= max_candies:\n",
        "        results.append(True)\n",
        "      else:\n",
        "        results.append(False)\n",
        "    return results"
      ],
      "metadata": {
        "id": "J6vMShtu862E"
      },
      "execution_count": null,
      "outputs": []
    },
    {
      "cell_type": "code",
      "source": [
        "kiddo = Kids()\n",
        "kiddo.candies(candies = [8,4,2,4,7], extra=1)"
      ],
      "metadata": {
        "colab": {
          "base_uri": "https://localhost:8080/"
        },
        "id": "qZpiSsStjLRd",
        "outputId": "206f350f-6923-4c69-a6b5-32d2127b548a"
      },
      "execution_count": null,
      "outputs": [
        {
          "output_type": "execute_result",
          "data": {
            "text/plain": [
              "[True, False, False, False, True]"
            ]
          },
          "metadata": {},
          "execution_count": 14
        }
      ]
    },
    {
      "cell_type": "markdown",
      "source": [
        "4- You have a long flowerbed in which some of the plots are planted, and some are not. However, flowers cannot be planted in adjacent plots.\n",
        "\n",
        "Given an integer array flowerbed containing 0's and 1's, where 0 means empty and 1 means not empty, and an integer n, return true if n new flowers can be planted in the flowerbed without violating the no-adjacent-flowers rule and false otherwise."
      ],
      "metadata": {
        "id": "F65ePVzHkFaI"
      }
    },
    {
      "cell_type": "code",
      "source": [
        "from typing import List\n",
        "class Plant:\n",
        "  def flower(self, flowerbed: List[int], n: int) -> bool:\n",
        "    if n==0:\n",
        "      return True\n",
        "    for i in range(len(flowerbed)):\n",
        "      if flowerbed[i] == 0 and (i== 0 or flowerbed[i-1] == 0) and (i==len(flowerbed)-1 or flowerbed[i+1]==0 ):\n",
        "        flowerbed[i]=1\n",
        "        n-=1\n",
        "        if n==0:\n",
        "          return True\n",
        "    return False\n",
        "\n"
      ],
      "metadata": {
        "id": "rPHCJ3BKQhYe"
      },
      "execution_count": 18,
      "outputs": []
    },
    {
      "cell_type": "code",
      "source": [
        "plant1 = Plant()\n",
        "flowerbed = [0,0,0,1,1,1]\n",
        "\n",
        "plant1.flower(flowerbed, 2)\n"
      ],
      "metadata": {
        "id": "_nxW_nSj0XiV",
        "colab": {
          "base_uri": "https://localhost:8080/"
        },
        "outputId": "56519903-f995-40f0-e6b1-7fc52fffe70c"
      },
      "execution_count": 19,
      "outputs": [
        {
          "output_type": "execute_result",
          "data": {
            "text/plain": [
              "False"
            ]
          },
          "metadata": {},
          "execution_count": 19
        }
      ]
    },
    {
      "cell_type": "markdown",
      "source": [
        "5- Given a string, return a list containing the characters of the string. If a character in the string is a space or a digit greater than 5,remove them and do not include them in the array.\n"
      ],
      "metadata": {
        "id": "3ZRdvl_-5Sce"
      }
    },
    {
      "cell_type": "code",
      "source": [
        "from typing import List\n",
        "def str_tolist(str: str) -> List:\n",
        "\n",
        "  my_list =[]\n",
        "  for char in str:\n",
        "    if not char.isdigit() and char != ' ':\n",
        "      my_list.append(char)\n",
        "\n",
        "\n",
        "  return my_list"
      ],
      "metadata": {
        "id": "tipEfjQ15lHK"
      },
      "execution_count": 13,
      "outputs": []
    },
    {
      "cell_type": "code",
      "source": [],
      "metadata": {
        "id": "5K6STz9GVvA0"
      },
      "execution_count": null,
      "outputs": []
    },
    {
      "cell_type": "code",
      "source": [
        "str_tolist(\"oviedoda bir gun\")"
      ],
      "metadata": {
        "colab": {
          "base_uri": "https://localhost:8080/"
        },
        "id": "tYaCS8Le6zwp",
        "outputId": "fa7c88d4-9c51-4bc9-943b-bf0aeabca924"
      },
      "execution_count": 14,
      "outputs": [
        {
          "output_type": "execute_result",
          "data": {
            "text/plain": [
              "['o', 'v', 'i', 'e', 'd', 'o', 'd', 'a', 'b', 'i', 'r', 'g', 'u', 'n']"
            ]
          },
          "metadata": {},
          "execution_count": 14
        }
      ]
    },
    {
      "cell_type": "markdown",
      "source": [
        "6- Given a string s, reverse only all the vowels in the string and return it.\n",
        "\n",
        "The vowels are 'a', 'e', 'i', 'o', and 'u', and they can appear in both lower and upper cases, more than once.\n",
        "\n",
        ""
      ],
      "metadata": {
        "id": "NQ20FbWjVsba"
      }
    },
    {
      "cell_type": "code",
      "source": [
        "class Vow:\n",
        "  def reverseVowels(self, s: str) -> str:\n",
        "    stk=[] #create a stack\n",
        "\n",
        "    for i in s:\n",
        "      if i.lower() in 'aeiou':\n",
        "        stk.append(i)\n",
        "\n",
        "    rev= \"\" #create a empty string\n",
        "#selam stk= ea\n",
        "# rev = s\n",
        "# s +  a\n",
        "    for i in s:\n",
        "      if i.lower() in \"aeiou\":\n",
        "        rev+= stk.pop(-1)\n",
        "      else:\n",
        "        rev+=i\n",
        "    return rev"
      ],
      "metadata": {
        "id": "h9oh99lGVv1w"
      },
      "execution_count": 20,
      "outputs": []
    },
    {
      "cell_type": "code",
      "source": [
        "sth = []\n",
        "sth.append(1)\n",
        "sth.append(2)\n",
        "sth.append(3)\n",
        "sth.append(4)\n",
        "sth.append(5)\n",
        "sth.pop(-1)\n",
        "sth"
      ],
      "metadata": {
        "colab": {
          "base_uri": "https://localhost:8080/"
        },
        "id": "Js2WxG34Y2vK",
        "outputId": "8f3373fb-29fb-4215-d1e7-da5068ce0892"
      },
      "execution_count": 24,
      "outputs": [
        {
          "output_type": "execute_result",
          "data": {
            "text/plain": [
              "[1, 2, 3, 4]"
            ]
          },
          "metadata": {},
          "execution_count": 24
        }
      ]
    },
    {
      "cell_type": "code",
      "source": [
        "sth.pop(-1)"
      ],
      "metadata": {
        "colab": {
          "base_uri": "https://localhost:8080/"
        },
        "id": "jDwO4lvoZxJo",
        "outputId": "97be0260-dc3d-4964-be73-31be68317efe"
      },
      "execution_count": 25,
      "outputs": [
        {
          "output_type": "execute_result",
          "data": {
            "text/plain": [
              "4"
            ]
          },
          "metadata": {},
          "execution_count": 25
        }
      ]
    },
    {
      "cell_type": "code",
      "source": [
        "class Vow2:\n",
        "  def reverseVowels(self, s: str) -> str:\n",
        "    reversed = \"\"\n",
        "    for i in range(len(s)):\n",
        "      if s[i] in \"aeiouAEIOU\":\n",
        "        reversed = s[i] + reversed\n",
        "      else:\n",
        "        reversed += s[i]\n",
        "\n",
        "    return reversed"
      ],
      "metadata": {
        "id": "Ai_EainfXw7L"
      },
      "execution_count": null,
      "outputs": []
    },
    {
      "cell_type": "code",
      "source": [
        "7-vowel = Vow()\n",
        "vowel.reverseVowels(s = \"selam\")\n"
      ],
      "metadata": {
        "colab": {
          "base_uri": "https://localhost:8080/",
          "height": 35
        },
        "id": "Pix3ymXFWSb_",
        "outputId": "751bdddf-0379-4d0a-9c62-dd909bc2e067"
      },
      "execution_count": 19,
      "outputs": [
        {
          "output_type": "execute_result",
          "data": {
            "text/plain": [
              "'aeslm'"
            ],
            "application/vnd.google.colaboratory.intrinsic+json": {
              "type": "string"
            }
          },
          "metadata": {},
          "execution_count": 19
        }
      ]
    },
    {
      "cell_type": "markdown",
      "source": [
        "7-Given an input string s, reverse the order of the words.\n",
        "\n",
        "A word is defined as a sequence of non-space characters. The words in s will be separated by at least one space.\n",
        "\n",
        "Return a string of the words in reverse order concatenated by a single space.\n",
        "\n",
        "Note that s may contain leading or trailing spaces or multiple spaces between two words. The returned string should only have a single space separating the words. Do not include any extra spaces."
      ],
      "metadata": {
        "id": "NLE2rRWQjtPe"
      }
    },
    {
      "cell_type": "code",
      "source": [
        "s = \"Orlando is a good city\"\n",
        "res = s.split()[::-1]\n",
        "res"
      ],
      "metadata": {
        "colab": {
          "base_uri": "https://localhost:8080/"
        },
        "id": "tFkHynfemvaN",
        "outputId": "a13cf6a7-7395-4da4-cf5e-156767116bf0"
      },
      "execution_count": 39,
      "outputs": [
        {
          "output_type": "execute_result",
          "data": {
            "text/plain": [
              "['city', 'good', 'a', 'is', 'Orlando']"
            ]
          },
          "metadata": {},
          "execution_count": 39
        }
      ]
    },
    {
      "cell_type": "code",
      "source": [
        "rev = res[::-1]\n",
        "rev[1]"
      ],
      "metadata": {
        "colab": {
          "base_uri": "https://localhost:8080/",
          "height": 35
        },
        "id": "pmjah4hUnG0C",
        "outputId": "63326344-c8bd-4e49-f2a5-b29d2ce8a50f"
      },
      "execution_count": 33,
      "outputs": [
        {
          "output_type": "execute_result",
          "data": {
            "text/plain": [
              "'good'"
            ],
            "application/vnd.google.colaboratory.intrinsic+json": {
              "type": "string"
            }
          },
          "metadata": {},
          "execution_count": 33
        }
      ]
    },
    {
      "cell_type": "code",
      "source": [
        "reversed_string = \" \".join(rev)\n",
        "print(reversed_string)"
      ],
      "metadata": {
        "colab": {
          "base_uri": "https://localhost:8080/"
        },
        "id": "nRlc_e0pnf6I",
        "outputId": "511559a6-8143-4b2c-cc12-83946f65d93a"
      },
      "execution_count": 37,
      "outputs": [
        {
          "output_type": "stream",
          "name": "stdout",
          "text": [
            "city good a is Orlando\n"
          ]
        }
      ]
    },
    {
      "cell_type": "code",
      "source": [
        "class World:\n",
        "  def reverseWords(self, s:str) -> str:\n",
        "    words = s.split()[::-1]\n",
        "    reversed = \" \".join(words)\n",
        "\n",
        "    return reversed\n",
        "\n",
        "\n",
        "\n",
        ""
      ],
      "metadata": {
        "id": "XSs8gHcjjx18"
      },
      "execution_count": 40,
      "outputs": []
    },
    {
      "cell_type": "markdown",
      "source": [
        "8-Given an integer array nums, return an array answer such that answer[i] is equal to the product of all the elements of nums except nums[i].\n",
        "\n",
        "The product of any prefix or suffix of nums is guaranteed to fit in a 32-bit integer.\n",
        "\n",
        "You must write an algorithm that runs in O(n) time and without using the division operation.\n",
        "\n",
        ""
      ],
      "metadata": {
        "id": "ivRm-dvUFV8L"
      }
    },
    {
      "cell_type": "code",
      "source": [
        "nums = [1,2,3,4]"
      ],
      "metadata": {
        "id": "dZT7Mzd3IiWI"
      },
      "execution_count": null,
      "outputs": []
    },
    {
      "cell_type": "code",
      "source": [
        "prefix = [1] * 4\n",
        "prefix\n"
      ],
      "metadata": {
        "colab": {
          "base_uri": "https://localhost:8080/"
        },
        "id": "lRj3-1PiIvCn",
        "outputId": "82715dfd-92ee-4292-f013-01b6b6ade7b4"
      },
      "execution_count": 41,
      "outputs": [
        {
          "output_type": "execute_result",
          "data": {
            "text/plain": [
              "[1, 1, 1, 1]"
            ]
          },
          "metadata": {},
          "execution_count": 41
        }
      ]
    },
    {
      "cell_type": "code",
      "source": [
        "class num():\n",
        "  def productExceptSelf(self, nums : List[int])  -> List[int]:\n",
        "    n = len(nums)  # 2,3,4,5\n",
        "    products = [1] * n #1,1,1,1  1,2,6,24\n",
        "\n",
        "    for i in range(1,n): #1,2,3\n",
        "      products[i] = products[i-1] * num[i-1]\n",
        "\n",
        "    right = nums[-1]  # 5,4,3,2\n",
        "\n",
        "    for i in range(n-2, -1, -1):\n",
        "      products[i] *= right\n",
        "      right *= nums[i]\n",
        "\n",
        "    return products\n"
      ],
      "metadata": {
        "id": "N7ZpTbs9FaxV"
      },
      "execution_count": null,
      "outputs": []
    },
    {
      "cell_type": "markdown",
      "source": [
        "9-Given an integer array nums, return true if there exists a triple of indices (i, j, k) such that i < j < k and nums[i] < nums[j] < nums[k]. If no such indices exists, return false.\n",
        "\n",
        ""
      ],
      "metadata": {
        "id": "IBpbleWE83qM"
      }
    },
    {
      "cell_type": "code",
      "source": [
        "first = float('inf')\n",
        "first"
      ],
      "metadata": {
        "colab": {
          "base_uri": "https://localhost:8080/"
        },
        "id": "jR4bUDfvCzJU",
        "outputId": "603a6444-60e2-4253-98ba-02ec2a5bb224"
      },
      "execution_count": 2,
      "outputs": [
        {
          "output_type": "execute_result",
          "data": {
            "text/plain": [
              "inf"
            ]
          },
          "metadata": {},
          "execution_count": 2
        }
      ]
    },
    {
      "cell_type": "code",
      "source": [
        "class Triplets:\n",
        "  def incresingTriplets(self, nums: List[int]) -> bool:\n",
        "    first=second= float('inf')\n",
        "\n",
        "\n",
        "    # 5,6,8,4,3\n",
        "\n",
        "    for n in nums:\n",
        "      if n < first:\n",
        "        first=n  # first=5\n",
        "      elif n <= second:\n",
        "        second = n # second = 6\n",
        "      else:\n",
        "        return True\n",
        "\n",
        "\n",
        "    return False\n",
        "\n"
      ],
      "metadata": {
        "id": "NG_eH4SaRDvb"
      },
      "execution_count": null,
      "outputs": []
    },
    {
      "cell_type": "markdown",
      "source": [
        "10- Given an array of characters chars, compress it using the following algorithm:\n",
        "\n",
        "Begin with an empty string s. For each group of consecutive repeating characters in chars:\n",
        "\n",
        "If the group's length is 1, append the character to s.\n",
        "Otherwise, append the character followed by the group's length.\n",
        "The compressed string s should not be returned separately, but instead, be stored in the input character array chars. Note that group lengths that are 10 or longer will be split into multiple characters in chars.\n",
        "\n",
        "After you are done modifying the input array, return the new length of the array.\n",
        "\n",
        "You must write an algorithm that uses only constant extra space.\n",
        "\n",
        ""
      ],
      "metadata": {
        "id": "o1gCvLbC1pBP"
      }
    },
    {
      "cell_type": "code",
      "source": [
        "my_list = [\"a\", \"a\", \"b\",\"b\",\"b\"]\n",
        "my_set= set(my_list)\n",
        "my_set"
      ],
      "metadata": {
        "colab": {
          "base_uri": "https://localhost:8080/"
        },
        "id": "Y4Vqrjvw6tEO",
        "outputId": "1ce86918-8a18-4b2e-c1d1-e291eda91762"
      },
      "execution_count": 1,
      "outputs": [
        {
          "output_type": "execute_result",
          "data": {
            "text/plain": [
              "{'a', 'b'}"
            ]
          },
          "metadata": {},
          "execution_count": 1
        }
      ]
    },
    {
      "cell_type": "code",
      "source": [
        "from collections import Counter\n",
        "my_counter = Counter(my_list)"
      ],
      "metadata": {
        "id": "D3hJ7y997g99"
      },
      "execution_count": 8,
      "outputs": []
    },
    {
      "cell_type": "code",
      "source": [
        "for v,k in my_counter.items():\n",
        "  print(v,k)"
      ],
      "metadata": {
        "colab": {
          "base_uri": "https://localhost:8080/"
        },
        "id": "dZo66VAJ9Nm1",
        "outputId": "a88a342c-f80b-4130-9d5f-cdda04a553c6"
      },
      "execution_count": 9,
      "outputs": [
        {
          "output_type": "stream",
          "name": "stdout",
          "text": [
            "a 2\n",
            "b 3\n"
          ]
        }
      ]
    },
    {
      "cell_type": "code",
      "source": [
        "from collections import Counter\n",
        "from typing import List\n",
        "\n",
        "class lengtharray:\n",
        "  def compress(self, chars: List[str]) -> int:\n",
        "    my_count = Counter(chars)\n",
        "    my_array =[]\n",
        "    for v,k in my_count.items():\n",
        "      if k!= 1:\n",
        "        my_array.append(v)\n",
        "        my_array.append(k)\n",
        "      else:\n",
        "        my_array.append(v)\n",
        "    print(my_array)\n",
        "\n",
        "    return len(my_array)\n"
      ],
      "metadata": {
        "id": "pUbZOGet6tL2"
      },
      "execution_count": 19,
      "outputs": []
    },
    {
      "cell_type": "code",
      "source": [
        "calculate = lengtharray()\n",
        "calculate.compress([\"a\",\"b\",\"b\",\"c\",\"c\",\"c\"])"
      ],
      "metadata": {
        "colab": {
          "base_uri": "https://localhost:8080/"
        },
        "id": "s2tjf10D8fp_",
        "outputId": "172f1181-e45c-49db-bfdd-353f3185ba9b"
      },
      "execution_count": 20,
      "outputs": [
        {
          "output_type": "stream",
          "name": "stdout",
          "text": [
            "['a', 'b', 2, 'c', 3]\n"
          ]
        },
        {
          "output_type": "execute_result",
          "data": {
            "text/plain": [
              "5"
            ]
          },
          "metadata": {},
          "execution_count": 20
        }
      ]
    },
    {
      "cell_type": "code",
      "source": [
        "calculate.compress([\"a\",\"a\",\"b\",\"b\",\"c\",\"c\",\"c\"]) #a2b2c3"
      ],
      "metadata": {
        "colab": {
          "base_uri": "https://localhost:8080/"
        },
        "id": "E8FiHput9qyQ",
        "outputId": "7c31b027-f19e-4a83-fded-8bd8215ee58b"
      },
      "execution_count": 21,
      "outputs": [
        {
          "output_type": "stream",
          "name": "stdout",
          "text": [
            "['a', 2, 'b', 2, 'c', 3]\n"
          ]
        },
        {
          "output_type": "execute_result",
          "data": {
            "text/plain": [
              "6"
            ]
          },
          "metadata": {},
          "execution_count": 21
        }
      ]
    },
    {
      "cell_type": "code",
      "source": [
        "class lengtharray2:\n",
        "  def compress(self, chars: List[str]) -> int:  # a,a,b,b,b\n",
        "    write, read = 0,0\n",
        "    n= len(chars)   #5\n",
        "    while read < n:\n",
        "      char =chars[read]\n",
        "      cnt=0\n",
        "      while read < n and chars[read] == char:\n",
        "        read += 1\n",
        "        cnt += 1\n",
        "      chars[write]= char\n",
        "      write += 1\n",
        "      if cnt > 1:\n",
        "        for c in str(cnt):\n",
        "          chars[write] = c\n",
        "          write+=1\n",
        "    return write\n"
      ],
      "metadata": {
        "id": "kXzg8qTg-81k"
      },
      "execution_count": 27,
      "outputs": []
    },
    {
      "cell_type": "code",
      "source": [
        "calculate2 = lengtharray2()\n",
        "calculate2.compress([\"a\",\"a\",\"b\",\"b\",\"c\",\"c\",\"c\"])"
      ],
      "metadata": {
        "colab": {
          "base_uri": "https://localhost:8080/"
        },
        "id": "dktVXi3BCC2Z",
        "outputId": "88d1937d-567d-4277-b923-e14ca90818ed"
      },
      "execution_count": 26,
      "outputs": [
        {
          "output_type": "execute_result",
          "data": {
            "text/plain": [
              "6"
            ]
          },
          "metadata": {},
          "execution_count": 26
        }
      ]
    },
    {
      "cell_type": "markdown",
      "source": [
        "11-Given an array of integers nums and an integer target, return indices of the two numbers such that they add up to target.\n",
        "\n",
        "You may assume that each input would have exactly one solution, and you may not use the same element twice.\n",
        "\n",
        "You can return the answer in any order."
      ],
      "metadata": {
        "id": "C6p-k6eRWe8S"
      }
    },
    {
      "cell_type": "code",
      "source": [
        "nums = [1,3,4,6,7]\n",
        "for i, num in enumerate(nums):\n",
        "  print(i,num)"
      ],
      "metadata": {
        "colab": {
          "base_uri": "https://localhost:8080/"
        },
        "id": "SotOifDZW7on",
        "outputId": "dc4b4249-203c-49c7-d8a3-b1cc004c773b"
      },
      "execution_count": 1,
      "outputs": [
        {
          "output_type": "stream",
          "name": "stdout",
          "text": [
            "0 1\n",
            "1 3\n",
            "2 4\n",
            "3 6\n",
            "4 7\n"
          ]
        }
      ]
    },
    {
      "cell_type": "code",
      "source": [
        "from typing import List\n",
        "class Order():  #1,3,6,4   7\n",
        "  def twoSum(self, nums: List[int], target: int) -> List[int]:\n",
        "    num_map = {}\n",
        "    for i, num in enumerate(nums): #i=2 num=6 diff = 1\n",
        "      diff = target - num\n",
        "\n",
        "      if diff in num_map:\n",
        "        return [num_map[diff], i]\n",
        "\n",
        "      num_map[num] = i  # 1, 0  3,1  6,2\n",
        "\n"
      ],
      "metadata": {
        "id": "kI7zj_z4WjTY"
      },
      "execution_count": 7,
      "outputs": []
    },
    {
      "cell_type": "code",
      "source": [
        "from typing import List\n",
        "class Order2():  #1,3,6,4   7\n",
        "  def twoSum(self, nums: List[int], target: int) -> List[int]:\n",
        "    n= len(nums)\n",
        "    for i in range(n-1):\n",
        "      for j in range(i+1, n):\n",
        "        if nums[i] + nums[j] == target:\n",
        "          return[i,j]\n",
        "    return []\n",
        ""
      ],
      "metadata": {
        "id": "OumAgksNaw0W"
      },
      "execution_count": 8,
      "outputs": []
    },
    {
      "cell_type": "markdown",
      "source": [
        "12- Given an integer x, return true if x is a palindrome, and false otherwise."
      ],
      "metadata": {
        "id": "EZV5sNAbKijN"
      }
    },
    {
      "cell_type": "code",
      "source": [
        "x = 1331"
      ],
      "metadata": {
        "id": "5a8_dHyOQAX5"
      },
      "execution_count": 3,
      "outputs": []
    },
    {
      "cell_type": "code",
      "source": [
        "x%10"
      ],
      "metadata": {
        "colab": {
          "base_uri": "https://localhost:8080/"
        },
        "id": "4t2xIqM4Rch6",
        "outputId": "97ca175b-0182-41ee-b550-426d01b84ae4"
      },
      "execution_count": 5,
      "outputs": [
        {
          "output_type": "execute_result",
          "data": {
            "text/plain": [
              "1"
            ]
          },
          "metadata": {},
          "execution_count": 5
        }
      ]
    },
    {
      "cell_type": "code",
      "source": [
        "x//10"
      ],
      "metadata": {
        "colab": {
          "base_uri": "https://localhost:8080/"
        },
        "id": "P7V5snvtRiPW",
        "outputId": "6d78c7d4-c9ef-44a8-b8d0-bd39271b41db"
      },
      "execution_count": 6,
      "outputs": [
        {
          "output_type": "execute_result",
          "data": {
            "text/plain": [
              "133"
            ]
          },
          "metadata": {},
          "execution_count": 6
        }
      ]
    },
    {
      "cell_type": "code",
      "source": [
        "class Pali:\n",
        "  def isPalindrome(self, x:int) -> bool:\n",
        "    reverse=0\n",
        "    xcopy = x\n",
        "\n",
        "    while x>0:\n",
        "      reverse = (10*reverse) + (x%10)\n",
        "      x //= 10\n",
        "    return reverse == xcopy\n",
        ""
      ],
      "metadata": {
        "id": "02BtLULaMUXi"
      },
      "execution_count": 4,
      "outputs": []
    }
  ]
}