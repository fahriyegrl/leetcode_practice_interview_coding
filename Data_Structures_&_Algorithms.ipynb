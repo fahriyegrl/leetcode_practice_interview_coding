{
  "nbformat": 4,
  "nbformat_minor": 0,
  "metadata": {
    "colab": {
      "provenance": [],
      "authorship_tag": "ABX9TyNV3GTZ+TQ8bBcY4wwVUT8s",
      "include_colab_link": true
    },
    "kernelspec": {
      "name": "python3",
      "display_name": "Python 3"
    },
    "language_info": {
      "name": "python"
    }
  },
  "cells": [
    {
      "cell_type": "markdown",
      "metadata": {
        "id": "view-in-github",
        "colab_type": "text"
      },
      "source": [
        "<a href=\"https://colab.research.google.com/github/fahriyegrl/leetcode_practice_interview_coding/blob/main/Data_Structures_%26_Algorithms.ipynb\" target=\"_parent\"><img src=\"https://colab.research.google.com/assets/colab-badge.svg\" alt=\"Open In Colab\"/></a>"
      ]
    },
    {
      "cell_type": "code",
      "execution_count": 2,
      "metadata": {
        "colab": {
          "base_uri": "https://localhost:8080/"
        },
        "id": "2lD9cEImWx8H",
        "outputId": "a58ca99e-a948-45ea-e487-7a7296b1c4d7"
      },
      "outputs": [
        {
          "output_type": "stream",
          "name": "stdout",
          "text": [
            "[-4, -3, -3, 1, 2, 2, 2, 3, 7]\n"
          ]
        }
      ],
      "source": [
        "# Bubble Sort Time: O(n^2), Space: O(n)\n",
        "\n",
        "A= [-4,3,2,1,-3,-3,7,2,2]\n",
        "\n",
        "def bubble_sort(arr):\n",
        "  n=len(arr)\n",
        "  flag= True\n",
        "  while flag:\n",
        "    flag=False\n",
        "    for i in range(1,n):\n",
        "      if arr[i-1] > arr[i]:\n",
        "        flag=True\n",
        "        arr[i-1], arr[i]= arr[i], arr[i-1]\n",
        "  return arr\n",
        "\n",
        "print(bubble_sort(A))"
      ]
    },
    {
      "cell_type": "code",
      "source": [
        "# Insertion Sort Time: O(n^2), Space: O(1)\n",
        "\n",
        "def insertion_sort(arr):\n",
        "  n = len(arr)\n",
        "  for i in range(1,n):\n",
        "    for j in range(i,0,-1):\n",
        "      if arr[j-1] > arr[j]:\n",
        "        arr[j-1], arr[j]= arr[j], arr[j-1]\n",
        "  return arr\n",
        "\n",
        "print(insertion_sort(A))"
      ],
      "metadata": {
        "colab": {
          "base_uri": "https://localhost:8080/"
        },
        "id": "NdDiFeLgX0pU",
        "outputId": "1b1dffb2-41f2-47b2-ee97-d857d3fd4446"
      },
      "execution_count": 3,
      "outputs": [
        {
          "output_type": "stream",
          "name": "stdout",
          "text": [
            "[-4, -3, -3, 1, 2, 2, 2, 3, 7]\n"
          ]
        }
      ]
    },
    {
      "cell_type": "code",
      "source": [
        "#Selection Sort Time: O(n^2), Space: O(1)\n",
        "\n",
        "C= [-3,3,2,1,-5,-6,7,2,2]\n",
        "\n",
        "def selection_sort(arr):\n",
        "  n = len(arr)\n",
        "  for i in range(n):\n",
        "    min_index = i\n",
        "    for j in range(i+1,n):\n",
        "      if arr[j] < arr[min_index]:\n",
        "        min_index=j\n",
        "    arr[i], arr[min_index] = arr[min_index], arr[i]\n",
        "\n",
        "selection_sort(C)\n",
        "print(C)"
      ],
      "metadata": {
        "colab": {
          "base_uri": "https://localhost:8080/"
        },
        "id": "gypGSllsbU4X",
        "outputId": "66229850-d6fa-4df9-f13f-a6760ebe6560"
      },
      "execution_count": 4,
      "outputs": [
        {
          "output_type": "stream",
          "name": "stdout",
          "text": [
            "[-6, -5, -3, 1, 2, 2, 2, 3, 7]\n"
          ]
        }
      ]
    },
    {
      "cell_type": "code",
      "source": [
        "# Merge Sort Time: O(n log n), Space: O(n)\n",
        "\n",
        "D = [-5,3,2,1,-3,-3,7,2,2]\n",
        "\n",
        "def merge_sort(arr):\n",
        "  n= len(arr)\n",
        "  if n==1:\n",
        "    return arr\n",
        "  m = len(arr) // 2\n",
        "  L= arr[:m]\n",
        "  R=arr[m:]\n",
        "  L= merge_sort(L)\n",
        "  R= merge_sort(R)\n",
        "\n",
        "  l,r = 0,0\n",
        "  L_len = len(L)\n",
        "  R_len = len(R)\n",
        "\n",
        "  sorted_arr = [0] *n\n",
        "  i = 0\n",
        "  while l<L_len and r<R_len:\n",
        "    if L[l] < R[r]:\n",
        "      sorted_arr[i] = L[l]\n",
        "      l+=1\n",
        "    else:\n",
        "      sorted_arr[i] = R[r]\n",
        "      r+=1\n",
        "    i+=1\n",
        "\n",
        "  while l<L_len:\n",
        "      sorted_arr[i] = L[l]\n",
        "      l+=1\n",
        "      i+-1\n",
        "  while r<R_len:\n",
        "      sorted_arr[i] = R[r]\n",
        "      r+=1\n",
        "      i +=1\n",
        "  return sorted_arr\n",
        "\n"
      ],
      "metadata": {
        "id": "VPLykai9O5-a"
      },
      "execution_count": 5,
      "outputs": []
    },
    {
      "cell_type": "code",
      "source": [
        "merge_sort(D)"
      ],
      "metadata": {
        "colab": {
          "base_uri": "https://localhost:8080/"
        },
        "id": "46hMVaYzPtFm",
        "outputId": "eb193413-6782-46a0-abb1-2c27fed3b2f4"
      },
      "execution_count": 6,
      "outputs": [
        {
          "output_type": "execute_result",
          "data": {
            "text/plain": [
              "[-5, -3, -3, 1, 2, 2, 2, 3, 7]"
            ]
          },
          "metadata": {},
          "execution_count": 6
        }
      ]
    },
    {
      "cell_type": "code",
      "source": [
        "# Quick Sort Time:O(n log n), Space: O(n)\n",
        "\n",
        "E= [-5,3,2,1,-3,-3,7,2,2]\n",
        "\n",
        "def quick_sort(arr):\n",
        "  if len(arr) <2:\n",
        "    return arr\n",
        "\n",
        "  p = arr[-1]\n",
        "\n",
        "  L= [x for x in arr[:-1] if x <= p]\n",
        "  R= [x for x in arr[:-1] if x > p]\n",
        "\n",
        "  L= quick_sort(L)\n",
        "  R= quick_sort(R)\n",
        "\n",
        "  return L + [p] + R\n",
        "\n",
        "quick_sort(E)"
      ],
      "metadata": {
        "colab": {
          "base_uri": "https://localhost:8080/"
        },
        "id": "_NH58-Ujpu2x",
        "outputId": "eb358cab-5517-4481-aef0-b9acc610c56a"
      },
      "execution_count": 7,
      "outputs": [
        {
          "output_type": "execute_result",
          "data": {
            "text/plain": [
              "[-5, -3, -3, 1, 2, 2, 2, 3, 7]"
            ]
          },
          "metadata": {},
          "execution_count": 7
        }
      ]
    },
    {
      "cell_type": "code",
      "source": [
        "# Counting Sort Time: O(n+k) where k is the range of data\n",
        "#stick with the positive array\n",
        "# k is the max of the array\n",
        "# space: O(k)\n",
        "\n",
        "F= [5,3,2,1,3,3,7,2,2]\n",
        "def counting_sort(arr):\n",
        "  n= len(arr)\n",
        "  maxx = max(arr)\n",
        "  counts = [0] * (maxx+1)\n",
        "\n",
        "  for x in arr:\n",
        "    counts[x] +=1\n",
        "  i=0\n",
        "\n",
        "  for c in range(maxx+1):\n",
        "    while counts[c] > 0:\n",
        "      arr[i] = c\n",
        "      i +=1\n",
        "      counts[c] -=1\n"
      ],
      "metadata": {
        "id": "gxe7Bv_DBerj"
      },
      "execution_count": 8,
      "outputs": []
    },
    {
      "cell_type": "code",
      "source": [
        "counting_sort(F)\n",
        "print(F)"
      ],
      "metadata": {
        "id": "xoAOL-hCCZcu",
        "colab": {
          "base_uri": "https://localhost:8080/"
        },
        "outputId": "db449f58-5d46-48a6-86ce-3fe3d089decc"
      },
      "execution_count": 9,
      "outputs": [
        {
          "output_type": "stream",
          "name": "stdout",
          "text": [
            "[1, 2, 2, 2, 3, 3, 3, 5, 7]\n"
          ]
        }
      ]
    },
    {
      "cell_type": "code",
      "source": [
        "# Graphs - Edge List - Adjacency Matrix - Adjacency List - DFS, BFS\n",
        "\n",
        "# Array of Edges (Directed) [Start, End]\n",
        "\n",
        "n=8\n",
        "A = [[0,1], [1,2], [0,3], [3,4], [3,6], [3,7],[4,2], [4,5], [5,2]]\n",
        "\n",
        "print(A)"
      ],
      "metadata": {
        "colab": {
          "base_uri": "https://localhost:8080/"
        },
        "id": "_2-YgCVE7mtu",
        "outputId": "118a98d7-e8ef-468d-f9e3-8b2d42d76769"
      },
      "execution_count": 2,
      "outputs": [
        {
          "output_type": "stream",
          "name": "stdout",
          "text": [
            "[[0, 1], [1, 2], [0, 3], [3, 4], [3, 6], [3, 7], [4, 2], [4, 5], [5, 2]]\n"
          ]
        }
      ]
    },
    {
      "cell_type": "code",
      "source": [
        "# Converting array of Edges ---> Adjacency Matrix\n",
        "\n",
        "M=[]\n",
        "\n",
        "for i in range(n):\n",
        "  M.append([0] * n)\n",
        "M"
      ],
      "metadata": {
        "colab": {
          "base_uri": "https://localhost:8080/"
        },
        "id": "cJqa6QviuWUH",
        "outputId": "6e30044d-5866-4fa7-ed25-72183d956aba"
      },
      "execution_count": 7,
      "outputs": [
        {
          "output_type": "execute_result",
          "data": {
            "text/plain": [
              "[[0, 0, 0, 0, 0, 0, 0, 0],\n",
              " [0, 0, 0, 0, 0, 0, 0, 0],\n",
              " [0, 0, 0, 0, 0, 0, 0, 0],\n",
              " [0, 0, 0, 0, 0, 0, 0, 0],\n",
              " [0, 0, 0, 0, 0, 0, 0, 0],\n",
              " [0, 0, 0, 0, 0, 0, 0, 0],\n",
              " [0, 0, 0, 0, 0, 0, 0, 0],\n",
              " [0, 0, 0, 0, 0, 0, 0, 0]]"
            ]
          },
          "metadata": {},
          "execution_count": 7
        }
      ]
    },
    {
      "cell_type": "code",
      "source": [
        "for u,v in A:\n",
        "  M[u][v] = 1\n",
        "M"
      ],
      "metadata": {
        "colab": {
          "base_uri": "https://localhost:8080/"
        },
        "id": "sP8vAhBau813",
        "outputId": "2395e8cd-2c3c-4ce1-ff55-eff19aaf619c"
      },
      "execution_count": 9,
      "outputs": [
        {
          "output_type": "execute_result",
          "data": {
            "text/plain": [
              "[[0, 1, 0, 1, 0, 0, 0, 0],\n",
              " [0, 0, 1, 0, 0, 0, 0, 0],\n",
              " [0, 0, 0, 0, 0, 0, 0, 0],\n",
              " [0, 0, 0, 0, 1, 0, 1, 1],\n",
              " [0, 0, 1, 0, 0, 1, 0, 0],\n",
              " [0, 0, 1, 0, 0, 0, 0, 0],\n",
              " [0, 0, 0, 0, 0, 0, 0, 0],\n",
              " [0, 0, 0, 0, 0, 0, 0, 0]]"
            ]
          },
          "metadata": {},
          "execution_count": 9
        }
      ]
    },
    {
      "cell_type": "code",
      "source": [
        "# Converting Array of Edges ---> Adjacency List\n",
        "from collections import defaultdict\n",
        "\n",
        "D = defaultdict(list)\n",
        "\n",
        "for u,v in A:\n",
        "  D[u].append(v)\n",
        "D"
      ],
      "metadata": {
        "colab": {
          "base_uri": "https://localhost:8080/"
        },
        "id": "3Qr4y-mYvI90",
        "outputId": "2ba793e8-30cc-40f5-8981-dfbda5b1ed9f"
      },
      "execution_count": 10,
      "outputs": [
        {
          "output_type": "execute_result",
          "data": {
            "text/plain": [
              "defaultdict(list, {0: [1, 3], 1: [2], 3: [4, 6, 7], 4: [2, 5], 5: [2]})"
            ]
          },
          "metadata": {},
          "execution_count": 10
        }
      ]
    },
    {
      "cell_type": "code",
      "source": [
        "# DFS with Recursion - O(V + E) where V is the number of thenodes and E is the edges\n",
        "\n",
        "def dfs_recursive(node):\n",
        "  print(node)\n",
        "  for nei in D[node]:\n",
        "    if nei not in seen:\n",
        "      seen.add(nei)\n",
        "      dfs_recursive(nei)\n",
        "\n",
        "source = 0\n",
        "seen = set()\n",
        "seen.add(source)\n",
        "dfs_recursive(source)"
      ],
      "metadata": {
        "colab": {
          "base_uri": "https://localhost:8080/"
        },
        "id": "86i_CjnXvvDM",
        "outputId": "df59331f-b69d-4337-d7a2-ac03d8555f8c"
      },
      "execution_count": 11,
      "outputs": [
        {
          "output_type": "stream",
          "name": "stdout",
          "text": [
            "0\n",
            "1\n",
            "2\n",
            "3\n",
            "4\n",
            "5\n",
            "6\n",
            "7\n"
          ]
        }
      ]
    },
    {
      "cell_type": "code",
      "source": [],
      "metadata": {
        "id": "SOo46J3Dw3kY"
      },
      "execution_count": null,
      "outputs": []
    }
  ]
}