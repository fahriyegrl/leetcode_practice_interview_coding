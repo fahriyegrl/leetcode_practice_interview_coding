{
  "nbformat": 4,
  "nbformat_minor": 0,
  "metadata": {
    "colab": {
      "provenance": [],
      "authorship_tag": "ABX9TyNTqHzTATAc6C3NTFwxVWu/",
      "include_colab_link": true
    },
    "kernelspec": {
      "name": "python3",
      "display_name": "Python 3"
    },
    "language_info": {
      "name": "python"
    }
  },
  "cells": [
    {
      "cell_type": "markdown",
      "metadata": {
        "id": "view-in-github",
        "colab_type": "text"
      },
      "source": [
        "<a href=\"https://colab.research.google.com/github/fahriyegrl/leetcode_practice_interview_coding/blob/main/Data_Structures_%26_Algorithms.ipynb\" target=\"_parent\"><img src=\"https://colab.research.google.com/assets/colab-badge.svg\" alt=\"Open In Colab\"/></a>"
      ]
    },
    {
      "cell_type": "code",
      "execution_count": null,
      "metadata": {
        "colab": {
          "base_uri": "https://localhost:8080/"
        },
        "id": "2lD9cEImWx8H",
        "outputId": "f78b30a4-0e5f-4a88-e5cf-4ba23ed278cd"
      },
      "outputs": [
        {
          "output_type": "stream",
          "name": "stdout",
          "text": [
            "[-4, -3, -3, 1, 2, 2, 2, 3, 7]\n"
          ]
        }
      ],
      "source": [
        "# Bubble Sort Time: O(n^2), Space: O(n)\n",
        "\n",
        "A= [-4,3,2,1,-3,-3,7,2,2]\n",
        "\n",
        "def bubble_sort(arr):\n",
        "  n=len(arr)\n",
        "  flag= True\n",
        "  while flag:\n",
        "    flag=False\n",
        "    for i in range(1,n):\n",
        "      if arr[i-1] > arr[i]:\n",
        "        flag=True\n",
        "        arr[i-1], arr[i]= arr[i], arr[i-1]\n",
        "  return arr\n",
        "\n",
        "print(bubble_sort(A))"
      ]
    },
    {
      "cell_type": "code",
      "source": [
        "# Insertion Sort Time: O(n^2), Space: O(1)\n",
        "\n",
        "def insertion_sort(arr):\n",
        "  n = len(arr)\n",
        "  for i in range(1,n):\n",
        "    for j in range(i,0,-1):\n",
        "      if arr[j-1] > arr[j]:\n",
        "        arr[j-1], arr[j]= arr[j], arr[j-1]\n",
        "  return arr\n",
        "\n",
        "print(insertion_sort(A))"
      ],
      "metadata": {
        "colab": {
          "base_uri": "https://localhost:8080/"
        },
        "id": "NdDiFeLgX0pU",
        "outputId": "bd46b360-1f0f-4a70-88b3-1c61fb6b68b7"
      },
      "execution_count": null,
      "outputs": [
        {
          "output_type": "stream",
          "name": "stdout",
          "text": [
            "[-4, -3, -3, 1, 2, 2, 2, 3, 7]\n"
          ]
        }
      ]
    },
    {
      "cell_type": "code",
      "source": [
        "#Selection Sort Time: O(n^2), Space: O(1)\n",
        "\n",
        "C= [-3,3,2,1,-5,-6,7,2,2]\n",
        "\n",
        "def selection_sort(arr):\n",
        "  n = len(arr)\n",
        "  for i in range(n):\n",
        "    min_index = i\n",
        "    for j in range(i+1,n):\n",
        "      if arr[j] < arr[min_index]:\n",
        "        min_index=j\n",
        "    arr[i], arr[min_index] = arr[min_index], arr[i]\n",
        "\n",
        "selection_sort(C)\n",
        "print(C)"
      ],
      "metadata": {
        "colab": {
          "base_uri": "https://localhost:8080/"
        },
        "id": "gypGSllsbU4X",
        "outputId": "68c76d20-c2f8-4dab-d107-ba77ba017aed"
      },
      "execution_count": null,
      "outputs": [
        {
          "output_type": "stream",
          "name": "stdout",
          "text": [
            "[-6, -5, -3, 1, 2, 2, 2, 3, 7]\n"
          ]
        }
      ]
    },
    {
      "cell_type": "code",
      "source": [
        "# Merge Sort Time: O(n log n), Space: O(n)\n",
        "\n",
        "D = [-5,3,2,1,-3,-3,7,2,2]\n",
        "\n",
        "def merge_sort(arr):\n",
        "  n= len(arr)\n",
        "  if n==1:\n",
        "    return arr\n",
        "  m = len(arr) // 2\n",
        "  L= arr[:m]\n",
        "  R=arr[m:]\n",
        "  L= merge_sort(L)\n",
        "  R= merge_sort(R)\n",
        "\n",
        "  l,r = 0,0\n",
        "  L_len = len(L)\n",
        "  R_len = len(R)\n",
        "\n",
        "  sorted_arr = [0] *n\n",
        "  i = 0\n",
        "  while l<L_len and r<R_len:\n",
        "    if L[l] < R[r]:\n",
        "      sorted_arr[i] = L[l]\n",
        "      l+=1\n",
        "    else:\n",
        "      sorted_arr[i] = R[r]\n",
        "      r+=1\n",
        "    i+=1\n",
        "\n",
        "  while l<L_len:\n",
        "      sorted_arr[i] = L[l]\n",
        "      l+=1\n",
        "      i+-1\n",
        "  while r<R_len:\n",
        "      sorted_arr[i] = R[r]\n",
        "      r+=1\n",
        "      i +=1\n",
        "  return sorted_arr\n",
        "\n"
      ],
      "metadata": {
        "id": "VPLykai9O5-a"
      },
      "execution_count": null,
      "outputs": []
    },
    {
      "cell_type": "code",
      "source": [
        "merge_sort(D)"
      ],
      "metadata": {
        "colab": {
          "base_uri": "https://localhost:8080/"
        },
        "id": "46hMVaYzPtFm",
        "outputId": "cb5012f5-5928-4f5e-fc09-067803476b2f"
      },
      "execution_count": null,
      "outputs": [
        {
          "output_type": "execute_result",
          "data": {
            "text/plain": [
              "[-5, -3, -3, 1, 2, 2, 2, 3, 7]"
            ]
          },
          "metadata": {},
          "execution_count": 5
        }
      ]
    },
    {
      "cell_type": "code",
      "source": [
        "# Quick Sort Time:O(n log n), Space: O(n)\n",
        "\n",
        "E= [-5,3,2,1,-3,-3,7,2,2]\n",
        "\n",
        "def quick_sort(arr):\n",
        "  if len(arr) <2:\n",
        "    return arr\n",
        "\n",
        "  p = arr[-1]\n",
        "\n",
        "  L= [x for x in arr[:-1] if x <= p]\n",
        "  R= [x for x in arr[:-1] if x > p]\n",
        "\n",
        "  L= quick_sort(L)\n",
        "  R= quick_sort(R)\n",
        "\n",
        "  return L + [p] + R\n",
        "\n",
        "quick_sort(E)"
      ],
      "metadata": {
        "colab": {
          "base_uri": "https://localhost:8080/"
        },
        "id": "_NH58-Ujpu2x",
        "outputId": "6463fdf2-043b-42f5-e763-8f2536ef1635"
      },
      "execution_count": null,
      "outputs": [
        {
          "output_type": "execute_result",
          "data": {
            "text/plain": [
              "[-5, -3, -3, 1, 2, 2, 2, 3, 7]"
            ]
          },
          "metadata": {},
          "execution_count": 6
        }
      ]
    },
    {
      "cell_type": "code",
      "source": [
        "# Counting Sort Time: O(n+k) where k is the range of data\n",
        "#stick with the positive array\n",
        "# k is the max of the array\n",
        "# space: O(k)\n",
        "\n",
        "F= [5,3,2,1,3,3,7,2,2]\n",
        "def counting_sort(arr):\n",
        "  n= len(arr)\n",
        "  maxx = max(arr)\n",
        "  counts = [0] * (maxx+1)\n",
        "\n",
        "  for x in arr:\n",
        "    counts[x] +=1\n",
        "  i=0\n",
        "\n",
        "  for c in range(maxx+1):\n",
        "    while counts[c] >0:\n",
        "      arr[i] = c\n",
        "      i +=1\n",
        "      counts[c] -=1\n"
      ],
      "metadata": {
        "id": "gxe7Bv_DBerj"
      },
      "execution_count": 3,
      "outputs": []
    },
    {
      "cell_type": "code",
      "source": [
        "counting_sort(F)\n",
        "print(F)"
      ],
      "metadata": {
        "id": "xoAOL-hCCZcu",
        "colab": {
          "base_uri": "https://localhost:8080/"
        },
        "outputId": "80acba6b-7ddd-41f5-f317-44c0ae1e70cc"
      },
      "execution_count": 4,
      "outputs": [
        {
          "output_type": "stream",
          "name": "stdout",
          "text": [
            "[1, 2, 2, 2, 3, 3, 3, 5, 7]\n"
          ]
        }
      ]
    }
  ]
}