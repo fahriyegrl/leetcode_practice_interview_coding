{
  "nbformat": 4,
  "nbformat_minor": 0,
  "metadata": {
    "colab": {
      "provenance": [],
      "authorship_tag": "ABX9TyMWIHdCg4EDb4FYERMQWOs/",
      "include_colab_link": true
    },
    "kernelspec": {
      "name": "python3",
      "display_name": "Python 3"
    },
    "language_info": {
      "name": "python"
    }
  },
  "cells": [
    {
      "cell_type": "markdown",
      "metadata": {
        "id": "view-in-github",
        "colab_type": "text"
      },
      "source": [
        "<a href=\"https://colab.research.google.com/github/fahriyegrl/leetcode_practice_interview_coding/blob/main/Data_Structures_%26_Algorithms.ipynb\" target=\"_parent\"><img src=\"https://colab.research.google.com/assets/colab-badge.svg\" alt=\"Open In Colab\"/></a>"
      ]
    },
    {
      "cell_type": "code",
      "execution_count": 1,
      "metadata": {
        "colab": {
          "base_uri": "https://localhost:8080/"
        },
        "id": "2lD9cEImWx8H",
        "outputId": "84075608-d6d4-4f51-d12a-593bf840fe3e"
      },
      "outputs": [
        {
          "output_type": "stream",
          "name": "stdout",
          "text": [
            "[-4, -3, -3, 1, 2, 2, 2, 3, 7]\n"
          ]
        }
      ],
      "source": [
        "# Bubble Sort Time: O(n^2), Space: O(n)\n",
        "\n",
        "A= [-4,3,2,1,-3,-3,7,2,2]\n",
        "\n",
        "def bubble_sort(arr):\n",
        "  n=len(arr)\n",
        "  flag= True\n",
        "  while flag:\n",
        "    flag=False\n",
        "    for i in range(1,n):\n",
        "      if arr[i-1] > arr[i]:\n",
        "        flag=True\n",
        "        arr[i-1], arr[i]= arr[i], arr[i-1]\n",
        "  return arr\n",
        "\n",
        "print(bubble_sort(A))"
      ]
    },
    {
      "cell_type": "code",
      "source": [
        "# Insertion Sort Time: O(n^2), Space: O(1)\n",
        "\n",
        "def insertion_sort(arr):\n",
        "  n = len(arr)\n",
        "  for i in range(1,n):\n",
        "    for j in range(i,0,-1):\n",
        "      if arr[j-1] > arr[j]:\n",
        "        arr[j-1], arr[j]= arr[j], arr[j-1]\n",
        "  return arr\n",
        "\n",
        "print(insertion_sort(A))"
      ],
      "metadata": {
        "colab": {
          "base_uri": "https://localhost:8080/"
        },
        "id": "NdDiFeLgX0pU",
        "outputId": "2e671ffe-43fa-4481-f756-9482a10d3a34"
      },
      "execution_count": 2,
      "outputs": [
        {
          "output_type": "stream",
          "name": "stdout",
          "text": [
            "[-4, -3, -3, 1, 2, 2, 2, 3, 7]\n"
          ]
        }
      ]
    },
    {
      "cell_type": "code",
      "source": [
        "#Selection Sort Time: O(n^2), Space: O(1)\n",
        "\n",
        "C= [-3,3,2,1,-5,-6,7,2,2]\n",
        "\n",
        "def selection_sort(arr):\n",
        "  n = len(arr)\n",
        "  for i in range(n):\n",
        "    min_index = i\n",
        "    for j in range(i+1,n):\n",
        "      if arr[j] < arr[min_index]:\n",
        "        min_index=j\n",
        "    arr[i], arr[min_index] = arr[min_index], arr[i]\n",
        "\n",
        "selection_sort(C)\n",
        "print(C)"
      ],
      "metadata": {
        "colab": {
          "base_uri": "https://localhost:8080/"
        },
        "id": "gypGSllsbU4X",
        "outputId": "7c2843e4-d88f-4015-dc4e-8a1cdfc902bf"
      },
      "execution_count": 3,
      "outputs": [
        {
          "output_type": "stream",
          "name": "stdout",
          "text": [
            "[-6, -5, -3, 1, 2, 2, 2, 3, 7]\n"
          ]
        }
      ]
    },
    {
      "cell_type": "code",
      "source": [
        "# Merge Sort Time: O(n log n), Space: O(n)\n",
        "\n",
        "D = [-5,3,2,1,-3,-3,7,2,2]\n",
        "\n",
        "def merge_sort(arr):\n",
        "  n= len(arr)\n",
        "  if n==1:\n",
        "    return arr\n",
        "  m = len(arr) // 2\n",
        "  L= arr[:m]\n",
        "  R=arr[m:]\n",
        "  L= merge_sort(L)\n",
        "  R= merge_sort(R)\n",
        "\n",
        "  l,r = 0,0\n",
        "  L_len = len(L)\n",
        "  R_len = len(R)\n",
        "\n",
        "  sorted_arr = [0] *n\n",
        "  i = 0\n",
        "  while l<L_len and r<R_len:\n",
        "    if L[l] < R[r]:\n",
        "      sorted_arr[i] = L[l]\n",
        "      l+=1\n",
        "    else:\n",
        "      sorted_arr[i] = R[r]\n",
        "      r+=1\n",
        "    i+=1\n",
        "\n",
        "  while l<L_len:\n",
        "      sorted_arr[i] = L[l]\n",
        "      l+=1\n",
        "      i+-1\n",
        "  while r<R_len:\n",
        "      sorted_arr[i] = R[r]\n",
        "      r+=1\n",
        "      i +=1\n",
        "  return sorted_arr\n",
        "\n"
      ],
      "metadata": {
        "id": "VPLykai9O5-a"
      },
      "execution_count": 4,
      "outputs": []
    },
    {
      "cell_type": "code",
      "source": [
        "merge_sort(D)"
      ],
      "metadata": {
        "colab": {
          "base_uri": "https://localhost:8080/"
        },
        "id": "46hMVaYzPtFm",
        "outputId": "767947d2-751f-4a49-ac12-fbec9afd1326"
      },
      "execution_count": 5,
      "outputs": [
        {
          "output_type": "execute_result",
          "data": {
            "text/plain": [
              "[-5, -3, -3, 1, 2, 2, 2, 3, 7]"
            ]
          },
          "metadata": {},
          "execution_count": 5
        }
      ]
    },
    {
      "cell_type": "code",
      "source": [
        "# Quick Sort Time:O(n log n), Space: O(n)\n",
        "\n",
        "E= [-5,3,2,1,-3,-3,7,2,2]\n",
        "\n",
        "def quick_sort(arr):\n",
        "  if len(arr) <2:\n",
        "    return arr\n",
        "\n",
        "  p = arr[-1]\n",
        "\n",
        "  L= [x for x in arr[:-1] if x <= p]\n",
        "  R= [x for x in arr[:-1] if x > p]\n",
        "\n",
        "  L= quick_sort(L)\n",
        "  R= quick_sort(R)\n",
        "\n",
        "  return L + [p] + R\n",
        "\n",
        "quick_sort(E)"
      ],
      "metadata": {
        "colab": {
          "base_uri": "https://localhost:8080/"
        },
        "id": "_NH58-Ujpu2x",
        "outputId": "bb09f80f-801a-447d-b649-68603b44ca3e"
      },
      "execution_count": 6,
      "outputs": [
        {
          "output_type": "execute_result",
          "data": {
            "text/plain": [
              "[-5, -3, -3, 1, 2, 2, 2, 3, 7]"
            ]
          },
          "metadata": {},
          "execution_count": 6
        }
      ]
    },
    {
      "cell_type": "code",
      "source": [
        "# Counting Sort Time: O(n+k) where k is the range of data\n",
        "#stick with the positive array\n",
        "# k is the max of the array\n",
        "# space: O(k)\n",
        "\n",
        "F= [5,3,2,1,3,3,7,2,2]\n",
        "def counting_sort(arr):\n",
        "  n= len(arr)\n",
        "  maxx = max(arr)\n",
        "  counts = [0] * (maxx+1)\n",
        "\n",
        "  for x in arr:\n",
        "    counts[x] +=1\n",
        "  i=0\n",
        "\n",
        "  for c in range(maxx+1):\n",
        "    while counts[c] > 0:\n",
        "      arr[i] = c\n",
        "      i +=1\n",
        "      counts[c] -=1\n"
      ],
      "metadata": {
        "id": "gxe7Bv_DBerj"
      },
      "execution_count": 7,
      "outputs": []
    },
    {
      "cell_type": "code",
      "source": [
        "counting_sort(F)\n",
        "print(F)"
      ],
      "metadata": {
        "id": "xoAOL-hCCZcu",
        "colab": {
          "base_uri": "https://localhost:8080/"
        },
        "outputId": "bdd119fa-844f-4009-89bf-0720a3635b83"
      },
      "execution_count": 8,
      "outputs": [
        {
          "output_type": "stream",
          "name": "stdout",
          "text": [
            "[1, 2, 2, 2, 3, 3, 3, 5, 7]\n"
          ]
        }
      ]
    },
    {
      "cell_type": "code",
      "source": [
        "# Graphs - Edge List - Adjacency Matrix - Adjacency List - DFS, BFS\n",
        "\n",
        "# Array of Edges (Directed) [Start, End]\n",
        "\n",
        "n=8\n",
        "A = [[0,1], [1,2], [0,3], [3,4], [3,6], [3,7],[4,2], [4,5], [5,2]]\n",
        "\n",
        "print(A)"
      ],
      "metadata": {
        "colab": {
          "base_uri": "https://localhost:8080/"
        },
        "id": "_2-YgCVE7mtu",
        "outputId": "9a7c3a82-7ef2-40fc-c401-1c24652d82cd"
      },
      "execution_count": 9,
      "outputs": [
        {
          "output_type": "stream",
          "name": "stdout",
          "text": [
            "[[0, 1], [1, 2], [0, 3], [3, 4], [3, 6], [3, 7], [4, 2], [4, 5], [5, 2]]\n"
          ]
        }
      ]
    },
    {
      "cell_type": "code",
      "source": [
        "# Converting array of Edges ---> Adjacency Matrix\n",
        "\n",
        "M=[]\n",
        "\n",
        "for i in range(n):\n",
        "  M.append([0] * n)\n",
        "M"
      ],
      "metadata": {
        "colab": {
          "base_uri": "https://localhost:8080/"
        },
        "id": "cJqa6QviuWUH",
        "outputId": "35353b52-07d8-4cf5-b6d4-b217213060d7"
      },
      "execution_count": 10,
      "outputs": [
        {
          "output_type": "execute_result",
          "data": {
            "text/plain": [
              "[[0, 0, 0, 0, 0, 0, 0, 0],\n",
              " [0, 0, 0, 0, 0, 0, 0, 0],\n",
              " [0, 0, 0, 0, 0, 0, 0, 0],\n",
              " [0, 0, 0, 0, 0, 0, 0, 0],\n",
              " [0, 0, 0, 0, 0, 0, 0, 0],\n",
              " [0, 0, 0, 0, 0, 0, 0, 0],\n",
              " [0, 0, 0, 0, 0, 0, 0, 0],\n",
              " [0, 0, 0, 0, 0, 0, 0, 0]]"
            ]
          },
          "metadata": {},
          "execution_count": 10
        }
      ]
    },
    {
      "cell_type": "code",
      "source": [
        "for u,v in A:\n",
        "  M[u][v] = 1\n",
        "M"
      ],
      "metadata": {
        "colab": {
          "base_uri": "https://localhost:8080/"
        },
        "id": "sP8vAhBau813",
        "outputId": "93da48c5-ea52-499b-df96-a94ed2d79e82"
      },
      "execution_count": 11,
      "outputs": [
        {
          "output_type": "execute_result",
          "data": {
            "text/plain": [
              "[[0, 1, 0, 1, 0, 0, 0, 0],\n",
              " [0, 0, 1, 0, 0, 0, 0, 0],\n",
              " [0, 0, 0, 0, 0, 0, 0, 0],\n",
              " [0, 0, 0, 0, 1, 0, 1, 1],\n",
              " [0, 0, 1, 0, 0, 1, 0, 0],\n",
              " [0, 0, 1, 0, 0, 0, 0, 0],\n",
              " [0, 0, 0, 0, 0, 0, 0, 0],\n",
              " [0, 0, 0, 0, 0, 0, 0, 0]]"
            ]
          },
          "metadata": {},
          "execution_count": 11
        }
      ]
    },
    {
      "cell_type": "code",
      "source": [
        "# Converting Array of Edges ---> Adjacency List\n",
        "from collections import defaultdict\n",
        "\n",
        "D = defaultdict(list)\n",
        "\n",
        "for u,v in A:\n",
        "  D[u].append(v)\n",
        "D"
      ],
      "metadata": {
        "colab": {
          "base_uri": "https://localhost:8080/"
        },
        "id": "3Qr4y-mYvI90",
        "outputId": "15e10785-49c7-46df-d141-e4eda38816a3"
      },
      "execution_count": 12,
      "outputs": [
        {
          "output_type": "execute_result",
          "data": {
            "text/plain": [
              "defaultdict(list, {0: [1, 3], 1: [2], 3: [4, 6, 7], 4: [2, 5], 5: [2]})"
            ]
          },
          "metadata": {},
          "execution_count": 12
        }
      ]
    },
    {
      "cell_type": "code",
      "source": [
        "# DFS with Recursion - O(V + E) where V is the number of thenodes and E is the edges\n",
        "\n",
        "def dfs_recursive(node):\n",
        "  print(node)\n",
        "  for nei in D[node]:\n",
        "    if nei not in seen:\n",
        "      seen.add(nei)\n",
        "      dfs_recursive(nei)\n",
        "\n",
        "source = 0\n",
        "seen = set()\n",
        "seen.add(source)\n",
        "dfs_recursive(source)"
      ],
      "metadata": {
        "colab": {
          "base_uri": "https://localhost:8080/"
        },
        "id": "86i_CjnXvvDM",
        "outputId": "5a19f1e6-93e7-4e5c-bbec-f912310e2217"
      },
      "execution_count": 13,
      "outputs": [
        {
          "output_type": "stream",
          "name": "stdout",
          "text": [
            "0\n",
            "1\n",
            "2\n",
            "3\n",
            "4\n",
            "5\n",
            "6\n",
            "7\n"
          ]
        }
      ]
    },
    {
      "cell_type": "code",
      "source": [
        "# Iterative DFS with stack - O(V+ E)\n",
        "\n",
        "source = 0\n",
        "seen = set()\n",
        "seen.add(source)\n",
        "stack = [source]\n",
        "\n",
        "while stack:\n",
        "  node = stack.pop()\n",
        "  print(node)\n",
        "  for nei in D[node]:\n",
        "    if nei not in seen:\n",
        "      seen.add(nei)\n",
        "      stack.append(nei)"
      ],
      "metadata": {
        "colab": {
          "base_uri": "https://localhost:8080/"
        },
        "id": "SOo46J3Dw3kY",
        "outputId": "0989549c-f11d-415d-c6d9-993070c467ab"
      },
      "execution_count": 14,
      "outputs": [
        {
          "output_type": "stream",
          "name": "stdout",
          "text": [
            "0\n",
            "3\n",
            "7\n",
            "6\n",
            "4\n",
            "5\n",
            "2\n",
            "1\n"
          ]
        }
      ]
    },
    {
      "cell_type": "code",
      "source": [
        "# BFS (Queue) - O(V+E)\n",
        "source = 0\n",
        "\n",
        "from collections import deque\n",
        "seen = set()\n",
        "seen.add(source)\n",
        "q = deque()\n",
        "q.append(source)\n",
        "\n",
        "while q:\n",
        "  node = q.popleft()\n",
        "  print(node)\n",
        "\n",
        "  for nei in D[node]:\n",
        "    if nei not in seen:\n",
        "      seen.add(nei)\n",
        "      q.append(nei)"
      ],
      "metadata": {
        "colab": {
          "base_uri": "https://localhost:8080/"
        },
        "id": "HKjH-okwyOih",
        "outputId": "d8089611-a43c-478f-c25d-b46452dd5ea0"
      },
      "execution_count": 15,
      "outputs": [
        {
          "output_type": "stream",
          "name": "stdout",
          "text": [
            "0\n",
            "1\n",
            "3\n",
            "2\n",
            "4\n",
            "6\n",
            "7\n",
            "5\n"
          ]
        }
      ]
    },
    {
      "cell_type": "code",
      "source": [
        "class Node:\n",
        "  def __init__(self, value):\n",
        "    self.value = value\n",
        "    self.neighbor = []\n",
        "\n",
        "  def str(self):\n",
        "    return f'Node({self.value})'\n",
        "\n",
        "  def display(self):\n",
        "    connections = [node.value for node in self.neighbor]\n",
        "    return f'{self.value} is connected to: {connections}'\n",
        "\n",
        "A = Node('A')\n",
        "B = Node('B')\n",
        "C = Node('C')\n",
        "D = Node('D')\n",
        "\n",
        "A.neighbor = [B,D]\n",
        "B.neighbor = [A,C,D]\n",
        "C.neighbor = [B]\n",
        "D.neighbor = [A,B,C]\n",
        "\n",
        "print(A.display())"
      ],
      "metadata": {
        "colab": {
          "base_uri": "https://localhost:8080/"
        },
        "id": "w0_lbYvjzFq2",
        "outputId": "83f1e086-244d-4866-c2f4-88c538254c81"
      },
      "execution_count": 16,
      "outputs": [
        {
          "output_type": "stream",
          "name": "stdout",
          "text": [
            "A is connected to: ['B', 'D']\n"
          ]
        }
      ]
    },
    {
      "cell_type": "code",
      "source": [
        "print(A)"
      ],
      "metadata": {
        "colab": {
          "base_uri": "https://localhost:8080/"
        },
        "id": "X3__jNSvz8DW",
        "outputId": "91f5f284-0d7c-4b36-a182-3c6575bee763"
      },
      "execution_count": 17,
      "outputs": [
        {
          "output_type": "stream",
          "name": "stdout",
          "text": [
            "<__main__.Node object at 0x7c8b2a6be5a0>\n"
          ]
        }
      ]
    },
    {
      "cell_type": "code",
      "source": [
        "# 2 Pointers: Squares of a Sorted Array\n",
        "from typing import List\n",
        "# Time: O(n),  Space:O(n)\n",
        "def sortedSquares(nums: List[int]) -> List[int]:\n",
        "  left = 0\n",
        "  right = len(nums) - 1\n",
        "  result = []\n",
        "\n",
        "  while left<right:\n",
        "    if abs(nums[left]) > abs(nums[right]):\n",
        "      result.append(nums[left] **2)\n",
        "      left +=1\n",
        "    else:\n",
        "      result.append(nums[right] **2)\n",
        "      right-=1\n",
        "  result.reverse\n",
        "  return result"
      ],
      "metadata": {
        "id": "RI_APtssFKy1"
      },
      "execution_count": 18,
      "outputs": []
    },
    {
      "cell_type": "code",
      "source": [
        "my_list = [-7,-4,0,1,10]\n",
        "sortedSquares(my_list)"
      ],
      "metadata": {
        "colab": {
          "base_uri": "https://localhost:8080/"
        },
        "id": "VY58Tp8TGNhe",
        "outputId": "7c317f9e-e527-4c25-8ac7-3d407a6a712f"
      },
      "execution_count": 19,
      "outputs": [
        {
          "output_type": "execute_result",
          "data": {
            "text/plain": [
              "[100, 49, 16, 1]"
            ]
          },
          "metadata": {},
          "execution_count": 19
        }
      ]
    },
    {
      "cell_type": "code",
      "source": [
        "# Sliding Window Algorithm\n",
        "\n",
        "# Longest Substring Without Repeating Characters - Variable Length\n",
        "\n",
        "def lenghtofLongestSubstring(s:str) -> int:\n",
        "  l=0\n",
        "  longest = 0\n",
        "  sett = set()\n",
        "  n= len(s)\n",
        "\n",
        "  for r in range(n):\n",
        "    while s[r] in sett:  #r=4\n",
        "      sett.remove(s[l])\n",
        "\n",
        "      l +=1\n",
        "    w = (r-l) +1\n",
        "    longest = max(longest, w)\n",
        "    sett.add(s[r])\n",
        "    print(sett)\n",
        "\n",
        "  return longest\n",
        "\n",
        "s = \"abcdbac\"  # sett = ,b,c,d ,  l=1\n",
        "s1= \"cklamar\"\n",
        "lenghtofLongestSubstring(s1)"
      ],
      "metadata": {
        "colab": {
          "base_uri": "https://localhost:8080/"
        },
        "id": "oktfvBuGVy8f",
        "outputId": "97a241f6-d37f-4549-db42-394bd10a3331"
      },
      "execution_count": 20,
      "outputs": [
        {
          "output_type": "stream",
          "name": "stdout",
          "text": [
            "{'c'}\n",
            "{'c', 'k'}\n",
            "{'l', 'c', 'k'}\n",
            "{'l', 'c', 'a', 'k'}\n",
            "{'c', 'a', 'l', 'k', 'm'}\n",
            "{'a', 'm'}\n",
            "{'a', 'm', 'r'}\n"
          ]
        },
        {
          "output_type": "execute_result",
          "data": {
            "text/plain": [
              "5"
            ]
          },
          "metadata": {},
          "execution_count": 20
        }
      ]
    },
    {
      "cell_type": "code",
      "source": [
        "# 643- Maximum Average Subarray - Fixed Variable Sliding Window\n",
        "\n",
        "def findMaxAverage(nums: List[int], k:int) -> float:\n",
        "  n = len(nums)\n",
        "  cur_sum= 0\n",
        "\n",
        "  for i in range(k):\n",
        "    cur_sum += nums[i]\n",
        "\n",
        "  max_avg = cur_sum / k\n",
        "\n",
        "  for i in range(k,n):\n",
        "    cur_sum += nums[i]\n",
        "    cur_sum -= nums[i-k]\n",
        "\n",
        "    avg = cur_sum /k\n",
        "    max_avg= max(max_avg, avg)\n",
        "\n",
        "  return max_avg"
      ],
      "metadata": {
        "id": "KdnJCWCUkcYf"
      },
      "execution_count": 21,
      "outputs": []
    },
    {
      "cell_type": "code",
      "source": [
        "# Recursive Backtracking - Leetcode 78- Subsets\n",
        "\n",
        "def subsets(nums: List[int])  -> List[List[int]]:\n",
        "  n = len(nums)\n",
        "  res, sol = [], []\n",
        "  def backtrack(i):\n",
        "    if i ==n:\n",
        "      res.append(sol[:])\n",
        "      return\n",
        "    #dont pick nums[i]\n",
        "    backtrack(i+1)\n",
        "\n",
        "    # pick nums[i]\n",
        "    sol.append(nums[i])\n",
        "    backtrack(i+1)\n",
        "    sol.pop()\n",
        "\n",
        "  backtrack(0)\n",
        "  return res\n"
      ],
      "metadata": {
        "id": "uQS0CdOFi2mX"
      },
      "execution_count": 22,
      "outputs": []
    },
    {
      "cell_type": "code",
      "source": [
        "mi_list =[1,2,3]\n",
        "subsets(mi_list)"
      ],
      "metadata": {
        "colab": {
          "base_uri": "https://localhost:8080/"
        },
        "id": "d0wyWiMinIfk",
        "outputId": "45cdd88c-0102-46b8-d157-08357558768b"
      },
      "execution_count": 23,
      "outputs": [
        {
          "output_type": "execute_result",
          "data": {
            "text/plain": [
              "[[], [3], [2], [2, 3], [1], [1, 3], [1, 2], [1, 2, 3]]"
            ]
          },
          "metadata": {},
          "execution_count": 23
        }
      ]
    },
    {
      "cell_type": "code",
      "source": [
        "# Dynamic Programming - Top Down Memorization\n",
        "# Leet code 509 - Fibonacci Number - Time 0(n), Space 0(n)\n",
        "\n",
        "def fib(n:int) -> int:\n",
        "  memo= {0:0, 1:1} # Fibonacci sequence typically starts with F(0)=0, F(1)=1\n",
        "\n",
        "  def f(x):\n",
        "    if x in memo:\n",
        "      return memo[x]\n",
        "    elif x < 0: # Handle negative input if necessary, though typically Fibonacci is for non-negative integers\n",
        "        return 0\n",
        "    else:\n",
        "      memo[x] = f(x-1) + f(x-2) # Corrected recursive call\n",
        "      return memo[x]\n",
        "  return f(n)"
      ],
      "metadata": {
        "id": "NlHm-Z-2-rPJ"
      },
      "execution_count": 24,
      "outputs": []
    },
    {
      "cell_type": "code",
      "source": [
        "fib(10)"
      ],
      "metadata": {
        "id": "dC4Le1kq_eyL",
        "colab": {
          "base_uri": "https://localhost:8080/"
        },
        "outputId": "a3f4da47-f139-47b4-bef8-3c94e55c4f1d"
      },
      "execution_count": 25,
      "outputs": [
        {
          "output_type": "execute_result",
          "data": {
            "text/plain": [
              "55"
            ]
          },
          "metadata": {},
          "execution_count": 25
        }
      ]
    },
    {
      "cell_type": "code",
      "source": [
        "# Dynamic Programming - Bottom Up Memorization\n",
        "\n",
        "#Method 1: Time: 0(n), Space:0(n)\n",
        "\n",
        "def fib(n:int) -> int:\n",
        "  #Bottom up= Tabulation\n",
        "\n",
        "  if n==0:\n",
        "    return 0\n",
        "  if n==1:\n",
        "    return 1\n",
        "  dp = [0] * (n+1)\n",
        "  dp[0] = 0\n",
        "  dp[1]= 1\n",
        "\n",
        "  for i in range(2, n+1):\n",
        "    dp[i] = dp[i-2] + dp[i-1]\n",
        "\n",
        "  return dp[n]"
      ],
      "metadata": {
        "id": "0WZvsoGpgJw-"
      },
      "execution_count": 26,
      "outputs": []
    },
    {
      "cell_type": "code",
      "source": [
        "#Method 1: Time: 0(n), Space:0(1)\n",
        "\n",
        "def fib(n:int) -> int:\n",
        "\n",
        "\n",
        "  if n==0:\n",
        "    return 0\n",
        "  if n==1:\n",
        "    return 1\n",
        "  dp = [0] * (n+1)\n",
        "  prev = 0\n",
        "  cur = 1\n",
        "\n",
        "  for i in range(2, n+1):\n",
        "    prev, cur= cur , prev+cur\n",
        "\n",
        "  return cur"
      ],
      "metadata": {
        "id": "XVUIZEo6gzEC"
      },
      "execution_count": 27,
      "outputs": []
    },
    {
      "cell_type": "code",
      "source": [
        "# Leet Code: 2239. Find Closest Number to Zero\n",
        "\n",
        "# Time: O(n)  Space: O(1)\n",
        "\n",
        "def findClosestNumber(nums: List[int]) -> int:\n",
        "  closest = nums[0]\n",
        "  for x in nums:\n",
        "    if abs(x) < abs(closest):\n",
        "      closest = x\n",
        "  if closest < 0 and abs(closest) in nums:\n",
        "    return abs(closest)\n",
        "  else:\n",
        "    return closest"
      ],
      "metadata": {
        "id": "bsA9LsRP5PWd"
      },
      "execution_count": 28,
      "outputs": []
    },
    {
      "cell_type": "code",
      "source": [
        "# LeetCode 1768: Merge String Alternately\n",
        "\n",
        "def mergeAlternately(word1: str, word2: str) -> str:\n",
        "  A,B = len(word1), len(word2)\n",
        "  a,b = 0,0\n",
        "  s=[]\n",
        "\n",
        "  word=1\n",
        "  while a<A and b<B:\n",
        "    if word == 1:\n",
        "      s.append(word1[a])\n",
        "      a+=1\n",
        "      word = 2\n",
        "    else:\n",
        "      s.append(word2[b])\n",
        "      b+=1\n",
        "      word=1\n",
        "\n",
        "  while a<A:\n",
        "    s.append(word1[a])\n",
        "    a+=1\n",
        "  while b<B:\n",
        "    s.append(word2[b])\n",
        "    b+=1\n",
        "\n",
        "  return \"\".join(s)  # Time: O(A+B) Space: O(A+B)\n"
      ],
      "metadata": {
        "id": "xn-_0mW0BhA3"
      },
      "execution_count": 29,
      "outputs": []
    },
    {
      "cell_type": "code",
      "source": [
        "word1= \"hjeotr\"\n",
        "word2= \"ouruewwwwfcss\"\n",
        "mergeAlternately(word1,word2)"
      ],
      "metadata": {
        "colab": {
          "base_uri": "https://localhost:8080/",
          "height": 35
        },
        "id": "30Uui4hcCt_X",
        "outputId": "5cad58dd-f048-476c-ef4f-f92e947e27c8"
      },
      "execution_count": 30,
      "outputs": [
        {
          "output_type": "execute_result",
          "data": {
            "text/plain": [
              "'hojuerouterwwwwfcss'"
            ],
            "application/vnd.google.colaboratory.intrinsic+json": {
              "type": "string"
            }
          },
          "metadata": {},
          "execution_count": 30
        }
      ]
    },
    {
      "cell_type": "code",
      "source": [
        "# Leetcode: 13 Roman To Integer\n",
        "\n",
        "def romanToInt(s: str) -> int:\n",
        "  d = {'I' : 1, 'V' : 5, 'X' : 10, 'L' : 50, 'C' : 100, 'D' : 500, 'M' : 1000}\n",
        "  sum = 0\n",
        "  n = len(s)\n",
        "  i = 0\n",
        "\n",
        "  while i <n:\n",
        "    if i<n and d[s[i]]  < d[s[i+1]]:\n",
        "      sum += d[s[i+1]] - d[s[i]]\n",
        "      i +=2\n",
        "    else:\n",
        "      sum += d[s[i]]\n",
        "      i +=1\n",
        "  return sum  # Time: O(n) , Space: O(1)"
      ],
      "metadata": {
        "id": "8p5FLd6qouFm"
      },
      "execution_count": 31,
      "outputs": []
    },
    {
      "cell_type": "code",
      "source": [
        "# Leetcode-392 Is Subsequence\n",
        "\n",
        "def isSubsequence(s: str, t:str) -> bool:\n",
        "  S= len(s)\n",
        "  T= len(t)\n",
        "  if s=='': return True\n",
        "  if S>T: return False\n",
        "\n",
        "  j=0\n",
        "  for i in range(T):\n",
        "    if t[i] == s[j]:\n",
        "      if j==S-1:\n",
        "        return True\n",
        "      j +=1\n",
        "  return False\n",
        "  #Time: O(T)\n",
        "  #Space: O(1)"
      ],
      "metadata": {
        "id": "P1UgMPbballO"
      },
      "execution_count": 32,
      "outputs": []
    },
    {
      "cell_type": "code",
      "source": [
        "# LeetCode: 121 Best Time to Buy and Sell Stock\n",
        "# Brute Force; Time: O(n^2), Space: O(1)\n",
        "\n",
        "def maxProfit(prices: List[int]) -> int:\n",
        "  max_profit = float('-inf')\n",
        "  for i in range(len(prices)):\n",
        "    for j in range(i+1, len(prices)):\n",
        "      profit = prices[j] - prices[i]\n",
        "      if profit>max_profit:\n",
        "        max_profit = profit\n",
        "  return max_profit if max_profit > float('-inf') else 0"
      ],
      "metadata": {
        "id": "a5Rh_zkf99Oa"
      },
      "execution_count": 33,
      "outputs": []
    },
    {
      "cell_type": "code",
      "source": [
        "def maxProfit(prices: List[int]) -> int:\n",
        "  #Time: O(n)\n",
        "  #Space: O(1)\n",
        "  min_price = float('inf')\n",
        "  max_profit = 0\n",
        "  # 7,1,2\n",
        "\n",
        "  for price in prices:\n",
        "    if price < min_price:\n",
        "      min_price = price\n",
        "\n",
        "    profit = price -min_price\n",
        "    print(profit)\n",
        "\n",
        "    if profit > max_profit:\n",
        "      max_profit = profit\n",
        "\n",
        "  return max_profit\n",
        "\n"
      ],
      "metadata": {
        "id": "d75Csh-L-18t"
      },
      "execution_count": 34,
      "outputs": []
    },
    {
      "cell_type": "code",
      "source": [
        "prices= [7,1,2]\n",
        "maxProfit(prices)"
      ],
      "metadata": {
        "colab": {
          "base_uri": "https://localhost:8080/"
        },
        "id": "3cYH_p10A8BY",
        "outputId": "4a62f58a-3578-4cd0-bf5f-84cd33546fa4"
      },
      "execution_count": 35,
      "outputs": [
        {
          "output_type": "stream",
          "name": "stdout",
          "text": [
            "0\n",
            "0\n",
            "1\n"
          ]
        },
        {
          "output_type": "execute_result",
          "data": {
            "text/plain": [
              "1"
            ]
          },
          "metadata": {},
          "execution_count": 35
        }
      ]
    },
    {
      "cell_type": "code",
      "source": [
        "# Leetcode 14: Longest Common Prefix\n",
        "\n",
        "def longestCommonPrefix(strs: List[str]) -> str:\n",
        "  min_length= float('inf')\n",
        "  for s in strs:\n",
        "    if len(s) < min_length:\n",
        "      min_length = len(s)\n",
        "  i=0\n",
        "  while i < min_length:\n",
        "    for s in strs:\n",
        "      if s[i] !=  strs[0][i]:\n",
        "        return s[:i]\n",
        "\n",
        "    i+=1\n",
        "  return s[:i]\n",
        "\n",
        "  # Time: O(n * m) where m is min_lenght\n",
        "  # Space: O(1)\n"
      ],
      "metadata": {
        "id": "m6V1Jd0BVmPa"
      },
      "execution_count": 36,
      "outputs": []
    },
    {
      "cell_type": "code",
      "source": [
        "strs= [\"fla\", \"flowers\", \"flown\"]\n",
        "strs"
      ],
      "metadata": {
        "colab": {
          "base_uri": "https://localhost:8080/"
        },
        "id": "om1Y3Ar7A_zZ",
        "outputId": "2a5b08bb-87b8-4fd3-a7f1-af2ec874c8fc"
      },
      "execution_count": 37,
      "outputs": [
        {
          "output_type": "execute_result",
          "data": {
            "text/plain": [
              "['fla', 'flowers', 'flown']"
            ]
          },
          "metadata": {},
          "execution_count": 37
        }
      ]
    },
    {
      "cell_type": "code",
      "source": [
        "s = \"flo\"\n",
        "s[0]"
      ],
      "metadata": {
        "colab": {
          "base_uri": "https://localhost:8080/",
          "height": 35
        },
        "id": "c0iuWXsNWlKJ",
        "outputId": "ab8540c7-57fe-4211-dd77-9d073a0f4b32"
      },
      "execution_count": 38,
      "outputs": [
        {
          "output_type": "execute_result",
          "data": {
            "text/plain": [
              "'f'"
            ],
            "application/vnd.google.colaboratory.intrinsic+json": {
              "type": "string"
            }
          },
          "metadata": {},
          "execution_count": 38
        }
      ]
    },
    {
      "cell_type": "code",
      "source": [
        "# LeetCode: Summary Ranges\n",
        "from typing import List\n",
        "def summaryRanges(nums: List[int]) -> List[str]:\n",
        "  ans = []\n",
        "  i = 0\n",
        "# nums= [2,3,4,7]\n",
        "  while i < len(nums):\n",
        "    start = nums[i]\n",
        "    while i < len(nums)-1 and nums[i] +1 ==nums[i+1]:\n",
        "      i+=1\n",
        "    if start != nums[i]:\n",
        "        ans.append(str(start) + '->' + str(nums[i]))\n",
        "    else:\n",
        "        ans.append(str(nums[i]))\n",
        "\n",
        "    i+=1\n",
        "  return ans\n",
        "  #Time: O(n)\n",
        "  #Space: O(1)"
      ],
      "metadata": {
        "id": "F7zuxWfyvnfk"
      },
      "execution_count": 39,
      "outputs": []
    },
    {
      "cell_type": "code",
      "source": [
        "mi_list = [1,2,3,6,7,8,10,11]\n",
        "summaryRanges(mi_list)"
      ],
      "metadata": {
        "colab": {
          "base_uri": "https://localhost:8080/"
        },
        "id": "SFVJRF8TzO-2",
        "outputId": "f2814d7f-3e8e-45cd-b594-a82fa9bae412"
      },
      "execution_count": 40,
      "outputs": [
        {
          "output_type": "execute_result",
          "data": {
            "text/plain": [
              "['1->3', '6->8', '10->11']"
            ]
          },
          "metadata": {},
          "execution_count": 40
        }
      ]
    },
    {
      "cell_type": "code",
      "source": [
        "# Leetcode  238: Product of Array Except Self:\n",
        "\n",
        "def productExceptSelf(nums: List[int]) -> List[int]:\n",
        "  l_mult = 1\n",
        "  r_mult = 1\n",
        "  n = len(nums)\n",
        "  l_arr = [0] * n\n",
        "  r_arr = [0] * n\n",
        "# [1,2,3,4]\n",
        "  for i in range(n):\n",
        "    j= -i-1\n",
        "\n",
        "    l_arr[i] = l_mult\n",
        "    r_arr[j] = r_mult\n",
        "\n",
        "    l_mult *= nums[i]\n",
        "    r_mult *= nums[j]\n",
        "\n",
        "    return [l*r for l,r in zip(l_arr, r_arr)]"
      ],
      "metadata": {
        "id": "HxhGu3x_K_gZ"
      },
      "execution_count": 41,
      "outputs": []
    },
    {
      "cell_type": "code",
      "source": [
        "lerf = [1,4,5]\n",
        "right = [5,4,5]\n",
        "newe = zip (lerf, right)\n",
        "list(newe)\n"
      ],
      "metadata": {
        "colab": {
          "base_uri": "https://localhost:8080/"
        },
        "id": "g0HN0Q2Yev7I",
        "outputId": "b44e3840-57b6-4398-8541-9b651621ca9b"
      },
      "execution_count": 42,
      "outputs": [
        {
          "output_type": "execute_result",
          "data": {
            "text/plain": [
              "[(1, 5), (4, 4), (5, 5)]"
            ]
          },
          "metadata": {},
          "execution_count": 42
        }
      ]
    },
    {
      "cell_type": "code",
      "source": [
        "interval= [[1,2], [3,5], [6,7], [8,10]]\n"
      ],
      "metadata": {
        "id": "oqVwEDCjf5Ri"
      },
      "execution_count": 43,
      "outputs": []
    },
    {
      "cell_type": "code",
      "source": [
        "# Leetcode: 56 Merge Intervals\n",
        "\n",
        "def merge(intervals: List[List[int]]) -> List[List[int]]:\n",
        "  intervals.sort(key = lambda interval: interval[0])\n",
        "  merged = []\n",
        "\n",
        "  for interval in intervals:\n",
        "      if not merged or merged[-1][1] <interval[0]:\n",
        "        merged.append(interval)\n",
        "      else:\n",
        "        merged[-1] =[merged[-1][0], max(interval[1], merged[-1][1])  ]\n",
        "  return merged\n",
        "\n",
        "  # Time: O(n log n)\n",
        "  # Space: 0(n)\n"
      ],
      "metadata": {
        "id": "usnD_wnffQx_"
      },
      "execution_count": 44,
      "outputs": []
    },
    {
      "cell_type": "code",
      "source": [
        "# Leetcode 54: Spiral Matrix\n",
        "\n",
        "my_list= [[1,2,3],[4,5,6],[7,8,9]]\n",
        "my_list"
      ],
      "metadata": {
        "colab": {
          "base_uri": "https://localhost:8080/"
        },
        "id": "aorJT9UWgjpW",
        "outputId": "72fe72be-9b5f-4ea8-eb7b-cf59442baa97"
      },
      "execution_count": 45,
      "outputs": [
        {
          "output_type": "execute_result",
          "data": {
            "text/plain": [
              "[[1, 2, 3], [4, 5, 6], [7, 8, 9]]"
            ]
          },
          "metadata": {},
          "execution_count": 45
        }
      ]
    },
    {
      "cell_type": "code",
      "source": [
        "def spiralOrder(matrix: List[List[int]]) -> List[int]:\n",
        "  m,n = len(matrix), len(matrix[0])\n",
        "  ans = []\n",
        "  i, j = 0, 0\n",
        "  UP , RIGHT, DOWN, LEFT = 0,1,2,3\n",
        "  direction = RIGHT\n",
        "\n",
        "  UP_WALL = 0\n",
        "  RIGHT_WALL = n\n",
        "  DOWN_WALL = m\n",
        "  LEFT_WALL = -1\n",
        "\n",
        "  while len(ans) != m*n:\n",
        "    if direction == RIGHT:\n",
        "      while j < RIGHT_WALL:\n",
        "        ans.append(matrix[i][j])\n",
        "        j +=1\n",
        "      i, j = i+1, j-1\n",
        "      RIGHT_WALL -=1\n",
        "      direction =  DOWN\n",
        "    elif direction == DOWN:\n",
        "      while i <  DOWN_WALL:\n",
        "        ans.append(matrix[i][j])\n",
        "        i +=1\n",
        "      i,j = i-1, j-1\n",
        "      DOWN_WALL -=1\n",
        "      direction = LEFT\n",
        "    elif direction == LEFT:\n",
        "      while j > LEFT_WALL:\n",
        "        ans.append(matrix[i][j])\n",
        "        j -= 1\n",
        "      i, j = i-1, j+1\n",
        "      LEFT_WALL += 0\n",
        "      direction  = UP\n",
        "    elif direction == UP:\n",
        "      while i > UP_WALL:\n",
        "        ans.append(matrix[i][j])\n",
        "        i -= 1\n",
        "      i , j = i+1, j+1\n",
        "      direction = RIGHT\n",
        "  return ans"
      ],
      "metadata": {
        "id": "43eiEuERg1ZD"
      },
      "execution_count": 46,
      "outputs": []
    },
    {
      "cell_type": "code",
      "source": [
        "spiralOrder(my_list)"
      ],
      "metadata": {
        "colab": {
          "base_uri": "https://localhost:8080/"
        },
        "id": "GbCBpQLykFae",
        "outputId": "e15a9879-2fe7-43ab-84cb-b6f248c35d16"
      },
      "execution_count": 47,
      "outputs": [
        {
          "output_type": "execute_result",
          "data": {
            "text/plain": [
              "[1, 2, 3, 6, 9, 8, 7, 4, 5]"
            ]
          },
          "metadata": {},
          "execution_count": 47
        }
      ]
    },
    {
      "cell_type": "code",
      "source": [
        "3 // 2\n"
      ],
      "metadata": {
        "colab": {
          "base_uri": "https://localhost:8080/"
        },
        "id": "xTrabgMNz7CB",
        "outputId": "4559eac2-edac-4c05-abdd-9925d3a55ac0"
      },
      "execution_count": 48,
      "outputs": [
        {
          "output_type": "execute_result",
          "data": {
            "text/plain": [
              "1"
            ]
          },
          "metadata": {},
          "execution_count": 48
        }
      ]
    },
    {
      "cell_type": "code",
      "source": [
        "# Leet Code: 48 Rotate Image\n",
        "def rotate(matrix: List[List[int]]) -> None:\n",
        "  n = len(matrix)\n",
        "\n",
        "  # Tranpose\n",
        "  for i in range(n):\n",
        "    for j in range(i+1, n):\n",
        "      matrix[i][j], matrix[j][i]= matrix[j][i], matrix[i][j]\n",
        "\n",
        "  # Reflection\n",
        "\n",
        "  for i in range(n):\n",
        "    for j in range(n // 2):\n",
        "      matrix[i][j], matrix[i][n-j-1] = matrix[i][n-j-1], matrix[i][j]\n",
        "\n",
        "  # Time: O(n^2)\n",
        "  # Space: O(1)\n"
      ],
      "metadata": {
        "id": "xS-LM2YHxRGI"
      },
      "execution_count": 49,
      "outputs": []
    },
    {
      "cell_type": "code",
      "source": [
        "my_lisste = [[1,2,3],[4,5,6],[7,8,9]]\n",
        "my_lisste"
      ],
      "metadata": {
        "colab": {
          "base_uri": "https://localhost:8080/"
        },
        "id": "AitED1Mb0sAp",
        "outputId": "68c1f5a4-7009-4c90-fdd0-f6324e3b77bd"
      },
      "execution_count": 50,
      "outputs": [
        {
          "output_type": "execute_result",
          "data": {
            "text/plain": [
              "[[1, 2, 3], [4, 5, 6], [7, 8, 9]]"
            ]
          },
          "metadata": {},
          "execution_count": 50
        }
      ]
    },
    {
      "cell_type": "code",
      "source": [
        "rotate(my_lisste)\n",
        "my_lisste"
      ],
      "metadata": {
        "colab": {
          "base_uri": "https://localhost:8080/"
        },
        "id": "8CLWeh880RHF",
        "outputId": "b93692c3-be91-4459-b26c-16a2ec0e24d8"
      },
      "execution_count": 51,
      "outputs": [
        {
          "output_type": "execute_result",
          "data": {
            "text/plain": [
              "[[7, 4, 1], [8, 5, 2], [9, 6, 3]]"
            ]
          },
          "metadata": {},
          "execution_count": 51
        }
      ]
    },
    {
      "cell_type": "code",
      "source": [
        "# LeetCode-771: Jewels and Stone\n",
        "\n",
        "# Time: O(n*m)\n",
        "def numJewelsInStones(jewels: str, stones: str) -> int:\n",
        "  count = 0\n",
        "  for stone in stones:\n",
        "    if stone in jewels:\n",
        "      count +=1\n",
        "  return count"
      ],
      "metadata": {
        "id": "VpIvfNKzDp-M"
      },
      "execution_count": 52,
      "outputs": []
    },
    {
      "cell_type": "code",
      "source": [
        "# Time: O(m+n)\n",
        "# Space: O(n)\n",
        "\n",
        "def numJewelsInStones1(jewels: str, stones: str) -> int:\n",
        "  s = set(jewels)\n",
        "  count = 0\n",
        "  for stone in stones:\n",
        "    if stone in s:\n",
        "      count +=1\n",
        "  return count"
      ],
      "metadata": {
        "id": "jWIrnjMYERRE"
      },
      "execution_count": 53,
      "outputs": []
    },
    {
      "cell_type": "code",
      "source": [
        "jewels = 'aAB'\n",
        "stones = 'gnbiakmagkrkaAbbbbBBBBBB'\n",
        "numJewelsInStones1(jewels,stones )"
      ],
      "metadata": {
        "colab": {
          "base_uri": "https://localhost:8080/"
        },
        "id": "KV4Hxiz6EmAm",
        "outputId": "5c43a8f1-1814-454e-8cc8-f68f26cddd71"
      },
      "execution_count": 54,
      "outputs": [
        {
          "output_type": "execute_result",
          "data": {
            "text/plain": [
              "10"
            ]
          },
          "metadata": {},
          "execution_count": 54
        }
      ]
    },
    {
      "cell_type": "code",
      "source": [
        "# Leetcode 383: Ransom Note\n",
        "\n",
        "def canConstruct(ransomNote: str, magazine: str) -> bool:\n",
        "  counter = {}\n",
        "  for c in magazine:\n",
        "    if c in counter:\n",
        "      counter[c] += 1\n",
        "    else:\n",
        "      counter[c] = 1\n",
        "\n",
        "  for c in ransomNote:\n",
        "    if c not in counter:\n",
        "      return False\n",
        "    elif counter[c] == 1:\n",
        "      del counter[c]\n",
        "    else:\n",
        "      counter[c] -=1\n",
        "  return True\n",
        "# Time O(m+n)\n",
        "# Space O(1)"
      ],
      "metadata": {
        "id": "6Fp29BBoa0t-"
      },
      "execution_count": 55,
      "outputs": []
    },
    {
      "cell_type": "code",
      "source": [
        "canConstruct(\"ge\", \"gefrgrhrge\")"
      ],
      "metadata": {
        "colab": {
          "base_uri": "https://localhost:8080/"
        },
        "id": "UjeFJnVjb3YD",
        "outputId": "14de203c-ed6d-4621-ba77-6e8d12837b81"
      },
      "execution_count": 56,
      "outputs": [
        {
          "output_type": "execute_result",
          "data": {
            "text/plain": [
              "True"
            ]
          },
          "metadata": {},
          "execution_count": 56
        }
      ]
    },
    {
      "cell_type": "code",
      "source": [
        "# LeetCode 217- Contains Duplicate\n",
        "def containsDuplicate(nums: List[int]) -> bool:\n",
        "  h = set()\n",
        "  for num in nums:\n",
        "    if num in h:\n",
        "      return True\n",
        "    else:\n",
        "      h.add(num)\n",
        "  return False"
      ],
      "metadata": {
        "id": "OjO3lSJXxx8-"
      },
      "execution_count": 57,
      "outputs": []
    },
    {
      "cell_type": "code",
      "source": [
        "containsDuplicate([5,4,3,2,2])"
      ],
      "metadata": {
        "colab": {
          "base_uri": "https://localhost:8080/"
        },
        "id": "a7WtFPyJz_tH",
        "outputId": "740680bf-596f-43d8-817c-cd90e1c921f9"
      },
      "execution_count": 58,
      "outputs": [
        {
          "output_type": "execute_result",
          "data": {
            "text/plain": [
              "True"
            ]
          },
          "metadata": {},
          "execution_count": 58
        }
      ]
    },
    {
      "cell_type": "code",
      "source": [
        "def containsDuplicate2(nums: List[int]) -> bool:\n",
        "  counter = {}\n",
        "  for num in nums:\n",
        "    if num in counter:\n",
        "      counter[num] +=1\n",
        "    else:\n",
        "      counter[num] = 1\n",
        "  for n in counter:\n",
        "\n",
        "    if counter[n] > 1:\n",
        "      return True\n"
      ],
      "metadata": {
        "id": "4jkreMnt0m5i"
      },
      "execution_count": 59,
      "outputs": []
    },
    {
      "cell_type": "code",
      "source": [
        "containsDuplicate2([3,4,3,3,2,1])"
      ],
      "metadata": {
        "colab": {
          "base_uri": "https://localhost:8080/"
        },
        "id": "CUeOYjTU05pN",
        "outputId": "bc920ee9-b9ef-4028-8eae-30fa1b621560"
      },
      "execution_count": 60,
      "outputs": [
        {
          "output_type": "execute_result",
          "data": {
            "text/plain": [
              "True"
            ]
          },
          "metadata": {},
          "execution_count": 60
        }
      ]
    },
    {
      "cell_type": "code",
      "source": [
        "# Leet Code 242: Valid Anagram:\n",
        "from collections import Counter\n",
        "def isAnagram(s: str, t:str) -> bool:\n",
        "  if len(s) != len(t):\n",
        "    return False\n",
        "\n",
        "  s_dict = Counter(s)\n",
        "  t_dict = Counter(t)\n",
        "\n",
        "  return s_dict == t_dict\n",
        "# Time: O(n), Space: O(n)"
      ],
      "metadata": {
        "id": "Pxc0VSHx88YL"
      },
      "execution_count": 61,
      "outputs": []
    },
    {
      "cell_type": "code",
      "source": [
        "# LeetCode 1: Two Sum\n",
        "from typing import List\n",
        "# [3,1,6,3]\n",
        "# hash = {3:2, 1:1, 6:2}\n",
        "# target = 6\n",
        "\n",
        "def twoSum(nums: List[int], target: int) -> List[int]:\n",
        "  h = {}\n",
        "  for i in range(len(nums)):\n",
        "    h[nums[i]] = i\n",
        "  for i in range(len(nums)):\n",
        "    y = target - nums[i]  # y=3\n",
        "\n",
        "    if y in h and h[y] !=i:\n",
        "      return [i, h[y]]\n",
        "# Time: O(n)\n",
        "#Space: O(n)"
      ],
      "metadata": {
        "id": "gkYHGptWGC2v"
      },
      "execution_count": 62,
      "outputs": []
    },
    {
      "cell_type": "code",
      "source": [
        "# LeetCode 49 - Group Anagrams:\n",
        "from collections import defaultdict\n",
        "from typing import List\n",
        "def groupAnagrams(strs: List[str]) -> List[List[str]]:\n",
        "  anag_dict = defaultdict(list)\n",
        "  for s in strs:\n",
        "    count = [0] * 26\n",
        "    for c in s:\n",
        "      count[ord(c) - ord('a')] +=1\n",
        "\n",
        "    key = tuple(count)\n",
        "    #print(key)\n",
        "    anag_dict[key].append(s)\n",
        "    print(anag_dict)\n",
        "  return anag_dict.values()\n",
        " # Time: O(n*m)  Space:(n* m)\n",
        "\n"
      ],
      "metadata": {
        "id": "FtwrssYgI7y6"
      },
      "execution_count": 63,
      "outputs": []
    },
    {
      "cell_type": "code",
      "source": [
        "sting = ['abb', \"ef\", 'fe', 'bab']\n",
        "groupAnagrams(sting)"
      ],
      "metadata": {
        "colab": {
          "base_uri": "https://localhost:8080/"
        },
        "id": "mK4tsxriywpC",
        "outputId": "643a0d5e-fe9e-46a5-9f05-5462a9d173a4"
      },
      "execution_count": 64,
      "outputs": [
        {
          "output_type": "stream",
          "name": "stdout",
          "text": [
            "defaultdict(<class 'list'>, {(1, 2, 0, 0, 0, 0, 0, 0, 0, 0, 0, 0, 0, 0, 0, 0, 0, 0, 0, 0, 0, 0, 0, 0, 0, 0): ['abb']})\n",
            "defaultdict(<class 'list'>, {(1, 2, 0, 0, 0, 0, 0, 0, 0, 0, 0, 0, 0, 0, 0, 0, 0, 0, 0, 0, 0, 0, 0, 0, 0, 0): ['abb'], (0, 0, 0, 0, 1, 1, 0, 0, 0, 0, 0, 0, 0, 0, 0, 0, 0, 0, 0, 0, 0, 0, 0, 0, 0, 0): ['ef']})\n",
            "defaultdict(<class 'list'>, {(1, 2, 0, 0, 0, 0, 0, 0, 0, 0, 0, 0, 0, 0, 0, 0, 0, 0, 0, 0, 0, 0, 0, 0, 0, 0): ['abb'], (0, 0, 0, 0, 1, 1, 0, 0, 0, 0, 0, 0, 0, 0, 0, 0, 0, 0, 0, 0, 0, 0, 0, 0, 0, 0): ['ef', 'fe']})\n",
            "defaultdict(<class 'list'>, {(1, 2, 0, 0, 0, 0, 0, 0, 0, 0, 0, 0, 0, 0, 0, 0, 0, 0, 0, 0, 0, 0, 0, 0, 0, 0): ['abb', 'bab'], (0, 0, 0, 0, 1, 1, 0, 0, 0, 0, 0, 0, 0, 0, 0, 0, 0, 0, 0, 0, 0, 0, 0, 0, 0, 0): ['ef', 'fe']})\n"
          ]
        },
        {
          "output_type": "execute_result",
          "data": {
            "text/plain": [
              "dict_values([['abb', 'bab'], ['ef', 'fe']])"
            ]
          },
          "metadata": {},
          "execution_count": 64
        }
      ]
    },
    {
      "cell_type": "code",
      "source": [
        "ord('a'), ord('b'), ord('c')"
      ],
      "metadata": {
        "colab": {
          "base_uri": "https://localhost:8080/"
        },
        "id": "sX4HLSa6zGhc",
        "outputId": "48a45936-e161-4bec-f476-56b01848ca15"
      },
      "execution_count": 65,
      "outputs": [
        {
          "output_type": "execute_result",
          "data": {
            "text/plain": [
              "(97, 98, 99)"
            ]
          },
          "metadata": {},
          "execution_count": 65
        }
      ]
    },
    {
      "cell_type": "code",
      "source": [
        "# Leet Code 36 - Valid Sudoku\n",
        "def isValidSudoku(board: List[List[str]]) -> bool:\n",
        "  # Validate Rows\n",
        "  for i in range(9):\n",
        "    s = set()\n",
        "    for j in range(9):\n",
        "      item = board[i][j]\n",
        "      if item in s:\n",
        "        return False\n",
        "      elif item != '.':\n",
        "        s.add(item)\n",
        "\n",
        "  # Validate Cols:\n",
        "  for i in range(9):\n",
        "    s = set()\n",
        "    for j in range(9):\n",
        "      item = board[j][i]\n",
        "      if item in s:\n",
        "        return False\n",
        "      elif item != '.':\n",
        "        s.add(item)\n",
        "  # Validate Boxes:\n",
        "  start = [(0,0),(0,3),(0,6),\n",
        "           (3,0),(3,3),(3,6),\n",
        "           (6,0),(6,3),(6,6)]\n",
        "\n",
        "  for i,j in start: # 0,0\n",
        "    s = set()\n",
        "    for row in range(i, i+3):  # 0, 1,2,\n",
        "      for col in range(j, j+3): # 0,1,2\n",
        "        item = board[row][col]\n",
        "        if item in s:\n",
        "          return False\n",
        "        elif item != '.':\n",
        "          s.add(item)\n",
        "  return True\n"
      ],
      "metadata": {
        "id": "3HRN_ic3ANlJ"
      },
      "execution_count": 66,
      "outputs": []
    },
    {
      "cell_type": "code",
      "source": [
        "# LeetCode 1189: Max Number of Balloon\n",
        "from collections import defaultdict\n",
        "def maxNumberOfBalloons(text: str) -> int:\n",
        "  counter= defaultdict(int)\n",
        "  balloon = 'balloon'\n",
        "\n",
        "  for c in text:\n",
        "    if c in balloon:\n",
        "      counter[c] +=1\n",
        "  print(counter)\n",
        "  print(counter['b'],counter['a'],counter['l']//2,counter['o']//2)\n",
        "  if any(c not in counter for c in balloon):\n",
        "    return 0\n",
        "  else:\n",
        "    return min(counter['b'],counter['a'],counter['l']//2,counter['o']//2)\n",
        "\n"
      ],
      "metadata": {
        "id": "C0_mrehaZToz"
      },
      "execution_count": 67,
      "outputs": []
    },
    {
      "cell_type": "code",
      "source": [
        "strr = 'balllloons'\n",
        "maxNumberOfBalloons(strr)"
      ],
      "metadata": {
        "colab": {
          "base_uri": "https://localhost:8080/"
        },
        "id": "SxZSHzW4aYmZ",
        "outputId": "753ef504-66b6-493f-93f9-442dfe200cfb"
      },
      "execution_count": 68,
      "outputs": [
        {
          "output_type": "stream",
          "name": "stdout",
          "text": [
            "defaultdict(<class 'int'>, {'b': 1, 'a': 1, 'l': 4, 'o': 2, 'n': 1})\n",
            "1 1 2 1\n"
          ]
        },
        {
          "output_type": "execute_result",
          "data": {
            "text/plain": [
              "1"
            ]
          },
          "metadata": {},
          "execution_count": 68
        }
      ]
    },
    {
      "cell_type": "code",
      "source": [
        "# LeetCode 128 - Longest Consecutive Sequence\n",
        "def longestConsecutive(nums: List[int]) -> int:\n",
        "  s = set(nums)\n",
        "  longest = 0\n",
        "  for num in nums:\n",
        "    if num - 1 not in s:\n",
        "      next_num = num +1\n",
        "      lenght = 1\n",
        "      while next_num in s:\n",
        "        next_num +=1\n",
        "        lenght +=1\n",
        "      longest = max(longest, lenght)\n",
        "  return longest"
      ],
      "metadata": {
        "id": "ry1ZQnXQDgqO"
      },
      "execution_count": 69,
      "outputs": []
    },
    {
      "cell_type": "code",
      "source": [
        "my_num = [1,4,2,3,6,4,5,100]\n",
        "longestConsecutive(my_num)"
      ],
      "metadata": {
        "id": "LxTbfNz-aT-N",
        "colab": {
          "base_uri": "https://localhost:8080/"
        },
        "outputId": "e30b3299-a388-42d7-965b-cbaef0431045"
      },
      "execution_count": 70,
      "outputs": [
        {
          "output_type": "execute_result",
          "data": {
            "text/plain": [
              "6"
            ]
          },
          "metadata": {},
          "execution_count": 70
        }
      ]
    },
    {
      "cell_type": "code",
      "source": [
        "# LeetCode 169: Majority Element\n",
        "def majorityElement(nums: List[int]) -> int:\n",
        "  counter ={}\n",
        "  for num in nums:\n",
        "    if num in counter:\n",
        "      counter[num] +=1\n",
        "    else:\n",
        "      counter[num] = 1\n",
        "  max_count = -1\n",
        "  ans = -1\n",
        "\n",
        "  for key, val in counter.values():\n",
        "    if val > max_count:\n",
        "      max_count = val\n",
        "      ans = key\n",
        "  return ans\n",
        "  # Time: O(n)\n",
        "  # Space: O(n)\n",
        "\n"
      ],
      "metadata": {
        "id": "LWhxuvzXMmMa"
      },
      "execution_count": 71,
      "outputs": []
    },
    {
      "cell_type": "code",
      "source": [
        "def majorityElement2(nums: List[int]) -> int:\n",
        "  nums.sort()\n",
        "  return nums[len(nums)//2]"
      ],
      "metadata": {
        "id": "F1dY2D2GNURE"
      },
      "execution_count": 72,
      "outputs": []
    },
    {
      "cell_type": "code",
      "source": [
        "my_numbers = [3,3,4,5,2,1,3,2,1]\n",
        "majorityElement2(my_numbers)"
      ],
      "metadata": {
        "colab": {
          "base_uri": "https://localhost:8080/"
        },
        "id": "ZQmSHnFTNfwM",
        "outputId": "a924ba40-d866-44aa-fb2d-63b1c1f55876"
      },
      "execution_count": 73,
      "outputs": [
        {
          "output_type": "execute_result",
          "data": {
            "text/plain": [
              "3"
            ]
          },
          "metadata": {},
          "execution_count": 73
        }
      ]
    },
    {
      "cell_type": "code",
      "source": [
        "def majorityElement3(nums: List[int]) -> int: #[3,3,2,1,3,2,1]\n",
        "  ans = -1\n",
        "  count = 0\n",
        "  for num in nums:  #3 ans=3 count=1\n",
        "    if count == 0:  #3 ans=3 count=2\n",
        "      ans = num     #2 ans=3 count =1\n",
        "    if ans == num: # 1 ans=3 count =0\n",
        "      count +=1   #3 ans=3 count=1\n",
        "    else:         #2 ans =3 count=0\n",
        "      count -=1    #1 ans=1 count=1\n",
        "    print(ans, count)\n",
        "  return  ans\n",
        "  # Time: O(n)\n",
        "  # Space: O(1)"
      ],
      "metadata": {
        "id": "JyfjP056N3Jv"
      },
      "execution_count": 74,
      "outputs": []
    },
    {
      "cell_type": "code",
      "source": [
        "my_numbers2 = [3,2,1,1,2,3,3,2,3,3, 2,3,2]"
      ],
      "metadata": {
        "id": "GS3Wd3cVQWEZ"
      },
      "execution_count": 75,
      "outputs": []
    },
    {
      "cell_type": "code",
      "source": [
        "majorityElement3(my_numbers2)"
      ],
      "metadata": {
        "colab": {
          "base_uri": "https://localhost:8080/"
        },
        "id": "DG4RkZXLPOZe",
        "outputId": "962bb132-9601-4c4d-c3c8-ebf28ffc1710"
      },
      "execution_count": 76,
      "outputs": [
        {
          "output_type": "stream",
          "name": "stdout",
          "text": [
            "3 1\n",
            "3 0\n",
            "1 1\n",
            "1 2\n",
            "1 1\n",
            "1 0\n",
            "3 1\n",
            "3 0\n",
            "3 1\n",
            "3 2\n",
            "3 1\n",
            "3 2\n",
            "3 1\n"
          ]
        },
        {
          "output_type": "execute_result",
          "data": {
            "text/plain": [
              "3"
            ]
          },
          "metadata": {},
          "execution_count": 76
        }
      ]
    },
    {
      "cell_type": "code",
      "source": [
        "# LeetCode 977 - Squares of a Sorted Array (2 Pointers)\n",
        "\n",
        "def sortedSquares(nums: List[int]) -> List[int]:\n",
        "  left =0\n",
        "  right = len(nums) - 1\n",
        "  result = []\n",
        "  while left <= right:\n",
        "    if abs(nums[left]) > abs(nums[right]):\n",
        "      result.append(nums[left] **2)\n",
        "      left +=1\n",
        "    else:\n",
        "      result.append(nums[right] **2)\n",
        "      right -=1\n",
        "  return result[::-1]\n",
        "\n",
        "  # Time: 0(n)\n",
        "  # Space:0(1)"
      ],
      "metadata": {
        "id": "ARjT03VHaMe1"
      },
      "execution_count": 77,
      "outputs": []
    },
    {
      "cell_type": "code",
      "source": [
        "numbers_list = [2,7,8,12,20]\n",
        "sortedSquares(numbers_list)"
      ],
      "metadata": {
        "colab": {
          "base_uri": "https://localhost:8080/"
        },
        "id": "sd9RPz_Mal5T",
        "outputId": "1d69c93d-e06c-41e8-c267-89831a1733ef"
      },
      "execution_count": 78,
      "outputs": [
        {
          "output_type": "execute_result",
          "data": {
            "text/plain": [
              "[4, 49, 64, 144, 400]"
            ]
          },
          "metadata": {},
          "execution_count": 78
        }
      ]
    },
    {
      "cell_type": "code",
      "source": [
        "# LeetCode 344 - Reverse String with Space O(1) 2 Pointers\n",
        "def reverseString(s: List[str]) ->None:\n",
        "  n = len(s)\n",
        "  l = 0\n",
        "  r = n-1\n",
        "\n",
        "  while l<r:\n",
        "    s[l], s[r]  = s[r], s[l]\n",
        "    l +=1\n",
        "    r -+1\n",
        "# Time: O(n)"
      ],
      "metadata": {
        "id": "Geuh3E0YgzDY"
      },
      "execution_count": 79,
      "outputs": []
    },
    {
      "cell_type": "code",
      "source": [
        "# LeetCode 167- Two Summ II - Input Array is Sorted and 1-indexed array\n",
        "def twoSummII(numbers: List[int], target: int) -> List[int]:\n",
        "  n = len(numbers)\n",
        "  l = 0\n",
        "  r = n-1\n",
        "  while l<r:\n",
        "    summ = numbers[l] + numbers[r]\n",
        "    if summ == target:\n",
        "      return [l+1, r+1]\n",
        "    elif summ < target:\n",
        "      l +=1\n",
        "    else:\n",
        "      r-=1\n",
        "# Time:O(n), Space: O(1)"
      ],
      "metadata": {
        "id": "x2GrScOPjWw_"
      },
      "execution_count": 80,
      "outputs": []
    },
    {
      "cell_type": "code",
      "source": [
        "# LeetCode 125 - Valid Palindrome\n",
        "# Alphanumeric characters include letters and numbers\n",
        "def isPalindrome(s: str) -> bool:\n",
        "  n = len(s)\n",
        "  L = 0\n",
        "  R = n-1\n",
        "  while L<R:\n",
        "    if not s[L].isalnum():\n",
        "      L+=1\n",
        "      continue\n",
        "    if not s[R].isalnum():\n",
        "      R-=1\n",
        "      continue\n",
        "    if s[L].lower() != s[R].lower():\n",
        "      return False\n",
        "    L+=1\n",
        "    R-=1\n",
        "    return True\n",
        "    # Time: O(n), Space:0(1)"
      ],
      "metadata": {
        "id": "sjCytjbBvAtw"
      },
      "execution_count": 81,
      "outputs": []
    },
    {
      "cell_type": "code",
      "source": [
        "# Leetcode-15: 3 Sum\n",
        "from typing import List\n",
        "def threeSum(nums: List[int]) -> List[List[int]]:\n",
        "  nums.sort()\n",
        "  n = len(nums)\n",
        "  answer = []\n",
        "  for i in range(n):\n",
        "    if nums[i] > 0:\n",
        "      break\n",
        "    elif i>0 and nums[i] == nums[i-1]:\n",
        "      continue\n",
        "    lo, hi = i+1, n-1\n",
        "    while lo<hi:\n",
        "      summ = nums[i] + nums[lo] + nums[hi]\n",
        "      if summ == 0:\n",
        "        answer.append([nums[i], nums[lo], nums[hi]])\n",
        "        lo, hi = lo+1, hi-1\n",
        "        while lo<hi and nums[lo] == nums[lo-1]:\n",
        "          lo+=1\n",
        "        while lo <hi and nums[hi] == nums[hi+1]:\n",
        "          hi -=1\n",
        "      elif summ<0:\n",
        "        lo+=1\n",
        "      else:\n",
        "        hi-=1\n",
        "  return answer\n",
        "\n",
        "\n",
        "  # Time: O(n^2), Space:O(n)"
      ],
      "metadata": {
        "id": "W3jvlwBvHpwG"
      },
      "execution_count": 82,
      "outputs": []
    },
    {
      "cell_type": "code",
      "source": [
        "mu_nombres= [0,-1,-2,-3,1,2,3]\n",
        "threeSum(mu_nombres)"
      ],
      "metadata": {
        "colab": {
          "base_uri": "https://localhost:8080/"
        },
        "id": "JBCYrBQDeA7I",
        "outputId": "0d94fb58-a576-49f9-ca9d-4a7c47676a73"
      },
      "execution_count": 83,
      "outputs": [
        {
          "output_type": "execute_result",
          "data": {
            "text/plain": [
              "[[-3, 0, 3], [-3, 1, 2], [-2, -1, 3], [-2, 0, 2], [-1, 0, 1]]"
            ]
          },
          "metadata": {},
          "execution_count": 83
        }
      ]
    },
    {
      "cell_type": "code",
      "source": [
        "# LeetCode 11 - Container with Most Water - 2 Pointers\n",
        "def maxArea(height: List[int]) -> int:\n",
        "  n = len(height)\n",
        "  l = 0\n",
        "  r = n-1\n",
        "  max_area = 0\n",
        "  while l<r:\n",
        "    w = r-l\n",
        "    h = min(height[l], height[r])\n",
        "    a = w * h\n",
        "    max_area = max(max_area, a)\n",
        "    if height[l] < height[r]:\n",
        "      l +=1\n",
        "    else:\n",
        "      r-=1\n",
        "  return max_area\n"
      ],
      "metadata": {
        "id": "3EsViI2xkDh9"
      },
      "execution_count": 84,
      "outputs": []
    },
    {
      "cell_type": "code",
      "source": [
        "# LeetCode-42: Trapping Rain Water\n",
        "rain = [0,1,0,2,1,0,1,3,2,1,2,1]\n",
        "def trap(height: List[int]) -> int:\n",
        "  l_wall, l_right = 0,0\n",
        "  n = len(height)\n",
        "  max_left = [0] * n\n",
        "  max_right = [0] * n\n",
        "\n",
        "  for i in range(n):\n",
        "    j = -i-1\n",
        "    max_left[i] = l_wall\n",
        "    max_right[j] = l_right\n",
        "    l_wall = max(l_wall, height[i])\n",
        "    l_right = max(l_right, height[j])\n",
        "  print(max_left)\n",
        "  print(max_right)\n",
        "\n",
        "  summ = 0\n",
        "  for i in range(n):\n",
        "    pot = min(max_left[i], max_right[i])\n",
        "    summ += max(0, pot - height[i])\n",
        "    print(f\"pot: {pot}\")\n",
        "    print(f\"sum: {summ}\")\n",
        "  return summ"
      ],
      "metadata": {
        "id": "NTLgo3U-p3z0"
      },
      "execution_count": 85,
      "outputs": []
    },
    {
      "cell_type": "code",
      "source": [
        "trap(rain)"
      ],
      "metadata": {
        "colab": {
          "base_uri": "https://localhost:8080/"
        },
        "id": "TmIn05lirfNO",
        "outputId": "ca60bc62-0f1e-4683-abdb-1c350307853f"
      },
      "execution_count": 86,
      "outputs": [
        {
          "output_type": "stream",
          "name": "stdout",
          "text": [
            "[0, 0, 1, 1, 2, 2, 2, 2, 3, 3, 3, 3]\n",
            "[3, 3, 3, 3, 3, 3, 3, 2, 2, 2, 1, 0]\n",
            "pot: 0\n",
            "sum: 0\n",
            "pot: 0\n",
            "sum: 0\n",
            "pot: 1\n",
            "sum: 1\n",
            "pot: 1\n",
            "sum: 1\n",
            "pot: 2\n",
            "sum: 2\n",
            "pot: 2\n",
            "sum: 4\n",
            "pot: 2\n",
            "sum: 5\n",
            "pot: 2\n",
            "sum: 5\n",
            "pot: 2\n",
            "sum: 5\n",
            "pot: 2\n",
            "sum: 6\n",
            "pot: 1\n",
            "sum: 6\n",
            "pot: 0\n",
            "sum: 6\n"
          ]
        },
        {
          "output_type": "execute_result",
          "data": {
            "text/plain": [
              "6"
            ]
          },
          "metadata": {},
          "execution_count": 86
        }
      ]
    },
    {
      "cell_type": "code",
      "source": [
        "# Leetcode: 682 - Baseball Game\n",
        "\n",
        "def calPoints(operations: List[str] ) -> int:\n",
        "  stk = []\n",
        "  for op in operations:\n",
        "    if op == '+':\n",
        "      if len(stk) >= 2:\n",
        "        stk.append(stk[-1]+stk[-2])\n",
        "      else:\n",
        "        continue\n",
        "    elif op == 'D':\n",
        "      stk.append(stk[-1]*2)\n",
        "    elif op == 'C':\n",
        "      stk.pop()\n",
        "    else:\n",
        "      stk.append(int(op))\n",
        "  return sum(stk)\n",
        "  # Time: 0(n)\n",
        "  # Space: 0(n)\n",
        "\n"
      ],
      "metadata": {
        "id": "8-sPlf3VRXvp"
      },
      "execution_count": 87,
      "outputs": []
    },
    {
      "cell_type": "code",
      "source": [
        "stalk = ['5','+']\n",
        "calPoints(stalk)"
      ],
      "metadata": {
        "colab": {
          "base_uri": "https://localhost:8080/"
        },
        "id": "Mz_qzCCaS5q8",
        "outputId": "fd5bf54c-c7f1-4535-9493-47e74dc721e8"
      },
      "execution_count": 88,
      "outputs": [
        {
          "output_type": "execute_result",
          "data": {
            "text/plain": [
              "5"
            ]
          },
          "metadata": {},
          "execution_count": 88
        }
      ]
    },
    {
      "cell_type": "code",
      "source": [
        "# Leetcode: Valid Parentheses - Stakcs\n",
        "\n",
        "def isValid(s:str) -> bool:\n",
        "  hashmap = {')':'(', '}':'{', ']':'['}\n",
        "  stk = []\n",
        "  for c in s:\n",
        "    if c in hashmap.values():\n",
        "      stack.append(c)\n",
        "    elif char in hashmap.keys():\n",
        "      if not stack or hashmap[c] != stack.pop():\n",
        "        return False\n",
        "    return not stk\n",
        "\n",
        "  # Time: 0(n), Space: O(n)\n"
      ],
      "metadata": {
        "id": "_5cMy-WHT3c0"
      },
      "execution_count": 89,
      "outputs": []
    },
    {
      "cell_type": "code",
      "source": [
        "mu_hashmap ='([])'\n",
        "isValid(mu_hashmap)\n"
      ],
      "metadata": {
        "colab": {
          "base_uri": "https://localhost:8080/"
        },
        "id": "04Ta8Wl7Up-f",
        "outputId": "649a6500-3861-4387-8bcd-e70459fcd5f1"
      },
      "execution_count": 90,
      "outputs": [
        {
          "output_type": "execute_result",
          "data": {
            "text/plain": [
              "True"
            ]
          },
          "metadata": {},
          "execution_count": 90
        }
      ]
    },
    {
      "cell_type": "code",
      "source": [
        "# Leetcode 739 - Daily Temperatures - Stacks\n",
        "def dailyTemperatures(temperatures: List[int]) -> List[int]:\n",
        "  stk = []\n",
        "  n = len(temperatures)\n",
        "  ans = [0] * n\n",
        "  stk = []\n",
        "  # 12,34,34\n",
        "  # stk = (12,0) -\n",
        "  # ans = 0\n",
        "  for i,t in enumerate(temperatures): #1,34\n",
        "    while stk and stk[-1][0] < t:\n",
        "      stk_t, stk_i = stk.pop()\n",
        "      ans[stk_i] = i-stk_i\n",
        "\n",
        "    stk.append(t,i)\n",
        "  return ans"
      ],
      "metadata": {
        "id": "Zc3CwopU1yuY"
      },
      "execution_count": 91,
      "outputs": []
    },
    {
      "cell_type": "code",
      "source": [
        "temps = [67,5,23,23,7,5]\n",
        "for i,v in enumerate(temps):\n",
        "  print(i,v)\n",
        "  print(\"----------\")\n"
      ],
      "metadata": {
        "colab": {
          "base_uri": "https://localhost:8080/"
        },
        "id": "spz5t6ah-wA5",
        "outputId": "dce9e2b0-ef70-42c4-b36a-575d5fc9a97e"
      },
      "execution_count": 92,
      "outputs": [
        {
          "output_type": "stream",
          "name": "stdout",
          "text": [
            "0 67\n",
            "----------\n",
            "1 5\n",
            "----------\n",
            "2 23\n",
            "----------\n",
            "3 23\n",
            "----------\n",
            "4 7\n",
            "----------\n",
            "5 5\n",
            "----------\n"
          ]
        }
      ]
    },
    {
      "cell_type": "code",
      "source": [
        "# Leetcode 150 - Evaluate Reverse Polish Notation- Stack\n",
        "from math import floor, ceil\n",
        "def evalRPN(tokens: List[str]) -> int:\n",
        "  stk = []\n",
        "  for t in tokens:\n",
        "    if t in '+-*/':\n",
        "      b,a = stk.pop(), stk.pop()\n",
        "      if t =='+':\n",
        "        stk.append(a+b)\n",
        "      elif t =='-':\n",
        "        stk.append(a-b)\n",
        "      elif t =='*':\n",
        "        stk.append(a*b)\n",
        "      else:\n",
        "        division = b/a\n",
        "        if division < 0:\n",
        "          stk.append(math.ceil(division))\n",
        "        else:\n",
        "          stk.append(math.floor(division))\n",
        "    else:\n",
        "      stk.append(int(t))\n",
        "  return stk[0]\n"
      ],
      "metadata": {
        "id": "azRj1u0MGthR"
      },
      "execution_count": 93,
      "outputs": []
    },
    {
      "cell_type": "code",
      "source": [
        "# Leetcode 155 - Min Stack\n",
        "#Time: O(1), Space: O(n)\n",
        "class MinStack:\n",
        "  def __init__(self):\n",
        "    self.stk=[]\n",
        "    self.min_stk = []\n",
        "\n",
        "  def push(self, val:int) -> None:\n",
        "    self.stk.append(val)\n",
        "    if not self.min_stk:\n",
        "      self.min.stk.append(val)\n",
        "    elif self.min_stk[-1] < val:\n",
        "      self.min_stk.append(self.min_stk[-1])\n",
        "    else:\n",
        "      self.min_stk.append(val)\n",
        "  def pop(self)  -> None:\n",
        "    self.stk.pop()\n",
        "    self.min_stk.pop()\n",
        "  def top(self) -> int:\n",
        "    return self.stk[-1]\n",
        "  def getMin(self) -> int:\n",
        "    return self.min_stk[-1]"
      ],
      "metadata": {
        "id": "EV7xxdj-Iijr"
      },
      "execution_count": 94,
      "outputs": []
    },
    {
      "cell_type": "code",
      "source": [
        "# Leetcode 704- Binary Search Time: 0(log(n))\n",
        "def search(nums: List[int], target: int) -> int:\n",
        "  left = 0\n",
        "  right = len(nums) -1\n",
        "  while left <=right:\n",
        "    mid = (left + right) //2\n",
        "    if nums[mid] == target:\n",
        "      return mid\n",
        "    elif nums[mid] > target:\n",
        "      right = mid - 1\n",
        "    else:\n",
        "      left = mid +1\n",
        "  return -1"
      ],
      "metadata": {
        "id": "vo9ZMzi0cnD_"
      },
      "execution_count": 95,
      "outputs": []
    },
    {
      "cell_type": "code",
      "source": [
        "# Leetcode 35: Search Insert Position - Binary\n",
        "# Time: O(log n), Space: O(1)\n",
        "\n",
        "def searchInsert(nums: List[int], target: int) -> int:\n",
        "  n = len(nums)\n",
        "  l = 0\n",
        "  r = n-1\n",
        "  while l<=r:\n",
        "    m = (l+r)//2\n",
        "    if nums[m] == target:\n",
        "      return m\n",
        "    elif nums[m] < target:\n",
        "      l = m+1\n",
        "    else:\n",
        "      r = m-1\n",
        "\n",
        "  if nums[m] < target:\n",
        "    return m+1\n",
        "  else:\n",
        "    return m"
      ],
      "metadata": {
        "id": "HzhJca-9vkEw"
      },
      "execution_count": 96,
      "outputs": []
    },
    {
      "cell_type": "code",
      "source": [
        "# Leetcode 74: Search a 2D Matrix\n",
        "# Time: O(log(m*n))\n",
        "# Space: O(1)\n",
        "def searchMatrix(matrix: List[List[int]], target: int) -> bool:\n",
        "  m = len(matrix)\n",
        "  n = len(matrix[0])\n",
        "  t = m*n\n",
        "  l = 0\n",
        "  r = t -1\n",
        "  while l <=r:\n",
        "    m = (l+r) // 2\n",
        "    i = m //n\n",
        "    j = m % n\n",
        "    mid_num = matrix[i][j]\n",
        "    if target == mid_num:\n",
        "      return True\n",
        "    elif target<mid_num:\n",
        "      r=m-1\n",
        "    else:\n",
        "      l=m+1\n",
        "  return False"
      ],
      "metadata": {
        "id": "f98ddM6Qx4IZ"
      },
      "execution_count": 97,
      "outputs": []
    },
    {
      "cell_type": "code",
      "source": [
        "# Leetcode 153- Find Minimum in Rotated Sorted Array\n",
        "# Time: O(log(n)), Space: O(1)\n",
        "# 4,5,6,7,8,0,1,2\n",
        "def findMin(nums: List[int]) -> int:\n",
        "  n = len(nums)\n",
        "  l = 0\n",
        "  r = n-1\n",
        "  while l<r:\n",
        "    m = (l+r) //2\n",
        "    if nums[m] > nums[r]:\n",
        "      l = m+1\n",
        "    else:\n",
        "      r = m\n",
        "  return nums[l]"
      ],
      "metadata": {
        "id": "ilrObLVODED0"
      },
      "execution_count": 98,
      "outputs": []
    },
    {
      "cell_type": "code",
      "source": [
        "# Leetcode 33 - Search in Rotated Sorted Array\n",
        "def search(nums: List[int], target: int) -> int:\n",
        "  n = len(nums)\n",
        "  l = 0\n",
        "  r = n-1\n",
        "# 4,5,6,0,1,2,3\n",
        "  while l<r:\n",
        "    m = (l+r) // 2\n",
        "    if nums[m] > nums[r]:\n",
        "      l = m+1\n",
        "    else:\n",
        "      r= m\n",
        "  min_i = l\n",
        "  if min_i == 0:\n",
        "    l,r = 0, n-1\n",
        "  elif target >= nums[0] and target <= nums[min_i-1]:\n",
        "    l,r = 0, min_i-1\n",
        "  else:\n",
        "    l,r = min_i, n-1\n",
        "  while l<=r:\n",
        "    m=(l+r)//2\n",
        "\n",
        "    if nums[m] ==target:\n",
        "      return m\n",
        "    elif nums[m] < target:\n",
        "      l = m+1\n",
        "    else:\n",
        "      r = m-1\n",
        "  return -1\n",
        "\n",
        "  # Time: 0(log n)\n",
        "  # Space: O(1)\n"
      ],
      "metadata": {
        "id": "dATGN_CHKjMV"
      },
      "execution_count": 99,
      "outputs": []
    },
    {
      "cell_type": "code",
      "source": [
        "# Leetcode 278-First Bad Version\n",
        "def isBadVersion(version: int) -> bool:\n",
        "  pass\n",
        "\n",
        "# G,G,G,G,G,B,B,B\n",
        "# N =8\n",
        "def firstBadVersion(n: int) -> int:\n",
        "  L= 1\n",
        "  R= n\n",
        "  while L<R:\n",
        "    M = (L+R) // 2\n",
        "    if isBadVersion(M):\n",
        "      R=M\n",
        "    else:\n",
        "      L = M+1\n",
        "  return L\n",
        "# Time: 0(Log n), Space: 0(1)"
      ],
      "metadata": {
        "id": "KW2RxPA8dwng"
      },
      "execution_count": 100,
      "outputs": []
    },
    {
      "cell_type": "code",
      "source": [
        "# Leetcode-367: Valid Perfect Square\n",
        "def isPerfectSquare(num: int) -> bool:\n",
        "  for x in range(1, num+1):\n",
        "    if x **2 == num:\n",
        "      return True\n",
        "  return False\n"
      ],
      "metadata": {
        "id": "QwFB_qFHf7Zg"
      },
      "execution_count": 101,
      "outputs": []
    },
    {
      "cell_type": "code",
      "source": [
        "def isPerfectSquare2(num: int) -> bool:\n",
        "  #Time: 0(log n), Space: O(1) with binary search\n",
        "  r = num #5\n",
        "  # 1,2,3,4,5\n",
        "  while l<= r:\n",
        "    m = (l+r) //2\n",
        "    m_squared = m*m\n",
        "\n",
        "    if num==m_squared:\n",
        "      return True\n",
        "    elif m_squared < num:\n",
        "      l = m+1\n",
        "    else:\n",
        "      r = m-1\n",
        "  return False"
      ],
      "metadata": {
        "id": "nLNLPHLO46Va"
      },
      "execution_count": 102,
      "outputs": []
    },
    {
      "cell_type": "code",
      "source": [
        "# Leetcode-875 Koko Eating Bananas- Binary Search\n",
        "\n",
        "# piles=[3,6,7,11] k=3  1, 2, 4, 4 =11\n",
        "def minEatingSpeed(piles: List[int], h:int) -> int:\n",
        "  def k_works(k):\n",
        "    hours = 0\n",
        "    for p in piles:\n",
        "      hours += ceil(p/k)\n",
        "    return hours <=h\n",
        "  l = 1\n",
        "  r = max(piles) # 11\n",
        "  while l<r:\n",
        "    k = (l+r) // 2   # 6\n",
        "    if k_works(k):\n",
        "      r = k\n",
        "    else:\n",
        "      l = k+1\n",
        "  return r\n",
        "  # Time: O(n * log(max(piles)))\n",
        "  # Space: O(1)"
      ],
      "metadata": {
        "id": "WvxB-UF-_4dZ"
      },
      "execution_count": 103,
      "outputs": []
    },
    {
      "cell_type": "code",
      "source": [
        "# Leetcode 83: Remove Duplicates from Sorted List\n",
        "from typing import Optional\n",
        "class ListNode:\n",
        "  def __init__(self, val=0, next=None):\n",
        "    self.val = val\n",
        "    self.next = next\n",
        "\n",
        "def deleteDuplicates(head: Optional[ListNode]) -> Optional[ListNode]:\n",
        "  curr = head\n",
        "  while curr and curr.next:\n",
        "    if curr.val == curr.next.val:\n",
        "      curr.next = curr.next.next\n",
        "    else:\n",
        "      curr = curr.next\n",
        "  return head\n",
        "\n",
        "  # Time:O(n), Space: O(1)"
      ],
      "metadata": {
        "id": "OZQw84GRDEEW"
      },
      "execution_count": 104,
      "outputs": []
    },
    {
      "cell_type": "code",
      "source": [
        "# Leetcode:206 - Linkled List\n",
        "def reverseList(head: Optional[ListNode]) -> Optional[ListNode]:\n",
        "  cur = head\n",
        "  prev= None\n",
        "  while cur:\n",
        "    temp = cur.next\n",
        "    cur.next = prev\n",
        "    prev= cur\n",
        "    cur= temp\n",
        "  return prev #Time:O(n), Space:O(1)\n"
      ],
      "metadata": {
        "id": "a7bTZJxXU2ep"
      },
      "execution_count": 105,
      "outputs": []
    },
    {
      "cell_type": "code",
      "source": [
        "# Leetcode:21 - Merge 2 Sorted List - Linked Lists\n",
        "def mergeTwoLists(list1: Optional[ListNode], list2: Optional[ListNode]) -> Optional[ListNode]:\n",
        "  d = ListNode()\n",
        "  cur= d\n",
        "  while list1 and list2:\n",
        "    if list1.val < list2.val:\n",
        "      cur.next = list1\n",
        "      cur = list1\n",
        "      list1 = list1.next\n",
        "    else:\n",
        "      cur.next = list2\n",
        "      cur = list2\n",
        "      list2 = list2.next\n",
        "  cur.next = list1 if list1 else list2\n",
        "\n",
        "  return d.next    #Time:O(n), Space:O(1)\n"
      ],
      "metadata": {
        "id": "pWrnjGA3YIIS"
      },
      "execution_count": 106,
      "outputs": []
    },
    {
      "cell_type": "code",
      "source": [
        "# Leetcode 141: Linked List Cycle\n",
        "def hasCycle(head: Optional[ListNode]) -> bool:\n",
        "  dummy =ListNode()\n",
        "  dummy.next = head\n",
        "  slow = fast = dummy\n",
        "  while fast and fast.next:\n",
        "    fast = fast.next.next\n",
        "    slow = slow.next\n",
        "    if fast == slow:\n",
        "      return True\n",
        "  return False\n",
        "  # Time: O(n), Space:O(1)\n",
        "\n"
      ],
      "metadata": {
        "id": "Pv1rYijONhrf"
      },
      "execution_count": 107,
      "outputs": []
    },
    {
      "cell_type": "code",
      "source": [
        "# Leetcode 2807- Insert Greatest Common Division in Linked List\n",
        "def insertGreatestCommonDivisors(head: Optional[ListNode]) -> Optional[ListNode]:\n",
        "  prev = head\n",
        "  cur = head.next\n",
        "  while cur:\n",
        "    gcd = math.gcd(cur.val, prev.val)\n",
        "    g = ListNode(gcd)\n",
        "    prev.next = g\n",
        "    g.next = cur\n",
        "    prev = cur\n",
        "    cur = cur.next\n",
        "  return head\n",
        "  # Time: O(n*A)\n",
        "  # Space: O(1)"
      ],
      "metadata": {
        "id": "GpQUsOITQ3UW"
      },
      "execution_count": 108,
      "outputs": []
    },
    {
      "cell_type": "code",
      "source": [
        "# Leetcode 18- Remove Nth Node from End of List\n",
        "def removeNthFromEnd(head: Optional[ListNode], n: int) -> Optional[ListNode]:\n",
        "  dummy = ListNode()\n",
        "  dummy.next = head\n",
        "  behind = ahead = dummy\n",
        "  for _ in range(n+1):\n",
        "    ahead = ahead.next\n",
        "  while ahead:\n",
        "    behind = behind.next\n",
        "    ahead = ahead.next\n",
        "  behind.next = behind.next.next\n",
        "  return dummy.next\n",
        "# Time: O(M)\n",
        "#Space: O(1)"
      ],
      "metadata": {
        "id": "oPGW_oWkU9Dk"
      },
      "execution_count": 109,
      "outputs": []
    },
    {
      "cell_type": "code",
      "source": [
        "# Leetcode:876 = Middle of the Linked List\n",
        "def middleNode(head: Optional[ListNode]) -> Optional[ListNode]:\n",
        "  slow = head\n",
        "  fast = head\n",
        "  while fast and fast.next:\n",
        "    fast = fast.next.next\n",
        "    slow = slow.next\n",
        "  return slow\n",
        "# Time: O(n)\n",
        "# Space: 0(1)"
      ],
      "metadata": {
        "id": "2t9Ob6CBf7uh"
      },
      "execution_count": 110,
      "outputs": []
    },
    {
      "cell_type": "code",
      "source": [
        "# Leetcode 138: Copy List with Random Pointer\n",
        "class NodeR:\n",
        "  def __init__(self, x: int, next: 'Node' = None, random: 'Node' = None):\n",
        "    self.val = int(x)\n",
        "    self.next = next\n",
        "    self.random = random\n",
        "\n",
        "def copyRandomList(head: 'Optional[NodeR]') -> 'Optional[NodeR]':\n",
        "  if not head: return None\n",
        "  curr = head\n",
        "  old_to_new = {}\n",
        "  while curr:\n",
        "    node = NodeR(x=curr.val)\n",
        "    old_to_new[curr] = node\n",
        "    curr=curr.next\n",
        "  curr=head\n",
        "  while curr:\n",
        "    new_node = old_to_new[curr]\n",
        "    new_node.next = old_to_new.get(curr.next) if curr.next else None\n",
        "    new_node.random = old_to_new.get(curr.random) if curr.random else None\n",
        "    curr = curr.next\n",
        "  return old_to_new[head]\n",
        "\n",
        "  # Time: O(n)\n",
        "  #Space: O(n)"
      ],
      "metadata": {
        "id": "rDisPICigaqt"
      },
      "execution_count": 111,
      "outputs": []
    },
    {
      "cell_type": "code",
      "source": [
        "# Leetcode 1004: Max Consecutive Ones - Sliding Window\n",
        "def longestOnes(nums: List[int], k:int) -> int:\n",
        "  max_w=0\n",
        "  num_zeros = 0\n",
        "  n = len(nums)\n",
        "  l=0\n",
        "  for r in range(n):\n",
        "    if nums[r] ==0:\n",
        "      num_zeros +=1\n",
        "    while num_zeros > k:\n",
        "      if nums[l] == 0:\n",
        "        num_zeros -=1\n",
        "      l+=1\n",
        "    print(l,r)\n",
        "    w = r-l+1\n",
        "    print(w)\n",
        "    max_w = max(max_w, w)\n",
        "  return max_w\n",
        "  # Time: O(n)\n",
        "  # Space: O(1)"
      ],
      "metadata": {
        "id": "bwBgug8EfyWW"
      },
      "execution_count": 112,
      "outputs": []
    },
    {
      "cell_type": "code",
      "source": [
        "mj= [1,1,1,0,0,0,1,1,1,1]\n",
        "#longestOnes(mj, 2)"
      ],
      "metadata": {
        "id": "YelKCB97leoE"
      },
      "execution_count": 113,
      "outputs": []
    },
    {
      "cell_type": "code",
      "source": [
        "# Leetcode 3: Longest Substring Without Repeating Characters - Sliding Window\n",
        "def lengthOfLongestSubstring(s: str) -> int:\n",
        "  # abcbaca\n",
        "  l =0\n",
        "  longest = 0\n",
        "  sett = set()\n",
        "  n = len(s)\n",
        "  for r in range(n):\n",
        "    while s[r] in sett:\n",
        "      sett.remove(s[l])\n",
        "      l+=1\n",
        "    w = (r-l) +1\n",
        "    longest = max(longest, w)\n",
        "    sett.add(s[r])\n",
        "  return longest\n",
        "  # Time: 0(n)\n",
        "  # Space: 0(n)\n",
        "\n"
      ],
      "metadata": {
        "id": "2G_ENndFArqR"
      },
      "execution_count": 114,
      "outputs": []
    },
    {
      "cell_type": "code",
      "source": [
        "# Leetcode 424-Longest Repeating Character Replacement - Sliding Window\n",
        "def characterReplacement(s: str, k: int) -> int:\n",
        "  longest = 0\n",
        "  l = 0\n",
        "  counts = [0] * 26\n",
        "  # ABAB k=2\n",
        "  # counts = [1,2]\n",
        "  for r in range(len(s)):\n",
        "    counts[ord(s[r])- 65] +=1\n",
        "    while (r-l+1) - max(counts) > k:\n",
        "      counts[ord(s[l])-65] -=1\n",
        "      l+=1\n",
        "    longest = max(longest, r-l+1)\n",
        "  return longest\n",
        "  # Time: O(n)\n",
        "  # Space: O(1)\n"
      ],
      "metadata": {
        "id": "EsL9U3yDCfbm"
      },
      "execution_count": 115,
      "outputs": []
    },
    {
      "cell_type": "code",
      "source": [
        "# Leetcode 209: Minimum Size Subarray Sum - Sliding Window\n",
        "def minSubArrayLen(target: int, nums: List[int]) -> int:\n",
        "  min_lenght = float('inf')\n",
        "  summ = 0\n",
        "  l = 0\n",
        "  for r in range(len(nums)):\n",
        "    summ += nums[r]\n",
        "\n",
        "    while summ>= target:\n",
        "      min_lenght = min(min_lenght, r-l+1)\n",
        "      summ -= nums[l]\n",
        "      l +=1\n",
        "  return min_lenght if min_lenght < float('inf') else 0"
      ],
      "metadata": {
        "id": "o_HqYyGuG2-c"
      },
      "execution_count": 116,
      "outputs": []
    },
    {
      "cell_type": "code",
      "source": [
        "# Leetcode 643 - Maximum Average Subarray - Fized Sliding Window\n",
        "def findMaxAverage(nums: List[int], k: int) -> float:\n",
        "  n = len(nums)\n",
        "  cur_sum = 0\n",
        "  for i in range(k):\n",
        "    cur_sum += nums[i]\n",
        "# [3,4,2,   6,1,4,2]  =3\n",
        "  max_ave = cur_sum / k\n",
        "  for i in range(k, n):\n",
        "    cur_sum += nums[i]\n",
        "    cur_sum -= nums[i-k]\n",
        "\n",
        "    avg = cur_sum / k\n",
        "    max_ave = max(max_ave, avg)\n",
        "  return max_ave\n",
        "# Time: O(n), Space: 0(1)\n",
        "\n",
        "\n"
      ],
      "metadata": {
        "id": "VTuTYRy_ch5i"
      },
      "execution_count": 117,
      "outputs": []
    },
    {
      "cell_type": "code",
      "source": [
        "ord('a'), ord('e')"
      ],
      "metadata": {
        "colab": {
          "base_uri": "https://localhost:8080/"
        },
        "id": "eS_oBdGOflwm",
        "outputId": "fb563702-17da-45ac-e9e7-146401cd90e1"
      },
      "execution_count": 118,
      "outputs": [
        {
          "output_type": "execute_result",
          "data": {
            "text/plain": [
              "(97, 101)"
            ]
          },
          "metadata": {},
          "execution_count": 118
        }
      ]
    },
    {
      "cell_type": "code",
      "source": [
        "# Leetcode 567 - Permutation in String - Fixed Sliding Window\n",
        "def checkInclusion(s1: str, s2: str) -> bool:\n",
        "  n1 = len(s1)\n",
        "  n2 = len(s2)\n",
        "  # s1 = ab,  s2 = e i d  baooo 2-2\n",
        "  if n1>n2:\n",
        "    return False\n",
        "  s1_counts = [0] * 26\n",
        "  s2_counts = [0] * 26\n",
        "\n",
        "  for i in range(n1): #2 ,  0,1\n",
        "    s1_counts[ord(s1[i])-97] +=1\n",
        "    s2_counts[ord(s2[i])-97] +=1 #[0,1,1,1,0]\n",
        "  if s1_counts == s2_counts:\n",
        "    return True\n",
        "  for i in range(n1, n2):  # 2-8\n",
        "    s2_counts[ord(s2[i]) - 97] +=1\n",
        "    s2_counts[ord(s2[i-n1])- ord('a')] -=1\n",
        "    if s1_counts == s2_counts:\n",
        "      return True\n",
        "  return False\n",
        "# Time: O(n)\n",
        "# Space: O(1)\n"
      ],
      "metadata": {
        "id": "oAlUv5g1dPYx"
      },
      "execution_count": 119,
      "outputs": []
    },
    {
      "cell_type": "code",
      "source": [
        "class TreeNode:\n",
        "  def __init__(self, val=0, left=None, right=None):\n",
        "    self.val = val\n",
        "    self.left = left\n",
        "    self.right = right"
      ],
      "metadata": {
        "id": "b2k3kIng0GLZ"
      },
      "execution_count": 120,
      "outputs": []
    },
    {
      "cell_type": "code",
      "source": [
        "# Leetcode 226: Invert Binary Tree\n",
        "def invertTree(root: Optional[TreeNode]) -> Optional[TreeNode]:\n",
        "  if not root:\n",
        "    return None\n",
        "  root.left, root.right = root.right, root.left\n",
        "  invertTree(root.left)\n",
        "  invertTree(root.right)\n",
        "\n",
        "  return root\n",
        "# Time: O(n)\n",
        "# Space: O(n)\n"
      ],
      "metadata": {
        "id": "1V1nHYkL0HFG"
      },
      "execution_count": 121,
      "outputs": []
    },
    {
      "cell_type": "code",
      "source": [
        "# Leetcode 104: Max Depth of Binary Tree\n",
        "def maxDepth(root: Optional[TreeNode]) -> int:\n",
        "  if not root:\n",
        "    return 0\n",
        "  left = maxDepth(root.left)\n",
        "  right = maxDepth(root.right)\n",
        "  return 1+ max(left, right)\n",
        "# Time: 0(n)\n",
        "# Space: 0(h)"
      ],
      "metadata": {
        "id": "4SlZ5FAE0_LF"
      },
      "execution_count": 122,
      "outputs": []
    },
    {
      "cell_type": "code",
      "source": [
        "node4 = TreeNode(4)\n",
        "node6 = TreeNode(6)\n",
        "node7 = TreeNode(7)\n",
        "node9 = TreeNode(9)\n",
        "\n",
        "node5 = TreeNode(5, left=node6, right=node7)\n",
        "node8 = TreeNode(8, left=node9)\n",
        "\n",
        "node2 = TreeNode(2, left=node4, right=node5)\n",
        "node3 = TreeNode(3, right=node8)\n",
        "\n",
        "my_root = TreeNode(1, left=node2, right=node3)"
      ],
      "metadata": {
        "id": "-zV4s85c2c6s"
      },
      "execution_count": 123,
      "outputs": []
    },
    {
      "cell_type": "code",
      "source": [
        "maxDepth(my_root)"
      ],
      "metadata": {
        "colab": {
          "base_uri": "https://localhost:8080/"
        },
        "id": "-Ut1HIqk2hl5",
        "outputId": "ffb6b028-7b87-4b28-d7c0-4ef68e76bd3a"
      },
      "execution_count": 124,
      "outputs": [
        {
          "output_type": "execute_result",
          "data": {
            "text/plain": [
              "4"
            ]
          },
          "metadata": {},
          "execution_count": 124
        }
      ]
    },
    {
      "cell_type": "code",
      "source": [
        "my_root.left"
      ],
      "metadata": {
        "colab": {
          "base_uri": "https://localhost:8080/"
        },
        "id": "HZnHeZnZ34MP",
        "outputId": "dddc4ba3-f91d-4efb-b27f-509eb4ebfba7"
      },
      "execution_count": 125,
      "outputs": [
        {
          "output_type": "execute_result",
          "data": {
            "text/plain": [
              "<__main__.TreeNode at 0x7c8b29de9550>"
            ]
          },
          "metadata": {},
          "execution_count": 125
        }
      ]
    },
    {
      "cell_type": "code",
      "source": [
        "# Leetcode 110 - Balanced Binary Tree\n",
        "def isBalanced(root: Optional[TreeNode]) -> bool:\n",
        "  balanced = [True]\n",
        "  def height(root):\n",
        "    if not root:\n",
        "      return 0\n",
        "    left_height = height(root.left)\n",
        "    if balanced[0] == False:\n",
        "      return 0\n",
        "    right_height = height(root.right)\n",
        "    if abs(left_height-right_height)   > 1:\n",
        "      balanced[0] = False\n",
        "    #print(abs(left_height-right_height))\n",
        "    return 1+ max(left_height, right_height)\n",
        "  height(root)\n",
        "  return balanced[0]\n",
        "# Time: O(n)\n",
        "# Space: O(h)\n"
      ],
      "metadata": {
        "id": "WHXp2szbrOIc"
      },
      "execution_count": 126,
      "outputs": []
    },
    {
      "cell_type": "code",
      "source": [
        "isBalanced(my_root)"
      ],
      "metadata": {
        "colab": {
          "base_uri": "https://localhost:8080/"
        },
        "id": "jDELjUJyr9w5",
        "outputId": "02594005-ff8c-4fb9-fa75-49ceaf1707a5"
      },
      "execution_count": 127,
      "outputs": [
        {
          "output_type": "execute_result",
          "data": {
            "text/plain": [
              "False"
            ]
          },
          "metadata": {},
          "execution_count": 127
        }
      ]
    },
    {
      "cell_type": "code",
      "source": [
        "# Leetcode 543: Diameter of Binary Tree\n",
        "def diameterOfBinaryTree(root: Optional[TreeNode]) -> int:\n",
        "  largest_dia = [0]\n",
        "  def height(root):\n",
        "    if root is None:\n",
        "      return 0\n",
        "    left_height = height(root.left)\n",
        "    right_height = height(root.right)\n",
        "    dia =  left_height +  right_height\n",
        "    largest_dia[0] = max(largest_dia[0], dia)\n",
        "    return 1+ max(left_height, right_height)\n",
        "  height(root)\n",
        "  return largest_dia[0]\n",
        "# Time: 0(n)\n",
        "# Spaca: O(h)"
      ],
      "metadata": {
        "id": "R0JUlBJz8qNT"
      },
      "execution_count": 128,
      "outputs": []
    },
    {
      "cell_type": "code",
      "source": [
        "diameterOfBinaryTree(my_root)"
      ],
      "metadata": {
        "colab": {
          "base_uri": "https://localhost:8080/"
        },
        "id": "QAHAQOD89MW8",
        "outputId": "94c07807-d4e2-4859-ee33-4ad5accf011f"
      },
      "execution_count": 129,
      "outputs": [
        {
          "output_type": "execute_result",
          "data": {
            "text/plain": [
              "6"
            ]
          },
          "metadata": {},
          "execution_count": 129
        }
      ]
    },
    {
      "cell_type": "code",
      "source": [
        "#Leetcode 100 - Same Binary Tree\n",
        "def isSameTree(p:Optional[TreeNode], q: Optional[TreeNode]) -> bool:\n",
        "  def balanced(p,q):\n",
        "    if not p and not q:\n",
        "      return True\n",
        "    if (p and not q) or (q and not p):\n",
        "      return False\n",
        "    if p.val != q.val:\n",
        "      return False\n",
        "    return balanced(p.left, q.left) and balanced(p.right, q.right)\n",
        "  return balanced(p,q)\n",
        "  # Time: O(n)\n",
        "  # Space: O(h)"
      ],
      "metadata": {
        "id": "JHx7u0Fw_ZJ8"
      },
      "execution_count": 130,
      "outputs": []
    },
    {
      "cell_type": "code",
      "source": [
        "# Leetcode 101: Symmetric Tree\n",
        "def isSymmetric(root: Optional[TreeNode])  -> bool:\n",
        "  def same(p,q):\n",
        "    if not p and not q:\n",
        "      return True\n",
        "    if (p and not q) or (q and not p):\n",
        "      return False\n",
        "    if p.val != q.val:\n",
        "      return False\n",
        "    return same(p.left, q.right) and same(p.right, q.left)\n",
        "  return same(root, root)\n",
        "  # Time: O(n)\n",
        "  # Space: O(h)"
      ],
      "metadata": {
        "id": "0INgMJ55A8fv"
      },
      "execution_count": 131,
      "outputs": []
    },
    {
      "cell_type": "code",
      "source": [
        "# Leetcode 572- Subtree of Another Trees\n",
        "def isSubtree(root: Optional[TreeNode], subRoot: Optional[TreeNode]) -> bool:\n",
        "  def sameTree(p,q):\n",
        "    if not p and not q:\n",
        "      return True\n",
        "    if (p and not q) or (q and not p):\n",
        "      return False\n",
        "    if p.val != q.val:\n",
        "      return False\n",
        "    return sameTree(p.left, q.left) and sameTree(p.right, q.right)\n",
        "  def has_subtree(root):\n",
        "    if not root:\n",
        "      return False\n",
        "    if sameTree(root, subRoot):\n",
        "      return True\n",
        "    return has_subtree(root.left) or has_subtree(root.right)\n",
        "  return has_subtree(root)\n",
        "\n",
        "  # Time: O(m*n)\n",
        "  # Space: O(n)"
      ],
      "metadata": {
        "id": "5bED_QSigwql"
      },
      "execution_count": 132,
      "outputs": []
    },
    {
      "cell_type": "code",
      "source": [
        "# Leetcode 1448: Count Good Nodes in Binary Tree\n",
        "def goodNodes(root: TreeNode) -> int:\n",
        "  good_nodes=0\n",
        "  stk = [(root, float('-inf'))]\n",
        "  while stk:\n",
        "    node, largest = stk.pop()\n",
        "    if largest <= node.val:\n",
        "      good_nodes +=1\n",
        "    largest = max(largest, node.val)\n",
        "    if node.right: stk.append((node.right, largest))\n",
        "    if node.left: stk.append((node.left, largest))\n",
        "  return good_nodes\n",
        "# Time: O(n)\n",
        "# Space: O(h)\n"
      ],
      "metadata": {
        "id": "hiCQ5tKUMkBP"
      },
      "execution_count": 133,
      "outputs": []
    },
    {
      "cell_type": "code",
      "source": [
        "# Leetcode 112 - Path Sum - Trees\n",
        "def hasPathSum(root: Optional[TreeNode], targetSum: int) -> bool:\n",
        "  def has_sum(root, cur_sum):\n",
        "    if not root:\n",
        "      return False\n",
        "    cur_sum += root.val\n",
        "    if not root.left and not root.right:\n",
        "      return cur_sum == targetSum\n",
        "    return has_sum(root.left, cur_sum)  or has_sum(root.right, cur_sum)\n",
        "  return has_sum(root, 0)\n",
        "  # Time: O(n)\n",
        "  # Space: O(n)"
      ],
      "metadata": {
        "id": "u3IzolbfTU-k"
      },
      "execution_count": 134,
      "outputs": []
    },
    {
      "cell_type": "code",
      "source": [
        "# Leetcode 102: Binary Tree Level Order - Trees\n",
        "def levelOrder(root: Optional[TreeNode]) -> List[List[int]]:\n",
        "  if root is None:\n",
        "    return None\n",
        "  queue = deque()\n",
        "  queue.append(root)\n",
        "  ans = []\n",
        "  while queue:\n",
        "    level = []\n",
        "    n = len(queue)\n",
        "    for i in range(n):\n",
        "      node = queue.popleft()\n",
        "      level.append(node.val)\n",
        "\n",
        "      if node.left: queue.append(node.left)\n",
        "      if node.right: queue.append(node.right)\n",
        "\n",
        "    ans.append(level)\n",
        "  return ans\n",
        "  # Time: 0(n)\n",
        "  # Space: O(n)"
      ],
      "metadata": {
        "id": "4EHq5XaSAN7p"
      },
      "execution_count": 135,
      "outputs": []
    },
    {
      "cell_type": "code",
      "source": [
        "# Leetcode 637 - Average of Levels in Binary Tree\n",
        "def averageOfLevels(root: Optional[TreeNode]) -> List[float]:\n",
        "  avgs = []\n",
        "  q = deque()\n",
        "  q.append(root)\n",
        "\n",
        "  while q:\n",
        "    avg = 0\n",
        "    n = len(q)\n",
        "    for _ in range(n):\n",
        "      node = q.popleft()\n",
        "      avg += node.value\n",
        "      if node.left:\n",
        "        q.append(node.left)\n",
        "      if node.right:\n",
        "        q.append(node.right)\n",
        "    avg /= n\n",
        "    avgs.append(avg)\n",
        "\n",
        "    # Time: 0(n)\n",
        "    # Space: 0(n)"
      ],
      "metadata": {
        "id": "h7wZ_dsX6co7"
      },
      "execution_count": 136,
      "outputs": []
    },
    {
      "cell_type": "code",
      "source": [
        "# Leetcode 230: Kth Smallest Element in a BST - Trees\n",
        "def kthSmallest(root: Optional[TreeNode], k: int) -> int:\n",
        "  count = [k]\n",
        "  ans =[0]\n",
        "  def dfs(root):\n",
        "    if not root:\n",
        "      return None\n",
        "    dfs(root.left)\n",
        "    if count[0] == 1:\n",
        "      ans[0] = root.val\n",
        "    count[0] = count[0] - 1\n",
        "    if count[0] > 0:\n",
        "      dfs(root.right)\n",
        "  dfs(root)\n",
        "  return ans[0]\n",
        "  # Time: 0(n)\n",
        "  # Space: O(n)"
      ],
      "metadata": {
        "id": "nApngzKVXxZi"
      },
      "execution_count": 137,
      "outputs": []
    },
    {
      "cell_type": "code",
      "source": [
        "# Leetcode 530: Min Absulate Diff in BST:\n",
        "def getMinimumDifference(root: Optional[TreeNode]) -> int:\n",
        "  min_distance = [float('inf')]\n",
        "  prev = [None]\n",
        "  def dfs(node):\n",
        "    if node is None:\n",
        "      return\n",
        "    dfs(node.left)\n",
        "    if prev[0] is not None:\n",
        "      min_distance[0] = min(min_distance[0], node.val - prev[0])\n",
        "    prev[0] = node.val\n",
        "    dfs(node.right)\n",
        "  dfs(root)\n",
        "  return min_distance[0]\n",
        "  # Time O(n)\n",
        "  # Space: O(n)"
      ],
      "metadata": {
        "id": "AAZE-NwD-WR8"
      },
      "execution_count": 138,
      "outputs": []
    },
    {
      "cell_type": "code",
      "source": [
        "# Leetcode 98 - Validate Binary Search\n",
        "def isValidBST(root: Optional[TreeNode]) -> bool:\n",
        "  def is_valid(node, minn, maxx):\n",
        "    if not node:\n",
        "      return True\n",
        "    if node.val <= minn or node.val >= maxx:\n",
        "      return False\n",
        "    return is_valid(node.left, minn, node.val) and is_valid(node.right, node.val, maxx)\n",
        "  return is_valid(root, float('-inf'), float('inf'))\n",
        "\n",
        "  # Time: O(n)\n",
        "  # Space: 0(h)"
      ],
      "metadata": {
        "id": "T5C7furyVx1v"
      },
      "execution_count": 139,
      "outputs": []
    },
    {
      "cell_type": "code",
      "source": [
        "# Leetcode 235- Lowest Common Ancestor of a Binary Search Tree\n",
        "def lowestCommonAncestor(root: 'TreeNode', p: 'TreeNode', q: 'TreeNode') -> 'TreeNode':\n",
        "  lca = [root]\n",
        "  def search(root):\n",
        "    if not root:\n",
        "      return\n",
        "    lca[0] = root\n",
        "    if root is p or root is q:\n",
        "      return\n",
        "    elif root.val < p.val and root.val < q.val:\n",
        "      search(root.right)\n",
        "    elif root.val > p.val and root.val > q.pal:\n",
        "      search(root.left)\n",
        "    else:\n",
        "      return\n",
        "  search(root)\n",
        "  return lca[0]\n",
        "  # Time: O(h) h: height of tree\n",
        "  # Space: O(h) because there is recursive"
      ],
      "metadata": {
        "id": "wSJMAoj9dUHG"
      },
      "execution_count": 140,
      "outputs": []
    },
    {
      "cell_type": "code",
      "source": [
        "lowestCommonAncestor(None, None, None)"
      ],
      "metadata": {
        "id": "6bjupcxvembl"
      },
      "execution_count": 141,
      "outputs": []
    },
    {
      "cell_type": "code",
      "source": [
        "d = {}\n",
        "word = \"apple\"\n",
        "\n",
        "for c in word:\n",
        "  if c in word:\n",
        "    d[c] = {}\n",
        "  d= d[c]\n"
      ],
      "metadata": {
        "id": "OUlMXg0zi_1N"
      },
      "execution_count": 142,
      "outputs": []
    },
    {
      "cell_type": "code",
      "source": [
        "for k,v in d.items():\n",
        "  print(k,v)"
      ],
      "metadata": {
        "id": "LhEzB2y_jSbL"
      },
      "execution_count": 143,
      "outputs": []
    },
    {
      "cell_type": "code",
      "source": [
        "# Leetcode 208: Implement Trie(Prefix Tree)\n",
        "class Trie:\n",
        "  def __init__(self):\n",
        "    self.trie = {}\n",
        "  def insert(self, word: str) -> None:\n",
        "    d = self.trie\n",
        "    for c in word:\n",
        "      if c not in d:\n",
        "        d[c] = {}\n",
        "      d = d[c]\n",
        "    d[\".\"] = \".\"\n",
        "\n",
        "  def search(self, word: str) -> bool:\n",
        "    d = self.trie\n",
        "    for c in word:\n",
        "      if c not in d:\n",
        "        return False\n",
        "      d = d[c]\n",
        "    return '.' in d\n",
        "  def startWith(self, prefix: str) -> bool:\n",
        "    d = self.trie\n",
        "    for c in prefix:\n",
        "      if c not in d:\n",
        "        return False\n",
        "      d = d[c]\n",
        "    return True"
      ],
      "metadata": {
        "id": "sT1rOMtET2Zd"
      },
      "execution_count": 144,
      "outputs": []
    },
    {
      "cell_type": "code",
      "source": [
        "# Leet 1046: Last Stone Weight - Heaps\n",
        "import heapq\n",
        "def lastStoneWeight(stones: List[int]) -> int:\n",
        "  for i in range(len(stones)):\n",
        "    stones[i] = -stones[i]\n",
        "\n",
        "  heapq.heapify(stones)\n",
        "  while len(stones) < 1:\n",
        "    largest = heapq.heappop(stones)\n",
        "    next_largest = heapq.heappop(stones)\n",
        "\n",
        "    if largest != next_largest:\n",
        "      heapq.heappush(stones, largest-next_largest)\n",
        "\n",
        "  if len(stones) == 1:\n",
        "    return -heapq.heappop(stones)\n",
        "  else:\n",
        "    return 0\n",
        "\n",
        "# Time: O(n log n)\n",
        "# Space: 0(1)"
      ],
      "metadata": {
        "id": "XCbk1HKFXPWJ"
      },
      "execution_count": 145,
      "outputs": []
    },
    {
      "cell_type": "code",
      "source": [
        "# Leetcode 215- Kth Largest Element in an Array - Heaps\n",
        "import heapq\n",
        "from typing import List\n",
        "# Time: O(N + k log N)\n",
        "# Space: O(1)\n",
        "def findKthLargest(nums: List[int], k: int) -> int:\n",
        "  for i in range(len(nums)):\n",
        "    nums[i] = -nums[i]\n",
        "  heapq.heapify(nums)\n",
        "  for _ in range(k-1):\n",
        "    heapq.heappop(nums)\n",
        "  return -heapq.heappop(nums)"
      ],
      "metadata": {
        "id": "AhwjIigeIV5Q"
      },
      "execution_count": 146,
      "outputs": []
    },
    {
      "cell_type": "code",
      "source": [
        "def findKthLargest2(nums: List[int], k: int) -> int:\n",
        "  min_heap = []\n",
        "  for num in nums:\n",
        "    if len(min_heap) < k:\n",
        "      heapq.heappush(min_heap, num)\n",
        "    else:\n",
        "      heapq.heappushpop(min_heap, num)\n",
        "  return min_heap[0]"
      ],
      "metadata": {
        "id": "rSkUkS9UKzF_"
      },
      "execution_count": 147,
      "outputs": []
    },
    {
      "cell_type": "code",
      "source": [
        "# Leetcode:347 - Top K Frequent Elements\n",
        "from collections import Counter\n",
        "def topKFrequent(nums: List[int], k:int)  -> List[int]:\n",
        "  counter = Counter(nums)\n",
        "  heap = []\n",
        "  for key, val in counter.items():\n",
        "    if len(heap) < k:\n",
        "      heapq.heappush(heap, (val, key))\n",
        "    else:\n",
        "      heapq.heappushpop(heap, (val, key))\n",
        "  return [item[1] for item in heap]\n",
        "  # Time: O(n * log(k))\n",
        "  # Space: O(n)\n"
      ],
      "metadata": {
        "id": "-D5dq528bm4M"
      },
      "execution_count": 148,
      "outputs": []
    },
    {
      "cell_type": "code",
      "source": [
        "def topKFrequent2(nums: List[int], k:int)  -> List[int]:\n",
        "  n = len(nums)\n",
        "  counter = Counter(nums)\n",
        "  buckets = [0] * (n+1)\n",
        "  for num, freq in counter.items():\n",
        "    if buckets[freq] == 0:\n",
        "      buckets[freq] = [num]\n",
        "    else:\n",
        "      buckets[freq].append(num)\n",
        "  ret = []\n",
        "  for i in range(n, -1, -1):\n",
        "    if buckets[i] != 0:\n",
        "      ret.extend(buckets[i])\n",
        "    if len(ret) ==k:\n",
        "      break\n",
        "  return ret\n",
        "  # Time: O(n)\n",
        "  # Space: O(n)"
      ],
      "metadata": {
        "id": "1cJF7lPwc4Id"
      },
      "execution_count": 149,
      "outputs": []
    },
    {
      "cell_type": "code",
      "source": [
        "# Leetcode: 973 - K closest points to origin - heaps\n",
        "import heapq\n",
        "def kClosest(points: List[List[int]], k: int) -> List[List[int]]:\n",
        "  def dist(x,y):\n",
        "    return x**2 + y**2\n",
        "  heap = []\n",
        "  for x,y in points:\n",
        "    d = dist(x, y)\n",
        "    if len(heap) < k:\n",
        "      heapq.heappush(heap, (-d,x,y))\n",
        "      print(heap)\n",
        "    else:\n",
        "      heapq.heappushpop(heap, (-d,x,y))\n",
        "      print(heap)\n",
        "\n",
        "  return [(x,y) for d,x,y in heap]\n",
        "  # Time: O(n log k)\n",
        "  # Space: O(k)"
      ],
      "metadata": {
        "id": "JRAyzUmn7wu6"
      },
      "execution_count": 150,
      "outputs": []
    },
    {
      "cell_type": "code",
      "source": [
        "kClosest([[1,1],[2,2],[3,3],[4,4],[5,5]], 2)\n",
        "# -1, -2, -3 , -4, -5\n",
        "# min heap = 1-2-3-4-5\n",
        "# max hep=  -5, -4, -3, -2 , -1"
      ],
      "metadata": {
        "colab": {
          "base_uri": "https://localhost:8080/"
        },
        "id": "J04cxPib8c9R",
        "outputId": "b1e0eb15-5f8f-40e4-f040-6c39245dca71"
      },
      "execution_count": 151,
      "outputs": [
        {
          "output_type": "stream",
          "name": "stdout",
          "text": [
            "[(-2, 1, 1)]\n",
            "[(-8, 2, 2), (-2, 1, 1)]\n",
            "[(-8, 2, 2), (-2, 1, 1)]\n",
            "[(-8, 2, 2), (-2, 1, 1)]\n",
            "[(-8, 2, 2), (-2, 1, 1)]\n"
          ]
        },
        {
          "output_type": "execute_result",
          "data": {
            "text/plain": [
              "[(2, 2), (1, 1)]"
            ]
          },
          "metadata": {},
          "execution_count": 151
        }
      ]
    },
    {
      "cell_type": "code",
      "source": [
        "n = [1,2,3,4,5]\n",
        "heap = heapq.heapify(n)\n"
      ],
      "metadata": {
        "id": "q7V6xgO--cgV"
      },
      "execution_count": 152,
      "outputs": []
    },
    {
      "cell_type": "code",
      "source": [
        "heapq.heappop(n)"
      ],
      "metadata": {
        "colab": {
          "base_uri": "https://localhost:8080/"
        },
        "id": "-S-9FUDy-mOW",
        "outputId": "cecea12b-e2d7-49a4-fea4-d9ea901d0389"
      },
      "execution_count": 153,
      "outputs": [
        {
          "output_type": "execute_result",
          "data": {
            "text/plain": [
              "1"
            ]
          },
          "metadata": {},
          "execution_count": 153
        }
      ]
    },
    {
      "cell_type": "code",
      "source": [
        "def kClosest2(points: List[List[int]], k: int) -> List[List[int]]:\n",
        "  def dist(x,y):\n",
        "    return x**2 + y**2\n",
        "  heap = []\n",
        "  for x,y in points:\n",
        "    d = dist(x, y)\n",
        "    heapq.heappush(heap, (d,x,y))\n",
        "\n",
        "  # After adding all points to the heap, extract the k smallest\n",
        "  result = []\n",
        "  for _ in range(k):\n",
        "      result.append(heapq.heappop(heap)[1:]) # Extract x and y coordinates\n",
        "\n",
        "  return result"
      ],
      "metadata": {
        "id": "Jt9KEAsbURp8"
      },
      "execution_count": 154,
      "outputs": []
    },
    {
      "cell_type": "code",
      "source": [
        "kClosest2([[6,10],[-3,3],[-2,5],[0,2]], 3)"
      ],
      "metadata": {
        "colab": {
          "base_uri": "https://localhost:8080/"
        },
        "id": "q9ywG36kVezz",
        "outputId": "e4982adb-a639-440f-f6e8-0dd9a0578895"
      },
      "execution_count": 155,
      "outputs": [
        {
          "output_type": "execute_result",
          "data": {
            "text/plain": [
              "[(0, 2), (-3, 3), (-2, 5)]"
            ]
          },
          "metadata": {},
          "execution_count": 155
        }
      ]
    },
    {
      "cell_type": "code",
      "source": [
        "# Leetcode 23 - Merge K sorted Linked List - Heaps\n",
        "\n",
        "def mergeKLists(lists: List[Optional[ListNode]]) -> Optional[ListNode]:\n",
        "  heap = []\n",
        "\n",
        "  # [ 1-> 2 -> 3], [2 -> 4 -> 5], [3 -> 6 -> 7]\n",
        "  for i, node in enumerate(lists):\n",
        "    if node:\n",
        "      heapq.heappush(heap, (node.val, i , node)) # heap: 1,1,node1\n",
        "\n",
        "  D = ListNode()\n",
        "  cur = D\n",
        "  while heap:\n",
        "    val, i , node = heapq.heappop(heap)  # popped: 1,1,node1\n",
        "    cur.next = node #( 1 -> 2 ->3)\n",
        "    cur = node\n",
        "    node = node.next #(2-3)\n",
        "    if node:\n",
        "      heapq.heappush(heap, (node.val, i, node))\n",
        "  return D.next\n",
        "  # Time: O(n log k)\n",
        "  # Space: O(k)\n",
        "\n"
      ],
      "metadata": {
        "id": "iCHsfiHJvmDG"
      },
      "execution_count": 156,
      "outputs": []
    },
    {
      "cell_type": "code",
      "source": [
        "from typing import List\n",
        "# Leetcode-78: Subsets - Recursive Backtracking\n",
        "def subsets(nums: List[int]) -> List[List[int]]:\n",
        "  n = len(nums) # 3\n",
        "  # 1,2,3\n",
        "  res, sol = [], []\n",
        "  def bactrack(i):\n",
        "    if i > n: # Added check for out of bounds index\n",
        "        return\n",
        "    if i == n:\n",
        "      res.append(sol[:]) # [],\n",
        "      return\n",
        "\n",
        "    # Dont pick nums[i]\n",
        "    bactrack(i+1)\n",
        "\n",
        "    # Pick nums[i]\n",
        "    sol.append(nums[i])\n",
        "    bactrack(i+1)\n",
        "    sol.pop()\n",
        "  bactrack(0)\n",
        "  return res\n",
        "  # Time: O(2^n)\n",
        "  # Space: O(n)"
      ],
      "metadata": {
        "id": "jh4nSTcJKQ4I"
      },
      "execution_count": 157,
      "outputs": []
    },
    {
      "cell_type": "code",
      "source": [
        "subsets([1,2])"
      ],
      "metadata": {
        "colab": {
          "base_uri": "https://localhost:8080/"
        },
        "id": "l1PmwylkLJkF",
        "outputId": "8b650646-0345-457a-c64c-1b189c85567b"
      },
      "execution_count": 158,
      "outputs": [
        {
          "output_type": "execute_result",
          "data": {
            "text/plain": [
              "[[], [2], [1], [1, 2]]"
            ]
          },
          "metadata": {},
          "execution_count": 158
        }
      ]
    },
    {
      "cell_type": "code",
      "source": [
        "# Leetcode:4 - Permutations- Recursive Backtracking\n",
        "def permute(nums: List[int]) -> List[List[int]]:\n",
        "  n = len(nums)\n",
        "  ans, sol = [], []\n",
        "  # [1,2]\n",
        "  def backtrack():\n",
        "    if len(sol) == n:\n",
        "      ans.append(sol[:])\n",
        "      return\n",
        "    for x in nums:\n",
        "      if x not in sol:\n",
        "        sol.append(x) # sol[1,2,3] ans: [1,2,3]\n",
        "        print(f\"1 {sol}\")\n",
        "        backtrack()\n",
        "        sol.pop()\n",
        "        print(f\"2 {sol}\")\n",
        "  backtrack()\n",
        "  return ans\n",
        "  # Time O(n!)\n",
        "  # Space O(n)"
      ],
      "metadata": {
        "id": "YY20Cw6ARKFJ"
      },
      "execution_count": 159,
      "outputs": []
    },
    {
      "cell_type": "code",
      "source": [
        "permute([1,2])"
      ],
      "metadata": {
        "colab": {
          "base_uri": "https://localhost:8080/"
        },
        "id": "0FGjD9kCSWxm",
        "outputId": "98eee55c-49a3-4bb8-e58c-ed491561b265"
      },
      "execution_count": 160,
      "outputs": [
        {
          "output_type": "stream",
          "name": "stdout",
          "text": [
            "1 [1]\n",
            "1 [1, 2]\n",
            "2 [1]\n",
            "2 []\n",
            "1 [2]\n",
            "1 [2, 1]\n",
            "2 [2]\n",
            "2 []\n"
          ]
        },
        {
          "output_type": "execute_result",
          "data": {
            "text/plain": [
              "[[1, 2], [2, 1]]"
            ]
          },
          "metadata": {},
          "execution_count": 160
        }
      ]
    },
    {
      "cell_type": "code",
      "source": [
        "# Leetcode:77 - Combinations - Recursive Backtracking\n",
        "def combine(n: int, k: int) -> List[List[int]]:\n",
        "  ans, sol = [], []\n",
        "  # n : 4 , k=2\n",
        "  def backtrack(x): # x=4\n",
        "    if len(sol) == k:\n",
        "      ans.append(sol[:])\n",
        "      return\n",
        "    left = x #4\n",
        "    still_need = k - len(sol)  # 2\n",
        "    if left > still_need:\n",
        "      backtrack(x-1)\n",
        "    sol.append(x)\n",
        "    backtrack(x-1)\n",
        "    sol.pop()\n",
        "  backtrack(n)\n",
        "  return ans\n",
        "  # Time: O(N choose k)\n",
        "  # Space: O(N)\n",
        "\n"
      ],
      "metadata": {
        "id": "OSnavRGnTHxP"
      },
      "execution_count": 161,
      "outputs": []
    },
    {
      "cell_type": "code",
      "source": [
        "combine(4,2)"
      ],
      "metadata": {
        "colab": {
          "base_uri": "https://localhost:8080/"
        },
        "id": "PqB4_-v6OlpE",
        "outputId": "75eebd62-6d1d-4bbe-ed80-0f177f34b288"
      },
      "execution_count": 162,
      "outputs": [
        {
          "output_type": "execute_result",
          "data": {
            "text/plain": [
              "[[2, 1], [3, 1], [3, 2], [4, 1], [4, 2], [4, 3]]"
            ]
          },
          "metadata": {},
          "execution_count": 162
        }
      ]
    },
    {
      "cell_type": "code",
      "source": [
        "# Leetcode: 39 - Combination Sum - Recursive Backtracking\n",
        "def combinationSum(candidates: List[int], target: int) -> List[List[int]]:\n",
        "  res, sol = [], []\n",
        "  n = len(candidates)\n",
        "  def backtrack(i, cur_sum):\n",
        "    if cur_sum == target:\n",
        "      res.append(sol[:])\n",
        "      return\n",
        "    if cur_sum > target or i==n:\n",
        "      return\n",
        "    backtrack(i+1, cur_sum)\n",
        "\n",
        "    sol.append(candidates[i])\n",
        "    backtrack(i, cur_sum + candidates[i])\n",
        "    sol.pop()\n",
        "\n",
        "    backtrack(0,0)\n",
        "    return res\n",
        "    # Time: O(n**2)\n",
        "    # Space: 0(n)\n"
      ],
      "metadata": {
        "id": "HQDtcl9TqVo9"
      },
      "execution_count": 163,
      "outputs": []
    },
    {
      "cell_type": "code",
      "source": [
        "# Leetcode: 17- Letter Combinations of a Phone Number\n",
        "def letterCombinations(digits: str) -> List[str]:\n",
        "  if digits == '':\n",
        "    return []\n",
        "  ans, sol = [], []\n",
        "  letter_map = {'2': 'abc', '3': 'def', '4': 'ghi',\n",
        "                '5': 'jkl', '6':'mno', '7':'pqrs', '8':'wxyz'}\n",
        "  n = len(digits)\n",
        "  def backtrack(i=0):\n",
        "    if i ==n:\n",
        "      ans.append(''.join(sol))\n",
        "      return\n",
        "    for letter in letter_map[digits[i]]:\n",
        "      sol.append(letter)\n",
        "      backtrack(i+1)\n",
        "      sol.pop()\n",
        "\n",
        "  backtrack(0)\n",
        "  return ans\n",
        "  # Time: 0(4**n)\n",
        "  # Space: O(n)"
      ],
      "metadata": {
        "id": "bkOtDUP31-H2"
      },
      "execution_count": 164,
      "outputs": []
    },
    {
      "cell_type": "code",
      "source": [
        "letterCombinations(\"23\")"
      ],
      "metadata": {
        "colab": {
          "base_uri": "https://localhost:8080/"
        },
        "id": "f3zD1ljt3KYY",
        "outputId": "11d09b85-a53e-4b82-9b4b-94e892f71348"
      },
      "execution_count": 165,
      "outputs": [
        {
          "output_type": "execute_result",
          "data": {
            "text/plain": [
              "['ad', 'ae', 'af', 'bd', 'be', 'bf', 'cd', 'ce', 'cf']"
            ]
          },
          "metadata": {},
          "execution_count": 165
        }
      ]
    },
    {
      "cell_type": "code",
      "source": [
        "# Leetcode 22: Generate Parenthesis- Recursive Backtracking\n",
        "def generateParenthesis(n: int) -> List[str]:\n",
        "  ans, sol = [], []\n",
        "  def backtrack(open, close):\n",
        "    if len(sol) == 2*n:\n",
        "      ans.append(''.join(sol))\n",
        "      return\n",
        "    if open < n:\n",
        "      sol.append('(')\n",
        "      backtrack(open+1, close)\n",
        "      sol.pop()\n",
        "    if open > close:\n",
        "      sol.append(')')\n",
        "      backtrack(open, close+1)\n",
        "      sol.pop()\n",
        "\n",
        "  backtrack(0,0)\n",
        "  return ans\n",
        "    # Time: O(2**n)\n",
        "    # Space: O(2n) means 0(n)"
      ],
      "metadata": {
        "id": "2cOJW3bMYISe"
      },
      "execution_count": 166,
      "outputs": []
    },
    {
      "cell_type": "code",
      "source": [
        "generateParenthesis(3)"
      ],
      "metadata": {
        "colab": {
          "base_uri": "https://localhost:8080/"
        },
        "id": "TibQUjmrZQlK",
        "outputId": "e48439df-9e5e-461d-e0a9-023c36d4216d"
      },
      "execution_count": 167,
      "outputs": [
        {
          "output_type": "execute_result",
          "data": {
            "text/plain": [
              "['((()))', '(()())', '(())()', '()(())', '()()()']"
            ]
          },
          "metadata": {},
          "execution_count": 167
        }
      ]
    },
    {
      "cell_type": "code",
      "source": [
        "# Leetcode:79 - Word Search - Recursive Backtracking\n",
        "def exist(board: List[List[str]], word: str) -> bool:\n",
        "  m = len(board)\n",
        "  n = len(board[0])\n",
        "  W = len(word)\n",
        "  if m==1 and n==1:\n",
        "    return board[0][0] == word\n",
        "\n",
        "  def backtrack(pos, index):\n",
        "    i,j = pos\n",
        "    if index == W:\n",
        "      return True\n",
        "    if board[i][j] != word[index]:\n",
        "      return False\n",
        "    char = board[i][j]\n",
        "    board[i][j] = '#'\n",
        "    for i_off, j_off in [(0,1),(1,0),(0,-1),(-1,0)]:\n",
        "      r,c = i+i_off , j+j_off # r=0, c = 1\n",
        "      if  0<=r and 0 <= c < n:\n",
        "        if backtrack((r,c), index+1):\n",
        "          return True\n",
        "    board[i][j] = char\n",
        "    return False\n",
        "\n",
        "  for i in range(m):\n",
        "      for j in range(n):\n",
        "        if backtrack((i,j), 0):\n",
        "\n",
        "          return True\n",
        "  return False\n",
        "  # Time: O((m*n)**2)\n",
        "  # Space: O(L) where L is the len of word"
      ],
      "metadata": {
        "id": "TqgjDViMdHEM"
      },
      "execution_count": 168,
      "outputs": []
    },
    {
      "cell_type": "code",
      "source": [
        "exist([['a','b','c'],['a','f','t'],['b','c','a']],  \"ab\" )"
      ],
      "metadata": {
        "colab": {
          "base_uri": "https://localhost:8080/"
        },
        "id": "jHMtqEYUhcIM",
        "outputId": "fd6e03eb-10dc-4541-b737-0f1b9fe30865"
      },
      "execution_count": 169,
      "outputs": [
        {
          "output_type": "execute_result",
          "data": {
            "text/plain": [
              "True"
            ]
          },
          "metadata": {},
          "execution_count": 169
        }
      ]
    },
    {
      "cell_type": "code",
      "source": [
        "from collections import defaultdict\n",
        "edges = [[0,1],[1,2],[1,2]]\n",
        "graph = defaultdict(list)\n",
        "for u,v in edges:\n",
        "  graph[u].append(v)\n",
        "  graph[v].append(u)"
      ],
      "metadata": {
        "id": "PqfxJb192xsb"
      },
      "execution_count": 170,
      "outputs": []
    },
    {
      "cell_type": "code",
      "source": [
        "graph"
      ],
      "metadata": {
        "colab": {
          "base_uri": "https://localhost:8080/"
        },
        "id": "3opWEzPG3VAE",
        "outputId": "712f8db9-5cc2-40ce-ff60-a11f3ce37e78"
      },
      "execution_count": 171,
      "outputs": [
        {
          "output_type": "execute_result",
          "data": {
            "text/plain": [
              "defaultdict(list, {0: [1], 1: [0, 2, 2], 2: [1, 1]})"
            ]
          },
          "metadata": {},
          "execution_count": 171
        }
      ]
    },
    {
      "cell_type": "code",
      "source": [
        "# Leetcode 1971- Find if Path Exists in Graph - Graphs\n",
        "from typing import List\n",
        "from collections import defaultdict\n",
        "#1. DFS with Recursion\n",
        "def validPath(n: int, edges: List[List[int]], source: int, destination: int) -> bool:\n",
        "  if source == destination:\n",
        "    return True\n",
        "  graph = defaultdict(list)\n",
        "  for u,v in edges:\n",
        "    graph[u].append(v)\n",
        "    graph[v].append(u)\n",
        "  seen = set()\n",
        "  seen.add(source)\n",
        "# edges: [0,1], [1,2], [[1,2]]\n",
        "# source: 0, destin=2\n",
        "# defaultdict(list, {0: [1], 1: [0, 2, 2], 2: [1, 1]})\n",
        "  def dfs(i):\n",
        "    if i == destination:\n",
        "      return True\n",
        "    for nei_node in graph[i]:\n",
        "      if nei_node not in seen:\n",
        "        seen.add(nei_node) # seen: 0,1,2\n",
        "        if dfs(nei_node):\n",
        "          return True\n",
        "  return dfs(source)\n"
      ],
      "metadata": {
        "id": "5IxUnqGf2MW-"
      },
      "execution_count": 172,
      "outputs": []
    },
    {
      "cell_type": "code",
      "source": [
        "validPath(3, [[0,1],[1,2],[1,2]], 0,2 )"
      ],
      "metadata": {
        "colab": {
          "base_uri": "https://localhost:8080/"
        },
        "id": "pouetfRk6jfB",
        "outputId": "84211083-8588-4927-9edf-25bf7097d1d5"
      },
      "execution_count": 173,
      "outputs": [
        {
          "output_type": "execute_result",
          "data": {
            "text/plain": [
              "True"
            ]
          },
          "metadata": {},
          "execution_count": 173
        }
      ]
    },
    {
      "cell_type": "code",
      "source": [
        "#1. DFS with Stack(iterative)\n",
        "def validPath2(n: int, edges: List[List[int]], source: int, destination: int) -> bool:\n",
        "  if source == destination:\n",
        "    return True\n",
        "  graph = defaultdict(list)\n",
        "  for u,v in edges:\n",
        "    graph[u].append(v)\n",
        "    graph[v].append(u)\n",
        "  seen = set()\n",
        "  seen.add(source)\n",
        "# edges: [0,1], [1,2], [[1,2]]\n",
        "# source: 0, destin=2\n",
        "# defaultdict(list, {0: [1], 1: [0, 2, 2], 2: [1, 1]})\n",
        "\n",
        "  stack = [source]\n",
        "  while stack:\n",
        "    node = stack.pop()\n",
        "    if node == destination:\n",
        "      return True\n",
        "    for nei in graph[node]:\n",
        "      if nei not in seen:\n",
        "        seen.add(nei)\n",
        "        stack.append(nei)\n",
        "\n",
        "  return False\n"
      ],
      "metadata": {
        "id": "E41BxNjd6IEr"
      },
      "execution_count": 174,
      "outputs": []
    },
    {
      "cell_type": "code",
      "source": [
        "validPath2(3, [[0,1],[1,2],[1,2]], 0,2 )"
      ],
      "metadata": {
        "colab": {
          "base_uri": "https://localhost:8080/"
        },
        "id": "LeWfVWrA7zoo",
        "outputId": "db59d207-cb39-4745-eb69-04407d6ab22c"
      },
      "execution_count": 175,
      "outputs": [
        {
          "output_type": "execute_result",
          "data": {
            "text/plain": [
              "True"
            ]
          },
          "metadata": {},
          "execution_count": 175
        }
      ]
    },
    {
      "cell_type": "code",
      "source": [
        "#1. BFS with Deque\n",
        "from collections import deque\n",
        "def validPath3(n: int, edges: List[List[int]], source: int, destination: int) -> bool:\n",
        "  if source == destination:\n",
        "    return True\n",
        "  graph = defaultdict(list)\n",
        "  for u,v in edges:\n",
        "    graph[u].append(v)\n",
        "    graph[v].append(u)\n",
        "  seen = set()\n",
        "  seen.add(source)\n",
        "# edges: [0,1], [1,2], [[1,2]]\n",
        "# source: 0, destin=2\n",
        "# defaultdict(list, {0: [1], 1: [0, 2, 2], 2: [1, 1]})\n",
        "\n",
        "  q = deque()\n",
        "  q.append(source)\n",
        "  while q:\n",
        "    node = stack.popleft()\n",
        "    if node == destination:\n",
        "      return True\n",
        "    for nei in graph[node]:\n",
        "      if nei not in seen:\n",
        "        seen.add(nei)\n",
        "        q.append(nei)  #0,2\n",
        "\n",
        "  return False\n",
        "\n",
        "  # Time: O(N+E), Space: O(N + E) for 3 solutions"
      ],
      "metadata": {
        "id": "5D54fe_Z73u7"
      },
      "execution_count": 176,
      "outputs": []
    },
    {
      "cell_type": "code",
      "source": [
        "# Leetcode:200 - Number of Islands - Graphs\n",
        "def numIslands(grid: List[List[str]]) -> int:\n",
        "  m,n = len(grid), len(grid[0])\n",
        "  def dfs(i,j):\n",
        "    if i<0 or i>=m or j<0 or j>=n or grid[i][j] != \"1\":\n",
        "      return\n",
        "    else:\n",
        "      grid[i][j] = 0\n",
        "      dfs(i, j+1)\n",
        "      dfs(i+1, j)\n",
        "      dfs(i, j-1)\n",
        "      dfs(i-1, j)\n",
        "\n",
        "  number_island = 0\n",
        "  for i in range(m):\n",
        "    for j in range(n):\n",
        "      if grid[i][j] == '1':\n",
        "        number_island +=1\n",
        "        dfs(i,j)\n",
        "  return number_island\n",
        "  # Time: O(m*n)\n",
        "  # Space: 0(m*n)\n",
        ""
      ],
      "metadata": {
        "id": "am1XQJbz2Ryd"
      },
      "execution_count": 177,
      "outputs": []
    },
    {
      "cell_type": "code",
      "source": [
        "# Leetcode: 695 - Max Area of Island - Graphs\n",
        "def maxAreaOfIsland(grid: List[List[int]]) -> int:\n",
        "  m,n = len(grid), len(grid[0])\n",
        "  def dfs(i,j):\n",
        "    if i<0 or i>=m or j<0 or j>=n or grid[i][j] != 1:\n",
        "      return 0\n",
        "    else:\n",
        "      grid[i][j] = 0\n",
        "      return 1 + dfs(i+1, j) + dfs(i, j-1) + dfs(i-1,  j) + dfs(i, j+1)\n",
        "  max_area = 0\n",
        "  for i in range(m):\n",
        "    for j in range(n):\n",
        "      if grid[i][j] == 1:\n",
        "        max_area = max(max_area, dfs(i,j))\n",
        "\n",
        "  return max_area\n",
        "  # Time: O(m*n)\n",
        "  # Space: O(m*n)\n"
      ],
      "metadata": {
        "id": "lw2Xpeh772R_"
      },
      "execution_count": 178,
      "outputs": []
    },
    {
      "cell_type": "code",
      "source": [
        "maxAreaOfIsland([[1,1,0], [0,0,0], [1,1,1]])"
      ],
      "metadata": {
        "colab": {
          "base_uri": "https://localhost:8080/"
        },
        "id": "chY0fosT87Cw",
        "outputId": "89da8b9e-b4f1-43ca-e383-60d0fa24ea36"
      },
      "execution_count": 179,
      "outputs": [
        {
          "output_type": "execute_result",
          "data": {
            "text/plain": [
              "3"
            ]
          },
          "metadata": {},
          "execution_count": 179
        }
      ]
    },
    {
      "cell_type": "code",
      "source": [
        "classes = [[1,2],[2,4],[4,6]]\n",
        "graph = defaultdict(list)\n",
        "graph2 = defaultdict(list)\n",
        "for u,v in classes:\n",
        "    graph[u] = v\n",
        "for u,v in classes:\n",
        "    graph2[u].append(v)\n",
        "\n"
      ],
      "metadata": {
        "id": "-7UwGHHsYGOc"
      },
      "execution_count": 180,
      "outputs": []
    },
    {
      "cell_type": "code",
      "source": [
        "graph, graph2"
      ],
      "metadata": {
        "colab": {
          "base_uri": "https://localhost:8080/"
        },
        "id": "oFCvzVaLYRRG",
        "outputId": "8a0dac00-219f-47a0-f836-404113df7399"
      },
      "execution_count": 181,
      "outputs": [
        {
          "output_type": "execute_result",
          "data": {
            "text/plain": [
              "(defaultdict(list, {1: 2, 2: 4, 4: 6}),\n",
              " defaultdict(list, {1: [2], 2: [4], 4: [6]}))"
            ]
          },
          "metadata": {},
          "execution_count": 181
        }
      ]
    },
    {
      "cell_type": "code",
      "source": [
        "# Leetcode:207 - Course Schedule - Graphs\n",
        "def canFinish(numCourses: int, prerequisites: List[List[int]]) -> bool:\n",
        "  g = defaultdict(list)\n",
        "  for u,v in prerequisites:\n",
        "    graph[u].append(v)\n",
        "\n",
        "  UNVISITED = 0\n",
        "  VISITING = 1\n",
        "  VISITED = 2\n",
        "  states = [UNVISITED] * numCourses\n",
        "  def dfs(node):\n",
        "    state = states[node]\n",
        "    if state == VISITED:\n",
        "      return True\n",
        "    elif state == VISITING:\n",
        "      return False\n",
        "    states[node] = VISITING\n",
        "    for nei in g[node]:\n",
        "      if not dfs(nei):\n",
        "        return False\n",
        "    states[node] = VISITED\n",
        "    return True\n",
        "  for i in range(numCourses):\n",
        "    if not dfs(i):\n",
        "      return False\n",
        "  return True\n",
        "  # Time: O(N + E)\n",
        "  # Space: O(N)"
      ],
      "metadata": {
        "id": "loHDBjG1X41L"
      },
      "execution_count": 182,
      "outputs": []
    }
  ]
}