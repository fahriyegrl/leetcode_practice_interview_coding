{
  "nbformat": 4,
  "nbformat_minor": 0,
  "metadata": {
    "colab": {
      "provenance": [],
      "authorship_tag": "ABX9TyOqMTg41lGRs48LWKrh5DO/",
      "include_colab_link": true
    },
    "kernelspec": {
      "name": "python3",
      "display_name": "Python 3"
    },
    "language_info": {
      "name": "python"
    }
  },
  "cells": [
    {
      "cell_type": "markdown",
      "metadata": {
        "id": "view-in-github",
        "colab_type": "text"
      },
      "source": [
        "<a href=\"https://colab.research.google.com/github/fahriyegrl/leetcode_practice_interview_coding/blob/main/Data_Structures_%26_Algorithms.ipynb\" target=\"_parent\"><img src=\"https://colab.research.google.com/assets/colab-badge.svg\" alt=\"Open In Colab\"/></a>"
      ]
    },
    {
      "cell_type": "code",
      "execution_count": 1,
      "metadata": {
        "colab": {
          "base_uri": "https://localhost:8080/"
        },
        "id": "2lD9cEImWx8H",
        "outputId": "88cc2c23-6211-4e80-b029-3078cfc74413"
      },
      "outputs": [
        {
          "output_type": "stream",
          "name": "stdout",
          "text": [
            "[-4, -3, -3, 1, 2, 2, 2, 3, 7]\n"
          ]
        }
      ],
      "source": [
        "# Bubble Sort Time: O(n^2), Space: O(n)\n",
        "\n",
        "A= [-4,3,2,1,-3,-3,7,2,2]\n",
        "\n",
        "def bubble_sort(arr):\n",
        "  n=len(arr)\n",
        "  flag= True\n",
        "  while flag:\n",
        "    flag=False\n",
        "    for i in range(1,n):\n",
        "      if arr[i-1] > arr[i]:\n",
        "        flag=True\n",
        "        arr[i-1], arr[i]= arr[i], arr[i-1]\n",
        "  return arr\n",
        "\n",
        "print(bubble_sort(A))"
      ]
    },
    {
      "cell_type": "code",
      "source": [
        "# Insertion Sort Time: O(n^2), Space: O(1)\n",
        "\n",
        "def insertion_sort(arr):\n",
        "  n = len(arr)\n",
        "  for i in range(1,n):\n",
        "    for j in range(i,0,-1):\n",
        "      if arr[j-1] > arr[j]:\n",
        "        arr[j-1], arr[j]= arr[j], arr[j-1]\n",
        "  return arr\n",
        "\n",
        "print(insertion_sort(A))"
      ],
      "metadata": {
        "colab": {
          "base_uri": "https://localhost:8080/"
        },
        "id": "NdDiFeLgX0pU",
        "outputId": "17a04b1e-f009-488f-de41-a04c6d0cb61d"
      },
      "execution_count": 2,
      "outputs": [
        {
          "output_type": "stream",
          "name": "stdout",
          "text": [
            "[-4, -3, -3, 1, 2, 2, 2, 3, 7]\n"
          ]
        }
      ]
    },
    {
      "cell_type": "code",
      "source": [
        "#Selection Sort Time: O(n^2), Space: O(1)\n",
        "\n",
        "C= [-3,3,2,1,-5,-6,7,2,2]\n",
        "\n",
        "def selection_sort(arr):\n",
        "  n = len(arr)\n",
        "  for i in range(n):\n",
        "    min_index = i\n",
        "    for j in range(i+1,n):\n",
        "      if arr[j] < arr[min_index]:\n",
        "        min_index=j\n",
        "    arr[i], arr[min_index] = arr[min_index], arr[i]\n",
        "\n",
        "selection_sort(C)\n",
        "print(C)"
      ],
      "metadata": {
        "colab": {
          "base_uri": "https://localhost:8080/"
        },
        "id": "gypGSllsbU4X",
        "outputId": "724a887f-d09f-4209-c7b5-266b1d94719b"
      },
      "execution_count": 3,
      "outputs": [
        {
          "output_type": "stream",
          "name": "stdout",
          "text": [
            "[-6, -5, -3, 1, 2, 2, 2, 3, 7]\n"
          ]
        }
      ]
    },
    {
      "cell_type": "code",
      "source": [
        "# Merge Sort Time: O(n log n), Space: O(n)\n",
        "\n",
        "D = [-5,3,2,1,-3,-3,7,2,2]\n",
        "\n",
        "def merge_sort(arr):\n",
        "  n= len(arr)\n",
        "  if n==1:\n",
        "    return arr\n",
        "  m = len(arr) // 2\n",
        "  L= arr[:m]\n",
        "  R=arr[m:]\n",
        "  L= merge_sort(L)\n",
        "  R= merge_sort(R)\n",
        "\n",
        "  l,r = 0,0\n",
        "  L_len = len(L)\n",
        "  R_len = len(R)\n",
        "\n",
        "  sorted_arr = [0] *n\n",
        "  i = 0\n",
        "  while l<L_len and r<R_len:\n",
        "    if L[l] < R[r]:\n",
        "      sorted_arr[i] = L[l]\n",
        "      l+=1\n",
        "    else:\n",
        "      sorted_arr[i] = R[r]\n",
        "      r+=1\n",
        "    i+=1\n",
        "\n",
        "  while l<L_len:\n",
        "      sorted_arr[i] = L[l]\n",
        "      l+=1\n",
        "      i+-1\n",
        "  while r<R_len:\n",
        "      sorted_arr[i] = R[r]\n",
        "      r+=1\n",
        "      i +=1\n",
        "  return sorted_arr\n",
        "\n"
      ],
      "metadata": {
        "id": "VPLykai9O5-a"
      },
      "execution_count": 4,
      "outputs": []
    },
    {
      "cell_type": "code",
      "source": [
        "merge_sort(D)"
      ],
      "metadata": {
        "colab": {
          "base_uri": "https://localhost:8080/"
        },
        "id": "46hMVaYzPtFm",
        "outputId": "7feef757-2ad0-4b77-ed9e-8663476488fb"
      },
      "execution_count": 5,
      "outputs": [
        {
          "output_type": "execute_result",
          "data": {
            "text/plain": [
              "[-5, -3, -3, 1, 2, 2, 2, 3, 7]"
            ]
          },
          "metadata": {},
          "execution_count": 5
        }
      ]
    },
    {
      "cell_type": "code",
      "source": [
        "# Quick Sort Time:O(n log n), Space: O(n)\n",
        "\n",
        "E= [-5,3,2,1,-3,-3,7,2,2]\n",
        "\n",
        "def quick_sort(arr):\n",
        "  if len(arr) <2:\n",
        "    return arr\n",
        "\n",
        "  p = arr[-1]\n",
        "\n",
        "  L= [x for x in arr[:-1] if x <= p]\n",
        "  R= [x for x in arr[:-1] if x > p]\n",
        "\n",
        "  L= quick_sort(L)\n",
        "  R= quick_sort(R)\n",
        "\n",
        "  return L + [p] + R\n",
        "\n",
        "quick_sort(E)"
      ],
      "metadata": {
        "colab": {
          "base_uri": "https://localhost:8080/"
        },
        "id": "_NH58-Ujpu2x",
        "outputId": "45ce756e-be2f-4467-94e7-320958c2c5e7"
      },
      "execution_count": 6,
      "outputs": [
        {
          "output_type": "execute_result",
          "data": {
            "text/plain": [
              "[-5, -3, -3, 1, 2, 2, 2, 3, 7]"
            ]
          },
          "metadata": {},
          "execution_count": 6
        }
      ]
    },
    {
      "cell_type": "code",
      "source": [
        "# Counting Sort Time: O(n+k) where k is the range of data\n",
        "#stick with the positive array\n",
        "# k is the max of the array\n",
        "# space: O(k)\n",
        "\n",
        "F= [5,3,2,1,3,3,7,2,2]\n",
        "def counting_sort(arr):\n",
        "  n= len(arr)\n",
        "  maxx = max(arr)\n",
        "  counts = [0] * (maxx+1)\n",
        "\n",
        "  for x in arr:\n",
        "    counts[x] +=1\n",
        "  i=0\n",
        "\n",
        "  for c in range(maxx+1):\n",
        "    while counts[c] > 0:\n",
        "      arr[i] = c\n",
        "      i +=1\n",
        "      counts[c] -=1\n"
      ],
      "metadata": {
        "id": "gxe7Bv_DBerj"
      },
      "execution_count": 7,
      "outputs": []
    },
    {
      "cell_type": "code",
      "source": [
        "counting_sort(F)\n",
        "print(F)"
      ],
      "metadata": {
        "id": "xoAOL-hCCZcu",
        "colab": {
          "base_uri": "https://localhost:8080/"
        },
        "outputId": "236ccaa9-ce91-4104-cf06-678398f5d588"
      },
      "execution_count": 8,
      "outputs": [
        {
          "output_type": "stream",
          "name": "stdout",
          "text": [
            "[1, 2, 2, 2, 3, 3, 3, 5, 7]\n"
          ]
        }
      ]
    },
    {
      "cell_type": "code",
      "source": [
        "# Graphs - Edge List - Adjacency Matrix - Adjacency List - DFS, BFS\n",
        "\n",
        "# Array of Edges (Directed) [Start, End]\n",
        "\n",
        "n=8\n",
        "A = [[0,1], [1,2], [0,3], [3,4], [3,6], [3,7],[4,2], [4,5], [5,2]]\n",
        "\n",
        "print(A)"
      ],
      "metadata": {
        "colab": {
          "base_uri": "https://localhost:8080/"
        },
        "id": "_2-YgCVE7mtu",
        "outputId": "41f7d75e-8ab0-426e-9c1a-722c56be4b63"
      },
      "execution_count": 9,
      "outputs": [
        {
          "output_type": "stream",
          "name": "stdout",
          "text": [
            "[[0, 1], [1, 2], [0, 3], [3, 4], [3, 6], [3, 7], [4, 2], [4, 5], [5, 2]]\n"
          ]
        }
      ]
    },
    {
      "cell_type": "code",
      "source": [
        "# Converting array of Edges ---> Adjacency Matrix\n",
        "\n",
        "M=[]\n",
        "\n",
        "for i in range(n):\n",
        "  M.append([0] * n)\n",
        "M"
      ],
      "metadata": {
        "colab": {
          "base_uri": "https://localhost:8080/"
        },
        "id": "cJqa6QviuWUH",
        "outputId": "ffd3dccc-7f0d-42b5-a7d4-1b694569f44c"
      },
      "execution_count": 10,
      "outputs": [
        {
          "output_type": "execute_result",
          "data": {
            "text/plain": [
              "[[0, 0, 0, 0, 0, 0, 0, 0],\n",
              " [0, 0, 0, 0, 0, 0, 0, 0],\n",
              " [0, 0, 0, 0, 0, 0, 0, 0],\n",
              " [0, 0, 0, 0, 0, 0, 0, 0],\n",
              " [0, 0, 0, 0, 0, 0, 0, 0],\n",
              " [0, 0, 0, 0, 0, 0, 0, 0],\n",
              " [0, 0, 0, 0, 0, 0, 0, 0],\n",
              " [0, 0, 0, 0, 0, 0, 0, 0]]"
            ]
          },
          "metadata": {},
          "execution_count": 10
        }
      ]
    },
    {
      "cell_type": "code",
      "source": [
        "for u,v in A:\n",
        "  M[u][v] = 1\n",
        "M"
      ],
      "metadata": {
        "colab": {
          "base_uri": "https://localhost:8080/"
        },
        "id": "sP8vAhBau813",
        "outputId": "0d3ac820-7050-4cf1-9041-2d400852c442"
      },
      "execution_count": 11,
      "outputs": [
        {
          "output_type": "execute_result",
          "data": {
            "text/plain": [
              "[[0, 1, 0, 1, 0, 0, 0, 0],\n",
              " [0, 0, 1, 0, 0, 0, 0, 0],\n",
              " [0, 0, 0, 0, 0, 0, 0, 0],\n",
              " [0, 0, 0, 0, 1, 0, 1, 1],\n",
              " [0, 0, 1, 0, 0, 1, 0, 0],\n",
              " [0, 0, 1, 0, 0, 0, 0, 0],\n",
              " [0, 0, 0, 0, 0, 0, 0, 0],\n",
              " [0, 0, 0, 0, 0, 0, 0, 0]]"
            ]
          },
          "metadata": {},
          "execution_count": 11
        }
      ]
    },
    {
      "cell_type": "code",
      "source": [
        "# Converting Array of Edges ---> Adjacency List\n",
        "from collections import defaultdict\n",
        "\n",
        "D = defaultdict(list)\n",
        "\n",
        "for u,v in A:\n",
        "  D[u].append(v)\n",
        "D"
      ],
      "metadata": {
        "colab": {
          "base_uri": "https://localhost:8080/"
        },
        "id": "3Qr4y-mYvI90",
        "outputId": "0cf59299-0d8f-490e-da61-78545ba5f453"
      },
      "execution_count": 12,
      "outputs": [
        {
          "output_type": "execute_result",
          "data": {
            "text/plain": [
              "defaultdict(list, {0: [1, 3], 1: [2], 3: [4, 6, 7], 4: [2, 5], 5: [2]})"
            ]
          },
          "metadata": {},
          "execution_count": 12
        }
      ]
    },
    {
      "cell_type": "code",
      "source": [
        "# DFS with Recursion - O(V + E) where V is the number of thenodes and E is the edges\n",
        "\n",
        "def dfs_recursive(node):\n",
        "  print(node)\n",
        "  for nei in D[node]:\n",
        "    if nei not in seen:\n",
        "      seen.add(nei)\n",
        "      dfs_recursive(nei)\n",
        "\n",
        "source = 0\n",
        "seen = set()\n",
        "seen.add(source)\n",
        "dfs_recursive(source)"
      ],
      "metadata": {
        "colab": {
          "base_uri": "https://localhost:8080/"
        },
        "id": "86i_CjnXvvDM",
        "outputId": "9f8a7ad0-576b-4609-ee5e-7551e3751e3c"
      },
      "execution_count": 13,
      "outputs": [
        {
          "output_type": "stream",
          "name": "stdout",
          "text": [
            "0\n",
            "1\n",
            "2\n",
            "3\n",
            "4\n",
            "5\n",
            "6\n",
            "7\n"
          ]
        }
      ]
    },
    {
      "cell_type": "code",
      "source": [
        "# Iterative DFS with stack - O(V+ E)\n",
        "\n",
        "source = 0\n",
        "seen = set()\n",
        "seen.add(source)\n",
        "stack = [source]\n",
        "\n",
        "while stack:\n",
        "  node = stack.pop()\n",
        "  print(node)\n",
        "  for nei in D[node]:\n",
        "    if nei not in seen:\n",
        "      seen.add(nei)\n",
        "      stack.append(nei)"
      ],
      "metadata": {
        "colab": {
          "base_uri": "https://localhost:8080/"
        },
        "id": "SOo46J3Dw3kY",
        "outputId": "b6ac4416-66b9-49c8-eb05-6857a202c8a0"
      },
      "execution_count": 14,
      "outputs": [
        {
          "output_type": "stream",
          "name": "stdout",
          "text": [
            "0\n",
            "3\n",
            "7\n",
            "6\n",
            "4\n",
            "5\n",
            "2\n",
            "1\n"
          ]
        }
      ]
    },
    {
      "cell_type": "code",
      "source": [
        "# BFS (Queue) - O(V+E)\n",
        "source = 0\n",
        "\n",
        "from collections import deque\n",
        "seen = set()\n",
        "seen.add(source)\n",
        "q = deque()\n",
        "q.append(source)\n",
        "\n",
        "while q:\n",
        "  node = q.popleft()\n",
        "  print(node)\n",
        "\n",
        "  for nei in D[node]:\n",
        "    if nei not in seen:\n",
        "      seen.add(nei)\n",
        "      q.append(nei)"
      ],
      "metadata": {
        "colab": {
          "base_uri": "https://localhost:8080/"
        },
        "id": "HKjH-okwyOih",
        "outputId": "6cd7ba49-733e-47aa-cfb6-74ba81efa0c4"
      },
      "execution_count": 15,
      "outputs": [
        {
          "output_type": "stream",
          "name": "stdout",
          "text": [
            "0\n",
            "1\n",
            "3\n",
            "2\n",
            "4\n",
            "6\n",
            "7\n",
            "5\n"
          ]
        }
      ]
    },
    {
      "cell_type": "code",
      "source": [
        "class Node:\n",
        "  def __init__(self, value):\n",
        "    self.value = value\n",
        "    self.neighbor = []\n",
        "\n",
        "  def str(self):\n",
        "    return f'Node({self.value})'\n",
        "\n",
        "  def display(self):\n",
        "    connections = [node.value for node in self.neighbor]\n",
        "    return f'{self.value} is connected to: {connections}'\n",
        "\n",
        "A = Node('A')\n",
        "B = Node('B')\n",
        "C = Node('C')\n",
        "D = Node('D')\n",
        "\n",
        "A.neighbor = [B,D]\n",
        "B.neighbor = [A,C,D]\n",
        "C.neighbor = [B]\n",
        "D.neighbor = [A,B,C]\n",
        "\n",
        "print(A.display())"
      ],
      "metadata": {
        "colab": {
          "base_uri": "https://localhost:8080/"
        },
        "id": "w0_lbYvjzFq2",
        "outputId": "a32eb258-6008-4916-a456-b814b1c4a0d0"
      },
      "execution_count": 16,
      "outputs": [
        {
          "output_type": "stream",
          "name": "stdout",
          "text": [
            "A is connected to: ['B', 'D']\n"
          ]
        }
      ]
    },
    {
      "cell_type": "code",
      "source": [
        "print(A)"
      ],
      "metadata": {
        "colab": {
          "base_uri": "https://localhost:8080/"
        },
        "id": "X3__jNSvz8DW",
        "outputId": "6bd67d66-7f7d-4789-e82b-7b29aa06ee1a"
      },
      "execution_count": 17,
      "outputs": [
        {
          "output_type": "stream",
          "name": "stdout",
          "text": [
            "<__main__.Node object at 0x7cd2e3049820>\n"
          ]
        }
      ]
    },
    {
      "cell_type": "code",
      "source": [
        "# 2 Pointers: Squares of a Sorted Array\n",
        "from typing import List\n",
        "# Time: O(n),  Space:O(n)\n",
        "def sortedSquares(nums: List[int]) -> List[int]:\n",
        "  left = 0\n",
        "  right = len(nums) - 1\n",
        "  result = []\n",
        "\n",
        "  while left<right:\n",
        "    if abs(nums[left]) > abs(nums[right]):\n",
        "      result.append(nums[left] **2)\n",
        "      left +=1\n",
        "    else:\n",
        "      result.append(nums[right] **2)\n",
        "      right-=1\n",
        "  result.reverse\n",
        "  return result"
      ],
      "metadata": {
        "id": "RI_APtssFKy1"
      },
      "execution_count": 18,
      "outputs": []
    },
    {
      "cell_type": "code",
      "source": [
        "my_list = [-7,-4,0,1,10]\n",
        "sortedSquares(my_list)"
      ],
      "metadata": {
        "colab": {
          "base_uri": "https://localhost:8080/"
        },
        "id": "VY58Tp8TGNhe",
        "outputId": "369df20a-80d4-4505-e6ff-7514a2252725"
      },
      "execution_count": 19,
      "outputs": [
        {
          "output_type": "execute_result",
          "data": {
            "text/plain": [
              "[100, 49, 16, 1]"
            ]
          },
          "metadata": {},
          "execution_count": 19
        }
      ]
    },
    {
      "cell_type": "code",
      "source": [
        "# Sliding Window Algorithm\n",
        "\n",
        "# Longest Substring Without Repeating Characters - Variable Length\n",
        "\n",
        "def lenghtofLongestSubstring(s:str) -> int:\n",
        "  l=0\n",
        "  longest = 0\n",
        "  sett = set()\n",
        "  n= len(s)\n",
        "\n",
        "  for r in range(n):\n",
        "    while s[r] in sett:  #r=4\n",
        "      sett.remove(s[l])\n",
        "\n",
        "      l +=1\n",
        "    w = (r-l) +1\n",
        "    longest = max(longest, w)\n",
        "    sett.add(s[r])\n",
        "    print(sett)\n",
        "\n",
        "  return longest\n",
        "\n",
        "s = \"abcdbac\"  # sett = ,b,c,d ,  l=1\n",
        "s1= \"cklamar\"\n",
        "lenghtofLongestSubstring(s1)"
      ],
      "metadata": {
        "colab": {
          "base_uri": "https://localhost:8080/"
        },
        "id": "oktfvBuGVy8f",
        "outputId": "ac525152-e08e-457d-d3ac-55822bbb1342"
      },
      "execution_count": 20,
      "outputs": [
        {
          "output_type": "stream",
          "name": "stdout",
          "text": [
            "{'c'}\n",
            "{'c', 'k'}\n",
            "{'l', 'c', 'k'}\n",
            "{'a', 'l', 'c', 'k'}\n",
            "{'a', 'c', 'l', 'm', 'k'}\n",
            "{'a', 'm'}\n",
            "{'r', 'a', 'm'}\n"
          ]
        },
        {
          "output_type": "execute_result",
          "data": {
            "text/plain": [
              "5"
            ]
          },
          "metadata": {},
          "execution_count": 20
        }
      ]
    },
    {
      "cell_type": "code",
      "source": [
        "# 643- Maximum Average Subarray - Fixed Variable Sliding Window\n",
        "\n",
        "def findMaxAverage(nums: List[int], k:int) -> float:\n",
        "  n = len(nums)\n",
        "  cur_sum= 0\n",
        "\n",
        "  for i in range(k):\n",
        "    cur_sum += nums[i]\n",
        "\n",
        "  max_avg = cur_sum / k\n",
        "\n",
        "  for i in range(k,n):\n",
        "    cur_sum += nums[i]\n",
        "    cur_sum -= nums[i-k]\n",
        "\n",
        "    avg = cur_sum /k\n",
        "    max_avg= max(max_avg, avg)\n",
        "\n",
        "  return max_avg"
      ],
      "metadata": {
        "id": "KdnJCWCUkcYf"
      },
      "execution_count": 21,
      "outputs": []
    },
    {
      "cell_type": "code",
      "source": [
        "# Recursive Backtracking - Leetcode 78- Subsets\n",
        "\n",
        "def subsets(nums: List[int])  -> List[List[int]]:\n",
        "  n = len(nums)\n",
        "  res, sol = [], []\n",
        "  def backtrack(i):\n",
        "    if i ==n:\n",
        "      res.append(sol[:])\n",
        "      return\n",
        "    #dont pick nums[i]\n",
        "    backtrack(i+1)\n",
        "\n",
        "    # pick nums[i]\n",
        "    sol.append(nums[i])\n",
        "    backtrack(i+1)\n",
        "    sol.pop()\n",
        "\n",
        "  backtrack(0)\n",
        "  return res\n"
      ],
      "metadata": {
        "id": "uQS0CdOFi2mX"
      },
      "execution_count": 22,
      "outputs": []
    },
    {
      "cell_type": "code",
      "source": [
        "mi_list =[1,2,3]\n",
        "subsets(mi_list)"
      ],
      "metadata": {
        "colab": {
          "base_uri": "https://localhost:8080/"
        },
        "id": "d0wyWiMinIfk",
        "outputId": "9e46f334-51ab-452d-b7e2-2f12ca65ec34"
      },
      "execution_count": 23,
      "outputs": [
        {
          "output_type": "execute_result",
          "data": {
            "text/plain": [
              "[[], [3], [2], [2, 3], [1], [1, 3], [1, 2], [1, 2, 3]]"
            ]
          },
          "metadata": {},
          "execution_count": 23
        }
      ]
    },
    {
      "cell_type": "code",
      "source": [
        "# Dynamic Programming - Top Down Memorization\n",
        "# Leet code 509 - Fibonacci Number - Time 0(n), Space 0(n)\n",
        "\n",
        "def fib(n:int) -> int:\n",
        "  memo= {0:0, 1:1} # Fibonacci sequence typically starts with F(0)=0, F(1)=1\n",
        "\n",
        "  def f(x):\n",
        "    if x in memo:\n",
        "      return memo[x]\n",
        "    elif x < 0: # Handle negative input if necessary, though typically Fibonacci is for non-negative integers\n",
        "        return 0\n",
        "    else:\n",
        "      memo[x] = f(x-1) + f(x-2) # Corrected recursive call\n",
        "      return memo[x]\n",
        "  return f(n)"
      ],
      "metadata": {
        "id": "NlHm-Z-2-rPJ"
      },
      "execution_count": 24,
      "outputs": []
    },
    {
      "cell_type": "code",
      "source": [
        "fib(10)"
      ],
      "metadata": {
        "id": "dC4Le1kq_eyL",
        "colab": {
          "base_uri": "https://localhost:8080/"
        },
        "outputId": "9342901e-3def-4db3-e1b0-9a41e8777c82"
      },
      "execution_count": 25,
      "outputs": [
        {
          "output_type": "execute_result",
          "data": {
            "text/plain": [
              "55"
            ]
          },
          "metadata": {},
          "execution_count": 25
        }
      ]
    },
    {
      "cell_type": "code",
      "source": [
        "# Dynamic Programming - Bottom Up Memorization\n",
        "\n",
        "#Method 1: Time: 0(n), Space:0(n)\n",
        "\n",
        "def fib(n:int) -> int:\n",
        "  #Bottom up= Tabulation\n",
        "\n",
        "  if n==0:\n",
        "    return 0\n",
        "  if n==1:\n",
        "    return 1\n",
        "  dp = [0] * (n+1)\n",
        "  dp[0] = 0\n",
        "  dp[1]= 1\n",
        "\n",
        "  for i in range(2, n+1):\n",
        "    dp[i] = dp[i-2] + dp[i-1]\n",
        "\n",
        "  return dp[n]"
      ],
      "metadata": {
        "id": "0WZvsoGpgJw-"
      },
      "execution_count": 26,
      "outputs": []
    },
    {
      "cell_type": "code",
      "source": [
        "#Method 1: Time: 0(n), Space:0(1)\n",
        "\n",
        "def fib(n:int) -> int:\n",
        "\n",
        "\n",
        "  if n==0:\n",
        "    return 0\n",
        "  if n==1:\n",
        "    return 1\n",
        "  dp = [0] * (n+1)\n",
        "  prev = 0\n",
        "  cur = 1\n",
        "\n",
        "  for i in range(2, n+1):\n",
        "    prev, cur= cur , prev+cur\n",
        "\n",
        "  return cur"
      ],
      "metadata": {
        "id": "XVUIZEo6gzEC"
      },
      "execution_count": 27,
      "outputs": []
    },
    {
      "cell_type": "code",
      "source": [
        "# Leet Code: 2239. Find Closest Number to Zero\n",
        "\n",
        "# Time: O(n)  Space: O(1)\n",
        "\n",
        "def findClosestNumber(nums: List[int]) -> int:\n",
        "  closest = nums[0]\n",
        "  for x in nums:\n",
        "    if abs(x) < abs(closest):\n",
        "      closest = x\n",
        "  if closest < 0 and abs(closest) in nums:\n",
        "    return abs(closest)\n",
        "  else:\n",
        "    return closest"
      ],
      "metadata": {
        "id": "bsA9LsRP5PWd"
      },
      "execution_count": 28,
      "outputs": []
    },
    {
      "cell_type": "code",
      "source": [
        "# LeetCode 1768: Merge String Alternately\n",
        "\n",
        "def mergeAlternately(word1: str, word2: str) -> str:\n",
        "  A,B = len(word1), len(word2)\n",
        "  a,b = 0,0\n",
        "  s=[]\n",
        "\n",
        "  word=1\n",
        "  while a<A and b<B:\n",
        "    if word == 1:\n",
        "      s.append(word1[a])\n",
        "      a+=1\n",
        "      word = 2\n",
        "    else:\n",
        "      s.append(word2[b])\n",
        "      b+=1\n",
        "      word=1\n",
        "\n",
        "  while a<A:\n",
        "    s.append(word1[a])\n",
        "    a+=1\n",
        "  while b<B:\n",
        "    s.append(word2[b])\n",
        "    b+=1\n",
        "\n",
        "  return \"\".join(s)  # Time: O(A+B) Space: O(A+B)\n"
      ],
      "metadata": {
        "id": "xn-_0mW0BhA3"
      },
      "execution_count": 29,
      "outputs": []
    },
    {
      "cell_type": "code",
      "source": [
        "word1= \"hjeotr\"\n",
        "word2= \"ouruewwwwfcss\"\n",
        "mergeAlternately(word1,word2)"
      ],
      "metadata": {
        "colab": {
          "base_uri": "https://localhost:8080/",
          "height": 35
        },
        "id": "30Uui4hcCt_X",
        "outputId": "68adf335-54a1-40a6-8cfb-82e6f5a40892"
      },
      "execution_count": 30,
      "outputs": [
        {
          "output_type": "execute_result",
          "data": {
            "text/plain": [
              "'hojuerouterwwwwfcss'"
            ],
            "application/vnd.google.colaboratory.intrinsic+json": {
              "type": "string"
            }
          },
          "metadata": {},
          "execution_count": 30
        }
      ]
    },
    {
      "cell_type": "code",
      "source": [
        "# Leetcode: 13 Roman To Integer\n",
        "\n",
        "def romanToInt(s: str) -> int:\n",
        "  d = {'I' : 1, 'V' : 5, 'X' : 10, 'L' : 50, 'C' : 100, 'D' : 500, 'M' : 1000}\n",
        "  sum = 0\n",
        "  n = len(s)\n",
        "  i = 0\n",
        "\n",
        "  while i <n:\n",
        "    if i<n and d[s[i]]  < d[s[i+1]]:\n",
        "      sum += d[s[i+1]] - d[s[i]]\n",
        "      i +=2\n",
        "    else:\n",
        "      sum += d[s[i]]\n",
        "      i +=1\n",
        "  return sum  # Time: O(n) , Space: O(1)"
      ],
      "metadata": {
        "id": "8p5FLd6qouFm"
      },
      "execution_count": 31,
      "outputs": []
    }
  ]
}