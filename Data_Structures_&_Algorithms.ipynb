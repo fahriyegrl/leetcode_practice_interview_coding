{
  "nbformat": 4,
  "nbformat_minor": 0,
  "metadata": {
    "colab": {
      "provenance": [],
      "authorship_tag": "ABX9TyMWdliCJkdWkJvX5jencCjz",
      "include_colab_link": true
    },
    "kernelspec": {
      "name": "python3",
      "display_name": "Python 3"
    },
    "language_info": {
      "name": "python"
    }
  },
  "cells": [
    {
      "cell_type": "markdown",
      "metadata": {
        "id": "view-in-github",
        "colab_type": "text"
      },
      "source": [
        "<a href=\"https://colab.research.google.com/github/fahriyegrl/leetcode_practice_interview_coding/blob/main/Data_Structures_%26_Algorithms.ipynb\" target=\"_parent\"><img src=\"https://colab.research.google.com/assets/colab-badge.svg\" alt=\"Open In Colab\"/></a>"
      ]
    },
    {
      "cell_type": "code",
      "execution_count": 1,
      "metadata": {
        "colab": {
          "base_uri": "https://localhost:8080/"
        },
        "id": "2lD9cEImWx8H",
        "outputId": "fbe57885-c5aa-45ea-9407-0979d4abb0a8"
      },
      "outputs": [
        {
          "output_type": "stream",
          "name": "stdout",
          "text": [
            "[-4, -3, -3, 1, 2, 2, 2, 3, 7]\n"
          ]
        }
      ],
      "source": [
        "# Bubble Sort Time: O(n^2), Space: O(n)\n",
        "\n",
        "A= [-4,3,2,1,-3,-3,7,2,2]\n",
        "\n",
        "def bubble_sort(arr):\n",
        "  n=len(arr)\n",
        "  flag= True\n",
        "  while flag:\n",
        "    flag=False\n",
        "    for i in range(1,n):\n",
        "      if arr[i-1] > arr[i]:\n",
        "        flag=True\n",
        "        arr[i-1], arr[i]= arr[i], arr[i-1]\n",
        "  return arr\n",
        "\n",
        "print(bubble_sort(A))"
      ]
    },
    {
      "cell_type": "code",
      "source": [],
      "metadata": {
        "id": "NdDiFeLgX0pU"
      },
      "execution_count": null,
      "outputs": []
    }
  ]
}