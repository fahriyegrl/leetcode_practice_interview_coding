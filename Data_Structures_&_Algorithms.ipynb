{
  "nbformat": 4,
  "nbformat_minor": 0,
  "metadata": {
    "colab": {
      "provenance": [],
      "authorship_tag": "ABX9TyMcKjfBSFnttYTtKlx3GNEM",
      "include_colab_link": true
    },
    "kernelspec": {
      "name": "python3",
      "display_name": "Python 3"
    },
    "language_info": {
      "name": "python"
    }
  },
  "cells": [
    {
      "cell_type": "markdown",
      "metadata": {
        "id": "view-in-github",
        "colab_type": "text"
      },
      "source": [
        "<a href=\"https://colab.research.google.com/github/fahriyegrl/leetcode_practice_interview_coding/blob/main/Data_Structures_%26_Algorithms.ipynb\" target=\"_parent\"><img src=\"https://colab.research.google.com/assets/colab-badge.svg\" alt=\"Open In Colab\"/></a>"
      ]
    },
    {
      "cell_type": "code",
      "execution_count": 1,
      "metadata": {
        "colab": {
          "base_uri": "https://localhost:8080/"
        },
        "id": "2lD9cEImWx8H",
        "outputId": "22aeed15-564f-4cef-b001-e637387a9d2d"
      },
      "outputs": [
        {
          "output_type": "stream",
          "name": "stdout",
          "text": [
            "[-4, -3, -3, 1, 2, 2, 2, 3, 7]\n"
          ]
        }
      ],
      "source": [
        "# Bubble Sort Time: O(n^2), Space: O(n)\n",
        "\n",
        "A= [-4,3,2,1,-3,-3,7,2,2]\n",
        "\n",
        "def bubble_sort(arr):\n",
        "  n=len(arr)\n",
        "  flag= True\n",
        "  while flag:\n",
        "    flag=False\n",
        "    for i in range(1,n):\n",
        "      if arr[i-1] > arr[i]:\n",
        "        flag=True\n",
        "        arr[i-1], arr[i]= arr[i], arr[i-1]\n",
        "  return arr\n",
        "\n",
        "print(bubble_sort(A))"
      ]
    },
    {
      "cell_type": "code",
      "source": [
        "# Insertion Sort Time: O(n^2), Space: O(1)\n",
        "\n",
        "def insertion_sort(arr):\n",
        "  n = len(arr)\n",
        "  for i in range(1,n):\n",
        "    for j in range(i,0,-1):\n",
        "      if arr[j-1] > arr[j]:\n",
        "        arr[j-1], arr[j]= arr[j], arr[j-1]\n",
        "  return arr\n",
        "\n",
        "print(insertion_sort(A))"
      ],
      "metadata": {
        "colab": {
          "base_uri": "https://localhost:8080/"
        },
        "id": "NdDiFeLgX0pU",
        "outputId": "7542afef-645e-40d5-d072-eb43499c4ca3"
      },
      "execution_count": 2,
      "outputs": [
        {
          "output_type": "stream",
          "name": "stdout",
          "text": [
            "[-4, -3, -3, 1, 2, 2, 2, 3, 7]\n"
          ]
        }
      ]
    },
    {
      "cell_type": "code",
      "source": [
        "#Selection Sort Time: O(n^2), Space: O(1)\n",
        "\n",
        "C= [-3,3,2,1,-5,-6,7,2,2]\n",
        "\n",
        "def selection_sort(arr):\n",
        "  n = len(arr)\n",
        "  for i in range(n):\n",
        "    min_index = i\n",
        "    for j in range(i+1,n):\n",
        "      if arr[j] < arr[min_index]:\n",
        "        min_index=j\n",
        "    arr[i], arr[min_index] = arr[min_index], arr[i]\n",
        "\n",
        "selection_sort(C)\n",
        "print(C)"
      ],
      "metadata": {
        "colab": {
          "base_uri": "https://localhost:8080/"
        },
        "id": "gypGSllsbU4X",
        "outputId": "99af1764-ecbd-4398-ab3f-047812bcf549"
      },
      "execution_count": 3,
      "outputs": [
        {
          "output_type": "stream",
          "name": "stdout",
          "text": [
            "[-6, -5, -3, 1, 2, 2, 2, 3, 7]\n"
          ]
        }
      ]
    },
    {
      "cell_type": "code",
      "source": [
        "# Merge Sort Time: O(n log n), Space: O(n)\n",
        "\n",
        "D = [-5,3,2,1,-3,-3,7,2,2]\n",
        "\n",
        "def merge_sort(arr):\n",
        "  n= len(arr)\n",
        "  if n==1:\n",
        "    return arr\n",
        "  m = len(arr) // 2\n",
        "  L= arr[:m]\n",
        "  R=arr[m:]\n",
        "  L= merge_sort(L)\n",
        "  R= merge_sort(R)\n",
        "\n",
        "  l,r = 0,0\n",
        "  L_len = len(L)\n",
        "  R_len = len(R)\n",
        "\n",
        "  sorted_arr = [0] *n\n",
        "  i = 0\n",
        "  while l<L_len and r<R_len:\n",
        "    if L[l] < R[r]:\n",
        "      sorted_arr[i] = L[l]\n",
        "      l+=1\n",
        "    else:\n",
        "      sorted_arr[i] = R[r]\n",
        "      r+=1\n",
        "    i+=1\n",
        "\n",
        "  while l<L_len:\n",
        "      sorted_arr[i] = L[l]\n",
        "      l+=1\n",
        "      i+-1\n",
        "  while r<R_len:\n",
        "      sorted_arr[i] = R[r]\n",
        "      r+=1\n",
        "      i +=1\n",
        "  return sorted_arr\n",
        "\n"
      ],
      "metadata": {
        "id": "VPLykai9O5-a"
      },
      "execution_count": 4,
      "outputs": []
    },
    {
      "cell_type": "code",
      "source": [
        "merge_sort(D)"
      ],
      "metadata": {
        "colab": {
          "base_uri": "https://localhost:8080/"
        },
        "id": "46hMVaYzPtFm",
        "outputId": "0c46a510-8be9-453d-a1f1-291fdf7d6e14"
      },
      "execution_count": 5,
      "outputs": [
        {
          "output_type": "execute_result",
          "data": {
            "text/plain": [
              "[-5, -3, -3, 1, 2, 2, 2, 3, 7]"
            ]
          },
          "metadata": {},
          "execution_count": 5
        }
      ]
    },
    {
      "cell_type": "code",
      "source": [
        "# Quick Sort Time:O(n log n), Space: O(n)\n",
        "\n",
        "E= [-5,3,2,1,-3,-3,7,2,2]\n",
        "\n",
        "def quick_sort(arr):\n",
        "  if len(arr) <2:\n",
        "    return arr\n",
        "\n",
        "  p = arr[-1]\n",
        "\n",
        "  L= [x for x in arr[:-1] if x <= p]\n",
        "  R= [x for x in arr[:-1] if x > p]\n",
        "\n",
        "  L= quick_sort(L)\n",
        "  R= quick_sort(R)\n",
        "\n",
        "  return L + [p] + R\n",
        "\n",
        "quick_sort(E)"
      ],
      "metadata": {
        "colab": {
          "base_uri": "https://localhost:8080/"
        },
        "id": "_NH58-Ujpu2x",
        "outputId": "17a7e02d-b905-48f7-fd43-4f7e2cfbd2d8"
      },
      "execution_count": 6,
      "outputs": [
        {
          "output_type": "execute_result",
          "data": {
            "text/plain": [
              "[-5, -3, -3, 1, 2, 2, 2, 3, 7]"
            ]
          },
          "metadata": {},
          "execution_count": 6
        }
      ]
    },
    {
      "cell_type": "code",
      "source": [
        "# Counting Sort Time: O(n+k) where k is the range of data\n",
        "#stick with the positive array\n",
        "# k is the max of the array\n",
        "# space: O(k)\n",
        "\n",
        "F= [5,3,2,1,3,3,7,2,2]\n",
        "def counting_sort(arr):\n",
        "  n= len(arr)\n",
        "  maxx = max(arr)\n",
        "  counts = [0] * (maxx+1)\n",
        "\n",
        "  for x in arr:\n",
        "    counts[x] +=1\n",
        "  i=0\n",
        "\n",
        "  for c in range(maxx+1):\n",
        "    while counts[c] > 0:\n",
        "      arr[i] = c\n",
        "      i +=1\n",
        "      counts[c] -=1\n"
      ],
      "metadata": {
        "id": "gxe7Bv_DBerj"
      },
      "execution_count": 7,
      "outputs": []
    },
    {
      "cell_type": "code",
      "source": [
        "counting_sort(F)\n",
        "print(F)"
      ],
      "metadata": {
        "id": "xoAOL-hCCZcu",
        "colab": {
          "base_uri": "https://localhost:8080/"
        },
        "outputId": "10e3bdf8-f347-4cf0-f9fe-34d4faa5e0fa"
      },
      "execution_count": 8,
      "outputs": [
        {
          "output_type": "stream",
          "name": "stdout",
          "text": [
            "[1, 2, 2, 2, 3, 3, 3, 5, 7]\n"
          ]
        }
      ]
    },
    {
      "cell_type": "code",
      "source": [
        "# Graphs - Edge List - Adjacency Matrix - Adjacency List - DFS, BFS\n",
        "\n",
        "# Array of Edges (Directed) [Start, End]\n",
        "\n",
        "n=8\n",
        "A = [[0,1], [1,2], [0,3], [3,4], [3,6], [3,7],[4,2], [4,5], [5,2]]\n",
        "\n",
        "print(A)"
      ],
      "metadata": {
        "colab": {
          "base_uri": "https://localhost:8080/"
        },
        "id": "_2-YgCVE7mtu",
        "outputId": "990fe122-fa51-425c-838d-3640016374bc"
      },
      "execution_count": 9,
      "outputs": [
        {
          "output_type": "stream",
          "name": "stdout",
          "text": [
            "[[0, 1], [1, 2], [0, 3], [3, 4], [3, 6], [3, 7], [4, 2], [4, 5], [5, 2]]\n"
          ]
        }
      ]
    },
    {
      "cell_type": "code",
      "source": [
        "# Converting array of Edges ---> Adjacency Matrix\n",
        "\n",
        "M=[]\n",
        "\n",
        "for i in range(n):\n",
        "  M.append([0] * n)\n",
        "M"
      ],
      "metadata": {
        "colab": {
          "base_uri": "https://localhost:8080/"
        },
        "id": "cJqa6QviuWUH",
        "outputId": "2a951cb0-0372-4666-96b8-b7ebebcc54dc"
      },
      "execution_count": 10,
      "outputs": [
        {
          "output_type": "execute_result",
          "data": {
            "text/plain": [
              "[[0, 0, 0, 0, 0, 0, 0, 0],\n",
              " [0, 0, 0, 0, 0, 0, 0, 0],\n",
              " [0, 0, 0, 0, 0, 0, 0, 0],\n",
              " [0, 0, 0, 0, 0, 0, 0, 0],\n",
              " [0, 0, 0, 0, 0, 0, 0, 0],\n",
              " [0, 0, 0, 0, 0, 0, 0, 0],\n",
              " [0, 0, 0, 0, 0, 0, 0, 0],\n",
              " [0, 0, 0, 0, 0, 0, 0, 0]]"
            ]
          },
          "metadata": {},
          "execution_count": 10
        }
      ]
    },
    {
      "cell_type": "code",
      "source": [
        "for u,v in A:\n",
        "  M[u][v] = 1\n",
        "M"
      ],
      "metadata": {
        "colab": {
          "base_uri": "https://localhost:8080/"
        },
        "id": "sP8vAhBau813",
        "outputId": "6d3c13c4-5326-4d12-bfac-3c0b2416fbb0"
      },
      "execution_count": 11,
      "outputs": [
        {
          "output_type": "execute_result",
          "data": {
            "text/plain": [
              "[[0, 1, 0, 1, 0, 0, 0, 0],\n",
              " [0, 0, 1, 0, 0, 0, 0, 0],\n",
              " [0, 0, 0, 0, 0, 0, 0, 0],\n",
              " [0, 0, 0, 0, 1, 0, 1, 1],\n",
              " [0, 0, 1, 0, 0, 1, 0, 0],\n",
              " [0, 0, 1, 0, 0, 0, 0, 0],\n",
              " [0, 0, 0, 0, 0, 0, 0, 0],\n",
              " [0, 0, 0, 0, 0, 0, 0, 0]]"
            ]
          },
          "metadata": {},
          "execution_count": 11
        }
      ]
    },
    {
      "cell_type": "code",
      "source": [
        "# Converting Array of Edges ---> Adjacency List\n",
        "from collections import defaultdict\n",
        "\n",
        "D = defaultdict(list)\n",
        "\n",
        "for u,v in A:\n",
        "  D[u].append(v)\n",
        "D"
      ],
      "metadata": {
        "colab": {
          "base_uri": "https://localhost:8080/"
        },
        "id": "3Qr4y-mYvI90",
        "outputId": "10b5c623-2f37-4ba1-848d-fdf21961b2d5"
      },
      "execution_count": 12,
      "outputs": [
        {
          "output_type": "execute_result",
          "data": {
            "text/plain": [
              "defaultdict(list, {0: [1, 3], 1: [2], 3: [4, 6, 7], 4: [2, 5], 5: [2]})"
            ]
          },
          "metadata": {},
          "execution_count": 12
        }
      ]
    },
    {
      "cell_type": "code",
      "source": [
        "# DFS with Recursion - O(V + E) where V is the number of thenodes and E is the edges\n",
        "\n",
        "def dfs_recursive(node):\n",
        "  print(node)\n",
        "  for nei in D[node]:\n",
        "    if nei not in seen:\n",
        "      seen.add(nei)\n",
        "      dfs_recursive(nei)\n",
        "\n",
        "source = 0\n",
        "seen = set()\n",
        "seen.add(source)\n",
        "dfs_recursive(source)"
      ],
      "metadata": {
        "colab": {
          "base_uri": "https://localhost:8080/"
        },
        "id": "86i_CjnXvvDM",
        "outputId": "49354c75-972e-4bea-b603-83c0c11eefd2"
      },
      "execution_count": 13,
      "outputs": [
        {
          "output_type": "stream",
          "name": "stdout",
          "text": [
            "0\n",
            "1\n",
            "2\n",
            "3\n",
            "4\n",
            "5\n",
            "6\n",
            "7\n"
          ]
        }
      ]
    },
    {
      "cell_type": "code",
      "source": [
        "# Iterative DFS with stack - O(V+ E)\n",
        "\n",
        "source = 0\n",
        "seen = set()\n",
        "seen.add(source)\n",
        "stack = [source]\n",
        "\n",
        "while stack:\n",
        "  node = stack.pop()\n",
        "  print(node)\n",
        "  for nei in D[node]:\n",
        "    if nei not in seen:\n",
        "      seen.add(nei)\n",
        "      stack.append(nei)"
      ],
      "metadata": {
        "colab": {
          "base_uri": "https://localhost:8080/"
        },
        "id": "SOo46J3Dw3kY",
        "outputId": "b1e0e823-9e0c-4214-bdeb-3e97ddcde748"
      },
      "execution_count": 14,
      "outputs": [
        {
          "output_type": "stream",
          "name": "stdout",
          "text": [
            "0\n",
            "3\n",
            "7\n",
            "6\n",
            "4\n",
            "5\n",
            "2\n",
            "1\n"
          ]
        }
      ]
    },
    {
      "cell_type": "code",
      "source": [
        "# BFS (Queue) - O(V+E)\n",
        "source = 0\n",
        "\n",
        "from collections import deque\n",
        "seen = set()\n",
        "seen.add(source)\n",
        "q = deque()\n",
        "q.append(source)\n",
        "\n",
        "while q:\n",
        "  node = q.popleft()\n",
        "  print(node)\n",
        "\n",
        "  for nei in D[node]:\n",
        "    if nei not in seen:\n",
        "      seen.add(nei)\n",
        "      q.append(nei)"
      ],
      "metadata": {
        "colab": {
          "base_uri": "https://localhost:8080/"
        },
        "id": "HKjH-okwyOih",
        "outputId": "dcbcb1a1-2ecd-4992-e4b7-4634b3103181"
      },
      "execution_count": 15,
      "outputs": [
        {
          "output_type": "stream",
          "name": "stdout",
          "text": [
            "0\n",
            "1\n",
            "3\n",
            "2\n",
            "4\n",
            "6\n",
            "7\n",
            "5\n"
          ]
        }
      ]
    },
    {
      "cell_type": "code",
      "source": [
        "class Node:\n",
        "  def __init__(self, value):\n",
        "    self.value = value\n",
        "    self.neighbor = []\n",
        "\n",
        "  def str(self):\n",
        "    return f'Node({self.value})'\n",
        "\n",
        "  def display(self):\n",
        "    connections = [node.value for node in self.neighbor]\n",
        "    return f'{self.value} is connected to: {connections}'\n",
        "\n",
        "A = Node('A')\n",
        "B = Node('B')\n",
        "C = Node('C')\n",
        "D = Node('D')\n",
        "\n",
        "A.neighbor = [B,D]\n",
        "B.neighbor = [A,C,D]\n",
        "C.neighbor = [B]\n",
        "D.neighbor = [A,B,C]\n",
        "\n",
        "print(A.display())"
      ],
      "metadata": {
        "colab": {
          "base_uri": "https://localhost:8080/"
        },
        "id": "w0_lbYvjzFq2",
        "outputId": "917baa40-6c64-415b-9421-f0dc4b6d6eed"
      },
      "execution_count": 16,
      "outputs": [
        {
          "output_type": "stream",
          "name": "stdout",
          "text": [
            "A is connected to: ['B', 'D']\n"
          ]
        }
      ]
    },
    {
      "cell_type": "code",
      "source": [
        "print(A)"
      ],
      "metadata": {
        "colab": {
          "base_uri": "https://localhost:8080/"
        },
        "id": "X3__jNSvz8DW",
        "outputId": "1754f5d8-2497-4be7-a682-c2d7132af15c"
      },
      "execution_count": 17,
      "outputs": [
        {
          "output_type": "stream",
          "name": "stdout",
          "text": [
            "<__main__.Node object at 0x79a17a5fcad0>\n"
          ]
        }
      ]
    },
    {
      "cell_type": "code",
      "source": [
        "# 2 Pointers: Squares of a Sorted Array\n",
        "from typing import List\n",
        "# Time: O(n),  Space:O(n)\n",
        "def sortedSquares(nums: List[int]) -> List[int]:\n",
        "  left = 0\n",
        "  right = len(nums) - 1\n",
        "  result = []\n",
        "\n",
        "  while left<right:\n",
        "    if abs(nums[left]) > abs(nums[right]):\n",
        "      result.append(nums[left] **2)\n",
        "      left +=1\n",
        "    else:\n",
        "      result.append(nums[right] **2)\n",
        "      right-=1\n",
        "  result.reverse\n",
        "  return result"
      ],
      "metadata": {
        "id": "RI_APtssFKy1"
      },
      "execution_count": 18,
      "outputs": []
    },
    {
      "cell_type": "code",
      "source": [
        "my_list = [-7,-4,0,1,10]\n",
        "sortedSquares(my_list)"
      ],
      "metadata": {
        "colab": {
          "base_uri": "https://localhost:8080/"
        },
        "id": "VY58Tp8TGNhe",
        "outputId": "a9abce8a-ea24-4a0f-a5f2-741341bb5cf3"
      },
      "execution_count": 19,
      "outputs": [
        {
          "output_type": "execute_result",
          "data": {
            "text/plain": [
              "[100, 49, 16, 1]"
            ]
          },
          "metadata": {},
          "execution_count": 19
        }
      ]
    },
    {
      "cell_type": "code",
      "source": [
        "# Sliding Window Algorithm\n",
        "\n",
        "# Longest Substring Without Repeating Characters - Variable Length\n",
        "\n",
        "def lenghtofLongestSubstring(s:str) -> int:\n",
        "  l=0\n",
        "  longest = 0\n",
        "  sett = set()\n",
        "  n= len(s)\n",
        "\n",
        "  for r in range(n):\n",
        "    while s[r] in sett:  #r=4\n",
        "      sett.remove(s[l])\n",
        "\n",
        "      l +=1\n",
        "    w = (r-l) +1\n",
        "    longest = max(longest, w)\n",
        "    sett.add(s[r])\n",
        "    print(sett)\n",
        "\n",
        "  return longest\n",
        "\n",
        "s = \"abcdbac\"  # sett = ,b,c,d ,  l=1\n",
        "s1= \"cklamar\"\n",
        "lenghtofLongestSubstring(s1)"
      ],
      "metadata": {
        "colab": {
          "base_uri": "https://localhost:8080/"
        },
        "id": "oktfvBuGVy8f",
        "outputId": "1e0aac1b-c9e0-49dd-dc14-becea971ce25"
      },
      "execution_count": 20,
      "outputs": [
        {
          "output_type": "stream",
          "name": "stdout",
          "text": [
            "{'c'}\n",
            "{'k', 'c'}\n",
            "{'k', 'c', 'l'}\n",
            "{'k', 'c', 'a', 'l'}\n",
            "{'c', 'l', 'm', 'a', 'k'}\n",
            "{'m', 'a'}\n",
            "{'m', 'a', 'r'}\n"
          ]
        },
        {
          "output_type": "execute_result",
          "data": {
            "text/plain": [
              "5"
            ]
          },
          "metadata": {},
          "execution_count": 20
        }
      ]
    },
    {
      "cell_type": "code",
      "source": [
        "# 643- Maximum Average Subarray - Fixed Variable Sliding Window\n",
        "\n",
        "def findMaxAverage(nums: List[int], k:int) -> float:\n",
        "  n = len(nums)\n",
        "  cur_sum= 0\n",
        "\n",
        "  for i in range(k):\n",
        "    cur_sum += nums[i]\n",
        "\n",
        "  max_avg = cur_sum / k\n",
        "\n",
        "  for i in range(k,n):\n",
        "    cur_sum += nums[i]\n",
        "    cur_sum -= nums[i-k]\n",
        "\n",
        "    avg = cur_sum /k\n",
        "    max_avg= max(max_avg, avg)\n",
        "\n",
        "  return max_avg"
      ],
      "metadata": {
        "id": "KdnJCWCUkcYf"
      },
      "execution_count": 21,
      "outputs": []
    },
    {
      "cell_type": "code",
      "source": [
        "# Recursive Backtracking - Leetcode 78- Subsets\n",
        "\n",
        "def subsets(nums: List[int])  -> List[List[int]]:\n",
        "  n = len(nums)\n",
        "  res, sol = [], []\n",
        "  def backtrack(i):\n",
        "    if i ==n:\n",
        "      res.append(sol[:])\n",
        "      return\n",
        "    #dont pick nums[i]\n",
        "    backtrack(i+1)\n",
        "\n",
        "    # pick nums[i]\n",
        "    sol.append(nums[i])\n",
        "    backtrack(i+1)\n",
        "    sol.pop()\n",
        "\n",
        "  backtrack(0)\n",
        "  return res\n"
      ],
      "metadata": {
        "id": "uQS0CdOFi2mX"
      },
      "execution_count": 22,
      "outputs": []
    },
    {
      "cell_type": "code",
      "source": [
        "mi_list =[1,2,3]\n",
        "subsets(mi_list)"
      ],
      "metadata": {
        "colab": {
          "base_uri": "https://localhost:8080/"
        },
        "id": "d0wyWiMinIfk",
        "outputId": "3116be57-6992-40b3-dda0-e99a55cf4cfc"
      },
      "execution_count": 23,
      "outputs": [
        {
          "output_type": "execute_result",
          "data": {
            "text/plain": [
              "[[], [3], [2], [2, 3], [1], [1, 3], [1, 2], [1, 2, 3]]"
            ]
          },
          "metadata": {},
          "execution_count": 23
        }
      ]
    },
    {
      "cell_type": "code",
      "source": [
        "# Dynamic Programming - Top Down Memorization\n",
        "# Leet code 509 - Fibonacci Number - Time 0(n), Space 0(n)\n",
        "\n",
        "def fib(n:int) -> int:\n",
        "  memo= {0:0, 1:1} # Fibonacci sequence typically starts with F(0)=0, F(1)=1\n",
        "\n",
        "  def f(x):\n",
        "    if x in memo:\n",
        "      return memo[x]\n",
        "    elif x < 0: # Handle negative input if necessary, though typically Fibonacci is for non-negative integers\n",
        "        return 0\n",
        "    else:\n",
        "      memo[x] = f(x-1) + f(x-2) # Corrected recursive call\n",
        "      return memo[x]\n",
        "  return f(n)"
      ],
      "metadata": {
        "id": "NlHm-Z-2-rPJ"
      },
      "execution_count": 24,
      "outputs": []
    },
    {
      "cell_type": "code",
      "source": [
        "fib(10)"
      ],
      "metadata": {
        "id": "dC4Le1kq_eyL",
        "colab": {
          "base_uri": "https://localhost:8080/"
        },
        "outputId": "a6e55462-2579-4868-c608-cf51bd4ca207"
      },
      "execution_count": 25,
      "outputs": [
        {
          "output_type": "execute_result",
          "data": {
            "text/plain": [
              "55"
            ]
          },
          "metadata": {},
          "execution_count": 25
        }
      ]
    },
    {
      "cell_type": "code",
      "source": [
        "# Dynamic Programming - Bottom Up Memorization\n",
        "\n",
        "#Method 1: Time: 0(n), Space:0(n)\n",
        "\n",
        "def fib(n:int) -> int:\n",
        "  #Bottom up= Tabulation\n",
        "\n",
        "  if n==0:\n",
        "    return 0\n",
        "  if n==1:\n",
        "    return 1\n",
        "  dp = [0] * (n+1)\n",
        "  dp[0] = 0\n",
        "  dp[1]= 1\n",
        "\n",
        "  for i in range(2, n+1):\n",
        "    dp[i] = dp[i-2] + dp[i-1]\n",
        "\n",
        "  return dp[n]"
      ],
      "metadata": {
        "id": "0WZvsoGpgJw-"
      },
      "execution_count": 26,
      "outputs": []
    },
    {
      "cell_type": "code",
      "source": [
        "#Method 1: Time: 0(n), Space:0(1)\n",
        "\n",
        "def fib(n:int) -> int:\n",
        "\n",
        "\n",
        "  if n==0:\n",
        "    return 0\n",
        "  if n==1:\n",
        "    return 1\n",
        "  dp = [0] * (n+1)\n",
        "  prev = 0\n",
        "  cur = 1\n",
        "\n",
        "  for i in range(2, n+1):\n",
        "    prev, cur= cur , prev+cur\n",
        "\n",
        "  return cur"
      ],
      "metadata": {
        "id": "XVUIZEo6gzEC"
      },
      "execution_count": 27,
      "outputs": []
    },
    {
      "cell_type": "code",
      "source": [
        "# Leet Code: 2239. Find Closest Number to Zero\n",
        "\n",
        "# Time: O(n)  Space: O(1)\n",
        "\n",
        "def findClosestNumber(nums: List[int]) -> int:\n",
        "  closest = nums[0]\n",
        "  for x in nums:\n",
        "    if abs(x) < abs(closest):\n",
        "      closest = x\n",
        "  if closest < 0 and abs(closest) in nums:\n",
        "    return abs(closest)\n",
        "  else:\n",
        "    return closest"
      ],
      "metadata": {
        "id": "bsA9LsRP5PWd"
      },
      "execution_count": 28,
      "outputs": []
    },
    {
      "cell_type": "code",
      "source": [
        "# LeetCode 1768: Merge String Alternately\n",
        "\n",
        "def mergeAlternately(word1: str, word2: str) -> str:\n",
        "  A,B = len(word1), len(word2)\n",
        "  a,b = 0,0\n",
        "  s=[]\n",
        "\n",
        "  word=1\n",
        "  while a<A and b<B:\n",
        "    if word == 1:\n",
        "      s.append(word1[a])\n",
        "      a+=1\n",
        "      word = 2\n",
        "    else:\n",
        "      s.append(word2[b])\n",
        "      b+=1\n",
        "      word=1\n",
        "\n",
        "  while a<A:\n",
        "    s.append(word1[a])\n",
        "    a+=1\n",
        "  while b<B:\n",
        "    s.append(word2[b])\n",
        "    b+=1\n",
        "\n",
        "  return \"\".join(s)  # Time: O(A+B) Space: O(A+B)\n"
      ],
      "metadata": {
        "id": "xn-_0mW0BhA3"
      },
      "execution_count": 29,
      "outputs": []
    },
    {
      "cell_type": "code",
      "source": [
        "word1= \"hjeotr\"\n",
        "word2= \"ouruewwwwfcss\"\n",
        "mergeAlternately(word1,word2)"
      ],
      "metadata": {
        "colab": {
          "base_uri": "https://localhost:8080/",
          "height": 35
        },
        "id": "30Uui4hcCt_X",
        "outputId": "61c3e558-e81c-439c-8e70-791fd0403a30"
      },
      "execution_count": 30,
      "outputs": [
        {
          "output_type": "execute_result",
          "data": {
            "text/plain": [
              "'hojuerouterwwwwfcss'"
            ],
            "application/vnd.google.colaboratory.intrinsic+json": {
              "type": "string"
            }
          },
          "metadata": {},
          "execution_count": 30
        }
      ]
    },
    {
      "cell_type": "code",
      "source": [
        "# Leetcode: 13 Roman To Integer\n",
        "\n",
        "def romanToInt(s: str) -> int:\n",
        "  d = {'I' : 1, 'V' : 5, 'X' : 10, 'L' : 50, 'C' : 100, 'D' : 500, 'M' : 1000}\n",
        "  sum = 0\n",
        "  n = len(s)\n",
        "  i = 0\n",
        "\n",
        "  while i <n:\n",
        "    if i<n and d[s[i]]  < d[s[i+1]]:\n",
        "      sum += d[s[i+1]] - d[s[i]]\n",
        "      i +=2\n",
        "    else:\n",
        "      sum += d[s[i]]\n",
        "      i +=1\n",
        "  return sum  # Time: O(n) , Space: O(1)"
      ],
      "metadata": {
        "id": "8p5FLd6qouFm"
      },
      "execution_count": 31,
      "outputs": []
    },
    {
      "cell_type": "code",
      "source": [
        "# Leetcode-392 Is Subsequence\n",
        "\n",
        "def isSubsequence(s: str, t:str) -> bool:\n",
        "  S= len(s)\n",
        "  T= len(t)\n",
        "  if s=='': return True\n",
        "  if S>T: return False\n",
        "\n",
        "  j=0\n",
        "  for i in range(T):\n",
        "    if t[i] == s[j]:\n",
        "      if j==S-1:\n",
        "        return True\n",
        "      j +=1\n",
        "  return False\n",
        "  #Time: O(T)\n",
        "  #Space: O(1)"
      ],
      "metadata": {
        "id": "P1UgMPbballO"
      },
      "execution_count": 32,
      "outputs": []
    },
    {
      "cell_type": "code",
      "source": [
        "# LeetCode: 121 Best Time to Buy and Sell Stock\n",
        "# Brute Force; Time: O(n^2), Space: O(1)\n",
        "\n",
        "def maxProfit(prices: List[int]) -> int:\n",
        "  max_profit = float('-inf')\n",
        "  for i in range(len(prices)):\n",
        "    for j in range(i+1, len(prices)):\n",
        "      profit = prices[j] - prices[i]\n",
        "      if profit>max_profit:\n",
        "        max_profit = profit\n",
        "  return max_profit if max_profit > float('-inf') else 0"
      ],
      "metadata": {
        "id": "a5Rh_zkf99Oa"
      },
      "execution_count": 33,
      "outputs": []
    },
    {
      "cell_type": "code",
      "source": [
        "def maxProfit(prices: List[int]) -> int:\n",
        "  #Time: O(n)\n",
        "  #Space: O(1)\n",
        "  min_price = float('inf')\n",
        "  max_profit = 0\n",
        "  # 7,1,2\n",
        "\n",
        "  for price in prices:\n",
        "    if price < min_price:\n",
        "      min_price = price\n",
        "\n",
        "    profit = price -min_price\n",
        "    print(profit)\n",
        "\n",
        "    if profit > max_profit:\n",
        "      max_profit = profit\n",
        "\n",
        "  return max_profit\n",
        "\n"
      ],
      "metadata": {
        "id": "d75Csh-L-18t"
      },
      "execution_count": 34,
      "outputs": []
    },
    {
      "cell_type": "code",
      "source": [
        "prices= [7,1,2]\n",
        "maxProfit(prices)"
      ],
      "metadata": {
        "colab": {
          "base_uri": "https://localhost:8080/"
        },
        "id": "3cYH_p10A8BY",
        "outputId": "a5135574-1648-4ac1-d863-8a32df133099"
      },
      "execution_count": 35,
      "outputs": [
        {
          "output_type": "stream",
          "name": "stdout",
          "text": [
            "0\n",
            "0\n",
            "1\n"
          ]
        },
        {
          "output_type": "execute_result",
          "data": {
            "text/plain": [
              "1"
            ]
          },
          "metadata": {},
          "execution_count": 35
        }
      ]
    },
    {
      "cell_type": "code",
      "source": [
        "# Leetcode 14: Longest Common Prefix\n",
        "\n",
        "def longestCommonPrefix(strs: List[str]) -> str:\n",
        "  min_length= float('inf')\n",
        "  for s in strs:\n",
        "    if len(s) < min_length:\n",
        "      min_length = len(s)\n",
        "  i=0\n",
        "  while i < min_length:\n",
        "    for s in strs:\n",
        "      if s[i] !=  strs[0][i]:\n",
        "        return s[:i]\n",
        "\n",
        "    i+=1\n",
        "  return s[:i]\n",
        "\n",
        "  # Time: O(n * m) where m is min_lenght\n",
        "  # Space: O(1)\n"
      ],
      "metadata": {
        "id": "m6V1Jd0BVmPa"
      },
      "execution_count": 36,
      "outputs": []
    },
    {
      "cell_type": "code",
      "source": [
        "strs= [\"fla\", \"flowers\", \"flown\"]\n",
        "strs"
      ],
      "metadata": {
        "colab": {
          "base_uri": "https://localhost:8080/"
        },
        "id": "om1Y3Ar7A_zZ",
        "outputId": "af755f06-2e2b-414e-acaf-c3814eeeef72"
      },
      "execution_count": 37,
      "outputs": [
        {
          "output_type": "execute_result",
          "data": {
            "text/plain": [
              "['fla', 'flowers', 'flown']"
            ]
          },
          "metadata": {},
          "execution_count": 37
        }
      ]
    },
    {
      "cell_type": "code",
      "source": [
        "s = \"flo\"\n",
        "s[0]"
      ],
      "metadata": {
        "colab": {
          "base_uri": "https://localhost:8080/",
          "height": 35
        },
        "id": "c0iuWXsNWlKJ",
        "outputId": "fac81101-37d6-4ff4-e282-8589a33b8398"
      },
      "execution_count": 38,
      "outputs": [
        {
          "output_type": "execute_result",
          "data": {
            "text/plain": [
              "'f'"
            ],
            "application/vnd.google.colaboratory.intrinsic+json": {
              "type": "string"
            }
          },
          "metadata": {},
          "execution_count": 38
        }
      ]
    },
    {
      "cell_type": "code",
      "source": [
        "# LeetCode: Summary Ranges\n",
        "from typing import List\n",
        "def summaryRanges(nums: List[int]) -> List[str]:\n",
        "  ans = []\n",
        "  i = 0\n",
        "# nums= [2,3,4,7]\n",
        "  while i < len(nums):\n",
        "    start = nums[i]\n",
        "    while i < len(nums)-1 and nums[i] +1 ==nums[i+1]:\n",
        "      i+=1\n",
        "    if start != nums[i]:\n",
        "        ans.append(str(start) + '->' + str(nums[i]))\n",
        "    else:\n",
        "        ans.append(str(nums[i]))\n",
        "\n",
        "    i+=1\n",
        "  return ans\n",
        "  #Time: O(n)\n",
        "  #Space: O(1)"
      ],
      "metadata": {
        "id": "F7zuxWfyvnfk"
      },
      "execution_count": 39,
      "outputs": []
    },
    {
      "cell_type": "code",
      "source": [
        "mi_list = [1,2,3,6,7,8,10,11]\n",
        "summaryRanges(mi_list)"
      ],
      "metadata": {
        "colab": {
          "base_uri": "https://localhost:8080/"
        },
        "id": "SFVJRF8TzO-2",
        "outputId": "b849af9d-b5c4-400e-d3bb-553e098d607f"
      },
      "execution_count": 40,
      "outputs": [
        {
          "output_type": "execute_result",
          "data": {
            "text/plain": [
              "['1->3', '6->8', '10->11']"
            ]
          },
          "metadata": {},
          "execution_count": 40
        }
      ]
    },
    {
      "cell_type": "code",
      "source": [
        "# Leetcode  238: Product of Array Except Self:\n",
        "\n",
        "def productExceptSelf(nums: List[int]) -> List[int]:\n",
        "  l_mult = 1\n",
        "  r_mult = 1\n",
        "  n = len(nums)\n",
        "  l_arr = [0] * n\n",
        "  r_arr = [0] * n\n",
        "# [1,2,3,4]\n",
        "  for i in range(n):\n",
        "    j= -i-1\n",
        "\n",
        "    l_arr[i] = l_mult\n",
        "    r_arr[j] = r_mult\n",
        "\n",
        "    l_mult *= nums[i]\n",
        "    r_mult *= nums[j]\n",
        "\n",
        "    return [l*r for l,r in zip(l_arr, r_arr)]"
      ],
      "metadata": {
        "id": "HxhGu3x_K_gZ"
      },
      "execution_count": 41,
      "outputs": []
    },
    {
      "cell_type": "code",
      "source": [
        "lerf = [1,4,5]\n",
        "right = [5,4,5]\n",
        "newe = zip (lerf, right)\n",
        "list(newe)\n"
      ],
      "metadata": {
        "colab": {
          "base_uri": "https://localhost:8080/"
        },
        "id": "g0HN0Q2Yev7I",
        "outputId": "4f56039d-ca17-448e-dfd2-a141db097abc"
      },
      "execution_count": 42,
      "outputs": [
        {
          "output_type": "execute_result",
          "data": {
            "text/plain": [
              "[(1, 5), (4, 4), (5, 5)]"
            ]
          },
          "metadata": {},
          "execution_count": 42
        }
      ]
    },
    {
      "cell_type": "code",
      "source": [
        "interval= [[1,2], [3,5], [6,7], [8,10]]\n"
      ],
      "metadata": {
        "id": "oqVwEDCjf5Ri"
      },
      "execution_count": 43,
      "outputs": []
    },
    {
      "cell_type": "code",
      "source": [
        "# Leetcode: 56 Merge Intervals\n",
        "\n",
        "def merge(intervals: List[List[int]]) -> List[List[int]]:\n",
        "  intervals.sort(key = lambda interval: interval[0])\n",
        "  merged = []\n",
        "\n",
        "  for interval in intervals:\n",
        "      if not merged or merged[-1][1] <interval[0]:\n",
        "        merged.append(interval)\n",
        "      else:\n",
        "        merged[-1] =[merged[-1][0], max(interval[1], merged[-1][1])  ]\n",
        "  return merged\n",
        "\n",
        "  # Time: O(n log n)\n",
        "  # Space: 0(n)\n"
      ],
      "metadata": {
        "id": "usnD_wnffQx_"
      },
      "execution_count": 44,
      "outputs": []
    },
    {
      "cell_type": "code",
      "source": [
        "# Leetcode 54: Spiral Matrix\n",
        "\n",
        "my_list= [[1,2,3],[4,5,6],[7,8,9]]\n",
        "my_list"
      ],
      "metadata": {
        "colab": {
          "base_uri": "https://localhost:8080/"
        },
        "id": "aorJT9UWgjpW",
        "outputId": "6a4f620c-30b7-490c-c212-828f900f1613"
      },
      "execution_count": 45,
      "outputs": [
        {
          "output_type": "execute_result",
          "data": {
            "text/plain": [
              "[[1, 2, 3], [4, 5, 6], [7, 8, 9]]"
            ]
          },
          "metadata": {},
          "execution_count": 45
        }
      ]
    },
    {
      "cell_type": "code",
      "source": [
        "def spiralOrder(matrix: List[List[int]]) -> List[int]:\n",
        "  m,n = len(matrix), len(matrix[0])\n",
        "  ans = []\n",
        "  i, j = 0, 0\n",
        "  UP , RIGHT, DOWN, LEFT = 0,1,2,3\n",
        "  direction = RIGHT\n",
        "\n",
        "  UP_WALL = 0\n",
        "  RIGHT_WALL = n\n",
        "  DOWN_WALL = m\n",
        "  LEFT_WALL = -1\n",
        "\n",
        "  while len(ans) != m*n:\n",
        "    if direction == RIGHT:\n",
        "      while j < RIGHT_WALL:\n",
        "        ans.append(matrix[i][j])\n",
        "        j +=1\n",
        "      i, j = i+1, j-1\n",
        "      RIGHT_WALL -=1\n",
        "      direction =  DOWN\n",
        "    elif direction == DOWN:\n",
        "      while i <  DOWN_WALL:\n",
        "        ans.append(matrix[i][j])\n",
        "        i +=1\n",
        "      i,j = i-1, j-1\n",
        "      DOWN_WALL -=1\n",
        "      direction = LEFT\n",
        "    elif direction == LEFT:\n",
        "      while j > LEFT_WALL:\n",
        "        ans.append(matrix[i][j])\n",
        "        j -= 1\n",
        "      i, j = i-1, j+1\n",
        "      LEFT_WALL += 0\n",
        "      direction  = UP\n",
        "    elif direction == UP:\n",
        "      while i > UP_WALL:\n",
        "        ans.append(matrix[i][j])\n",
        "        i -= 1\n",
        "      i , j = i+1, j+1\n",
        "      direction = RIGHT\n",
        "  return ans"
      ],
      "metadata": {
        "id": "43eiEuERg1ZD"
      },
      "execution_count": 46,
      "outputs": []
    },
    {
      "cell_type": "code",
      "source": [
        "spiralOrder(my_list)"
      ],
      "metadata": {
        "colab": {
          "base_uri": "https://localhost:8080/"
        },
        "id": "GbCBpQLykFae",
        "outputId": "dd52d716-9924-4820-fdff-df35800e3782"
      },
      "execution_count": 47,
      "outputs": [
        {
          "output_type": "execute_result",
          "data": {
            "text/plain": [
              "[1, 2, 3, 6, 9, 8, 7, 4, 5]"
            ]
          },
          "metadata": {},
          "execution_count": 47
        }
      ]
    },
    {
      "cell_type": "code",
      "source": [
        "3 // 2\n"
      ],
      "metadata": {
        "colab": {
          "base_uri": "https://localhost:8080/"
        },
        "id": "xTrabgMNz7CB",
        "outputId": "38aa7bc6-ce7c-48a8-a786-7f4b7db357f7"
      },
      "execution_count": 48,
      "outputs": [
        {
          "output_type": "execute_result",
          "data": {
            "text/plain": [
              "1"
            ]
          },
          "metadata": {},
          "execution_count": 48
        }
      ]
    },
    {
      "cell_type": "code",
      "source": [
        "# Leet Code: 48 Rotate Image\n",
        "def rotate(matrix: List[List[int]]) -> None:\n",
        "  n = len(matrix)\n",
        "\n",
        "  # Tranpose\n",
        "  for i in range(n):\n",
        "    for j in range(i+1, n):\n",
        "      matrix[i][j], matrix[j][i]= matrix[j][i], matrix[i][j]\n",
        "\n",
        "  # Reflection\n",
        "\n",
        "  for i in range(n):\n",
        "    for j in range(n // 2):\n",
        "      matrix[i][j], matrix[i][n-j-1] = matrix[i][n-j-1], matrix[i][j]\n",
        "\n",
        "  # Time: O(n^2)\n",
        "  # Space: O(1)\n"
      ],
      "metadata": {
        "id": "xS-LM2YHxRGI"
      },
      "execution_count": 49,
      "outputs": []
    },
    {
      "cell_type": "code",
      "source": [
        "my_lisste = [[1,2,3],[4,5,6],[7,8,9]]\n",
        "my_lisste"
      ],
      "metadata": {
        "colab": {
          "base_uri": "https://localhost:8080/"
        },
        "id": "AitED1Mb0sAp",
        "outputId": "ea020fe6-5406-49fe-be3b-ae4dc9420624"
      },
      "execution_count": 50,
      "outputs": [
        {
          "output_type": "execute_result",
          "data": {
            "text/plain": [
              "[[1, 2, 3], [4, 5, 6], [7, 8, 9]]"
            ]
          },
          "metadata": {},
          "execution_count": 50
        }
      ]
    },
    {
      "cell_type": "code",
      "source": [
        "rotate(my_lisste)\n",
        "my_lisste"
      ],
      "metadata": {
        "colab": {
          "base_uri": "https://localhost:8080/"
        },
        "id": "8CLWeh880RHF",
        "outputId": "b3f3b792-dbe8-4bd9-cd10-7265b2072257"
      },
      "execution_count": 51,
      "outputs": [
        {
          "output_type": "execute_result",
          "data": {
            "text/plain": [
              "[[7, 4, 1], [8, 5, 2], [9, 6, 3]]"
            ]
          },
          "metadata": {},
          "execution_count": 51
        }
      ]
    },
    {
      "cell_type": "code",
      "source": [
        "# LeetCode-771: Jewels and Stone\n",
        "\n",
        "# Time: O(n*m)\n",
        "def numJewelsInStones(jewels: str, stones: str) -> int:\n",
        "  count = 0\n",
        "  for stone in stones:\n",
        "    if stone in jewels:\n",
        "      count +=1\n",
        "  return count"
      ],
      "metadata": {
        "id": "VpIvfNKzDp-M"
      },
      "execution_count": 52,
      "outputs": []
    },
    {
      "cell_type": "code",
      "source": [
        "# Time: O(m+n)\n",
        "# Space: O(n)\n",
        "\n",
        "def numJewelsInStones1(jewels: str, stones: str) -> int:\n",
        "  s = set(jewels)\n",
        "  count = 0\n",
        "  for stone in stones:\n",
        "    if stone in s:\n",
        "      count +=1\n",
        "  return count"
      ],
      "metadata": {
        "id": "jWIrnjMYERRE"
      },
      "execution_count": 53,
      "outputs": []
    },
    {
      "cell_type": "code",
      "source": [
        "jewels = 'aAB'\n",
        "stones = 'gnbiakmagkrkaAbbbbBBBBBB'\n",
        "numJewelsInStones1(jewels,stones )"
      ],
      "metadata": {
        "colab": {
          "base_uri": "https://localhost:8080/"
        },
        "id": "KV4Hxiz6EmAm",
        "outputId": "9e8bff44-87e3-478c-9612-82cf198ae12a"
      },
      "execution_count": 54,
      "outputs": [
        {
          "output_type": "execute_result",
          "data": {
            "text/plain": [
              "10"
            ]
          },
          "metadata": {},
          "execution_count": 54
        }
      ]
    },
    {
      "cell_type": "code",
      "source": [
        "# Leetcode 383: Ransom Note\n",
        "\n",
        "def canConstruct(ransomNote: str, magazine: str) -> bool:\n",
        "  counter = {}\n",
        "  for c in magazine:\n",
        "    if c in counter:\n",
        "      counter[c] += 1\n",
        "    else:\n",
        "      counter[c] = 1\n",
        "\n",
        "  for c in ransomNote:\n",
        "    if c not in counter:\n",
        "      return False\n",
        "    elif counter[c] == 1:\n",
        "      del counter[c]\n",
        "    else:\n",
        "      counter[c] -=1\n",
        "  return True\n",
        "# Time O(m+n)\n",
        "# Space O(1)"
      ],
      "metadata": {
        "id": "6Fp29BBoa0t-"
      },
      "execution_count": 55,
      "outputs": []
    },
    {
      "cell_type": "code",
      "source": [
        "canConstruct(\"ge\", \"gefrgrhrge\")"
      ],
      "metadata": {
        "colab": {
          "base_uri": "https://localhost:8080/"
        },
        "id": "UjeFJnVjb3YD",
        "outputId": "f971c1c0-077d-426d-ae02-9c11a56a1225"
      },
      "execution_count": 56,
      "outputs": [
        {
          "output_type": "execute_result",
          "data": {
            "text/plain": [
              "True"
            ]
          },
          "metadata": {},
          "execution_count": 56
        }
      ]
    },
    {
      "cell_type": "code",
      "source": [
        "# LeetCode 217- Contains Duplicate\n",
        "def containsDuplicate(nums: List[int]) -> bool:\n",
        "  h = set()\n",
        "  for num in nums:\n",
        "    if num in h:\n",
        "      return True\n",
        "    else:\n",
        "      h.add(num)\n",
        "  return False"
      ],
      "metadata": {
        "id": "OjO3lSJXxx8-"
      },
      "execution_count": 57,
      "outputs": []
    },
    {
      "cell_type": "code",
      "source": [
        "containsDuplicate([5,4,3,2,2])"
      ],
      "metadata": {
        "colab": {
          "base_uri": "https://localhost:8080/"
        },
        "id": "a7WtFPyJz_tH",
        "outputId": "304a742f-b429-48fa-91f3-877dcc7b6810"
      },
      "execution_count": 58,
      "outputs": [
        {
          "output_type": "execute_result",
          "data": {
            "text/plain": [
              "True"
            ]
          },
          "metadata": {},
          "execution_count": 58
        }
      ]
    },
    {
      "cell_type": "code",
      "source": [
        "def containsDuplicate2(nums: List[int]) -> bool:\n",
        "  counter = {}\n",
        "  for num in nums:\n",
        "    if num in counter:\n",
        "      counter[num] +=1\n",
        "    else:\n",
        "      counter[num] = 1\n",
        "  for n in counter:\n",
        "\n",
        "    if counter[n] > 1:\n",
        "      return True\n"
      ],
      "metadata": {
        "id": "4jkreMnt0m5i"
      },
      "execution_count": 59,
      "outputs": []
    },
    {
      "cell_type": "code",
      "source": [
        "containsDuplicate2([3,4,3,3,2,1])"
      ],
      "metadata": {
        "colab": {
          "base_uri": "https://localhost:8080/"
        },
        "id": "CUeOYjTU05pN",
        "outputId": "77aae3db-5349-47fb-d812-63d5af43f3cf"
      },
      "execution_count": 60,
      "outputs": [
        {
          "output_type": "execute_result",
          "data": {
            "text/plain": [
              "True"
            ]
          },
          "metadata": {},
          "execution_count": 60
        }
      ]
    },
    {
      "cell_type": "code",
      "source": [
        "# Leet Code 242: Valid Anagram:\n",
        "from collections import Counter\n",
        "def isAnagram(s: str, t:str) -> bool:\n",
        "  if len(s) != len(t):\n",
        "    return False\n",
        "\n",
        "  s_dict = Counter(s)\n",
        "  t_dict = Counter(t)\n",
        "\n",
        "  return s_dict == t_dict\n",
        "# Time: O(n), Space: O(n)"
      ],
      "metadata": {
        "id": "Pxc0VSHx88YL"
      },
      "execution_count": 61,
      "outputs": []
    },
    {
      "cell_type": "code",
      "source": [
        "# LeetCode 1: Two Sum\n",
        "from typing import List\n",
        "# [3,1,6,3]\n",
        "# hash = {3:2, 1:1, 6:2}\n",
        "# target = 6\n",
        "\n",
        "def twoSum(nums: List[int], target: int) -> List[int]:\n",
        "  h = {}\n",
        "  for i in range(len(nums)):\n",
        "    h[nums[i]] = i\n",
        "  for i in range(len(nums)):\n",
        "    y = target - nums[i]  # y=3\n",
        "\n",
        "    if y in h and h[y] !=i:\n",
        "      return [i, h[y]]\n",
        "# Time: O(n)\n",
        "#Space: O(n)"
      ],
      "metadata": {
        "id": "gkYHGptWGC2v"
      },
      "execution_count": 62,
      "outputs": []
    },
    {
      "cell_type": "code",
      "source": [
        "# LeetCode 49 - Group Anagrams:\n",
        "from collections import defaultdict\n",
        "from typing import List\n",
        "def groupAnagrams(strs: List[str]) -> List[List[str]]:\n",
        "  anag_dict = defaultdict(list)\n",
        "  for s in strs:\n",
        "    count = [0] * 26\n",
        "    for c in s:\n",
        "      count[ord(c) - ord('a')] +=1\n",
        "\n",
        "    key = tuple(count)\n",
        "    #print(key)\n",
        "    anag_dict[key].append(s)\n",
        "    print(anag_dict)\n",
        "  return anag_dict.values()\n",
        " # Time: O(n*m)  Space:(n* m)\n",
        "\n"
      ],
      "metadata": {
        "id": "FtwrssYgI7y6"
      },
      "execution_count": 63,
      "outputs": []
    },
    {
      "cell_type": "code",
      "source": [
        "sting = ['abb', \"ef\", 'fe', 'bab']\n",
        "groupAnagrams(sting)"
      ],
      "metadata": {
        "colab": {
          "base_uri": "https://localhost:8080/"
        },
        "id": "mK4tsxriywpC",
        "outputId": "5265a5a6-2031-4558-8a04-19c26abbed4f"
      },
      "execution_count": 64,
      "outputs": [
        {
          "output_type": "stream",
          "name": "stdout",
          "text": [
            "defaultdict(<class 'list'>, {(1, 2, 0, 0, 0, 0, 0, 0, 0, 0, 0, 0, 0, 0, 0, 0, 0, 0, 0, 0, 0, 0, 0, 0, 0, 0): ['abb']})\n",
            "defaultdict(<class 'list'>, {(1, 2, 0, 0, 0, 0, 0, 0, 0, 0, 0, 0, 0, 0, 0, 0, 0, 0, 0, 0, 0, 0, 0, 0, 0, 0): ['abb'], (0, 0, 0, 0, 1, 1, 0, 0, 0, 0, 0, 0, 0, 0, 0, 0, 0, 0, 0, 0, 0, 0, 0, 0, 0, 0): ['ef']})\n",
            "defaultdict(<class 'list'>, {(1, 2, 0, 0, 0, 0, 0, 0, 0, 0, 0, 0, 0, 0, 0, 0, 0, 0, 0, 0, 0, 0, 0, 0, 0, 0): ['abb'], (0, 0, 0, 0, 1, 1, 0, 0, 0, 0, 0, 0, 0, 0, 0, 0, 0, 0, 0, 0, 0, 0, 0, 0, 0, 0): ['ef', 'fe']})\n",
            "defaultdict(<class 'list'>, {(1, 2, 0, 0, 0, 0, 0, 0, 0, 0, 0, 0, 0, 0, 0, 0, 0, 0, 0, 0, 0, 0, 0, 0, 0, 0): ['abb', 'bab'], (0, 0, 0, 0, 1, 1, 0, 0, 0, 0, 0, 0, 0, 0, 0, 0, 0, 0, 0, 0, 0, 0, 0, 0, 0, 0): ['ef', 'fe']})\n"
          ]
        },
        {
          "output_type": "execute_result",
          "data": {
            "text/plain": [
              "dict_values([['abb', 'bab'], ['ef', 'fe']])"
            ]
          },
          "metadata": {},
          "execution_count": 64
        }
      ]
    },
    {
      "cell_type": "code",
      "source": [
        "ord('a'), ord('b'), ord('c')"
      ],
      "metadata": {
        "colab": {
          "base_uri": "https://localhost:8080/"
        },
        "id": "sX4HLSa6zGhc",
        "outputId": "a3f754f6-0951-4470-ab80-2d71cfd78745"
      },
      "execution_count": 65,
      "outputs": [
        {
          "output_type": "execute_result",
          "data": {
            "text/plain": [
              "(97, 98, 99)"
            ]
          },
          "metadata": {},
          "execution_count": 65
        }
      ]
    },
    {
      "cell_type": "code",
      "source": [
        "# Leet Code 36 - Valid Sudoku\n",
        "def isValidSudoku(board: List[List[str]]) -> bool:\n",
        "  # Validate Rows\n",
        "  for i in range(9):\n",
        "    s = set()\n",
        "    for j in range(9):\n",
        "      item = board[i][j]\n",
        "      if item in s:\n",
        "        return False\n",
        "      elif item != '.':\n",
        "        s.add(item)\n",
        "\n",
        "  # Validate Cols:\n",
        "  for i in range(9):\n",
        "    s = set()\n",
        "    for j in range(9):\n",
        "      item = board[j][i]\n",
        "      if item in s:\n",
        "        return False\n",
        "      elif item != '.':\n",
        "        s.add(item)\n",
        "  # Validate Boxes:\n",
        "  start = [(0,0),(0,3),(0,6),\n",
        "           (3,0),(3,3),(3,6),\n",
        "           (6,0),(6,3),(6,6)]\n",
        "\n",
        "  for i,j in start: # 0,0\n",
        "    s = set()\n",
        "    for row in range(i, i+3):  # 0, 1,2,\n",
        "      for col in range(j, j+3): # 0,1,2\n",
        "        item = board[row][col]\n",
        "        if item in s:\n",
        "          return False\n",
        "        elif item != '.':\n",
        "          s.add(item)\n",
        "  return True\n"
      ],
      "metadata": {
        "id": "3HRN_ic3ANlJ"
      },
      "execution_count": 66,
      "outputs": []
    },
    {
      "cell_type": "code",
      "source": [
        "# LeetCode 1189: Max Number of Balloon\n",
        "from collections import defaultdict\n",
        "def maxNumberOfBalloons(text: str) -> int:\n",
        "  counter= defaultdict(int)\n",
        "  balloon = 'balloon'\n",
        "\n",
        "  for c in text:\n",
        "    if c in balloon:\n",
        "      counter[c] +=1\n",
        "  print(counter)\n",
        "  print(counter['b'],counter['a'],counter['l']//2,counter['o']//2)\n",
        "  if any(c not in counter for c in balloon):\n",
        "    return 0\n",
        "  else:\n",
        "    return min(counter['b'],counter['a'],counter['l']//2,counter['o']//2)\n",
        "\n"
      ],
      "metadata": {
        "id": "C0_mrehaZToz"
      },
      "execution_count": 67,
      "outputs": []
    },
    {
      "cell_type": "code",
      "source": [
        "strr = 'balllloons'\n",
        "maxNumberOfBalloons(strr)"
      ],
      "metadata": {
        "colab": {
          "base_uri": "https://localhost:8080/"
        },
        "id": "SxZSHzW4aYmZ",
        "outputId": "244f6566-13b8-45e2-e4a8-20e2d803c00e"
      },
      "execution_count": 68,
      "outputs": [
        {
          "output_type": "stream",
          "name": "stdout",
          "text": [
            "defaultdict(<class 'int'>, {'b': 1, 'a': 1, 'l': 4, 'o': 2, 'n': 1})\n",
            "1 1 2 1\n"
          ]
        },
        {
          "output_type": "execute_result",
          "data": {
            "text/plain": [
              "1"
            ]
          },
          "metadata": {},
          "execution_count": 68
        }
      ]
    },
    {
      "cell_type": "code",
      "source": [
        "# LeetCode 128 - Longest Consecutive Sequence\n",
        "def longestConsecutive(nums: List[int]) -> int:\n",
        "  s = set(nums)\n",
        "  longest = 0\n",
        "  for num in nums:\n",
        "    if num - 1 not in s:\n",
        "      next_num = num +1\n",
        "      lenght = 1\n",
        "      while next_num in s:\n",
        "        next_num +=1\n",
        "        lenght +=1\n",
        "      longest = max(longest, lenght)\n",
        "  return longest"
      ],
      "metadata": {
        "id": "ry1ZQnXQDgqO"
      },
      "execution_count": 69,
      "outputs": []
    },
    {
      "cell_type": "code",
      "source": [
        "my_num = [1,4,2,3,6,4,5,100]\n",
        "longestConsecutive(my_num)"
      ],
      "metadata": {
        "id": "LxTbfNz-aT-N",
        "colab": {
          "base_uri": "https://localhost:8080/"
        },
        "outputId": "2160cb24-f30e-45d6-b32a-2b3a127bf7c1"
      },
      "execution_count": 70,
      "outputs": [
        {
          "output_type": "execute_result",
          "data": {
            "text/plain": [
              "6"
            ]
          },
          "metadata": {},
          "execution_count": 70
        }
      ]
    },
    {
      "cell_type": "code",
      "source": [
        "# LeetCode 169: Majority Element\n",
        "def majorityElement(nums: List[int]) -> int:\n",
        "  counter ={}\n",
        "  for num in nums:\n",
        "    if num in counter:\n",
        "      counter[num] +=1\n",
        "    else:\n",
        "      counter[num] = 1\n",
        "  max_count = -1\n",
        "  ans = -1\n",
        "\n",
        "  for key, val in counter.values():\n",
        "    if val > max_count:\n",
        "      max_count = val\n",
        "      ans = key\n",
        "  return ans\n",
        "  # Time: O(n)\n",
        "  # Space: O(n)\n",
        "\n"
      ],
      "metadata": {
        "id": "LWhxuvzXMmMa"
      },
      "execution_count": 71,
      "outputs": []
    },
    {
      "cell_type": "code",
      "source": [
        "def majorityElement2(nums: List[int]) -> int:\n",
        "  nums.sort()\n",
        "  return nums[len(nums)//2]"
      ],
      "metadata": {
        "id": "F1dY2D2GNURE"
      },
      "execution_count": 72,
      "outputs": []
    },
    {
      "cell_type": "code",
      "source": [
        "my_numbers = [3,3,4,5,2,1,3,2,1]\n",
        "majorityElement2(my_numbers)"
      ],
      "metadata": {
        "colab": {
          "base_uri": "https://localhost:8080/"
        },
        "id": "ZQmSHnFTNfwM",
        "outputId": "b7536333-3663-479a-bb72-c430f3d847cb"
      },
      "execution_count": 73,
      "outputs": [
        {
          "output_type": "execute_result",
          "data": {
            "text/plain": [
              "3"
            ]
          },
          "metadata": {},
          "execution_count": 73
        }
      ]
    },
    {
      "cell_type": "code",
      "source": [
        "def majorityElement3(nums: List[int]) -> int: #[3,3,2,1,3,2,1]\n",
        "  ans = -1\n",
        "  count = 0\n",
        "  for num in nums:  #3 ans=3 count=1\n",
        "    if count == 0:  #3 ans=3 count=2\n",
        "      ans = num     #2 ans=3 count =1\n",
        "    if ans == num: # 1 ans=3 count =0\n",
        "      count +=1   #3 ans=3 count=1\n",
        "    else:         #2 ans =3 count=0\n",
        "      count -=1    #1 ans=1 count=1\n",
        "    print(ans, count)\n",
        "  return  ans\n",
        "  # Time: O(n)\n",
        "  # Space: O(1)"
      ],
      "metadata": {
        "id": "JyfjP056N3Jv"
      },
      "execution_count": 74,
      "outputs": []
    },
    {
      "cell_type": "code",
      "source": [
        "my_numbers2 = [3,2,1,1,2,3,3,2,3,3, 2,3,2]"
      ],
      "metadata": {
        "id": "GS3Wd3cVQWEZ"
      },
      "execution_count": 75,
      "outputs": []
    },
    {
      "cell_type": "code",
      "source": [
        "majorityElement3(my_numbers2)"
      ],
      "metadata": {
        "colab": {
          "base_uri": "https://localhost:8080/"
        },
        "id": "DG4RkZXLPOZe",
        "outputId": "d00092dd-59f0-4a1c-e87a-cf8a46553644"
      },
      "execution_count": 76,
      "outputs": [
        {
          "output_type": "stream",
          "name": "stdout",
          "text": [
            "3 1\n",
            "3 0\n",
            "1 1\n",
            "1 2\n",
            "1 1\n",
            "1 0\n",
            "3 1\n",
            "3 0\n",
            "3 1\n",
            "3 2\n",
            "3 1\n",
            "3 2\n",
            "3 1\n"
          ]
        },
        {
          "output_type": "execute_result",
          "data": {
            "text/plain": [
              "3"
            ]
          },
          "metadata": {},
          "execution_count": 76
        }
      ]
    },
    {
      "cell_type": "code",
      "source": [
        "# LeetCode 977 - Squares of a Sorted Array (2 Pointers)\n",
        "\n",
        "def sortedSquares(nums: List[int]) -> List[int]:\n",
        "  left =0\n",
        "  right = len(nums) - 1\n",
        "  result = []\n",
        "  while left <= right:\n",
        "    if abs(nums[left]) > abs(nums[right]):\n",
        "      result.append(nums[left] **2)\n",
        "      left +=1\n",
        "    else:\n",
        "      result.append(nums[right] **2)\n",
        "      right -=1\n",
        "  return result[::-1]\n",
        "\n",
        "  # Time: 0(n)\n",
        "  # Space:0(1)"
      ],
      "metadata": {
        "id": "ARjT03VHaMe1"
      },
      "execution_count": 77,
      "outputs": []
    },
    {
      "cell_type": "code",
      "source": [
        "numbers_list = [2,7,8,12,20]\n",
        "sortedSquares(numbers_list)"
      ],
      "metadata": {
        "colab": {
          "base_uri": "https://localhost:8080/"
        },
        "id": "sd9RPz_Mal5T",
        "outputId": "2e12f3a9-621f-4808-cecc-2ccf96cbb87d"
      },
      "execution_count": 78,
      "outputs": [
        {
          "output_type": "execute_result",
          "data": {
            "text/plain": [
              "[4, 49, 64, 144, 400]"
            ]
          },
          "metadata": {},
          "execution_count": 78
        }
      ]
    },
    {
      "cell_type": "code",
      "source": [
        "# LeetCode 344 - Reverse String with Space O(1) 2 Pointers\n",
        "def reverseString(s: List[str]) ->None:\n",
        "  n = len(s)\n",
        "  l = 0\n",
        "  r = n-1\n",
        "\n",
        "  while l<r:\n",
        "    s[l], s[r]  = s[r], s[l]\n",
        "    l +=1\n",
        "    r -+1\n",
        "# Time: O(n)"
      ],
      "metadata": {
        "id": "Geuh3E0YgzDY"
      },
      "execution_count": 79,
      "outputs": []
    },
    {
      "cell_type": "code",
      "source": [
        "# LeetCode 167- Two Summ II - Input Array is Sorted and 1-indexed array\n",
        "def twoSummII(numbers: List[int], target: int) -> List[int]:\n",
        "  n = len(numbers)\n",
        "  l = 0\n",
        "  r = n-1\n",
        "  while l<r:\n",
        "    summ = numbers[l] + numbers[r]\n",
        "    if summ == target:\n",
        "      return [l+1, r+1]\n",
        "    elif summ < target:\n",
        "      l +=1\n",
        "    else:\n",
        "      r-=1\n",
        "# Time:O(n), Space: O(1)"
      ],
      "metadata": {
        "id": "x2GrScOPjWw_"
      },
      "execution_count": 80,
      "outputs": []
    },
    {
      "cell_type": "code",
      "source": [
        "# LeetCode 125 - Valid Palindrome\n",
        "# Alphanumeric characters include letters and numbers\n",
        "def isPalindrome(s: str) -> bool:\n",
        "  n = len(s)\n",
        "  L = 0\n",
        "  R = n-1\n",
        "  while L<R:\n",
        "    if not s[L].isalnum():\n",
        "      L+=1\n",
        "      continue\n",
        "    if not s[R].isalnum():\n",
        "      R-=1\n",
        "      continue\n",
        "    if s[L].lower() != s[R].lower():\n",
        "      return False\n",
        "    L+=1\n",
        "    R-=1\n",
        "    return True\n",
        "    # Time: O(n), Space:0(1)"
      ],
      "metadata": {
        "id": "sjCytjbBvAtw"
      },
      "execution_count": 81,
      "outputs": []
    },
    {
      "cell_type": "code",
      "source": [
        "# Leetcode-15: 3 Sum\n",
        "from typing import List\n",
        "def threeSum(nums: List[int]) -> List[List[int]]:\n",
        "  nums.sort()\n",
        "  n = len(nums)\n",
        "  answer = []\n",
        "  for i in range(n):\n",
        "    if nums[i] > 0:\n",
        "      break\n",
        "    elif i>0 and nums[i] == nums[i-1]:\n",
        "      continue\n",
        "    lo, hi = i+1, n-1\n",
        "    while lo<hi:\n",
        "      summ = nums[i] + nums[lo] + nums[hi]\n",
        "      if summ == 0:\n",
        "        answer.append([nums[i], nums[lo], nums[hi]])\n",
        "        lo, hi = lo+1, hi-1\n",
        "        while lo<hi and nums[lo] == nums[lo-1]:\n",
        "          lo+=1\n",
        "        while lo <hi and nums[hi] == nums[hi+1]:\n",
        "          hi -=1\n",
        "      elif summ<0:\n",
        "        lo+=1\n",
        "      else:\n",
        "        hi-=1\n",
        "  return answer\n",
        "\n",
        "\n",
        "  # Time: O(n^2), Space:O(n)"
      ],
      "metadata": {
        "id": "W3jvlwBvHpwG"
      },
      "execution_count": 82,
      "outputs": []
    },
    {
      "cell_type": "code",
      "source": [
        "mu_nombres= [0,-1,-2,-3,1,2,3]\n",
        "threeSum(mu_nombres)"
      ],
      "metadata": {
        "colab": {
          "base_uri": "https://localhost:8080/"
        },
        "id": "JBCYrBQDeA7I",
        "outputId": "bc345203-6f9a-4497-f6ea-c10682c20f01"
      },
      "execution_count": 83,
      "outputs": [
        {
          "output_type": "execute_result",
          "data": {
            "text/plain": [
              "[[-3, 0, 3], [-3, 1, 2], [-2, -1, 3], [-2, 0, 2], [-1, 0, 1]]"
            ]
          },
          "metadata": {},
          "execution_count": 83
        }
      ]
    },
    {
      "cell_type": "code",
      "source": [
        "# LeetCode 11 - Container with Most Water - 2 Pointers\n",
        "def maxArea(height: List[int]) -> int:\n",
        "  n = len(height)\n",
        "  l = 0\n",
        "  r = n-1\n",
        "  max_area = 0\n",
        "  while l<r:\n",
        "    w = r-l\n",
        "    h = min(height[l], height[r])\n",
        "    a = w * h\n",
        "    max_area = max(max_area, a)\n",
        "    if height[l] < height[r]:\n",
        "      l +=1\n",
        "    else:\n",
        "      r-=1\n",
        "  return max_area\n"
      ],
      "metadata": {
        "id": "3EsViI2xkDh9"
      },
      "execution_count": 84,
      "outputs": []
    },
    {
      "cell_type": "code",
      "source": [
        "# LeetCode-42: Trapping Rain Water\n",
        "rain = [0,1,0,2,1,0,1,3,2,1,2,1]\n",
        "def trap(height: List[int]) -> int:\n",
        "  l_wall, l_right = 0,0\n",
        "  n = len(height)\n",
        "  max_left = [0] * n\n",
        "  max_right = [0] * n\n",
        "\n",
        "  for i in range(n):\n",
        "    j = -i-1\n",
        "    max_left[i] = l_wall\n",
        "    max_right[j] = l_right\n",
        "    l_wall = max(l_wall, height[i])\n",
        "    l_right = max(l_right, height[j])\n",
        "  print(max_left)\n",
        "  print(max_right)\n",
        "\n",
        "  summ = 0\n",
        "  for i in range(n):\n",
        "    pot = min(max_left[i], max_right[i])\n",
        "    summ += max(0, pot - height[i])\n",
        "    print(f\"pot: {pot}\")\n",
        "    print(f\"sum: {summ}\")\n",
        "  return summ"
      ],
      "metadata": {
        "id": "NTLgo3U-p3z0"
      },
      "execution_count": 85,
      "outputs": []
    },
    {
      "cell_type": "code",
      "source": [
        "trap(rain)"
      ],
      "metadata": {
        "colab": {
          "base_uri": "https://localhost:8080/"
        },
        "id": "TmIn05lirfNO",
        "outputId": "e499776a-b402-428d-89f6-0933efb35aa4"
      },
      "execution_count": 86,
      "outputs": [
        {
          "output_type": "stream",
          "name": "stdout",
          "text": [
            "[0, 0, 1, 1, 2, 2, 2, 2, 3, 3, 3, 3]\n",
            "[3, 3, 3, 3, 3, 3, 3, 2, 2, 2, 1, 0]\n",
            "pot: 0\n",
            "sum: 0\n",
            "pot: 0\n",
            "sum: 0\n",
            "pot: 1\n",
            "sum: 1\n",
            "pot: 1\n",
            "sum: 1\n",
            "pot: 2\n",
            "sum: 2\n",
            "pot: 2\n",
            "sum: 4\n",
            "pot: 2\n",
            "sum: 5\n",
            "pot: 2\n",
            "sum: 5\n",
            "pot: 2\n",
            "sum: 5\n",
            "pot: 2\n",
            "sum: 6\n",
            "pot: 1\n",
            "sum: 6\n",
            "pot: 0\n",
            "sum: 6\n"
          ]
        },
        {
          "output_type": "execute_result",
          "data": {
            "text/plain": [
              "6"
            ]
          },
          "metadata": {},
          "execution_count": 86
        }
      ]
    },
    {
      "cell_type": "code",
      "source": [
        "# Leetcode: 682 - Baseball Game\n",
        "\n",
        "def calPoints(operations: List[str] ) -> int:\n",
        "  stk = []\n",
        "  for op in operations:\n",
        "    if op == '+':\n",
        "      if len(stk) >= 2:\n",
        "        stk.append(stk[-1]+stk[-2])\n",
        "      else:\n",
        "        continue\n",
        "    elif op == 'D':\n",
        "      stk.append(stk[-1]*2)\n",
        "    elif op == 'C':\n",
        "      stk.pop()\n",
        "    else:\n",
        "      stk.append(int(op))\n",
        "  return sum(stk)\n",
        "  # Time: 0(n)\n",
        "  # Space: 0(n)\n",
        "\n"
      ],
      "metadata": {
        "id": "8-sPlf3VRXvp"
      },
      "execution_count": 87,
      "outputs": []
    },
    {
      "cell_type": "code",
      "source": [
        "stalk = ['5','+']\n",
        "calPoints(stalk)"
      ],
      "metadata": {
        "colab": {
          "base_uri": "https://localhost:8080/"
        },
        "id": "Mz_qzCCaS5q8",
        "outputId": "f7609057-7171-4f9e-c168-7121247453e6"
      },
      "execution_count": 88,
      "outputs": [
        {
          "output_type": "execute_result",
          "data": {
            "text/plain": [
              "5"
            ]
          },
          "metadata": {},
          "execution_count": 88
        }
      ]
    },
    {
      "cell_type": "code",
      "source": [
        "# Leetcode: Valid Parentheses - Stakcs\n",
        "\n",
        "def isValid(s:str) -> bool:\n",
        "  hashmap = {')':'(', '}':'{', ']':'['}\n",
        "  stk = []\n",
        "  for c in s:\n",
        "    if c in hashmap.values():\n",
        "      stack.append(c)\n",
        "    elif char in hashmap.keys():\n",
        "      if not stack or hashmap[c] != stack.pop():\n",
        "        return False\n",
        "    return not stk\n",
        "\n",
        "  # Time: 0(n), Space: O(n)\n"
      ],
      "metadata": {
        "id": "_5cMy-WHT3c0"
      },
      "execution_count": 89,
      "outputs": []
    },
    {
      "cell_type": "code",
      "source": [
        "mu_hashmap ='([])'\n",
        "isValid(mu_hashmap)\n"
      ],
      "metadata": {
        "colab": {
          "base_uri": "https://localhost:8080/"
        },
        "id": "04Ta8Wl7Up-f",
        "outputId": "3d1147a7-6fba-4163-a0d6-03f8293fbcd6"
      },
      "execution_count": 90,
      "outputs": [
        {
          "output_type": "execute_result",
          "data": {
            "text/plain": [
              "True"
            ]
          },
          "metadata": {},
          "execution_count": 90
        }
      ]
    },
    {
      "cell_type": "code",
      "source": [
        "# Leetcode 739 - Daily Temperatures - Stacks\n",
        "def dailyTemperatures(temperatures: List[int]) -> List[int]:\n",
        "  stk = []\n",
        "  n = len(temperatures)\n",
        "  ans = [0] * n\n",
        "  stk = []\n",
        "  # 12,34,34\n",
        "  # stk = (12,0) -\n",
        "  # ans = 0\n",
        "  for i,t in enumerate(temperatures): #1,34\n",
        "    while stk and stk[-1][0] < t:\n",
        "      stk_t, stk_i = stk.pop()\n",
        "      ans[stk_i] = i-stk_i\n",
        "\n",
        "    stk.append(t,i)\n",
        "  return ans"
      ],
      "metadata": {
        "id": "Zc3CwopU1yuY"
      },
      "execution_count": 91,
      "outputs": []
    },
    {
      "cell_type": "code",
      "source": [
        "temps = [67,5,23,23,7,5]\n",
        "for i,v in enumerate(temps):\n",
        "  print(i,v)\n",
        "  print(\"----------\")\n",
        ""
      ],
      "metadata": {
        "colab": {
          "base_uri": "https://localhost:8080/"
        },
        "id": "spz5t6ah-wA5",
        "outputId": "c50a8ca3-4ac7-47f1-b020-a9e2d42bf97c"
      },
      "execution_count": 92,
      "outputs": [
        {
          "output_type": "stream",
          "name": "stdout",
          "text": [
            "0 67\n",
            "----------\n",
            "1 5\n",
            "----------\n",
            "2 23\n",
            "----------\n",
            "3 23\n",
            "----------\n",
            "4 7\n",
            "----------\n",
            "5 5\n",
            "----------\n"
          ]
        }
      ]
    },
    {
      "cell_type": "code",
      "source": [
        "# Leetcode 150 - Evaluate Reverse Polish Notation- Stack\n",
        "from math import floor, ceil\n",
        "def evalRPN(tokens: List[str]) -> int:\n",
        "  stk = []\n",
        "  for t in tokens:\n",
        "    if t in '+-*/':\n",
        "      b,a = stk.pop(), stk.pop()\n",
        "      if t =='+':\n",
        "        stk.append(a+b)\n",
        "      elif t =='-':\n",
        "        stk.append(a-b)\n",
        "      elif t =='*':\n",
        "        stk.append(a*b)\n",
        "      else:\n",
        "        division = b/a\n",
        "        if division < 0:\n",
        "          stk.append(math.ceil(division))\n",
        "        else:\n",
        "          stk.append(math.floor(division))\n",
        "    else:\n",
        "      stk.append(int(t))\n",
        "  return stk[0]\n",
        ""
      ],
      "metadata": {
        "id": "azRj1u0MGthR"
      },
      "execution_count": 93,
      "outputs": []
    },
    {
      "cell_type": "code",
      "source": [
        "# Leetcode 155 - Min Stack\n",
        "#Time: O(1), Space: O(n)\n",
        "class MinStack:\n",
        "  def __init__(self):\n",
        "    self.stk=[]\n",
        "    self.min_stk = []\n",
        "\n",
        "  def push(self, val:int) -> None:\n",
        "    self.stk.append(val)\n",
        "    if not self.min_stk:\n",
        "      self.min.stk.append(val)\n",
        "    elif self.min_stk[-1] < val:\n",
        "      self.min_stk.append(self.min_stk[-1])\n",
        "    else:\n",
        "      self.min_stk.append(val)\n",
        "  def pop(self)  -> None:\n",
        "    self.stk.pop()\n",
        "    self.min_stk.pop()\n",
        "  def top(self) -> int:\n",
        "    return self.stk[-1]\n",
        "  def getMin(self) -> int:\n",
        "    return self.min_stk[-1]"
      ],
      "metadata": {
        "id": "EV7xxdj-Iijr"
      },
      "execution_count": 94,
      "outputs": []
    },
    {
      "cell_type": "code",
      "source": [
        "# Leetcode 704- Binary Search Time: 0(log(n))\n",
        "def search(nums: List[int], target: int) -> int:\n",
        "  left = 0\n",
        "  right = len(nums) -1\n",
        "  while left <=right:\n",
        "    mid = (left + right) //2\n",
        "    if nums[mid] == target:\n",
        "      return mid\n",
        "    elif nums[mid] > target:\n",
        "      right = mid - 1\n",
        "    else:\n",
        "      left = mid +1\n",
        "  return -1"
      ],
      "metadata": {
        "id": "vo9ZMzi0cnD_"
      },
      "execution_count": 95,
      "outputs": []
    },
    {
      "cell_type": "code",
      "source": [
        "# Leetcode 35: Search Insert Position - Binary\n",
        "# Time: O(log n), Space: O(1)\n",
        "\n",
        "def searchInsert(nums: List[int], target: int) -> int:\n",
        "  n = len(nums)\n",
        "  l = 0\n",
        "  r = n-1\n",
        "  while l<=r:\n",
        "    m = (l+r)//2\n",
        "    if nums[m] == target:\n",
        "      return m\n",
        "    elif nums[m] < target:\n",
        "      l = m+1\n",
        "    else:\n",
        "      r = m-1\n",
        "\n",
        "  if nums[m] < target:\n",
        "    return m+1\n",
        "  else:\n",
        "    return m"
      ],
      "metadata": {
        "id": "HzhJca-9vkEw"
      },
      "execution_count": 96,
      "outputs": []
    },
    {
      "cell_type": "code",
      "source": [
        "# Leetcode 74: Search a 2D Matrix\n",
        "# Time: O(log(m*n))\n",
        "# Space: O(1)\n",
        "def searchMatrix(matrix: List[List[int]], target: int) -> bool:\n",
        "  m = len(matrix)\n",
        "  n = len(matrix[0])\n",
        "  t = m*n\n",
        "  l = 0\n",
        "  r = t -1\n",
        "  while l <=r:\n",
        "    m = (l+r) // 2\n",
        "    i = m //n\n",
        "    j = m % n\n",
        "    mid_num = matrix[i][j]\n",
        "    if target == mid_num:\n",
        "      return True\n",
        "    elif target<mid_num:\n",
        "      r=m-1\n",
        "    else:\n",
        "      l=m+1\n",
        "  return False"
      ],
      "metadata": {
        "id": "f98ddM6Qx4IZ"
      },
      "execution_count": 97,
      "outputs": []
    },
    {
      "cell_type": "code",
      "source": [
        "# Leetcode 153- Find Minimum in Rotated Sorted Array\n",
        "# Time: O(log(n)), Space: O(1)\n",
        "# 4,5,6,7,8,0,1,2\n",
        "def findMin(nums: List[int]) -> int:\n",
        "  n = len(nums)\n",
        "  l = 0\n",
        "  r = n-1\n",
        "  while l<r:\n",
        "    m = (l+r) //2\n",
        "    if nums[m] > nums[r]:\n",
        "      l = m+1\n",
        "    else:\n",
        "      r = m\n",
        "  return nums[l]"
      ],
      "metadata": {
        "id": "ilrObLVODED0"
      },
      "execution_count": 98,
      "outputs": []
    },
    {
      "cell_type": "code",
      "source": [
        "# Leetcode 33 - Search in Rotated Sorted Array\n",
        "def search(nums: List[int], target: int) -> int:\n",
        "  n = len(nums)\n",
        "  l = 0\n",
        "  r = n-1\n",
        "# 4,5,6,0,1,2,3\n",
        "  while l<r:\n",
        "    m = (l+r) // 2\n",
        "    if nums[m] > nums[r]:\n",
        "      l = m+1\n",
        "    else:\n",
        "      r= m\n",
        "  min_i = l\n",
        "  if min_i == 0:\n",
        "    l,r = 0, n-1\n",
        "  elif target >= nums[0] and target <= nums[min_i-1]:\n",
        "    l,r = 0, min_i-1\n",
        "  else:\n",
        "    l,r = min_i, n-1\n",
        "  while l<=r:\n",
        "    m=(l+r)//2\n",
        "\n",
        "    if nums[m] ==target:\n",
        "      return m\n",
        "    elif nums[m] < target:\n",
        "      l = m+1\n",
        "    else:\n",
        "      r = m-1\n",
        "  return -1\n",
        "\n",
        "  # Time: 0(log n)\n",
        "  # Space: O(1)\n",
        ""
      ],
      "metadata": {
        "id": "dATGN_CHKjMV"
      },
      "execution_count": 99,
      "outputs": []
    },
    {
      "cell_type": "code",
      "source": [
        "# Leetcode 278-First Bad Version\n",
        "def isBadVersion(version: int) -> bool:\n",
        "  pass\n",
        "\n",
        "# G,G,G,G,G,B,B,B\n",
        "# N =8\n",
        "def firstBadVersion(n: int) -> int:\n",
        "  L= 1\n",
        "  R= n\n",
        "  while L<R:\n",
        "    M = (L+R) // 2\n",
        "    if isBadVersion(M):\n",
        "      R=M\n",
        "    else:\n",
        "      L = M+1\n",
        "  return L\n",
        "# Time: 0(Log n), Space: 0(1)"
      ],
      "metadata": {
        "id": "KW2RxPA8dwng"
      },
      "execution_count": 100,
      "outputs": []
    },
    {
      "cell_type": "code",
      "source": [
        "# Leetcode-367: Valid Perfect Square\n",
        "def isPerfectSquare(num: int) -> bool:\n",
        "  for x in range(1, num+1):\n",
        "    if x **2 == num:\n",
        "      return True\n",
        "  return False\n"
      ],
      "metadata": {
        "id": "QwFB_qFHf7Zg"
      },
      "execution_count": 101,
      "outputs": []
    },
    {
      "cell_type": "code",
      "source": [
        "def isPerfectSquare2(num: int) -> bool:\n",
        "  #Time: 0(log n), Space: O(1) with binary search\n",
        "  r = num #5\n",
        "  # 1,2,3,4,5\n",
        "  while l<= r:\n",
        "    m = (l+r) //2\n",
        "    m_squared = m*m\n",
        "\n",
        "    if num==m_squared:\n",
        "      return True\n",
        "    elif m_squared < num:\n",
        "      l = m+1\n",
        "    else:\n",
        "      r = m-1\n",
        "  return False"
      ],
      "metadata": {
        "id": "nLNLPHLO46Va"
      },
      "execution_count": 102,
      "outputs": []
    },
    {
      "cell_type": "code",
      "source": [
        "# Leetcode-875 Koko Eating Bananas- Binary Search\n",
        "\n",
        "# piles=[3,6,7,11] k=3  1, 2, 4, 4 =11\n",
        "def minEatingSpeed(piles: List[int], h:int) -> int:\n",
        "  def k_works(k):\n",
        "    hours = 0\n",
        "    for p in piles:\n",
        "      hours += ceil(p/k)\n",
        "    return hours <=h\n",
        "  l = 1\n",
        "  r = max(piles) # 11\n",
        "  while l<r:\n",
        "    k = (l+r) // 2   # 6\n",
        "    if k_works(k):\n",
        "      r = k\n",
        "    else:\n",
        "      l = k+1\n",
        "  return r\n",
        "  # Time: O(n * log(max(piles)))\n",
        "  # Space: O(1)"
      ],
      "metadata": {
        "id": "WvxB-UF-_4dZ"
      },
      "execution_count": 103,
      "outputs": []
    },
    {
      "cell_type": "code",
      "source": [
        "# Leetcode 83: Remove Duplicates from Sorted List\n",
        "from typing import Optional\n",
        "class ListNode:\n",
        "  def __init__(self, val=0, next=None):\n",
        "    self.val = val\n",
        "    self.next = next\n",
        "\n",
        "def deleteDuplicates(head: Optional[ListNode]) -> Optional[ListNode]:\n",
        "  curr = head\n",
        "  while curr and curr.next:\n",
        "    if curr.val == curr.next.val:\n",
        "      curr.next = curr.next.next\n",
        "    else:\n",
        "      curr = curr.next\n",
        "  return head\n",
        "\n",
        "  # Time:O(n), Space: O(1)"
      ],
      "metadata": {
        "id": "OZQw84GRDEEW"
      },
      "execution_count": 104,
      "outputs": []
    },
    {
      "cell_type": "code",
      "source": [
        "# Leetcode:206 - Linkled List\n",
        "def reverseList(head: Optional[ListNode]) -> Optional[ListNode]:\n",
        "  cur = head\n",
        "  prev= None\n",
        "  while cur:\n",
        "    temp = cur.next\n",
        "    cur.next = prev\n",
        "    prev= cur\n",
        "    cur= temp\n",
        "  return prev #Time:O(n), Space:O(1)\n"
      ],
      "metadata": {
        "id": "a7bTZJxXU2ep"
      },
      "execution_count": 105,
      "outputs": []
    },
    {
      "cell_type": "code",
      "source": [
        "# Leetcode:21 - Merge 2 Sorted List - Linked Lists\n",
        "def mergeTwoLists(list1: Optional[ListNode], list2: Optional[ListNode]) -> Optional[ListNode]:\n",
        "  d = ListNode()\n",
        "  cur= d\n",
        "  while list1 and list2:\n",
        "    if list1.val < list2.val:\n",
        "      cur.next = list1\n",
        "      cur = list1\n",
        "      list1 = list1.next\n",
        "    else:\n",
        "      cur.next = list2\n",
        "      cur = list2\n",
        "      list2 = list2.next\n",
        "  cur.next = list1 if list1 else list2\n",
        "\n",
        "  return d.next    #Time:O(n), Space:O(1)\n",
        ""
      ],
      "metadata": {
        "id": "pWrnjGA3YIIS"
      },
      "execution_count": 106,
      "outputs": []
    },
    {
      "cell_type": "code",
      "source": [
        "# Leetcode 141: Linked List Cycle\n",
        "def hasCycle(head: Optional[ListNode]) -> bool:\n",
        "  dummy =ListNode()\n",
        "  dummy.next = head\n",
        "  slow = fast = dummy\n",
        "  while fast and fast.next:\n",
        "    fast = fast.next.next\n",
        "    slow = slow.next\n",
        "    if fast == slow:\n",
        "      return True\n",
        "  return False\n",
        "  # Time: O(n), Space:O(1)\n",
        "\n",
        ""
      ],
      "metadata": {
        "id": "Pv1rYijONhrf"
      },
      "execution_count": 107,
      "outputs": []
    }
  ]
}