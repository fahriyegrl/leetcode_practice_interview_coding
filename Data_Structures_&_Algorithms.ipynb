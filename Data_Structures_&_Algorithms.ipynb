{
  "nbformat": 4,
  "nbformat_minor": 0,
  "metadata": {
    "colab": {
      "provenance": [],
      "authorship_tag": "ABX9TyMLaDRHEHJPEw4irKXcfNwc",
      "include_colab_link": true
    },
    "kernelspec": {
      "name": "python3",
      "display_name": "Python 3"
    },
    "language_info": {
      "name": "python"
    }
  },
  "cells": [
    {
      "cell_type": "markdown",
      "metadata": {
        "id": "view-in-github",
        "colab_type": "text"
      },
      "source": [
        "<a href=\"https://colab.research.google.com/github/fahriyegrl/leetcode_practice_interview_coding/blob/main/Data_Structures_%26_Algorithms.ipynb\" target=\"_parent\"><img src=\"https://colab.research.google.com/assets/colab-badge.svg\" alt=\"Open In Colab\"/></a>"
      ]
    },
    {
      "cell_type": "code",
      "execution_count": 252,
      "metadata": {
        "colab": {
          "base_uri": "https://localhost:8080/"
        },
        "id": "2lD9cEImWx8H",
        "outputId": "ae405719-1bd0-4a14-ff18-87d1aaefa3b4"
      },
      "outputs": [
        {
          "output_type": "stream",
          "name": "stdout",
          "text": [
            "[-4, -3, -3, 1, 2, 2, 2, 3, 7]\n"
          ]
        }
      ],
      "source": [
        "# Bubble Sort Time: O(n^2), Space: O(n)\n",
        "\n",
        "A= [-4,3,2,1,-3,-3,7,2,2]\n",
        "\n",
        "def bubble_sort(arr):\n",
        "  n=len(arr)\n",
        "  flag= True\n",
        "  while flag:\n",
        "    flag=False\n",
        "    for i in range(1,n):\n",
        "      if arr[i-1] > arr[i]:\n",
        "        flag=True\n",
        "        arr[i-1], arr[i]= arr[i], arr[i-1]\n",
        "  return arr\n",
        "\n",
        "print(bubble_sort(A))"
      ]
    },
    {
      "cell_type": "code",
      "source": [
        "# Insertion Sort Time: O(n^2), Space: O(1)\n",
        "\n",
        "def insertion_sort(arr):\n",
        "  n = len(arr)\n",
        "  for i in range(1,n):\n",
        "    for j in range(i,0,-1):\n",
        "      if arr[j-1] > arr[j]:\n",
        "        arr[j-1], arr[j]= arr[j], arr[j-1]\n",
        "  return arr\n",
        "\n",
        "print(insertion_sort(A))"
      ],
      "metadata": {
        "colab": {
          "base_uri": "https://localhost:8080/"
        },
        "id": "NdDiFeLgX0pU",
        "outputId": "dda0700b-c0d2-476f-b3a0-7b97782baff7"
      },
      "execution_count": 253,
      "outputs": [
        {
          "output_type": "stream",
          "name": "stdout",
          "text": [
            "[-4, -3, -3, 1, 2, 2, 2, 3, 7]\n"
          ]
        }
      ]
    },
    {
      "cell_type": "code",
      "source": [
        "#Selection Sort Time: O(n^2), Space: O(1)\n",
        "\n",
        "C= [-3,3,2,1,-5,-6,7,2,2]\n",
        "\n",
        "def selection_sort(arr):\n",
        "  n = len(arr)\n",
        "  for i in range(n):\n",
        "    min_index = i\n",
        "    for j in range(i+1,n):\n",
        "      if arr[j] < arr[min_index]:\n",
        "        min_index=j\n",
        "    arr[i], arr[min_index] = arr[min_index], arr[i]\n",
        "\n",
        "selection_sort(C)\n",
        "print(C)"
      ],
      "metadata": {
        "colab": {
          "base_uri": "https://localhost:8080/"
        },
        "id": "gypGSllsbU4X",
        "outputId": "52042836-8931-45d9-de13-d4b0a662ba48"
      },
      "execution_count": 254,
      "outputs": [
        {
          "output_type": "stream",
          "name": "stdout",
          "text": [
            "[-6, -5, -3, 1, 2, 2, 2, 3, 7]\n"
          ]
        }
      ]
    },
    {
      "cell_type": "code",
      "source": [
        "# Merge Sort Time: O(n log n), Space: O(n)\n",
        "\n",
        "D = [-5,3,2,1,-3,-3,7,2,2]\n",
        "\n",
        "def merge_sort(arr):\n",
        "  n= len(arr)\n",
        "  if n==1:\n",
        "    return arr\n",
        "  m = len(arr) // 2\n",
        "  L= arr[:m]\n",
        "  R=arr[m:]\n",
        "  L= merge_sort(L)\n",
        "  R= merge_sort(R)\n",
        "\n",
        "  l,r = 0,0\n",
        "  L_len = len(L)\n",
        "  R_len = len(R)\n",
        "\n",
        "  sorted_arr = [0] *n\n",
        "  i = 0\n",
        "  while l<L_len and r<R_len:\n",
        "    if L[l] < R[r]:\n",
        "      sorted_arr[i] = L[l]\n",
        "      l+=1\n",
        "    else:\n",
        "      sorted_arr[i] = R[r]\n",
        "      r+=1\n",
        "    i+=1\n",
        "\n",
        "  while l<L_len:\n",
        "      sorted_arr[i] = L[l]\n",
        "      l+=1\n",
        "      i+-1\n",
        "  while r<R_len:\n",
        "      sorted_arr[i] = R[r]\n",
        "      r+=1\n",
        "      i +=1\n",
        "  return sorted_arr\n",
        "\n"
      ],
      "metadata": {
        "id": "VPLykai9O5-a"
      },
      "execution_count": 255,
      "outputs": []
    },
    {
      "cell_type": "code",
      "source": [
        "merge_sort(D)"
      ],
      "metadata": {
        "colab": {
          "base_uri": "https://localhost:8080/"
        },
        "id": "46hMVaYzPtFm",
        "outputId": "2b23592a-87bf-4133-df13-a8c258ec0498"
      },
      "execution_count": 256,
      "outputs": [
        {
          "output_type": "execute_result",
          "data": {
            "text/plain": [
              "[-5, -3, -3, 1, 2, 2, 2, 3, 7]"
            ]
          },
          "metadata": {},
          "execution_count": 256
        }
      ]
    },
    {
      "cell_type": "code",
      "source": [
        "# Quick Sort Time:O(n log n), Space: O(n)\n",
        "\n",
        "E= [-5,3,2,1,-3,-3,7,2,2]\n",
        "\n",
        "def quick_sort(arr):\n",
        "  if len(arr) <2:\n",
        "    return arr\n",
        "\n",
        "  p = arr[-1]\n",
        "\n",
        "  L= [x for x in arr[:-1] if x <= p]\n",
        "  R= [x for x in arr[:-1] if x > p]\n",
        "\n",
        "  L= quick_sort(L)\n",
        "  R= quick_sort(R)\n",
        "\n",
        "  return L + [p] + R\n",
        "\n",
        "quick_sort(E)"
      ],
      "metadata": {
        "colab": {
          "base_uri": "https://localhost:8080/"
        },
        "id": "_NH58-Ujpu2x",
        "outputId": "6c3fbb05-989e-4fd9-a9c3-391b68b353a1"
      },
      "execution_count": 257,
      "outputs": [
        {
          "output_type": "execute_result",
          "data": {
            "text/plain": [
              "[-5, -3, -3, 1, 2, 2, 2, 3, 7]"
            ]
          },
          "metadata": {},
          "execution_count": 257
        }
      ]
    },
    {
      "cell_type": "code",
      "source": [
        "# Counting Sort Time: O(n+k) where k is the range of data\n",
        "#stick with the positive array\n",
        "# k is the max of the array\n",
        "# space: O(k)\n",
        "\n",
        "F= [5,3,2,1,3,3,7,2,2]\n",
        "def counting_sort(arr):\n",
        "  n= len(arr)\n",
        "  maxx = max(arr)\n",
        "  counts = [0] * (maxx+1)\n",
        "\n",
        "  for x in arr:\n",
        "    counts[x] +=1\n",
        "  i=0\n",
        "\n",
        "  for c in range(maxx+1):\n",
        "    while counts[c] > 0:\n",
        "      arr[i] = c\n",
        "      i +=1\n",
        "      counts[c] -=1\n"
      ],
      "metadata": {
        "id": "gxe7Bv_DBerj"
      },
      "execution_count": 258,
      "outputs": []
    },
    {
      "cell_type": "code",
      "source": [
        "counting_sort(F)\n",
        "print(F)"
      ],
      "metadata": {
        "id": "xoAOL-hCCZcu",
        "colab": {
          "base_uri": "https://localhost:8080/"
        },
        "outputId": "64e4eeed-2f84-43d9-9046-606d955687fa"
      },
      "execution_count": 259,
      "outputs": [
        {
          "output_type": "stream",
          "name": "stdout",
          "text": [
            "[1, 2, 2, 2, 3, 3, 3, 5, 7]\n"
          ]
        }
      ]
    },
    {
      "cell_type": "code",
      "source": [
        "# Graphs - Edge List - Adjacency Matrix - Adjacency List - DFS, BFS\n",
        "\n",
        "# Array of Edges (Directed) [Start, End]\n",
        "\n",
        "n=8\n",
        "A = [[0,1], [1,2], [0,3], [3,4], [3,6], [3,7],[4,2], [4,5], [5,2]]\n",
        "\n",
        "print(A)"
      ],
      "metadata": {
        "colab": {
          "base_uri": "https://localhost:8080/"
        },
        "id": "_2-YgCVE7mtu",
        "outputId": "b8e4379b-b018-4bda-dc94-83d71e0d192b"
      },
      "execution_count": 260,
      "outputs": [
        {
          "output_type": "stream",
          "name": "stdout",
          "text": [
            "[[0, 1], [1, 2], [0, 3], [3, 4], [3, 6], [3, 7], [4, 2], [4, 5], [5, 2]]\n"
          ]
        }
      ]
    },
    {
      "cell_type": "code",
      "source": [
        "# Converting array of Edges ---> Adjacency Matrix\n",
        "\n",
        "M=[]\n",
        "\n",
        "for i in range(n):\n",
        "  M.append([0] * n)\n",
        "M"
      ],
      "metadata": {
        "colab": {
          "base_uri": "https://localhost:8080/"
        },
        "id": "cJqa6QviuWUH",
        "outputId": "2b33cb1d-42ac-4b4d-e96c-8877fb73cfaa"
      },
      "execution_count": 261,
      "outputs": [
        {
          "output_type": "execute_result",
          "data": {
            "text/plain": [
              "[[0, 0, 0, 0, 0, 0, 0, 0],\n",
              " [0, 0, 0, 0, 0, 0, 0, 0],\n",
              " [0, 0, 0, 0, 0, 0, 0, 0],\n",
              " [0, 0, 0, 0, 0, 0, 0, 0],\n",
              " [0, 0, 0, 0, 0, 0, 0, 0],\n",
              " [0, 0, 0, 0, 0, 0, 0, 0],\n",
              " [0, 0, 0, 0, 0, 0, 0, 0],\n",
              " [0, 0, 0, 0, 0, 0, 0, 0]]"
            ]
          },
          "metadata": {},
          "execution_count": 261
        }
      ]
    },
    {
      "cell_type": "code",
      "source": [
        "for u,v in A:\n",
        "  M[u][v] = 1\n",
        "M"
      ],
      "metadata": {
        "colab": {
          "base_uri": "https://localhost:8080/"
        },
        "id": "sP8vAhBau813",
        "outputId": "f9b11a94-7380-4977-8fc9-bcbeb1559cdf"
      },
      "execution_count": 262,
      "outputs": [
        {
          "output_type": "execute_result",
          "data": {
            "text/plain": [
              "[[0, 1, 0, 1, 0, 0, 0, 0],\n",
              " [0, 0, 1, 0, 0, 0, 0, 0],\n",
              " [0, 0, 0, 0, 0, 0, 0, 0],\n",
              " [0, 0, 0, 0, 1, 0, 1, 1],\n",
              " [0, 0, 1, 0, 0, 1, 0, 0],\n",
              " [0, 0, 1, 0, 0, 0, 0, 0],\n",
              " [0, 0, 0, 0, 0, 0, 0, 0],\n",
              " [0, 0, 0, 0, 0, 0, 0, 0]]"
            ]
          },
          "metadata": {},
          "execution_count": 262
        }
      ]
    },
    {
      "cell_type": "code",
      "source": [
        "# Converting Array of Edges ---> Adjacency List\n",
        "from collections import defaultdict\n",
        "\n",
        "D = defaultdict(list)\n",
        "\n",
        "for u,v in A:\n",
        "  D[u].append(v)\n",
        "D"
      ],
      "metadata": {
        "colab": {
          "base_uri": "https://localhost:8080/"
        },
        "id": "3Qr4y-mYvI90",
        "outputId": "b9c43555-bcd7-4078-b94a-b42d39ce3c54"
      },
      "execution_count": 263,
      "outputs": [
        {
          "output_type": "execute_result",
          "data": {
            "text/plain": [
              "defaultdict(list, {0: [1, 3], 1: [2], 3: [4, 6, 7], 4: [2, 5], 5: [2]})"
            ]
          },
          "metadata": {},
          "execution_count": 263
        }
      ]
    },
    {
      "cell_type": "code",
      "source": [
        "# DFS with Recursion - O(V + E) where V is the number of thenodes and E is the edges\n",
        "\n",
        "def dfs_recursive(node):\n",
        "  print(node)\n",
        "  for nei in D[node]:\n",
        "    if nei not in seen:\n",
        "      seen.add(nei)\n",
        "      dfs_recursive(nei)\n",
        "\n",
        "source = 0\n",
        "seen = set()\n",
        "seen.add(source)\n",
        "dfs_recursive(source)"
      ],
      "metadata": {
        "colab": {
          "base_uri": "https://localhost:8080/"
        },
        "id": "86i_CjnXvvDM",
        "outputId": "4a344640-ab2c-40d1-a257-fb71a4956793"
      },
      "execution_count": 264,
      "outputs": [
        {
          "output_type": "stream",
          "name": "stdout",
          "text": [
            "0\n",
            "1\n",
            "2\n",
            "3\n",
            "4\n",
            "5\n",
            "6\n",
            "7\n"
          ]
        }
      ]
    },
    {
      "cell_type": "code",
      "source": [
        "# Iterative DFS with stack - O(V+ E)\n",
        "\n",
        "source = 0\n",
        "seen = set()\n",
        "seen.add(source)\n",
        "stack = [source]\n",
        "\n",
        "while stack:\n",
        "  node = stack.pop()\n",
        "  print(node)\n",
        "  for nei in D[node]:\n",
        "    if nei not in seen:\n",
        "      seen.add(nei)\n",
        "      stack.append(nei)"
      ],
      "metadata": {
        "colab": {
          "base_uri": "https://localhost:8080/"
        },
        "id": "SOo46J3Dw3kY",
        "outputId": "e225d92e-dda8-4525-abe5-e9a7f549eb28"
      },
      "execution_count": 265,
      "outputs": [
        {
          "output_type": "stream",
          "name": "stdout",
          "text": [
            "0\n",
            "3\n",
            "7\n",
            "6\n",
            "4\n",
            "5\n",
            "2\n",
            "1\n"
          ]
        }
      ]
    },
    {
      "cell_type": "code",
      "source": [
        "# BFS (Queue) - O(V+E)\n",
        "source = 0\n",
        "\n",
        "from collections import deque\n",
        "seen = set()\n",
        "seen.add(source)\n",
        "q = deque()\n",
        "q.append(source)\n",
        "\n",
        "while q:\n",
        "  node = q.popleft()\n",
        "  print(node)\n",
        "\n",
        "  for nei in D[node]:\n",
        "    if nei not in seen:\n",
        "      seen.add(nei)\n",
        "      q.append(nei)"
      ],
      "metadata": {
        "colab": {
          "base_uri": "https://localhost:8080/"
        },
        "id": "HKjH-okwyOih",
        "outputId": "37c00652-9350-42d2-c425-96583e1048c7"
      },
      "execution_count": 266,
      "outputs": [
        {
          "output_type": "stream",
          "name": "stdout",
          "text": [
            "0\n",
            "1\n",
            "3\n",
            "2\n",
            "4\n",
            "6\n",
            "7\n",
            "5\n"
          ]
        }
      ]
    },
    {
      "cell_type": "code",
      "source": [
        "class Node:\n",
        "  def __init__(self, value):\n",
        "    self.value = value\n",
        "    self.neighbor = []\n",
        "\n",
        "  def str(self):\n",
        "    return f'Node({self.value})'\n",
        "\n",
        "  def display(self):\n",
        "    connections = [node.value for node in self.neighbor]\n",
        "    return f'{self.value} is connected to: {connections}'\n",
        "\n",
        "A = Node('A')\n",
        "B = Node('B')\n",
        "C = Node('C')\n",
        "D = Node('D')\n",
        "\n",
        "A.neighbor = [B,D]\n",
        "B.neighbor = [A,C,D]\n",
        "C.neighbor = [B]\n",
        "D.neighbor = [A,B,C]\n",
        "\n",
        "print(A.display())"
      ],
      "metadata": {
        "colab": {
          "base_uri": "https://localhost:8080/"
        },
        "id": "w0_lbYvjzFq2",
        "outputId": "807a5c8f-08f6-47b8-e5ab-1885ef4f1846"
      },
      "execution_count": 267,
      "outputs": [
        {
          "output_type": "stream",
          "name": "stdout",
          "text": [
            "A is connected to: ['B', 'D']\n"
          ]
        }
      ]
    },
    {
      "cell_type": "code",
      "source": [
        "print(A)"
      ],
      "metadata": {
        "colab": {
          "base_uri": "https://localhost:8080/"
        },
        "id": "X3__jNSvz8DW",
        "outputId": "389d8a5f-40ec-4a8b-dfbb-37aabd168b99"
      },
      "execution_count": 268,
      "outputs": [
        {
          "output_type": "stream",
          "name": "stdout",
          "text": [
            "<__main__.Node object at 0x7a18b58b3aa0>\n"
          ]
        }
      ]
    },
    {
      "cell_type": "code",
      "source": [
        "# 2 Pointers: Squares of a Sorted Array\n",
        "from typing import List\n",
        "# Time: O(n),  Space:O(n)\n",
        "def sortedSquares(nums: List[int]) -> List[int]:\n",
        "  left = 0\n",
        "  right = len(nums) - 1\n",
        "  result = []\n",
        "\n",
        "  while left<right:\n",
        "    if abs(nums[left]) > abs(nums[right]):\n",
        "      result.append(nums[left] **2)\n",
        "      left +=1\n",
        "    else:\n",
        "      result.append(nums[right] **2)\n",
        "      right-=1\n",
        "  result.reverse\n",
        "  return result"
      ],
      "metadata": {
        "id": "RI_APtssFKy1"
      },
      "execution_count": 269,
      "outputs": []
    },
    {
      "cell_type": "code",
      "source": [
        "my_list = [-7,-4,0,1,10]\n",
        "sortedSquares(my_list)"
      ],
      "metadata": {
        "colab": {
          "base_uri": "https://localhost:8080/"
        },
        "id": "VY58Tp8TGNhe",
        "outputId": "57a2d9ba-6005-42d8-959e-cc0a98fd0a02"
      },
      "execution_count": 270,
      "outputs": [
        {
          "output_type": "execute_result",
          "data": {
            "text/plain": [
              "[100, 49, 16, 1]"
            ]
          },
          "metadata": {},
          "execution_count": 270
        }
      ]
    },
    {
      "cell_type": "code",
      "source": [
        "# Sliding Window Algorithm\n",
        "\n",
        "# Longest Substring Without Repeating Characters - Variable Length\n",
        "\n",
        "def lenghtofLongestSubstring(s:str) -> int:\n",
        "  l=0\n",
        "  longest = 0\n",
        "  sett = set()\n",
        "  n= len(s)\n",
        "\n",
        "  for r in range(n):\n",
        "    while s[r] in sett:  #r=4\n",
        "      sett.remove(s[l])\n",
        "\n",
        "      l +=1\n",
        "    w = (r-l) +1\n",
        "    longest = max(longest, w)\n",
        "    sett.add(s[r])\n",
        "    print(sett)\n",
        "\n",
        "  return longest\n",
        "\n",
        "s = \"abcdbac\"  # sett = ,b,c,d ,  l=1\n",
        "s1= \"cklamar\"\n",
        "lenghtofLongestSubstring(s1)"
      ],
      "metadata": {
        "colab": {
          "base_uri": "https://localhost:8080/"
        },
        "id": "oktfvBuGVy8f",
        "outputId": "efe6349f-1c78-4329-e4c9-c91be1841e47"
      },
      "execution_count": 271,
      "outputs": [
        {
          "output_type": "stream",
          "name": "stdout",
          "text": [
            "{'c'}\n",
            "{'k', 'c'}\n",
            "{'l', 'k', 'c'}\n",
            "{'l', 'k', 'c', 'a'}\n",
            "{'c', 'k', 'a', 'l', 'm'}\n",
            "{'a', 'm'}\n",
            "{'r', 'a', 'm'}\n"
          ]
        },
        {
          "output_type": "execute_result",
          "data": {
            "text/plain": [
              "5"
            ]
          },
          "metadata": {},
          "execution_count": 271
        }
      ]
    },
    {
      "cell_type": "code",
      "source": [
        "# 643- Maximum Average Subarray - Fixed Variable Sliding Window\n",
        "\n",
        "def findMaxAverage(nums: List[int], k:int) -> float:\n",
        "  n = len(nums)\n",
        "  cur_sum= 0\n",
        "\n",
        "  for i in range(k):\n",
        "    cur_sum += nums[i]\n",
        "\n",
        "  max_avg = cur_sum / k\n",
        "\n",
        "  for i in range(k,n):\n",
        "    cur_sum += nums[i]\n",
        "    cur_sum -= nums[i-k]\n",
        "\n",
        "    avg = cur_sum /k\n",
        "    max_avg= max(max_avg, avg)\n",
        "\n",
        "  return max_avg"
      ],
      "metadata": {
        "id": "KdnJCWCUkcYf"
      },
      "execution_count": 272,
      "outputs": []
    },
    {
      "cell_type": "code",
      "source": [
        "# Recursive Backtracking - Leetcode 78- Subsets\n",
        "\n",
        "def subsets(nums: List[int])  -> List[List[int]]:\n",
        "  n = len(nums)\n",
        "  res, sol = [], []\n",
        "  def backtrack(i):\n",
        "    if i ==n:\n",
        "      res.append(sol[:])\n",
        "      return\n",
        "    #dont pick nums[i]\n",
        "    backtrack(i+1)\n",
        "\n",
        "    # pick nums[i]\n",
        "    sol.append(nums[i])\n",
        "    backtrack(i+1)\n",
        "    sol.pop()\n",
        "\n",
        "  backtrack(0)\n",
        "  return res\n"
      ],
      "metadata": {
        "id": "uQS0CdOFi2mX"
      },
      "execution_count": 273,
      "outputs": []
    },
    {
      "cell_type": "code",
      "source": [
        "mi_list =[1,2,3]\n",
        "subsets(mi_list)"
      ],
      "metadata": {
        "colab": {
          "base_uri": "https://localhost:8080/"
        },
        "id": "d0wyWiMinIfk",
        "outputId": "c3dfcbe1-4061-4a89-b8cf-afdc25b04a00"
      },
      "execution_count": 274,
      "outputs": [
        {
          "output_type": "execute_result",
          "data": {
            "text/plain": [
              "[[], [3], [2], [2, 3], [1], [1, 3], [1, 2], [1, 2, 3]]"
            ]
          },
          "metadata": {},
          "execution_count": 274
        }
      ]
    },
    {
      "cell_type": "code",
      "source": [
        "# Dynamic Programming - Top Down Memorization\n",
        "# Leet code 509 - Fibonacci Number - Time 0(n), Space 0(n)\n",
        "\n",
        "def fib(n:int) -> int:\n",
        "  memo= {0:0, 1:1} # Fibonacci sequence typically starts with F(0)=0, F(1)=1\n",
        "\n",
        "  def f(x):\n",
        "    if x in memo:\n",
        "      return memo[x]\n",
        "    elif x < 0: # Handle negative input if necessary, though typically Fibonacci is for non-negative integers\n",
        "        return 0\n",
        "    else:\n",
        "      memo[x] = f(x-1) + f(x-2) # Corrected recursive call\n",
        "      return memo[x]\n",
        "  return f(n)"
      ],
      "metadata": {
        "id": "NlHm-Z-2-rPJ"
      },
      "execution_count": 275,
      "outputs": []
    },
    {
      "cell_type": "code",
      "source": [
        "fib(10)"
      ],
      "metadata": {
        "id": "dC4Le1kq_eyL",
        "colab": {
          "base_uri": "https://localhost:8080/"
        },
        "outputId": "26ddbb4e-9fcf-40e4-f4a6-af780f018645"
      },
      "execution_count": 276,
      "outputs": [
        {
          "output_type": "execute_result",
          "data": {
            "text/plain": [
              "55"
            ]
          },
          "metadata": {},
          "execution_count": 276
        }
      ]
    },
    {
      "cell_type": "code",
      "source": [
        "# Dynamic Programming - Bottom Up Memorization\n",
        "\n",
        "#Method 1: Time: 0(n), Space:0(n)\n",
        "\n",
        "def fib(n:int) -> int:\n",
        "  #Bottom up= Tabulation\n",
        "\n",
        "  if n==0:\n",
        "    return 0\n",
        "  if n==1:\n",
        "    return 1\n",
        "  dp = [0] * (n+1)\n",
        "  dp[0] = 0\n",
        "  dp[1]= 1\n",
        "\n",
        "  for i in range(2, n+1):\n",
        "    dp[i] = dp[i-2] + dp[i-1]\n",
        "\n",
        "  return dp[n]"
      ],
      "metadata": {
        "id": "0WZvsoGpgJw-"
      },
      "execution_count": 277,
      "outputs": []
    },
    {
      "cell_type": "code",
      "source": [
        "#Method 1: Time: 0(n), Space:0(1)\n",
        "\n",
        "def fib(n:int) -> int:\n",
        "\n",
        "\n",
        "  if n==0:\n",
        "    return 0\n",
        "  if n==1:\n",
        "    return 1\n",
        "  dp = [0] * (n+1)\n",
        "  prev = 0\n",
        "  cur = 1\n",
        "\n",
        "  for i in range(2, n+1):\n",
        "    prev, cur= cur , prev+cur\n",
        "\n",
        "  return cur"
      ],
      "metadata": {
        "id": "XVUIZEo6gzEC"
      },
      "execution_count": 278,
      "outputs": []
    },
    {
      "cell_type": "code",
      "source": [
        "# Leet Code: 2239. Find Closest Number to Zero\n",
        "\n",
        "# Time: O(n)  Space: O(1)\n",
        "\n",
        "def findClosestNumber(nums: List[int]) -> int:\n",
        "  closest = nums[0]\n",
        "  for x in nums:\n",
        "    if abs(x) < abs(closest):\n",
        "      closest = x\n",
        "  if closest < 0 and abs(closest) in nums:\n",
        "    return abs(closest)\n",
        "  else:\n",
        "    return closest"
      ],
      "metadata": {
        "id": "bsA9LsRP5PWd"
      },
      "execution_count": 279,
      "outputs": []
    },
    {
      "cell_type": "code",
      "source": [
        "# LeetCode 1768: Merge String Alternately\n",
        "\n",
        "def mergeAlternately(word1: str, word2: str) -> str:\n",
        "  A,B = len(word1), len(word2)\n",
        "  a,b = 0,0\n",
        "  s=[]\n",
        "\n",
        "  word=1\n",
        "  while a<A and b<B:\n",
        "    if word == 1:\n",
        "      s.append(word1[a])\n",
        "      a+=1\n",
        "      word = 2\n",
        "    else:\n",
        "      s.append(word2[b])\n",
        "      b+=1\n",
        "      word=1\n",
        "\n",
        "  while a<A:\n",
        "    s.append(word1[a])\n",
        "    a+=1\n",
        "  while b<B:\n",
        "    s.append(word2[b])\n",
        "    b+=1\n",
        "\n",
        "  return \"\".join(s)  # Time: O(A+B) Space: O(A+B)\n"
      ],
      "metadata": {
        "id": "xn-_0mW0BhA3"
      },
      "execution_count": 280,
      "outputs": []
    },
    {
      "cell_type": "code",
      "source": [
        "word1= \"hjeotr\"\n",
        "word2= \"ouruewwwwfcss\"\n",
        "mergeAlternately(word1,word2)"
      ],
      "metadata": {
        "colab": {
          "base_uri": "https://localhost:8080/",
          "height": 35
        },
        "id": "30Uui4hcCt_X",
        "outputId": "c0a4fb8b-7af3-4b41-9a4a-01e079be4d48"
      },
      "execution_count": 281,
      "outputs": [
        {
          "output_type": "execute_result",
          "data": {
            "text/plain": [
              "'hojuerouterwwwwfcss'"
            ],
            "application/vnd.google.colaboratory.intrinsic+json": {
              "type": "string"
            }
          },
          "metadata": {},
          "execution_count": 281
        }
      ]
    },
    {
      "cell_type": "code",
      "source": [
        "# Leetcode: 13 Roman To Integer\n",
        "\n",
        "def romanToInt(s: str) -> int:\n",
        "  d = {'I' : 1, 'V' : 5, 'X' : 10, 'L' : 50, 'C' : 100, 'D' : 500, 'M' : 1000}\n",
        "  sum = 0\n",
        "  n = len(s)\n",
        "  i = 0\n",
        "\n",
        "  while i <n:\n",
        "    if i<n and d[s[i]]  < d[s[i+1]]:\n",
        "      sum += d[s[i+1]] - d[s[i]]\n",
        "      i +=2\n",
        "    else:\n",
        "      sum += d[s[i]]\n",
        "      i +=1\n",
        "  return sum  # Time: O(n) , Space: O(1)"
      ],
      "metadata": {
        "id": "8p5FLd6qouFm"
      },
      "execution_count": 282,
      "outputs": []
    },
    {
      "cell_type": "code",
      "source": [
        "# Leetcode-392 Is Subsequence\n",
        "\n",
        "def isSubsequence(s: str, t:str) -> bool:\n",
        "  S= len(s)\n",
        "  T= len(t)\n",
        "  if s=='': return True\n",
        "  if S>T: return False\n",
        "\n",
        "  j=0\n",
        "  for i in range(T):\n",
        "    if t[i] == s[j]:\n",
        "      if j==S-1:\n",
        "        return True\n",
        "      j +=1\n",
        "  return False\n",
        "  #Time: O(T)\n",
        "  #Space: O(1)"
      ],
      "metadata": {
        "id": "P1UgMPbballO"
      },
      "execution_count": 283,
      "outputs": []
    },
    {
      "cell_type": "code",
      "source": [
        "# LeetCode: 121 Best Time to Buy and Sell Stock\n",
        "# Brute Force; Time: O(n^2), Space: O(1)\n",
        "\n",
        "def maxProfit(prices: List[int]) -> int:\n",
        "  max_profit = float('-inf')\n",
        "  for i in range(len(prices)):\n",
        "    for j in range(i+1, len(prices)):\n",
        "      profit = prices[j] - prices[i]\n",
        "      if profit>max_profit:\n",
        "        max_profit = profit\n",
        "  return max_profit if max_profit > float('-inf') else 0"
      ],
      "metadata": {
        "id": "a5Rh_zkf99Oa"
      },
      "execution_count": 284,
      "outputs": []
    },
    {
      "cell_type": "code",
      "source": [
        "def maxProfit(prices: List[int]) -> int:\n",
        "  #Time: O(n)\n",
        "  #Space: O(1)\n",
        "  min_price = float('inf')\n",
        "  max_profit = 0\n",
        "  # 7,1,2\n",
        "\n",
        "  for price in prices:\n",
        "    if price < min_price:\n",
        "      min_price = price\n",
        "\n",
        "    profit = price -min_price\n",
        "    print(profit)\n",
        "\n",
        "    if profit > max_profit:\n",
        "      max_profit = profit\n",
        "\n",
        "  return max_profit\n",
        "\n"
      ],
      "metadata": {
        "id": "d75Csh-L-18t"
      },
      "execution_count": 285,
      "outputs": []
    },
    {
      "cell_type": "code",
      "source": [
        "prices= [7,1,2]\n",
        "maxProfit(prices)"
      ],
      "metadata": {
        "colab": {
          "base_uri": "https://localhost:8080/"
        },
        "id": "3cYH_p10A8BY",
        "outputId": "4756d757-a96a-4d44-87ba-8d1e1cb2f812"
      },
      "execution_count": 286,
      "outputs": [
        {
          "output_type": "stream",
          "name": "stdout",
          "text": [
            "0\n",
            "0\n",
            "1\n"
          ]
        },
        {
          "output_type": "execute_result",
          "data": {
            "text/plain": [
              "1"
            ]
          },
          "metadata": {},
          "execution_count": 286
        }
      ]
    },
    {
      "cell_type": "code",
      "source": [
        "# Leetcode 14: Longest Common Prefix\n",
        "\n",
        "def longestCommonPrefix(strs: List[str]) -> str:\n",
        "  min_length= float('inf')\n",
        "  for s in strs:\n",
        "    if len(s) < min_length:\n",
        "      min_length = len(s)\n",
        "  i=0\n",
        "  while i < min_length:\n",
        "    for s in strs:\n",
        "      if s[i] !=  strs[0][i]:\n",
        "        return s[:i]\n",
        "\n",
        "    i+=1\n",
        "  return s[:i]\n",
        "\n",
        "  # Time: O(n * m) where m is min_lenght\n",
        "  # Space: O(1)\n"
      ],
      "metadata": {
        "id": "m6V1Jd0BVmPa"
      },
      "execution_count": 287,
      "outputs": []
    },
    {
      "cell_type": "code",
      "source": [
        "strs= [\"fla\", \"flowers\", \"flown\"]\n",
        "strs"
      ],
      "metadata": {
        "colab": {
          "base_uri": "https://localhost:8080/"
        },
        "id": "om1Y3Ar7A_zZ",
        "outputId": "04e7a247-2284-46f6-9bd9-cf07924402e3"
      },
      "execution_count": 288,
      "outputs": [
        {
          "output_type": "execute_result",
          "data": {
            "text/plain": [
              "['fla', 'flowers', 'flown']"
            ]
          },
          "metadata": {},
          "execution_count": 288
        }
      ]
    },
    {
      "cell_type": "code",
      "source": [
        "s = \"flo\"\n",
        "s[0]"
      ],
      "metadata": {
        "colab": {
          "base_uri": "https://localhost:8080/",
          "height": 35
        },
        "id": "c0iuWXsNWlKJ",
        "outputId": "73877960-0b3c-4c9c-af3d-0e43de3761e8"
      },
      "execution_count": 289,
      "outputs": [
        {
          "output_type": "execute_result",
          "data": {
            "text/plain": [
              "'f'"
            ],
            "application/vnd.google.colaboratory.intrinsic+json": {
              "type": "string"
            }
          },
          "metadata": {},
          "execution_count": 289
        }
      ]
    },
    {
      "cell_type": "code",
      "source": [
        "# LeetCode: Summary Ranges\n",
        "from typing import List\n",
        "def summaryRanges(nums: List[int]) -> List[str]:\n",
        "  ans = []\n",
        "  i = 0\n",
        "# nums= [2,3,4,7]\n",
        "  while i < len(nums):\n",
        "    start = nums[i]\n",
        "    while i < len(nums)-1 and nums[i] +1 ==nums[i+1]:\n",
        "      i+=1\n",
        "    if start != nums[i]:\n",
        "        ans.append(str(start) + '->' + str(nums[i]))\n",
        "    else:\n",
        "        ans.append(str(nums[i]))\n",
        "\n",
        "    i+=1\n",
        "  return ans\n",
        "  #Time: O(n)\n",
        "  #Space: O(1)"
      ],
      "metadata": {
        "id": "F7zuxWfyvnfk"
      },
      "execution_count": 290,
      "outputs": []
    },
    {
      "cell_type": "code",
      "source": [
        "mi_list = [1,2,3,6,7,8,10,11]\n",
        "summaryRanges(mi_list)"
      ],
      "metadata": {
        "colab": {
          "base_uri": "https://localhost:8080/"
        },
        "id": "SFVJRF8TzO-2",
        "outputId": "f2b93892-1a13-49ae-df16-c1b049f42576"
      },
      "execution_count": 291,
      "outputs": [
        {
          "output_type": "execute_result",
          "data": {
            "text/plain": [
              "['1->3', '6->8', '10->11']"
            ]
          },
          "metadata": {},
          "execution_count": 291
        }
      ]
    },
    {
      "cell_type": "code",
      "source": [
        "# Leetcode  238: Product of Array Except Self:\n",
        "\n",
        "def productExceptSelf(nums: List[int]) -> List[int]:\n",
        "  l_mult = 1\n",
        "  r_mult = 1\n",
        "  n = len(nums)\n",
        "  l_arr = [0] * n\n",
        "  r_arr = [0] * n\n",
        "# [1,2,3,4]\n",
        "  for i in range(n):\n",
        "    j= -i-1\n",
        "\n",
        "    l_arr[i] = l_mult\n",
        "    r_arr[j] = r_mult\n",
        "\n",
        "    l_mult *= nums[i]\n",
        "    r_mult *= nums[j]\n",
        "\n",
        "    return [l*r for l,r in zip(l_arr, r_arr)]"
      ],
      "metadata": {
        "id": "HxhGu3x_K_gZ"
      },
      "execution_count": 292,
      "outputs": []
    },
    {
      "cell_type": "code",
      "source": [
        "lerf = [1,4,5]\n",
        "right = [5,4,5]\n",
        "newe = zip (lerf, right)\n",
        "list(newe)\n"
      ],
      "metadata": {
        "colab": {
          "base_uri": "https://localhost:8080/"
        },
        "id": "g0HN0Q2Yev7I",
        "outputId": "409781e8-020b-4250-bbde-9f2c74ab06f9"
      },
      "execution_count": 293,
      "outputs": [
        {
          "output_type": "execute_result",
          "data": {
            "text/plain": [
              "[(1, 5), (4, 4), (5, 5)]"
            ]
          },
          "metadata": {},
          "execution_count": 293
        }
      ]
    },
    {
      "cell_type": "code",
      "source": [
        "interval= [[1,2], [3,5], [6,7], [8,10]]\n"
      ],
      "metadata": {
        "id": "oqVwEDCjf5Ri"
      },
      "execution_count": 294,
      "outputs": []
    },
    {
      "cell_type": "code",
      "source": [
        "# Leetcode: 56 Merge Intervals\n",
        "\n",
        "def merge(intervals: List[List[int]]) -> List[List[int]]:\n",
        "  intervals.sort(key = lambda interval: interval[0])\n",
        "  merged = []\n",
        "\n",
        "  for interval in intervals:\n",
        "      if not merged or merged[-1][1] <interval[0]:\n",
        "        merged.append(interval)\n",
        "      else:\n",
        "        merged[-1] =[merged[-1][0], max(interval[1], merged[-1][1])  ]\n",
        "  return merged\n",
        "\n",
        "  # Time: O(n log n)\n",
        "  # Space: 0(n)\n"
      ],
      "metadata": {
        "id": "usnD_wnffQx_"
      },
      "execution_count": 295,
      "outputs": []
    },
    {
      "cell_type": "code",
      "source": [
        "# Leetcode 54: Spiral Matrix\n",
        "\n",
        "my_list= [[1,2,3],[4,5,6],[7,8,9]]\n",
        "my_list"
      ],
      "metadata": {
        "colab": {
          "base_uri": "https://localhost:8080/"
        },
        "id": "aorJT9UWgjpW",
        "outputId": "daf49692-9f21-4c95-f8a8-02d54da7d85d"
      },
      "execution_count": 296,
      "outputs": [
        {
          "output_type": "execute_result",
          "data": {
            "text/plain": [
              "[[1, 2, 3], [4, 5, 6], [7, 8, 9]]"
            ]
          },
          "metadata": {},
          "execution_count": 296
        }
      ]
    },
    {
      "cell_type": "code",
      "source": [
        "def spiralOrder(matrix: List[List[int]]) -> List[int]:\n",
        "  m,n = len(matrix), len(matrix[0])\n",
        "  ans = []\n",
        "  i, j = 0, 0\n",
        "  UP , RIGHT, DOWN, LEFT = 0,1,2,3\n",
        "  direction = RIGHT\n",
        "\n",
        "  UP_WALL = 0\n",
        "  RIGHT_WALL = n\n",
        "  DOWN_WALL = m\n",
        "  LEFT_WALL = -1\n",
        "\n",
        "  while len(ans) != m*n:\n",
        "    if direction == RIGHT:\n",
        "      while j < RIGHT_WALL:\n",
        "        ans.append(matrix[i][j])\n",
        "        j +=1\n",
        "      i, j = i+1, j-1\n",
        "      RIGHT_WALL -=1\n",
        "      direction =  DOWN\n",
        "    elif direction == DOWN:\n",
        "      while i <  DOWN_WALL:\n",
        "        ans.append(matrix[i][j])\n",
        "        i +=1\n",
        "      i,j = i-1, j-1\n",
        "      DOWN_WALL -=1\n",
        "      direction = LEFT\n",
        "    elif direction == LEFT:\n",
        "      while j > LEFT_WALL:\n",
        "        ans.append(matrix[i][j])\n",
        "        j -= 1\n",
        "      i, j = i-1, j+1\n",
        "      LEFT_WALL += 0\n",
        "      direction  = UP\n",
        "    elif direction == UP:\n",
        "      while i > UP_WALL:\n",
        "        ans.append(matrix[i][j])\n",
        "        i -= 1\n",
        "      i , j = i+1, j+1\n",
        "      direction = RIGHT\n",
        "  return ans"
      ],
      "metadata": {
        "id": "43eiEuERg1ZD"
      },
      "execution_count": 297,
      "outputs": []
    },
    {
      "cell_type": "code",
      "source": [
        "spiralOrder(my_list)"
      ],
      "metadata": {
        "colab": {
          "base_uri": "https://localhost:8080/"
        },
        "id": "GbCBpQLykFae",
        "outputId": "76fbfeca-ac51-404a-a034-efe06e79fc35"
      },
      "execution_count": 298,
      "outputs": [
        {
          "output_type": "execute_result",
          "data": {
            "text/plain": [
              "[1, 2, 3, 6, 9, 8, 7, 4, 5]"
            ]
          },
          "metadata": {},
          "execution_count": 298
        }
      ]
    },
    {
      "cell_type": "code",
      "source": [
        "3 // 2\n"
      ],
      "metadata": {
        "colab": {
          "base_uri": "https://localhost:8080/"
        },
        "id": "xTrabgMNz7CB",
        "outputId": "412418d2-5bde-49ca-e5df-4f8d5d67e0b3"
      },
      "execution_count": 299,
      "outputs": [
        {
          "output_type": "execute_result",
          "data": {
            "text/plain": [
              "1"
            ]
          },
          "metadata": {},
          "execution_count": 299
        }
      ]
    },
    {
      "cell_type": "code",
      "source": [
        "# Leet Code: 48 Rotate Image\n",
        "def rotate(matrix: List[List[int]]) -> None:\n",
        "  n = len(matrix)\n",
        "\n",
        "  # Tranpose\n",
        "  for i in range(n):\n",
        "    for j in range(i+1, n):\n",
        "      matrix[i][j], matrix[j][i]= matrix[j][i], matrix[i][j]\n",
        "\n",
        "  # Reflection\n",
        "\n",
        "  for i in range(n):\n",
        "    for j in range(n // 2):\n",
        "      matrix[i][j], matrix[i][n-j-1] = matrix[i][n-j-1], matrix[i][j]\n",
        "\n",
        "  # Time: O(n^2)\n",
        "  # Space: O(1)\n"
      ],
      "metadata": {
        "id": "xS-LM2YHxRGI"
      },
      "execution_count": 300,
      "outputs": []
    },
    {
      "cell_type": "code",
      "source": [
        "my_lisste = [[1,2,3],[4,5,6],[7,8,9]]\n",
        "my_lisste"
      ],
      "metadata": {
        "colab": {
          "base_uri": "https://localhost:8080/"
        },
        "id": "AitED1Mb0sAp",
        "outputId": "ea41acd3-cfe5-44a7-fa49-b1e7d158a9c2"
      },
      "execution_count": 301,
      "outputs": [
        {
          "output_type": "execute_result",
          "data": {
            "text/plain": [
              "[[1, 2, 3], [4, 5, 6], [7, 8, 9]]"
            ]
          },
          "metadata": {},
          "execution_count": 301
        }
      ]
    },
    {
      "cell_type": "code",
      "source": [
        "rotate(my_lisste)\n",
        "my_lisste"
      ],
      "metadata": {
        "colab": {
          "base_uri": "https://localhost:8080/"
        },
        "id": "8CLWeh880RHF",
        "outputId": "999d0aa2-7bb3-4abf-c5fe-f7e734ef9f9b"
      },
      "execution_count": 302,
      "outputs": [
        {
          "output_type": "execute_result",
          "data": {
            "text/plain": [
              "[[7, 4, 1], [8, 5, 2], [9, 6, 3]]"
            ]
          },
          "metadata": {},
          "execution_count": 302
        }
      ]
    },
    {
      "cell_type": "code",
      "source": [
        "# LeetCode-771: Jewels and Stone\n",
        "\n",
        "# Time: O(n*m)\n",
        "def numJewelsInStones(jewels: str, stones: str) -> int:\n",
        "  count = 0\n",
        "  for stone in stones:\n",
        "    if stone in jewels:\n",
        "      count +=1\n",
        "  return count"
      ],
      "metadata": {
        "id": "VpIvfNKzDp-M"
      },
      "execution_count": 303,
      "outputs": []
    },
    {
      "cell_type": "code",
      "source": [
        "# Time: O(m+n)\n",
        "# Space: O(n)\n",
        "\n",
        "def numJewelsInStones1(jewels: str, stones: str) -> int:\n",
        "  s = set(jewels)\n",
        "  count = 0\n",
        "  for stone in stones:\n",
        "    if stone in s:\n",
        "      count +=1\n",
        "  return count"
      ],
      "metadata": {
        "id": "jWIrnjMYERRE"
      },
      "execution_count": 304,
      "outputs": []
    },
    {
      "cell_type": "code",
      "source": [
        "jewels = 'aAB'\n",
        "stones = 'gnbiakmagkrkaAbbbbBBBBBB'\n",
        "numJewelsInStones1(jewels,stones )"
      ],
      "metadata": {
        "colab": {
          "base_uri": "https://localhost:8080/"
        },
        "id": "KV4Hxiz6EmAm",
        "outputId": "897ccdb2-5e20-4001-dbd9-b725480726b1"
      },
      "execution_count": 305,
      "outputs": [
        {
          "output_type": "execute_result",
          "data": {
            "text/plain": [
              "10"
            ]
          },
          "metadata": {},
          "execution_count": 305
        }
      ]
    },
    {
      "cell_type": "code",
      "source": [
        "# Leetcode 383: Ransom Note\n",
        "\n",
        "def canConstruct(ransomNote: str, magazine: str) -> bool:\n",
        "  counter = {}\n",
        "  for c in magazine:\n",
        "    if c in counter:\n",
        "      counter[c] += 1\n",
        "    else:\n",
        "      counter[c] = 1\n",
        "\n",
        "  for c in ransomNote:\n",
        "    if c not in counter:\n",
        "      return False\n",
        "    elif counter[c] == 1:\n",
        "      del counter[c]\n",
        "    else:\n",
        "      counter[c] -=1\n",
        "  return True\n",
        "# Time O(m+n)\n",
        "# Space O(1)"
      ],
      "metadata": {
        "id": "6Fp29BBoa0t-"
      },
      "execution_count": 306,
      "outputs": []
    },
    {
      "cell_type": "code",
      "source": [
        "canConstruct(\"ge\", \"gefrgrhrge\")"
      ],
      "metadata": {
        "colab": {
          "base_uri": "https://localhost:8080/"
        },
        "id": "UjeFJnVjb3YD",
        "outputId": "e1e71f89-9247-49fd-d6d6-cedfd615c5dd"
      },
      "execution_count": 307,
      "outputs": [
        {
          "output_type": "execute_result",
          "data": {
            "text/plain": [
              "True"
            ]
          },
          "metadata": {},
          "execution_count": 307
        }
      ]
    },
    {
      "cell_type": "code",
      "source": [
        "# LeetCode 217- Contains Duplicate\n",
        "def containsDuplicate(nums: List[int]) -> bool:\n",
        "  h = set()\n",
        "  for num in nums:\n",
        "    if num in h:\n",
        "      return True\n",
        "    else:\n",
        "      h.add(num)\n",
        "  return False"
      ],
      "metadata": {
        "id": "OjO3lSJXxx8-"
      },
      "execution_count": 308,
      "outputs": []
    },
    {
      "cell_type": "code",
      "source": [
        "containsDuplicate([5,4,3,2,2])"
      ],
      "metadata": {
        "colab": {
          "base_uri": "https://localhost:8080/"
        },
        "id": "a7WtFPyJz_tH",
        "outputId": "ac23cf88-5c8f-4569-a76f-2db72165c1af"
      },
      "execution_count": 309,
      "outputs": [
        {
          "output_type": "execute_result",
          "data": {
            "text/plain": [
              "True"
            ]
          },
          "metadata": {},
          "execution_count": 309
        }
      ]
    },
    {
      "cell_type": "code",
      "source": [
        "def containsDuplicate2(nums: List[int]) -> bool:\n",
        "  counter = {}\n",
        "  for num in nums:\n",
        "    if num in counter:\n",
        "      counter[num] +=1\n",
        "    else:\n",
        "      counter[num] = 1\n",
        "  for n in counter:\n",
        "\n",
        "    if counter[n] > 1:\n",
        "      return True\n"
      ],
      "metadata": {
        "id": "4jkreMnt0m5i"
      },
      "execution_count": 310,
      "outputs": []
    },
    {
      "cell_type": "code",
      "source": [
        "containsDuplicate2([3,4,3,3,2,1])"
      ],
      "metadata": {
        "colab": {
          "base_uri": "https://localhost:8080/"
        },
        "id": "CUeOYjTU05pN",
        "outputId": "4e08d5ce-f22f-4d13-cf1e-8e96d9e84589"
      },
      "execution_count": 311,
      "outputs": [
        {
          "output_type": "execute_result",
          "data": {
            "text/plain": [
              "True"
            ]
          },
          "metadata": {},
          "execution_count": 311
        }
      ]
    },
    {
      "cell_type": "code",
      "source": [
        "# Leet Code 242: Valid Anagram:\n",
        "from collections import Counter\n",
        "def isAnagram(s: str, t:str) -> bool:\n",
        "  if len(s) != len(t):\n",
        "    return False\n",
        "\n",
        "  s_dict = Counter(s)\n",
        "  t_dict = Counter(t)\n",
        "\n",
        "  return s_dict == t_dict\n",
        "# Time: O(n), Space: O(n)"
      ],
      "metadata": {
        "id": "Pxc0VSHx88YL"
      },
      "execution_count": 312,
      "outputs": []
    },
    {
      "cell_type": "code",
      "source": [
        "# LeetCode 1: Two Sum\n",
        "from typing import List\n",
        "# [3,1,6,3]\n",
        "# hash = {3:2, 1:1, 6:2}\n",
        "# target = 6\n",
        "\n",
        "def twoSum(nums: List[int], target: int) -> List[int]:\n",
        "  h = {}\n",
        "  for i in range(len(nums)):\n",
        "    h[nums[i]] = i\n",
        "  for i in range(len(nums)):\n",
        "    y = target - nums[i]  # y=3\n",
        "\n",
        "    if y in h and h[y] !=i:\n",
        "      return [i, h[y]]\n",
        "# Time: O(n)\n",
        "#Space: O(n)"
      ],
      "metadata": {
        "id": "gkYHGptWGC2v"
      },
      "execution_count": 313,
      "outputs": []
    },
    {
      "cell_type": "code",
      "source": [
        "# LeetCode 49 - Group Anagrams:\n",
        "from collections import defaultdict\n",
        "from typing import List\n",
        "def groupAnagrams(strs: List[str]) -> List[List[str]]:\n",
        "  anag_dict = defaultdict(list)\n",
        "  for s in strs:\n",
        "    count = [0] * 26\n",
        "    for c in s:\n",
        "      count[ord(c) - ord('a')] +=1\n",
        "\n",
        "    key = tuple(count)\n",
        "    #print(key)\n",
        "    anag_dict[key].append(s)\n",
        "    print(anag_dict)\n",
        "  return anag_dict.values()\n",
        " # Time: O(n*m)  Space:(n* m)\n",
        "\n"
      ],
      "metadata": {
        "id": "FtwrssYgI7y6"
      },
      "execution_count": 314,
      "outputs": []
    },
    {
      "cell_type": "code",
      "source": [
        "sting = ['abb', \"ef\", 'fe', 'bab']\n",
        "groupAnagrams(sting)"
      ],
      "metadata": {
        "colab": {
          "base_uri": "https://localhost:8080/"
        },
        "id": "mK4tsxriywpC",
        "outputId": "d829d2e7-0894-45c1-cbf9-e8dd642bb7c0"
      },
      "execution_count": 315,
      "outputs": [
        {
          "output_type": "stream",
          "name": "stdout",
          "text": [
            "defaultdict(<class 'list'>, {(1, 2, 0, 0, 0, 0, 0, 0, 0, 0, 0, 0, 0, 0, 0, 0, 0, 0, 0, 0, 0, 0, 0, 0, 0, 0): ['abb']})\n",
            "defaultdict(<class 'list'>, {(1, 2, 0, 0, 0, 0, 0, 0, 0, 0, 0, 0, 0, 0, 0, 0, 0, 0, 0, 0, 0, 0, 0, 0, 0, 0): ['abb'], (0, 0, 0, 0, 1, 1, 0, 0, 0, 0, 0, 0, 0, 0, 0, 0, 0, 0, 0, 0, 0, 0, 0, 0, 0, 0): ['ef']})\n",
            "defaultdict(<class 'list'>, {(1, 2, 0, 0, 0, 0, 0, 0, 0, 0, 0, 0, 0, 0, 0, 0, 0, 0, 0, 0, 0, 0, 0, 0, 0, 0): ['abb'], (0, 0, 0, 0, 1, 1, 0, 0, 0, 0, 0, 0, 0, 0, 0, 0, 0, 0, 0, 0, 0, 0, 0, 0, 0, 0): ['ef', 'fe']})\n",
            "defaultdict(<class 'list'>, {(1, 2, 0, 0, 0, 0, 0, 0, 0, 0, 0, 0, 0, 0, 0, 0, 0, 0, 0, 0, 0, 0, 0, 0, 0, 0): ['abb', 'bab'], (0, 0, 0, 0, 1, 1, 0, 0, 0, 0, 0, 0, 0, 0, 0, 0, 0, 0, 0, 0, 0, 0, 0, 0, 0, 0): ['ef', 'fe']})\n"
          ]
        },
        {
          "output_type": "execute_result",
          "data": {
            "text/plain": [
              "dict_values([['abb', 'bab'], ['ef', 'fe']])"
            ]
          },
          "metadata": {},
          "execution_count": 315
        }
      ]
    },
    {
      "cell_type": "code",
      "source": [
        "ord('a'), ord('b'), ord('c')"
      ],
      "metadata": {
        "colab": {
          "base_uri": "https://localhost:8080/"
        },
        "id": "sX4HLSa6zGhc",
        "outputId": "2f4b4429-4328-4500-fc57-58ea8d7c48da"
      },
      "execution_count": 316,
      "outputs": [
        {
          "output_type": "execute_result",
          "data": {
            "text/plain": [
              "(97, 98, 99)"
            ]
          },
          "metadata": {},
          "execution_count": 316
        }
      ]
    },
    {
      "cell_type": "code",
      "source": [
        "# Leet Code 36 - Valid Sudoku\n",
        "def isValidSudoku(board: List[List[str]]) -> bool:\n",
        "  # Validate Rows\n",
        "  for i in range(9):\n",
        "    s = set()\n",
        "    for j in range(9):\n",
        "      item = board[i][j]\n",
        "      if item in s:\n",
        "        return False\n",
        "      elif item != '.':\n",
        "        s.add(item)\n",
        "\n",
        "  # Validate Cols:\n",
        "  for i in range(9):\n",
        "    s = set()\n",
        "    for j in range(9):\n",
        "      item = board[j][i]\n",
        "      if item in s:\n",
        "        return False\n",
        "      elif item != '.':\n",
        "        s.add(item)\n",
        "  # Validate Boxes:\n",
        "  start = [(0,0),(0,3),(0,6),\n",
        "           (3,0),(3,3),(3,6),\n",
        "           (6,0),(6,3),(6,6)]\n",
        "\n",
        "  for i,j in start: # 0,0\n",
        "    s = set()\n",
        "    for row in range(i, i+3):  # 0, 1,2,\n",
        "      for col in range(j, j+3): # 0,1,2\n",
        "        item = board[row][col]\n",
        "        if item in s:\n",
        "          return False\n",
        "        elif item != '.':\n",
        "          s.add(item)\n",
        "  return True\n"
      ],
      "metadata": {
        "id": "3HRN_ic3ANlJ"
      },
      "execution_count": 317,
      "outputs": []
    },
    {
      "cell_type": "code",
      "source": [
        "# LeetCode 1189: Max Number of Balloon\n",
        "from collections import defaultdict\n",
        "def maxNumberOfBalloons(text: str) -> int:\n",
        "  counter= defaultdict(int)\n",
        "  balloon = 'balloon'\n",
        "\n",
        "  for c in text:\n",
        "    if c in balloon:\n",
        "      counter[c] +=1\n",
        "  print(counter)\n",
        "  print(counter['b'],counter['a'],counter['l']//2,counter['o']//2)\n",
        "  if any(c not in counter for c in balloon):\n",
        "    return 0\n",
        "  else:\n",
        "    return min(counter['b'],counter['a'],counter['l']//2,counter['o']//2)\n",
        "\n"
      ],
      "metadata": {
        "id": "C0_mrehaZToz"
      },
      "execution_count": 318,
      "outputs": []
    },
    {
      "cell_type": "code",
      "source": [
        "strr = 'balllloons'\n",
        "maxNumberOfBalloons(strr)"
      ],
      "metadata": {
        "colab": {
          "base_uri": "https://localhost:8080/"
        },
        "id": "SxZSHzW4aYmZ",
        "outputId": "9a37d18f-a8bc-4e79-b6d8-bbe8beae9552"
      },
      "execution_count": 319,
      "outputs": [
        {
          "output_type": "stream",
          "name": "stdout",
          "text": [
            "defaultdict(<class 'int'>, {'b': 1, 'a': 1, 'l': 4, 'o': 2, 'n': 1})\n",
            "1 1 2 1\n"
          ]
        },
        {
          "output_type": "execute_result",
          "data": {
            "text/plain": [
              "1"
            ]
          },
          "metadata": {},
          "execution_count": 319
        }
      ]
    },
    {
      "cell_type": "code",
      "source": [
        "# LeetCode 128 - Longest Consecutive Sequence\n",
        "def longestConsecutive(nums: List[int]) -> int:\n",
        "  s = set(nums)\n",
        "  longest = 0\n",
        "  for num in nums:\n",
        "    if num - 1 not in s:\n",
        "      next_num = num +1\n",
        "      lenght = 1\n",
        "      while next_num in s:\n",
        "        next_num +=1\n",
        "        lenght +=1\n",
        "      longest = max(longest, lenght)\n",
        "  return longest"
      ],
      "metadata": {
        "id": "ry1ZQnXQDgqO"
      },
      "execution_count": 320,
      "outputs": []
    },
    {
      "cell_type": "code",
      "source": [
        "my_num = [1,4,2,3,6,4,5,100]\n",
        "longestConsecutive(my_num)"
      ],
      "metadata": {
        "id": "LxTbfNz-aT-N",
        "colab": {
          "base_uri": "https://localhost:8080/"
        },
        "outputId": "eb79853b-371c-40c3-b826-037f20cf4b92"
      },
      "execution_count": 321,
      "outputs": [
        {
          "output_type": "execute_result",
          "data": {
            "text/plain": [
              "6"
            ]
          },
          "metadata": {},
          "execution_count": 321
        }
      ]
    },
    {
      "cell_type": "code",
      "source": [
        "# LeetCode 169: Majority Element\n",
        "def majorityElement(nums: List[int]) -> int:\n",
        "  counter ={}\n",
        "  for num in nums:\n",
        "    if num in counter:\n",
        "      counter[num] +=1\n",
        "    else:\n",
        "      counter[num] = 1\n",
        "  max_count = -1\n",
        "  ans = -1\n",
        "\n",
        "  for key, val in counter.values():\n",
        "    if val > max_count:\n",
        "      max_count = val\n",
        "      ans = key\n",
        "  return ans\n",
        "  # Time: O(n)\n",
        "  # Space: O(n)\n",
        "\n"
      ],
      "metadata": {
        "id": "LWhxuvzXMmMa"
      },
      "execution_count": 322,
      "outputs": []
    },
    {
      "cell_type": "code",
      "source": [
        "def majorityElement2(nums: List[int]) -> int:\n",
        "  nums.sort()\n",
        "  return nums[len(nums)//2]"
      ],
      "metadata": {
        "id": "F1dY2D2GNURE"
      },
      "execution_count": 323,
      "outputs": []
    },
    {
      "cell_type": "code",
      "source": [
        "my_numbers = [3,3,4,5,2,1,3,2,1]\n",
        "majorityElement2(my_numbers)"
      ],
      "metadata": {
        "colab": {
          "base_uri": "https://localhost:8080/"
        },
        "id": "ZQmSHnFTNfwM",
        "outputId": "5b10ae7b-77a7-4e2b-b6f6-5f7a1f79fd58"
      },
      "execution_count": 324,
      "outputs": [
        {
          "output_type": "execute_result",
          "data": {
            "text/plain": [
              "3"
            ]
          },
          "metadata": {},
          "execution_count": 324
        }
      ]
    },
    {
      "cell_type": "code",
      "source": [
        "def majorityElement3(nums: List[int]) -> int: #[3,3,2,1,3,2,1]\n",
        "  ans = -1\n",
        "  count = 0\n",
        "  for num in nums:  #3 ans=3 count=1\n",
        "    if count == 0:  #3 ans=3 count=2\n",
        "      ans = num     #2 ans=3 count =1\n",
        "    if ans == num: # 1 ans=3 count =0\n",
        "      count +=1   #3 ans=3 count=1\n",
        "    else:         #2 ans =3 count=0\n",
        "      count -=1    #1 ans=1 count=1\n",
        "    print(ans, count)\n",
        "  return  ans\n",
        "  # Time: O(n)\n",
        "  # Space: O(1)"
      ],
      "metadata": {
        "id": "JyfjP056N3Jv"
      },
      "execution_count": 325,
      "outputs": []
    },
    {
      "cell_type": "code",
      "source": [
        "my_numbers2 = [3,2,1,1,2,3,3,2,3,3, 2,3,2]"
      ],
      "metadata": {
        "id": "GS3Wd3cVQWEZ"
      },
      "execution_count": 326,
      "outputs": []
    },
    {
      "cell_type": "code",
      "source": [
        "majorityElement3(my_numbers2)"
      ],
      "metadata": {
        "colab": {
          "base_uri": "https://localhost:8080/"
        },
        "id": "DG4RkZXLPOZe",
        "outputId": "ed49c798-b99e-436e-b63b-4ece1ab2d1f8"
      },
      "execution_count": 327,
      "outputs": [
        {
          "output_type": "stream",
          "name": "stdout",
          "text": [
            "3 1\n",
            "3 0\n",
            "1 1\n",
            "1 2\n",
            "1 1\n",
            "1 0\n",
            "3 1\n",
            "3 0\n",
            "3 1\n",
            "3 2\n",
            "3 1\n",
            "3 2\n",
            "3 1\n"
          ]
        },
        {
          "output_type": "execute_result",
          "data": {
            "text/plain": [
              "3"
            ]
          },
          "metadata": {},
          "execution_count": 327
        }
      ]
    },
    {
      "cell_type": "code",
      "source": [
        "# LeetCode 977 - Squares of a Sorted Array (2 Pointers)\n",
        "\n",
        "def sortedSquares(nums: List[int]) -> List[int]:\n",
        "  left =0\n",
        "  right = len(nums) - 1\n",
        "  result = []\n",
        "  while left <= right:\n",
        "    if abs(nums[left]) > abs(nums[right]):\n",
        "      result.append(nums[left] **2)\n",
        "      left +=1\n",
        "    else:\n",
        "      result.append(nums[right] **2)\n",
        "      right -=1\n",
        "  return result[::-1]\n",
        "\n",
        "  # Time: 0(n)\n",
        "  # Space:0(1)"
      ],
      "metadata": {
        "id": "ARjT03VHaMe1"
      },
      "execution_count": 328,
      "outputs": []
    },
    {
      "cell_type": "code",
      "source": [
        "numbers_list = [2,7,8,12,20]\n",
        "sortedSquares(numbers_list)"
      ],
      "metadata": {
        "colab": {
          "base_uri": "https://localhost:8080/"
        },
        "id": "sd9RPz_Mal5T",
        "outputId": "5b43dca5-a23b-4d25-d69f-92a6ea8500b7"
      },
      "execution_count": 329,
      "outputs": [
        {
          "output_type": "execute_result",
          "data": {
            "text/plain": [
              "[4, 49, 64, 144, 400]"
            ]
          },
          "metadata": {},
          "execution_count": 329
        }
      ]
    },
    {
      "cell_type": "code",
      "source": [
        "# LeetCode 344 - Reverse String with Space O(1) 2 Pointers\n",
        "def reverseString(s: List[str]) ->None:\n",
        "  n = len(s)\n",
        "  l = 0\n",
        "  r = n-1\n",
        "\n",
        "  while l<r:\n",
        "    s[l], s[r]  = s[r], s[l]\n",
        "    l +=1\n",
        "    r -+1\n",
        "# Time: O(n)"
      ],
      "metadata": {
        "id": "Geuh3E0YgzDY"
      },
      "execution_count": 330,
      "outputs": []
    },
    {
      "cell_type": "code",
      "source": [
        "# LeetCode 167- Two Summ II - Input Array is Sorted and 1-indexed array\n",
        "def twoSummII(numbers: List[int], target: int) -> List[int]:\n",
        "  n = len(numbers)\n",
        "  l = 0\n",
        "  r = n-1\n",
        "  while l<r:\n",
        "    summ = numbers[l] + numbers[r]\n",
        "    if summ == target:\n",
        "      return [l+1, r+1]\n",
        "    elif summ < target:\n",
        "      l +=1\n",
        "    else:\n",
        "      r-=1\n",
        "# Time:O(n), Space: O(1)"
      ],
      "metadata": {
        "id": "x2GrScOPjWw_"
      },
      "execution_count": 331,
      "outputs": []
    },
    {
      "cell_type": "code",
      "source": [
        "# LeetCode 125 - Valid Palindrome\n",
        "# Alphanumeric characters include letters and numbers\n",
        "def isPalindrome(s: str) -> bool:\n",
        "  n = len(s)\n",
        "  L = 0\n",
        "  R = n-1\n",
        "  while L<R:\n",
        "    if not s[L].isalnum():\n",
        "      L+=1\n",
        "      continue\n",
        "    if not s[R].isalnum():\n",
        "      R-=1\n",
        "      continue\n",
        "    if s[L].lower() != s[R].lower():\n",
        "      return False\n",
        "    L+=1\n",
        "    R-=1\n",
        "    return True\n",
        "    # Time: O(n), Space:0(1)"
      ],
      "metadata": {
        "id": "sjCytjbBvAtw"
      },
      "execution_count": 332,
      "outputs": []
    },
    {
      "cell_type": "code",
      "source": [
        "# Leetcode-15: 3 Sum\n",
        "from typing import List\n",
        "def threeSum(nums: List[int]) -> List[List[int]]:\n",
        "  nums.sort()\n",
        "  n = len(nums)\n",
        "  answer = []\n",
        "  for i in range(n):\n",
        "    if nums[i] > 0:\n",
        "      break\n",
        "    elif i>0 and nums[i] == nums[i-1]:\n",
        "      continue\n",
        "    lo, hi = i+1, n-1\n",
        "    while lo<hi:\n",
        "      summ = nums[i] + nums[lo] + nums[hi]\n",
        "      if summ == 0:\n",
        "        answer.append([nums[i], nums[lo], nums[hi]])\n",
        "        lo, hi = lo+1, hi-1\n",
        "        while lo<hi and nums[lo] == nums[lo-1]:\n",
        "          lo+=1\n",
        "        while lo <hi and nums[hi] == nums[hi+1]:\n",
        "          hi -=1\n",
        "      elif summ<0:\n",
        "        lo+=1\n",
        "      else:\n",
        "        hi-=1\n",
        "  return answer\n",
        "\n",
        "\n",
        "  # Time: O(n^2), Space:O(n)"
      ],
      "metadata": {
        "id": "W3jvlwBvHpwG"
      },
      "execution_count": 341,
      "outputs": []
    },
    {
      "cell_type": "code",
      "source": [
        "mu_nombres= [0,-1,-2,-3,1,2,3]\n",
        "threeSum(mu_nombres)"
      ],
      "metadata": {
        "colab": {
          "base_uri": "https://localhost:8080/"
        },
        "id": "JBCYrBQDeA7I",
        "outputId": "81831f47-d74c-4077-acc9-35e9390b3984"
      },
      "execution_count": 342,
      "outputs": [
        {
          "output_type": "execute_result",
          "data": {
            "text/plain": [
              "[[-3, 0, 3], [-3, 1, 2], [-2, -1, 3], [-2, 0, 2], [-1, 0, 1]]"
            ]
          },
          "metadata": {},
          "execution_count": 342
        }
      ]
    }
  ]
}