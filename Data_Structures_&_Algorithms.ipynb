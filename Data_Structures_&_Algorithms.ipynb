{
  "nbformat": 4,
  "nbformat_minor": 0,
  "metadata": {
    "colab": {
      "provenance": [],
      "authorship_tag": "ABX9TyP+Jt6QRVvVzpWVHZhu2Bbi",
      "include_colab_link": true
    },
    "kernelspec": {
      "name": "python3",
      "display_name": "Python 3"
    },
    "language_info": {
      "name": "python"
    }
  },
  "cells": [
    {
      "cell_type": "markdown",
      "metadata": {
        "id": "view-in-github",
        "colab_type": "text"
      },
      "source": [
        "<a href=\"https://colab.research.google.com/github/fahriyegrl/leetcode_practice_interview_coding/blob/main/Data_Structures_%26_Algorithms.ipynb\" target=\"_parent\"><img src=\"https://colab.research.google.com/assets/colab-badge.svg\" alt=\"Open In Colab\"/></a>"
      ]
    },
    {
      "cell_type": "code",
      "execution_count": 122,
      "metadata": {
        "colab": {
          "base_uri": "https://localhost:8080/"
        },
        "id": "2lD9cEImWx8H",
        "outputId": "f350c12a-5647-4ee4-dbd3-8ff2b789cb4f"
      },
      "outputs": [
        {
          "output_type": "stream",
          "name": "stdout",
          "text": [
            "[-4, -3, -3, 1, 2, 2, 2, 3, 7]\n"
          ]
        }
      ],
      "source": [
        "# Bubble Sort Time: O(n^2), Space: O(n)\n",
        "\n",
        "A= [-4,3,2,1,-3,-3,7,2,2]\n",
        "\n",
        "def bubble_sort(arr):\n",
        "  n=len(arr)\n",
        "  flag= True\n",
        "  while flag:\n",
        "    flag=False\n",
        "    for i in range(1,n):\n",
        "      if arr[i-1] > arr[i]:\n",
        "        flag=True\n",
        "        arr[i-1], arr[i]= arr[i], arr[i-1]\n",
        "  return arr\n",
        "\n",
        "print(bubble_sort(A))"
      ]
    },
    {
      "cell_type": "code",
      "source": [
        "# Insertion Sort Time: O(n^2), Space: O(1)\n",
        "\n",
        "def insertion_sort(arr):\n",
        "  n = len(arr)\n",
        "  for i in range(1,n):\n",
        "    for j in range(i,0,-1):\n",
        "      if arr[j-1] > arr[j]:\n",
        "        arr[j-1], arr[j]= arr[j], arr[j-1]\n",
        "  return arr\n",
        "\n",
        "print(insertion_sort(A))"
      ],
      "metadata": {
        "colab": {
          "base_uri": "https://localhost:8080/"
        },
        "id": "NdDiFeLgX0pU",
        "outputId": "b3c15471-ba53-4260-ab06-e42f351edffd"
      },
      "execution_count": 123,
      "outputs": [
        {
          "output_type": "stream",
          "name": "stdout",
          "text": [
            "[-4, -3, -3, 1, 2, 2, 2, 3, 7]\n"
          ]
        }
      ]
    },
    {
      "cell_type": "code",
      "source": [
        "#Selection Sort Time: O(n^2), Space: O(1)\n",
        "\n",
        "C= [-3,3,2,1,-5,-6,7,2,2]\n",
        "\n",
        "def selection_sort(arr):\n",
        "  n = len(arr)\n",
        "  for i in range(n):\n",
        "    min_index = i\n",
        "    for j in range(i+1,n):\n",
        "      if arr[j] < arr[min_index]:\n",
        "        min_index=j\n",
        "    arr[i], arr[min_index] = arr[min_index], arr[i]\n",
        "\n",
        "selection_sort(C)\n",
        "print(C)"
      ],
      "metadata": {
        "colab": {
          "base_uri": "https://localhost:8080/"
        },
        "id": "gypGSllsbU4X",
        "outputId": "a4a38e69-d41a-440e-e691-1a0f5812d4eb"
      },
      "execution_count": 124,
      "outputs": [
        {
          "output_type": "stream",
          "name": "stdout",
          "text": [
            "[-6, -5, -3, 1, 2, 2, 2, 3, 7]\n"
          ]
        }
      ]
    },
    {
      "cell_type": "code",
      "source": [
        "# Merge Sort Time: O(n log n), Space: O(n)\n",
        "\n",
        "D = [-5,3,2,1,-3,-3,7,2,2]\n",
        "\n",
        "def merge_sort(arr):\n",
        "  n= len(arr)\n",
        "  if n==1:\n",
        "    return arr\n",
        "  m = len(arr) // 2\n",
        "  L= arr[:m]\n",
        "  R=arr[m:]\n",
        "  L= merge_sort(L)\n",
        "  R= merge_sort(R)\n",
        "\n",
        "  l,r = 0,0\n",
        "  L_len = len(L)\n",
        "  R_len = len(R)\n",
        "\n",
        "  sorted_arr = [0] *n\n",
        "  i = 0\n",
        "  while l<L_len and r<R_len:\n",
        "    if L[l] < R[r]:\n",
        "      sorted_arr[i] = L[l]\n",
        "      l+=1\n",
        "    else:\n",
        "      sorted_arr[i] = R[r]\n",
        "      r+=1\n",
        "    i+=1\n",
        "\n",
        "  while l<L_len:\n",
        "      sorted_arr[i] = L[l]\n",
        "      l+=1\n",
        "      i+-1\n",
        "  while r<R_len:\n",
        "      sorted_arr[i] = R[r]\n",
        "      r+=1\n",
        "      i +=1\n",
        "  return sorted_arr\n",
        "\n"
      ],
      "metadata": {
        "id": "VPLykai9O5-a"
      },
      "execution_count": 125,
      "outputs": []
    },
    {
      "cell_type": "code",
      "source": [
        "merge_sort(D)"
      ],
      "metadata": {
        "colab": {
          "base_uri": "https://localhost:8080/"
        },
        "id": "46hMVaYzPtFm",
        "outputId": "c408e3b8-d0e2-4c74-c332-975d9fe00e54"
      },
      "execution_count": 126,
      "outputs": [
        {
          "output_type": "execute_result",
          "data": {
            "text/plain": [
              "[-5, -3, -3, 1, 2, 2, 2, 3, 7]"
            ]
          },
          "metadata": {},
          "execution_count": 126
        }
      ]
    },
    {
      "cell_type": "code",
      "source": [
        "# Quick Sort Time:O(n log n), Space: O(n)\n",
        "\n",
        "E= [-5,3,2,1,-3,-3,7,2,2]\n",
        "\n",
        "def quick_sort(arr):\n",
        "  if len(arr) <2:\n",
        "    return arr\n",
        "\n",
        "  p = arr[-1]\n",
        "\n",
        "  L= [x for x in arr[:-1] if x <= p]\n",
        "  R= [x for x in arr[:-1] if x > p]\n",
        "\n",
        "  L= quick_sort(L)\n",
        "  R= quick_sort(R)\n",
        "\n",
        "  return L + [p] + R\n",
        "\n",
        "quick_sort(E)"
      ],
      "metadata": {
        "colab": {
          "base_uri": "https://localhost:8080/"
        },
        "id": "_NH58-Ujpu2x",
        "outputId": "d44737bf-b110-4ca6-b520-c3ab8673fcc5"
      },
      "execution_count": 127,
      "outputs": [
        {
          "output_type": "execute_result",
          "data": {
            "text/plain": [
              "[-5, -3, -3, 1, 2, 2, 2, 3, 7]"
            ]
          },
          "metadata": {},
          "execution_count": 127
        }
      ]
    },
    {
      "cell_type": "code",
      "source": [
        "# Counting Sort Time: O(n+k) where k is the range of data\n",
        "#stick with the positive array\n",
        "# k is the max of the array\n",
        "# space: O(k)\n",
        "\n",
        "F= [5,3,2,1,3,3,7,2,2]\n",
        "def counting_sort(arr):\n",
        "  n= len(arr)\n",
        "  maxx = max(arr)\n",
        "  counts = [0] * (maxx+1)\n",
        "\n",
        "  for x in arr:\n",
        "    counts[x] +=1\n",
        "  i=0\n",
        "\n",
        "  for c in range(maxx+1):\n",
        "    while counts[c] > 0:\n",
        "      arr[i] = c\n",
        "      i +=1\n",
        "      counts[c] -=1\n"
      ],
      "metadata": {
        "id": "gxe7Bv_DBerj"
      },
      "execution_count": 128,
      "outputs": []
    },
    {
      "cell_type": "code",
      "source": [
        "counting_sort(F)\n",
        "print(F)"
      ],
      "metadata": {
        "id": "xoAOL-hCCZcu",
        "colab": {
          "base_uri": "https://localhost:8080/"
        },
        "outputId": "b9f6b237-7e77-4dbd-a17b-dfbeb01b572c"
      },
      "execution_count": 129,
      "outputs": [
        {
          "output_type": "stream",
          "name": "stdout",
          "text": [
            "[1, 2, 2, 2, 3, 3, 3, 5, 7]\n"
          ]
        }
      ]
    },
    {
      "cell_type": "code",
      "source": [
        "# Graphs - Edge List - Adjacency Matrix - Adjacency List - DFS, BFS\n",
        "\n",
        "# Array of Edges (Directed) [Start, End]\n",
        "\n",
        "n=8\n",
        "A = [[0,1], [1,2], [0,3], [3,4], [3,6], [3,7],[4,2], [4,5], [5,2]]\n",
        "\n",
        "print(A)"
      ],
      "metadata": {
        "colab": {
          "base_uri": "https://localhost:8080/"
        },
        "id": "_2-YgCVE7mtu",
        "outputId": "408025d6-13f4-4316-acf0-4094cab19fee"
      },
      "execution_count": 130,
      "outputs": [
        {
          "output_type": "stream",
          "name": "stdout",
          "text": [
            "[[0, 1], [1, 2], [0, 3], [3, 4], [3, 6], [3, 7], [4, 2], [4, 5], [5, 2]]\n"
          ]
        }
      ]
    },
    {
      "cell_type": "code",
      "source": [
        "# Converting array of Edges ---> Adjacency Matrix\n",
        "\n",
        "M=[]\n",
        "\n",
        "for i in range(n):\n",
        "  M.append([0] * n)\n",
        "M"
      ],
      "metadata": {
        "colab": {
          "base_uri": "https://localhost:8080/"
        },
        "id": "cJqa6QviuWUH",
        "outputId": "ecd7c6d9-2e7d-47f6-e9c3-e78654bca431"
      },
      "execution_count": 131,
      "outputs": [
        {
          "output_type": "execute_result",
          "data": {
            "text/plain": [
              "[[0, 0, 0, 0, 0, 0, 0, 0],\n",
              " [0, 0, 0, 0, 0, 0, 0, 0],\n",
              " [0, 0, 0, 0, 0, 0, 0, 0],\n",
              " [0, 0, 0, 0, 0, 0, 0, 0],\n",
              " [0, 0, 0, 0, 0, 0, 0, 0],\n",
              " [0, 0, 0, 0, 0, 0, 0, 0],\n",
              " [0, 0, 0, 0, 0, 0, 0, 0],\n",
              " [0, 0, 0, 0, 0, 0, 0, 0]]"
            ]
          },
          "metadata": {},
          "execution_count": 131
        }
      ]
    },
    {
      "cell_type": "code",
      "source": [
        "for u,v in A:\n",
        "  M[u][v] = 1\n",
        "M"
      ],
      "metadata": {
        "colab": {
          "base_uri": "https://localhost:8080/"
        },
        "id": "sP8vAhBau813",
        "outputId": "39263060-70f1-4f00-d50f-a5939646533c"
      },
      "execution_count": 132,
      "outputs": [
        {
          "output_type": "execute_result",
          "data": {
            "text/plain": [
              "[[0, 1, 0, 1, 0, 0, 0, 0],\n",
              " [0, 0, 1, 0, 0, 0, 0, 0],\n",
              " [0, 0, 0, 0, 0, 0, 0, 0],\n",
              " [0, 0, 0, 0, 1, 0, 1, 1],\n",
              " [0, 0, 1, 0, 0, 1, 0, 0],\n",
              " [0, 0, 1, 0, 0, 0, 0, 0],\n",
              " [0, 0, 0, 0, 0, 0, 0, 0],\n",
              " [0, 0, 0, 0, 0, 0, 0, 0]]"
            ]
          },
          "metadata": {},
          "execution_count": 132
        }
      ]
    },
    {
      "cell_type": "code",
      "source": [
        "# Converting Array of Edges ---> Adjacency List\n",
        "from collections import defaultdict\n",
        "\n",
        "D = defaultdict(list)\n",
        "\n",
        "for u,v in A:\n",
        "  D[u].append(v)\n",
        "D"
      ],
      "metadata": {
        "colab": {
          "base_uri": "https://localhost:8080/"
        },
        "id": "3Qr4y-mYvI90",
        "outputId": "1d184c1f-fb4b-4c27-c5d0-21c5cddffeef"
      },
      "execution_count": 133,
      "outputs": [
        {
          "output_type": "execute_result",
          "data": {
            "text/plain": [
              "defaultdict(list, {0: [1, 3], 1: [2], 3: [4, 6, 7], 4: [2, 5], 5: [2]})"
            ]
          },
          "metadata": {},
          "execution_count": 133
        }
      ]
    },
    {
      "cell_type": "code",
      "source": [
        "# DFS with Recursion - O(V + E) where V is the number of thenodes and E is the edges\n",
        "\n",
        "def dfs_recursive(node):\n",
        "  print(node)\n",
        "  for nei in D[node]:\n",
        "    if nei not in seen:\n",
        "      seen.add(nei)\n",
        "      dfs_recursive(nei)\n",
        "\n",
        "source = 0\n",
        "seen = set()\n",
        "seen.add(source)\n",
        "dfs_recursive(source)"
      ],
      "metadata": {
        "colab": {
          "base_uri": "https://localhost:8080/"
        },
        "id": "86i_CjnXvvDM",
        "outputId": "f04a8856-1ccb-4bca-b164-e6fd9727bfec"
      },
      "execution_count": 134,
      "outputs": [
        {
          "output_type": "stream",
          "name": "stdout",
          "text": [
            "0\n",
            "1\n",
            "2\n",
            "3\n",
            "4\n",
            "5\n",
            "6\n",
            "7\n"
          ]
        }
      ]
    },
    {
      "cell_type": "code",
      "source": [
        "# Iterative DFS with stack - O(V+ E)\n",
        "\n",
        "source = 0\n",
        "seen = set()\n",
        "seen.add(source)\n",
        "stack = [source]\n",
        "\n",
        "while stack:\n",
        "  node = stack.pop()\n",
        "  print(node)\n",
        "  for nei in D[node]:\n",
        "    if nei not in seen:\n",
        "      seen.add(nei)\n",
        "      stack.append(nei)"
      ],
      "metadata": {
        "colab": {
          "base_uri": "https://localhost:8080/"
        },
        "id": "SOo46J3Dw3kY",
        "outputId": "a7d2f981-d097-41f1-e145-741d9360b9c4"
      },
      "execution_count": 135,
      "outputs": [
        {
          "output_type": "stream",
          "name": "stdout",
          "text": [
            "0\n",
            "3\n",
            "7\n",
            "6\n",
            "4\n",
            "5\n",
            "2\n",
            "1\n"
          ]
        }
      ]
    },
    {
      "cell_type": "code",
      "source": [
        "# BFS (Queue) - O(V+E)\n",
        "source = 0\n",
        "\n",
        "from collections import deque\n",
        "seen = set()\n",
        "seen.add(source)\n",
        "q = deque()\n",
        "q.append(source)\n",
        "\n",
        "while q:\n",
        "  node = q.popleft()\n",
        "  print(node)\n",
        "\n",
        "  for nei in D[node]:\n",
        "    if nei not in seen:\n",
        "      seen.add(nei)\n",
        "      q.append(nei)"
      ],
      "metadata": {
        "colab": {
          "base_uri": "https://localhost:8080/"
        },
        "id": "HKjH-okwyOih",
        "outputId": "9b9dedae-3631-4984-df7d-14210671bab4"
      },
      "execution_count": 136,
      "outputs": [
        {
          "output_type": "stream",
          "name": "stdout",
          "text": [
            "0\n",
            "1\n",
            "3\n",
            "2\n",
            "4\n",
            "6\n",
            "7\n",
            "5\n"
          ]
        }
      ]
    },
    {
      "cell_type": "code",
      "source": [
        "class Node:\n",
        "  def __init__(self, value):\n",
        "    self.value = value\n",
        "    self.neighbor = []\n",
        "\n",
        "  def str(self):\n",
        "    return f'Node({self.value})'\n",
        "\n",
        "  def display(self):\n",
        "    connections = [node.value for node in self.neighbor]\n",
        "    return f'{self.value} is connected to: {connections}'\n",
        "\n",
        "A = Node('A')\n",
        "B = Node('B')\n",
        "C = Node('C')\n",
        "D = Node('D')\n",
        "\n",
        "A.neighbor = [B,D]\n",
        "B.neighbor = [A,C,D]\n",
        "C.neighbor = [B]\n",
        "D.neighbor = [A,B,C]\n",
        "\n",
        "print(A.display())"
      ],
      "metadata": {
        "colab": {
          "base_uri": "https://localhost:8080/"
        },
        "id": "w0_lbYvjzFq2",
        "outputId": "d4760b9f-a5c1-4c50-e68f-5e1909ceb577"
      },
      "execution_count": 137,
      "outputs": [
        {
          "output_type": "stream",
          "name": "stdout",
          "text": [
            "A is connected to: ['B', 'D']\n"
          ]
        }
      ]
    },
    {
      "cell_type": "code",
      "source": [
        "print(A)"
      ],
      "metadata": {
        "colab": {
          "base_uri": "https://localhost:8080/"
        },
        "id": "X3__jNSvz8DW",
        "outputId": "fd859d32-cefb-409e-ac6b-f7b6e81f1e7c"
      },
      "execution_count": 138,
      "outputs": [
        {
          "output_type": "stream",
          "name": "stdout",
          "text": [
            "<__main__.Node object at 0x7ea617041070>\n"
          ]
        }
      ]
    },
    {
      "cell_type": "code",
      "source": [
        "# 2 Pointers: Squares of a Sorted Array\n",
        "from typing import List\n",
        "# Time: O(n),  Space:O(n)\n",
        "def sortedSquares(nums: List[int]) -> List[int]:\n",
        "  left = 0\n",
        "  right = len(nums) - 1\n",
        "  result = []\n",
        "\n",
        "  while left<right:\n",
        "    if abs(nums[left]) > abs(nums[right]):\n",
        "      result.append(nums[left] **2)\n",
        "      left +=1\n",
        "    else:\n",
        "      result.append(nums[right] **2)\n",
        "      right-=1\n",
        "  result.reverse\n",
        "  return result"
      ],
      "metadata": {
        "id": "RI_APtssFKy1"
      },
      "execution_count": 139,
      "outputs": []
    },
    {
      "cell_type": "code",
      "source": [
        "my_list = [-7,-4,0,1,10]\n",
        "sortedSquares(my_list)"
      ],
      "metadata": {
        "colab": {
          "base_uri": "https://localhost:8080/"
        },
        "id": "VY58Tp8TGNhe",
        "outputId": "c52964b3-68cd-4171-a207-888321626ac4"
      },
      "execution_count": 140,
      "outputs": [
        {
          "output_type": "execute_result",
          "data": {
            "text/plain": [
              "[100, 49, 16, 1]"
            ]
          },
          "metadata": {},
          "execution_count": 140
        }
      ]
    },
    {
      "cell_type": "code",
      "source": [
        "# Sliding Window Algorithm\n",
        "\n",
        "# Longest Substring Without Repeating Characters - Variable Length\n",
        "\n",
        "def lenghtofLongestSubstring(s:str) -> int:\n",
        "  l=0\n",
        "  longest = 0\n",
        "  sett = set()\n",
        "  n= len(s)\n",
        "\n",
        "  for r in range(n):\n",
        "    while s[r] in sett:  #r=4\n",
        "      sett.remove(s[l])\n",
        "\n",
        "      l +=1\n",
        "    w = (r-l) +1\n",
        "    longest = max(longest, w)\n",
        "    sett.add(s[r])\n",
        "    print(sett)\n",
        "\n",
        "  return longest\n",
        "\n",
        "s = \"abcdbac\"  # sett = ,b,c,d ,  l=1\n",
        "s1= \"cklamar\"\n",
        "lenghtofLongestSubstring(s1)"
      ],
      "metadata": {
        "colab": {
          "base_uri": "https://localhost:8080/"
        },
        "id": "oktfvBuGVy8f",
        "outputId": "86c85cd5-84b6-4c2e-cef5-beadf807fa66"
      },
      "execution_count": 141,
      "outputs": [
        {
          "output_type": "stream",
          "name": "stdout",
          "text": [
            "{'c'}\n",
            "{'c', 'k'}\n",
            "{'l', 'c', 'k'}\n",
            "{'a', 'l', 'c', 'k'}\n",
            "{'a', 'k', 'm', 'l', 'c'}\n",
            "{'a', 'm'}\n",
            "{'a', 'r', 'm'}\n"
          ]
        },
        {
          "output_type": "execute_result",
          "data": {
            "text/plain": [
              "5"
            ]
          },
          "metadata": {},
          "execution_count": 141
        }
      ]
    },
    {
      "cell_type": "code",
      "source": [
        "# 643- Maximum Average Subarray - Fixed Variable Sliding Window\n",
        "\n",
        "def findMaxAverage(nums: List[int], k:int) -> float:\n",
        "  n = len(nums)\n",
        "  cur_sum= 0\n",
        "\n",
        "  for i in range(k):\n",
        "    cur_sum += nums[i]\n",
        "\n",
        "  max_avg = cur_sum / k\n",
        "\n",
        "  for i in range(k,n):\n",
        "    cur_sum += nums[i]\n",
        "    cur_sum -= nums[i-k]\n",
        "\n",
        "    avg = cur_sum /k\n",
        "    max_avg= max(max_avg, avg)\n",
        "\n",
        "  return max_avg"
      ],
      "metadata": {
        "id": "KdnJCWCUkcYf"
      },
      "execution_count": 142,
      "outputs": []
    },
    {
      "cell_type": "code",
      "source": [
        "# Recursive Backtracking - Leetcode 78- Subsets\n",
        "\n",
        "def subsets(nums: List[int])  -> List[List[int]]:\n",
        "  n = len(nums)\n",
        "  res, sol = [], []\n",
        "  def backtrack(i):\n",
        "    if i ==n:\n",
        "      res.append(sol[:])\n",
        "      return\n",
        "    #dont pick nums[i]\n",
        "    backtrack(i+1)\n",
        "\n",
        "    # pick nums[i]\n",
        "    sol.append(nums[i])\n",
        "    backtrack(i+1)\n",
        "    sol.pop()\n",
        "\n",
        "  backtrack(0)\n",
        "  return res\n"
      ],
      "metadata": {
        "id": "uQS0CdOFi2mX"
      },
      "execution_count": 143,
      "outputs": []
    },
    {
      "cell_type": "code",
      "source": [
        "mi_list =[1,2,3]\n",
        "subsets(mi_list)"
      ],
      "metadata": {
        "colab": {
          "base_uri": "https://localhost:8080/"
        },
        "id": "d0wyWiMinIfk",
        "outputId": "10c815a1-68e1-4709-c912-e3e8545a0fbe"
      },
      "execution_count": 144,
      "outputs": [
        {
          "output_type": "execute_result",
          "data": {
            "text/plain": [
              "[[], [3], [2], [2, 3], [1], [1, 3], [1, 2], [1, 2, 3]]"
            ]
          },
          "metadata": {},
          "execution_count": 144
        }
      ]
    },
    {
      "cell_type": "code",
      "source": [
        "# Dynamic Programming - Top Down Memorization\n",
        "# Leet code 509 - Fibonacci Number - Time 0(n), Space 0(n)\n",
        "\n",
        "def fib(n:int) -> int:\n",
        "  memo= {0:0, 1:1} # Fibonacci sequence typically starts with F(0)=0, F(1)=1\n",
        "\n",
        "  def f(x):\n",
        "    if x in memo:\n",
        "      return memo[x]\n",
        "    elif x < 0: # Handle negative input if necessary, though typically Fibonacci is for non-negative integers\n",
        "        return 0\n",
        "    else:\n",
        "      memo[x] = f(x-1) + f(x-2) # Corrected recursive call\n",
        "      return memo[x]\n",
        "  return f(n)"
      ],
      "metadata": {
        "id": "NlHm-Z-2-rPJ"
      },
      "execution_count": 145,
      "outputs": []
    },
    {
      "cell_type": "code",
      "source": [
        "fib(10)"
      ],
      "metadata": {
        "id": "dC4Le1kq_eyL",
        "colab": {
          "base_uri": "https://localhost:8080/"
        },
        "outputId": "87735ca8-0f92-4158-ddae-625b6c08b224"
      },
      "execution_count": 146,
      "outputs": [
        {
          "output_type": "execute_result",
          "data": {
            "text/plain": [
              "55"
            ]
          },
          "metadata": {},
          "execution_count": 146
        }
      ]
    },
    {
      "cell_type": "code",
      "source": [
        "# Dynamic Programming - Bottom Up Memorization\n",
        "\n",
        "#Method 1: Time: 0(n), Space:0(n)\n",
        "\n",
        "def fib(n:int) -> int:\n",
        "  #Bottom up= Tabulation\n",
        "\n",
        "  if n==0:\n",
        "    return 0\n",
        "  if n==1:\n",
        "    return 1\n",
        "  dp = [0] * (n+1)\n",
        "  dp[0] = 0\n",
        "  dp[1]= 1\n",
        "\n",
        "  for i in range(2, n+1):\n",
        "    dp[i] = dp[i-2] + dp[i-1]\n",
        "\n",
        "  return dp[n]"
      ],
      "metadata": {
        "id": "0WZvsoGpgJw-"
      },
      "execution_count": 147,
      "outputs": []
    },
    {
      "cell_type": "code",
      "source": [
        "#Method 1: Time: 0(n), Space:0(1)\n",
        "\n",
        "def fib(n:int) -> int:\n",
        "\n",
        "\n",
        "  if n==0:\n",
        "    return 0\n",
        "  if n==1:\n",
        "    return 1\n",
        "  dp = [0] * (n+1)\n",
        "  prev = 0\n",
        "  cur = 1\n",
        "\n",
        "  for i in range(2, n+1):\n",
        "    prev, cur= cur , prev+cur\n",
        "\n",
        "  return cur"
      ],
      "metadata": {
        "id": "XVUIZEo6gzEC"
      },
      "execution_count": 148,
      "outputs": []
    },
    {
      "cell_type": "code",
      "source": [
        "# Leet Code: 2239. Find Closest Number to Zero\n",
        "\n",
        "# Time: O(n)  Space: O(1)\n",
        "\n",
        "def findClosestNumber(nums: List[int]) -> int:\n",
        "  closest = nums[0]\n",
        "  for x in nums:\n",
        "    if abs(x) < abs(closest):\n",
        "      closest = x\n",
        "  if closest < 0 and abs(closest) in nums:\n",
        "    return abs(closest)\n",
        "  else:\n",
        "    return closest"
      ],
      "metadata": {
        "id": "bsA9LsRP5PWd"
      },
      "execution_count": 149,
      "outputs": []
    },
    {
      "cell_type": "code",
      "source": [
        "# LeetCode 1768: Merge String Alternately\n",
        "\n",
        "def mergeAlternately(word1: str, word2: str) -> str:\n",
        "  A,B = len(word1), len(word2)\n",
        "  a,b = 0,0\n",
        "  s=[]\n",
        "\n",
        "  word=1\n",
        "  while a<A and b<B:\n",
        "    if word == 1:\n",
        "      s.append(word1[a])\n",
        "      a+=1\n",
        "      word = 2\n",
        "    else:\n",
        "      s.append(word2[b])\n",
        "      b+=1\n",
        "      word=1\n",
        "\n",
        "  while a<A:\n",
        "    s.append(word1[a])\n",
        "    a+=1\n",
        "  while b<B:\n",
        "    s.append(word2[b])\n",
        "    b+=1\n",
        "\n",
        "  return \"\".join(s)  # Time: O(A+B) Space: O(A+B)\n"
      ],
      "metadata": {
        "id": "xn-_0mW0BhA3"
      },
      "execution_count": 150,
      "outputs": []
    },
    {
      "cell_type": "code",
      "source": [
        "word1= \"hjeotr\"\n",
        "word2= \"ouruewwwwfcss\"\n",
        "mergeAlternately(word1,word2)"
      ],
      "metadata": {
        "colab": {
          "base_uri": "https://localhost:8080/",
          "height": 35
        },
        "id": "30Uui4hcCt_X",
        "outputId": "852fe5ee-1e12-423a-adba-b5eb29f867dc"
      },
      "execution_count": 151,
      "outputs": [
        {
          "output_type": "execute_result",
          "data": {
            "text/plain": [
              "'hojuerouterwwwwfcss'"
            ],
            "application/vnd.google.colaboratory.intrinsic+json": {
              "type": "string"
            }
          },
          "metadata": {},
          "execution_count": 151
        }
      ]
    },
    {
      "cell_type": "code",
      "source": [
        "# Leetcode: 13 Roman To Integer\n",
        "\n",
        "def romanToInt(s: str) -> int:\n",
        "  d = {'I' : 1, 'V' : 5, 'X' : 10, 'L' : 50, 'C' : 100, 'D' : 500, 'M' : 1000}\n",
        "  sum = 0\n",
        "  n = len(s)\n",
        "  i = 0\n",
        "\n",
        "  while i <n:\n",
        "    if i<n and d[s[i]]  < d[s[i+1]]:\n",
        "      sum += d[s[i+1]] - d[s[i]]\n",
        "      i +=2\n",
        "    else:\n",
        "      sum += d[s[i]]\n",
        "      i +=1\n",
        "  return sum  # Time: O(n) , Space: O(1)"
      ],
      "metadata": {
        "id": "8p5FLd6qouFm"
      },
      "execution_count": 152,
      "outputs": []
    },
    {
      "cell_type": "code",
      "source": [
        "# Leetcode-392 Is Subsequence\n",
        "\n",
        "def isSubsequence(s: str, t:str) -> bool:\n",
        "  S= len(s)\n",
        "  T= len(t)\n",
        "  if s=='': return True\n",
        "  if S>T: return False\n",
        "\n",
        "  j=0\n",
        "  for i in range(T):\n",
        "    if t[i] == s[j]:\n",
        "      if j==S-1:\n",
        "        return True\n",
        "      j +=1\n",
        "  return False\n",
        "  #Time: O(T)\n",
        "  #Space: O(1)"
      ],
      "metadata": {
        "id": "P1UgMPbballO"
      },
      "execution_count": 153,
      "outputs": []
    },
    {
      "cell_type": "code",
      "source": [
        "# LeetCode: 121 Best Time to Buy and Sell Stock\n",
        "# Brute Force; Time: O(n^2), Space: O(1)\n",
        "\n",
        "def maxProfit(prices: List[int]) -> int:\n",
        "  max_profit = float('-inf')\n",
        "  for i in range(len(prices)):\n",
        "    for j in range(i+1, len(prices)):\n",
        "      profit = prices[j] - prices[i]\n",
        "      if profit>max_profit:\n",
        "        max_profit = profit\n",
        "  return max_profit if max_profit > float('-inf') else 0"
      ],
      "metadata": {
        "id": "a5Rh_zkf99Oa"
      },
      "execution_count": 154,
      "outputs": []
    },
    {
      "cell_type": "code",
      "source": [
        "def maxProfit(prices: List[int]) -> int:\n",
        "  #Time: O(n)\n",
        "  #Space: O(1)\n",
        "  min_price = float('inf')\n",
        "  max_profit = 0\n",
        "  # 7,1,2\n",
        "\n",
        "  for price in prices:\n",
        "    if price < min_price:\n",
        "      min_price = price\n",
        "\n",
        "    profit = price -min_price\n",
        "    print(profit)\n",
        "\n",
        "    if profit > max_profit:\n",
        "      max_profit = profit\n",
        "\n",
        "  return max_profit\n",
        "\n"
      ],
      "metadata": {
        "id": "d75Csh-L-18t"
      },
      "execution_count": 155,
      "outputs": []
    },
    {
      "cell_type": "code",
      "source": [
        "prices= [7,1,2]\n",
        "maxProfit(prices)"
      ],
      "metadata": {
        "colab": {
          "base_uri": "https://localhost:8080/"
        },
        "id": "3cYH_p10A8BY",
        "outputId": "7cba7cb8-e032-4117-d6cd-2a97fc6a4f41"
      },
      "execution_count": 156,
      "outputs": [
        {
          "output_type": "stream",
          "name": "stdout",
          "text": [
            "0\n",
            "0\n",
            "1\n"
          ]
        },
        {
          "output_type": "execute_result",
          "data": {
            "text/plain": [
              "1"
            ]
          },
          "metadata": {},
          "execution_count": 156
        }
      ]
    },
    {
      "cell_type": "code",
      "source": [
        "# Leetcode 14: Longest Common Prefix\n",
        "\n",
        "def longestCommonPrefix(strs: List[str]) -> str:\n",
        "  min_length= float('inf')\n",
        "  for s in strs:\n",
        "    if len(s) < min_length:\n",
        "      min_length = len(s)\n",
        "  i=0\n",
        "  while i < min_length:\n",
        "    for s in strs:\n",
        "      if s[i] !=  strs[0][i]:\n",
        "        return s[:i]\n",
        "\n",
        "    i+=1\n",
        "  return s[:i]\n",
        "\n",
        "  # Time: O(n * m) where m is min_lenght\n",
        "  # Space: O(1)\n"
      ],
      "metadata": {
        "id": "m6V1Jd0BVmPa"
      },
      "execution_count": 157,
      "outputs": []
    },
    {
      "cell_type": "code",
      "source": [
        "strs= [\"fla\", \"flowers\", \"flown\"]\n",
        "strs"
      ],
      "metadata": {
        "colab": {
          "base_uri": "https://localhost:8080/"
        },
        "id": "om1Y3Ar7A_zZ",
        "outputId": "e1089516-9e75-41f9-a3e2-9cf51d337e07"
      },
      "execution_count": 158,
      "outputs": [
        {
          "output_type": "execute_result",
          "data": {
            "text/plain": [
              "['fla', 'flowers', 'flown']"
            ]
          },
          "metadata": {},
          "execution_count": 158
        }
      ]
    },
    {
      "cell_type": "code",
      "source": [
        "s = \"flo\"\n",
        "s[0]"
      ],
      "metadata": {
        "colab": {
          "base_uri": "https://localhost:8080/",
          "height": 35
        },
        "id": "c0iuWXsNWlKJ",
        "outputId": "fab650a7-4a08-407a-95ea-819cafbb04a2"
      },
      "execution_count": 159,
      "outputs": [
        {
          "output_type": "execute_result",
          "data": {
            "text/plain": [
              "'f'"
            ],
            "application/vnd.google.colaboratory.intrinsic+json": {
              "type": "string"
            }
          },
          "metadata": {},
          "execution_count": 159
        }
      ]
    },
    {
      "cell_type": "code",
      "source": [
        "# LeetCode: Summary Ranges\n",
        "from typing import List\n",
        "def summaryRanges(nums: List[int]) -> List[str]:\n",
        "  ans = []\n",
        "  i = 0\n",
        "# nums= [2,3,4,7]\n",
        "  while i < len(nums):\n",
        "    start = nums[i]\n",
        "    while i < len(nums)-1 and nums[i] +1 ==nums[i+1]:\n",
        "      i+=1\n",
        "    if start != nums[i]:\n",
        "        ans.append(str(start) + '->' + str(nums[i]))\n",
        "    else:\n",
        "        ans.append(str(nums[i]))\n",
        "\n",
        "    i+=1\n",
        "  return ans\n",
        "  #Time: O(n)\n",
        "  #Space: O(1)"
      ],
      "metadata": {
        "id": "F7zuxWfyvnfk"
      },
      "execution_count": 160,
      "outputs": []
    },
    {
      "cell_type": "code",
      "source": [
        "mi_list = [1,2,3,6,7,8,10,11]\n",
        "summaryRanges(mi_list)"
      ],
      "metadata": {
        "colab": {
          "base_uri": "https://localhost:8080/"
        },
        "id": "SFVJRF8TzO-2",
        "outputId": "4e4a2e3a-9ef9-4c53-cac7-10d8be3a9649"
      },
      "execution_count": 161,
      "outputs": [
        {
          "output_type": "execute_result",
          "data": {
            "text/plain": [
              "['1->3', '6->8', '10->11']"
            ]
          },
          "metadata": {},
          "execution_count": 161
        }
      ]
    },
    {
      "cell_type": "code",
      "source": [
        "# Leetcode  238: Product of Array Except Self:\n",
        "\n",
        "def productExceptSelf(nums: List[int]) -> List[int]:\n",
        "  l_mult = 1\n",
        "  r_mult = 1\n",
        "  n = len(nums)\n",
        "  l_arr = [0] * n\n",
        "  r_arr = [0] * n\n",
        "# [1,2,3,4]\n",
        "  for i in range(n):\n",
        "    j= -i-1\n",
        "\n",
        "    l_arr[i] = l_mult\n",
        "    r_arr[j] = r_mult\n",
        "\n",
        "    l_mult *= nums[i]\n",
        "    r_mult *= nums[j]\n",
        "\n",
        "    return [l*r for l,r in zip(l_arr, r_arr)]"
      ],
      "metadata": {
        "id": "HxhGu3x_K_gZ"
      },
      "execution_count": 162,
      "outputs": []
    },
    {
      "cell_type": "code",
      "source": [
        "lerf = [1,4,5]\n",
        "right = [5,4,5]\n",
        "newe = zip (lerf, right)\n",
        "list(newe)\n"
      ],
      "metadata": {
        "colab": {
          "base_uri": "https://localhost:8080/"
        },
        "id": "g0HN0Q2Yev7I",
        "outputId": "7f8b96fe-4d85-420d-aa85-99f1df935fbc"
      },
      "execution_count": 163,
      "outputs": [
        {
          "output_type": "execute_result",
          "data": {
            "text/plain": [
              "[(1, 5), (4, 4), (5, 5)]"
            ]
          },
          "metadata": {},
          "execution_count": 163
        }
      ]
    },
    {
      "cell_type": "code",
      "source": [
        "interval= [[1,2], [3,5], [6,7], [8,10]]\n"
      ],
      "metadata": {
        "id": "oqVwEDCjf5Ri"
      },
      "execution_count": 164,
      "outputs": []
    },
    {
      "cell_type": "code",
      "source": [
        "# Leetcode: 56 Merge Intervals\n",
        "\n",
        "def merge(intervals: List[List[int]]) -> List[List[int]]:\n",
        "  intervals.sort(key = lambda interval: interval[0])\n",
        "  merged = []\n",
        "\n",
        "  for interval in intervals:\n",
        "      if not merged or merged[-1][1] <interval[0]:\n",
        "        merged.append(interval)\n",
        "      else:\n",
        "        merged[-1] =[merged[-1][0], max(interval[1], merged[-1][1])  ]\n",
        "  return merged\n",
        "\n",
        "  # Time: O(n log n)\n",
        "  # Space: 0(n)\n"
      ],
      "metadata": {
        "id": "usnD_wnffQx_"
      },
      "execution_count": 165,
      "outputs": []
    },
    {
      "cell_type": "code",
      "source": [
        "# Leetcode 54: Spiral Matrix\n",
        "\n",
        "my_list= [[1,2,3],[4,5,6],[7,8,9]]\n",
        "my_list"
      ],
      "metadata": {
        "colab": {
          "base_uri": "https://localhost:8080/"
        },
        "id": "aorJT9UWgjpW",
        "outputId": "1cf01be0-83a6-4932-f8c1-2c89ca5dc0a2"
      },
      "execution_count": 166,
      "outputs": [
        {
          "output_type": "execute_result",
          "data": {
            "text/plain": [
              "[[1, 2, 3], [4, 5, 6], [7, 8, 9]]"
            ]
          },
          "metadata": {},
          "execution_count": 166
        }
      ]
    },
    {
      "cell_type": "code",
      "source": [
        "def spiralOrder(matrix: List[List[int]]) -> List[int]:\n",
        "  m,n = len(matrix), len(matrix[0])\n",
        "  ans = []\n",
        "  i, j = 0, 0\n",
        "  UP , RIGHT, DOWN, LEFT = 0,1,2,3\n",
        "  direction = RIGHT\n",
        "\n",
        "  UP_WALL = 0\n",
        "  RIGHT_WALL = n\n",
        "  DOWN_WALL = m\n",
        "  LEFT_WALL = -1\n",
        "\n",
        "  while len(ans) != m*n:\n",
        "    if direction == RIGHT:\n",
        "      while j < RIGHT_WALL:\n",
        "        ans.append(matrix[i][j])\n",
        "        j +=1\n",
        "      i, j = i+1, j-1\n",
        "      RIGHT_WALL -=1\n",
        "      direction =  DOWN\n",
        "    elif direction == DOWN:\n",
        "      while i <  DOWN_WALL:\n",
        "        ans.append(matrix[i][j])\n",
        "        i +=1\n",
        "      i,j = i-1, j-1\n",
        "      DOWN_WALL -=1\n",
        "      direction = LEFT\n",
        "    elif direction == LEFT:\n",
        "      while j > LEFT_WALL:\n",
        "        ans.append(matrix[i][j])\n",
        "        j -= 1\n",
        "      i, j = i-1, j+1\n",
        "      LEFT_WALL += 0\n",
        "      direction  = UP\n",
        "    elif direction == UP:\n",
        "      while i > UP_WALL:\n",
        "        ans.append(matrix[i][j])\n",
        "        i -= 1\n",
        "      i , j = i+1, j+1\n",
        "      direction = RIGHT\n",
        "  return ans"
      ],
      "metadata": {
        "id": "43eiEuERg1ZD"
      },
      "execution_count": 167,
      "outputs": []
    },
    {
      "cell_type": "code",
      "source": [
        "spiralOrder(my_list)"
      ],
      "metadata": {
        "colab": {
          "base_uri": "https://localhost:8080/"
        },
        "id": "GbCBpQLykFae",
        "outputId": "60609bd1-53b5-437b-c2f8-69576cd67729"
      },
      "execution_count": 168,
      "outputs": [
        {
          "output_type": "execute_result",
          "data": {
            "text/plain": [
              "[1, 2, 3, 6, 9, 8, 7, 4, 5]"
            ]
          },
          "metadata": {},
          "execution_count": 168
        }
      ]
    },
    {
      "cell_type": "code",
      "source": [
        "3 // 2\n"
      ],
      "metadata": {
        "colab": {
          "base_uri": "https://localhost:8080/"
        },
        "id": "xTrabgMNz7CB",
        "outputId": "5b39bda8-c493-4c9b-814e-3531ae3f9391"
      },
      "execution_count": 169,
      "outputs": [
        {
          "output_type": "execute_result",
          "data": {
            "text/plain": [
              "1"
            ]
          },
          "metadata": {},
          "execution_count": 169
        }
      ]
    },
    {
      "cell_type": "code",
      "source": [
        "# Leet Code: 48 Rotate Image\n",
        "def rotate(matrix: List[List[int]]) -> None:\n",
        "  n = len(matrix)\n",
        "\n",
        "  # Tranpose\n",
        "  for i in range(n):\n",
        "    for j in range(i+1, n):\n",
        "      matrix[i][j], matrix[j][i]= matrix[j][i], matrix[i][j]\n",
        "\n",
        "  # Reflection\n",
        "\n",
        "  for i in range(n):\n",
        "    for j in range(n // 2):\n",
        "      matrix[i][j], matrix[i][n-j-1] = matrix[i][n-j-1], matrix[i][j]\n",
        "\n",
        "  # Time: O(n^2)\n",
        "  # Space: O(1)\n"
      ],
      "metadata": {
        "id": "xS-LM2YHxRGI"
      },
      "execution_count": 170,
      "outputs": []
    },
    {
      "cell_type": "code",
      "source": [
        "my_lisste = [[1,2,3],[4,5,6],[7,8,9]]\n",
        "my_lisste"
      ],
      "metadata": {
        "colab": {
          "base_uri": "https://localhost:8080/"
        },
        "id": "AitED1Mb0sAp",
        "outputId": "9246fae5-a4d6-497e-b32a-65044fa8da68"
      },
      "execution_count": 171,
      "outputs": [
        {
          "output_type": "execute_result",
          "data": {
            "text/plain": [
              "[[1, 2, 3], [4, 5, 6], [7, 8, 9]]"
            ]
          },
          "metadata": {},
          "execution_count": 171
        }
      ]
    },
    {
      "cell_type": "code",
      "source": [
        "rotate(my_lisste)\n",
        "my_lisste"
      ],
      "metadata": {
        "colab": {
          "base_uri": "https://localhost:8080/"
        },
        "id": "8CLWeh880RHF",
        "outputId": "f95aedf1-099b-4b01-cade-6be85285f337"
      },
      "execution_count": 172,
      "outputs": [
        {
          "output_type": "execute_result",
          "data": {
            "text/plain": [
              "[[7, 4, 1], [8, 5, 2], [9, 6, 3]]"
            ]
          },
          "metadata": {},
          "execution_count": 172
        }
      ]
    },
    {
      "cell_type": "code",
      "source": [
        "# LeetCode-771: Jewels and Stone\n",
        "\n",
        "# Time: O(n*m)\n",
        "def numJewelsInStones(jewels: str, stones: str) -> int:\n",
        "  count = 0\n",
        "  for stone in stones:\n",
        "    if stone in jewels:\n",
        "      count +=1\n",
        "  return count"
      ],
      "metadata": {
        "id": "VpIvfNKzDp-M"
      },
      "execution_count": 173,
      "outputs": []
    },
    {
      "cell_type": "code",
      "source": [
        "# Time: O(m+n)\n",
        "# Space: O(n)\n",
        "\n",
        "def numJewelsInStones1(jewels: str, stones: str) -> int:\n",
        "  s = set(jewels)\n",
        "  count = 0\n",
        "  for stone in stones:\n",
        "    if stone in s:\n",
        "      count +=1\n",
        "  return count"
      ],
      "metadata": {
        "id": "jWIrnjMYERRE"
      },
      "execution_count": 174,
      "outputs": []
    },
    {
      "cell_type": "code",
      "source": [
        "jewels = 'aAB'\n",
        "stones = 'gnbiakmagkrkaAbbbbBBBBBB'\n",
        "numJewelsInStones1(jewels,stones )"
      ],
      "metadata": {
        "colab": {
          "base_uri": "https://localhost:8080/"
        },
        "id": "KV4Hxiz6EmAm",
        "outputId": "7f85ef27-ae60-4196-82aa-f92b61b1949c"
      },
      "execution_count": 175,
      "outputs": [
        {
          "output_type": "execute_result",
          "data": {
            "text/plain": [
              "10"
            ]
          },
          "metadata": {},
          "execution_count": 175
        }
      ]
    },
    {
      "cell_type": "code",
      "source": [
        "# Leetcode 383: Ransom Note\n",
        "\n",
        "def canConstruct(ransomNote: str, magazine: str) -> bool:\n",
        "  counter = {}\n",
        "  for c in magazine:\n",
        "    if c in counter:\n",
        "      counter[c] += 1\n",
        "    else:\n",
        "      counter[c] = 1\n",
        "\n",
        "  for c in ransomNote:\n",
        "    if c not in counter:\n",
        "      return False\n",
        "    elif counter[c] == 1:\n",
        "      del counter[c]\n",
        "    else:\n",
        "      counter[c] -=1\n",
        "  return True\n",
        "# Time O(m+n)\n",
        "# Space O(1)"
      ],
      "metadata": {
        "id": "6Fp29BBoa0t-"
      },
      "execution_count": 176,
      "outputs": []
    },
    {
      "cell_type": "code",
      "source": [
        "canConstruct(\"ge\", \"gefrgrhrge\")"
      ],
      "metadata": {
        "colab": {
          "base_uri": "https://localhost:8080/"
        },
        "id": "UjeFJnVjb3YD",
        "outputId": "31de94f8-d533-46d4-e3c5-befe2cbefbfc"
      },
      "execution_count": 177,
      "outputs": [
        {
          "output_type": "execute_result",
          "data": {
            "text/plain": [
              "True"
            ]
          },
          "metadata": {},
          "execution_count": 177
        }
      ]
    },
    {
      "cell_type": "code",
      "source": [
        "# LeetCode 217- Contains Duplicate\n",
        "def containsDuplicate(nums: List[int]) -> bool:\n",
        "  h = set()\n",
        "  for num in nums:\n",
        "    if num in h:\n",
        "      return True\n",
        "    else:\n",
        "      h.add(num)\n",
        "  return False"
      ],
      "metadata": {
        "id": "OjO3lSJXxx8-"
      },
      "execution_count": 178,
      "outputs": []
    },
    {
      "cell_type": "code",
      "source": [
        "containsDuplicate([5,4,3,2,2])"
      ],
      "metadata": {
        "colab": {
          "base_uri": "https://localhost:8080/"
        },
        "id": "a7WtFPyJz_tH",
        "outputId": "507334ce-bf6b-4f7c-a843-5c55e045bc97"
      },
      "execution_count": 179,
      "outputs": [
        {
          "output_type": "execute_result",
          "data": {
            "text/plain": [
              "True"
            ]
          },
          "metadata": {},
          "execution_count": 179
        }
      ]
    },
    {
      "cell_type": "code",
      "source": [
        "def containsDuplicate2(nums: List[int]) -> bool:\n",
        "  counter = {}\n",
        "  for num in nums:\n",
        "    if num in counter:\n",
        "      counter[num] +=1\n",
        "    else:\n",
        "      counter[num] = 1\n",
        "  for n in counter:\n",
        "\n",
        "    if counter[n] > 1:\n",
        "      return True\n"
      ],
      "metadata": {
        "id": "4jkreMnt0m5i"
      },
      "execution_count": 180,
      "outputs": []
    },
    {
      "cell_type": "code",
      "source": [
        "containsDuplicate2([3,4,3,3,2,1])"
      ],
      "metadata": {
        "colab": {
          "base_uri": "https://localhost:8080/"
        },
        "id": "CUeOYjTU05pN",
        "outputId": "2ab63ace-21d5-49cb-be74-4de41d817623"
      },
      "execution_count": 181,
      "outputs": [
        {
          "output_type": "execute_result",
          "data": {
            "text/plain": [
              "True"
            ]
          },
          "metadata": {},
          "execution_count": 181
        }
      ]
    },
    {
      "cell_type": "code",
      "source": [
        "# Leet Code 242: Valid Anagram:\n",
        "from collections import Counter\n",
        "def isAnagram(s: str, t:str) -> bool:\n",
        "  if len(s) != len(t):\n",
        "    return False\n",
        "\n",
        "  s_dict = Counter(s)\n",
        "  t_dict = Counter(t)\n",
        "\n",
        "  return s_dict == t_dict\n",
        "# Time: O(n), Space: O(n)"
      ],
      "metadata": {
        "id": "Pxc0VSHx88YL"
      },
      "execution_count": 182,
      "outputs": []
    },
    {
      "cell_type": "code",
      "source": [
        "# LeetCode 1: Two Sum\n",
        "from typing import List\n",
        "# [3,1,6,3]\n",
        "# hash = {3:2, 1:1, 6:2}\n",
        "# target = 6\n",
        "\n",
        "def twoSum(nums: List[int], target: int) -> List[int]:\n",
        "  h = {}\n",
        "  for i in range(len(nums)):\n",
        "    h[nums[i]] = i\n",
        "  for i in range(len(nums)):\n",
        "    y = target - nums[i]  # y=3\n",
        "\n",
        "    if y in h and h[y] !=i:\n",
        "      return [i, h[y]]\n",
        "# Time: O(n)\n",
        "#Space: O(n)"
      ],
      "metadata": {
        "id": "gkYHGptWGC2v"
      },
      "execution_count": 183,
      "outputs": []
    },
    {
      "cell_type": "code",
      "source": [
        "# LeetCode 49 - Group Anagrams:\n",
        "from collections import defaultdict\n",
        "from typing import List\n",
        "def groupAnagrams(strs: List[str]) -> List[List[str]]:\n",
        "  anag_dict = defaultdict(list)\n",
        "  for s in strs:\n",
        "    count = [0] * 26\n",
        "    for c in s:\n",
        "      count[ord(c) - ord('a')] +=1\n",
        "\n",
        "    key = tuple(count)\n",
        "    #print(key)\n",
        "    anag_dict[key].append(s)\n",
        "    print(anag_dict)\n",
        "  return anag_dict.values()\n",
        " # Time: O(n*m)  Space:(n* m)\n",
        "\n"
      ],
      "metadata": {
        "id": "FtwrssYgI7y6"
      },
      "execution_count": 184,
      "outputs": []
    },
    {
      "cell_type": "code",
      "source": [
        "sting = ['abb', \"ef\", 'fe', 'bab']\n",
        "groupAnagrams(sting)"
      ],
      "metadata": {
        "colab": {
          "base_uri": "https://localhost:8080/"
        },
        "id": "mK4tsxriywpC",
        "outputId": "48357a9d-cf39-4746-9816-b46a0fd8bcdc"
      },
      "execution_count": 185,
      "outputs": [
        {
          "output_type": "stream",
          "name": "stdout",
          "text": [
            "defaultdict(<class 'list'>, {(1, 2, 0, 0, 0, 0, 0, 0, 0, 0, 0, 0, 0, 0, 0, 0, 0, 0, 0, 0, 0, 0, 0, 0, 0, 0): ['abb']})\n",
            "defaultdict(<class 'list'>, {(1, 2, 0, 0, 0, 0, 0, 0, 0, 0, 0, 0, 0, 0, 0, 0, 0, 0, 0, 0, 0, 0, 0, 0, 0, 0): ['abb'], (0, 0, 0, 0, 1, 1, 0, 0, 0, 0, 0, 0, 0, 0, 0, 0, 0, 0, 0, 0, 0, 0, 0, 0, 0, 0): ['ef']})\n",
            "defaultdict(<class 'list'>, {(1, 2, 0, 0, 0, 0, 0, 0, 0, 0, 0, 0, 0, 0, 0, 0, 0, 0, 0, 0, 0, 0, 0, 0, 0, 0): ['abb'], (0, 0, 0, 0, 1, 1, 0, 0, 0, 0, 0, 0, 0, 0, 0, 0, 0, 0, 0, 0, 0, 0, 0, 0, 0, 0): ['ef', 'fe']})\n",
            "defaultdict(<class 'list'>, {(1, 2, 0, 0, 0, 0, 0, 0, 0, 0, 0, 0, 0, 0, 0, 0, 0, 0, 0, 0, 0, 0, 0, 0, 0, 0): ['abb', 'bab'], (0, 0, 0, 0, 1, 1, 0, 0, 0, 0, 0, 0, 0, 0, 0, 0, 0, 0, 0, 0, 0, 0, 0, 0, 0, 0): ['ef', 'fe']})\n"
          ]
        },
        {
          "output_type": "execute_result",
          "data": {
            "text/plain": [
              "dict_values([['abb', 'bab'], ['ef', 'fe']])"
            ]
          },
          "metadata": {},
          "execution_count": 185
        }
      ]
    },
    {
      "cell_type": "code",
      "source": [
        "ord('a'), ord('b'), ord('c')"
      ],
      "metadata": {
        "colab": {
          "base_uri": "https://localhost:8080/"
        },
        "id": "sX4HLSa6zGhc",
        "outputId": "b14f50c6-65c0-4cd2-d554-b6f93d6cb288"
      },
      "execution_count": 186,
      "outputs": [
        {
          "output_type": "execute_result",
          "data": {
            "text/plain": [
              "(97, 98, 99)"
            ]
          },
          "metadata": {},
          "execution_count": 186
        }
      ]
    },
    {
      "cell_type": "code",
      "source": [
        "# Leet Code 36 - Valid Sudoku\n",
        "def isValidSudoku(board: List[List[str]]) -> bool:\n",
        "  # Validate Rows\n",
        "  for i in range(9):\n",
        "    s = set()\n",
        "    for j in range(9):\n",
        "      item = board[i][j]\n",
        "      if item in s:\n",
        "        return False\n",
        "      elif item != '.':\n",
        "        s.add(item)\n",
        "\n",
        "  # Validate Cols:\n",
        "  for i in range(9):\n",
        "    s = set()\n",
        "    for j in range(9):\n",
        "      item = board[j][i]\n",
        "      if item in s:\n",
        "        return False\n",
        "      elif item != '.':\n",
        "        s.add(item)\n",
        "  # Validate Boxes:\n",
        "  start = [(0,0),(0,3),(0,6),\n",
        "           (3,0),(3,3),(3,6),\n",
        "           (6,0),(6,3),(6,6)]\n",
        "\n",
        "  for i,j in start: # 0,0\n",
        "    s = set()\n",
        "    for row in range(i, i+3):  # 0, 1,2,\n",
        "      for col in range(j, j+3): # 0,1,2\n",
        "        item = board[row][col]\n",
        "        if item in s:\n",
        "          return False\n",
        "        elif item != '.':\n",
        "          s.add(item)\n",
        "  return True\n"
      ],
      "metadata": {
        "id": "3HRN_ic3ANlJ"
      },
      "execution_count": 187,
      "outputs": []
    },
    {
      "cell_type": "code",
      "source": [
        "# LeetCode 1189: Max Number of Balloon\n",
        "from collections import defaultdict\n",
        "def maxNumberOfBalloons(text: str) -> int:\n",
        "  counter= defaultdict(int)\n",
        "  balloon = 'balloon'\n",
        "\n",
        "  for c in text:\n",
        "    if c in balloon:\n",
        "      counter[c] +=1\n",
        "  print(counter)\n",
        "  print(counter['b'],counter['a'],counter['l']//2,counter['o']//2)\n",
        "  if any(c not in counter for c in balloon):\n",
        "    return 0\n",
        "  else:\n",
        "    return min(counter['b'],counter['a'],counter['l']//2,counter['o']//2)\n",
        "\n"
      ],
      "metadata": {
        "id": "C0_mrehaZToz"
      },
      "execution_count": 188,
      "outputs": []
    },
    {
      "cell_type": "code",
      "source": [
        "strr = 'balllloons'\n",
        "maxNumberOfBalloons(strr)"
      ],
      "metadata": {
        "colab": {
          "base_uri": "https://localhost:8080/"
        },
        "id": "SxZSHzW4aYmZ",
        "outputId": "f2664e48-0d02-42d8-b9c2-bde4ee66db2e"
      },
      "execution_count": 189,
      "outputs": [
        {
          "output_type": "stream",
          "name": "stdout",
          "text": [
            "defaultdict(<class 'int'>, {'b': 1, 'a': 1, 'l': 4, 'o': 2, 'n': 1})\n",
            "1 1 2 1\n"
          ]
        },
        {
          "output_type": "execute_result",
          "data": {
            "text/plain": [
              "1"
            ]
          },
          "metadata": {},
          "execution_count": 189
        }
      ]
    },
    {
      "cell_type": "code",
      "source": [
        "# LeetCode 128 - Longest Consecutive Sequence\n",
        "def longestConsecutive(nums: List[int]) -> int:\n",
        "  s = set(nums)\n",
        "  longest = 0\n",
        "  for num in nums:\n",
        "    if num - 1 not in s:\n",
        "      next_num = num +1\n",
        "      lenght = 1\n",
        "      while next_num in s:\n",
        "        next_num +=1\n",
        "        lenght +=1\n",
        "      longest = max(longest, lenght)\n",
        "  return longest"
      ],
      "metadata": {
        "id": "ry1ZQnXQDgqO"
      },
      "execution_count": 190,
      "outputs": []
    },
    {
      "cell_type": "code",
      "source": [
        "my_num = [1,4,2,3,6,4,5,100]\n",
        "longestConsecutive(my_num)"
      ],
      "metadata": {
        "id": "LxTbfNz-aT-N",
        "colab": {
          "base_uri": "https://localhost:8080/"
        },
        "outputId": "a59d6439-cad9-4a55-88e0-6d39d5150f7b"
      },
      "execution_count": 191,
      "outputs": [
        {
          "output_type": "execute_result",
          "data": {
            "text/plain": [
              "6"
            ]
          },
          "metadata": {},
          "execution_count": 191
        }
      ]
    },
    {
      "cell_type": "code",
      "source": [
        "# LeetCode 169: Majority Element\n",
        "def majorityElement(nums: List[int]) -> int:\n",
        "  counter ={}\n",
        "  for num in nums:\n",
        "    if num in counter:\n",
        "      counter[num] +=1\n",
        "    else:\n",
        "      counter[num] = 1\n",
        "  max_count = -1\n",
        "  ans = -1\n",
        "\n",
        "  for key, val in counter.values():\n",
        "    if val > max_count:\n",
        "      max_count = val\n",
        "      ans = key\n",
        "  return ans\n",
        "  # Time: O(n)\n",
        "  # Space: O(n)\n",
        "\n"
      ],
      "metadata": {
        "id": "LWhxuvzXMmMa"
      },
      "execution_count": 192,
      "outputs": []
    },
    {
      "cell_type": "code",
      "source": [
        "def majorityElement2(nums: List[int]) -> int:\n",
        "  nums.sort()\n",
        "  return nums[len(nums)//2]"
      ],
      "metadata": {
        "id": "F1dY2D2GNURE"
      },
      "execution_count": 193,
      "outputs": []
    },
    {
      "cell_type": "code",
      "source": [
        "my_numbers = [3,3,4,5,2,1,3,2,1]\n",
        "majorityElement2(my_numbers)"
      ],
      "metadata": {
        "colab": {
          "base_uri": "https://localhost:8080/"
        },
        "id": "ZQmSHnFTNfwM",
        "outputId": "7375494c-d2e2-42e8-c42e-44207081279e"
      },
      "execution_count": 194,
      "outputs": [
        {
          "output_type": "execute_result",
          "data": {
            "text/plain": [
              "3"
            ]
          },
          "metadata": {},
          "execution_count": 194
        }
      ]
    },
    {
      "cell_type": "code",
      "source": [
        "def majorityElement3(nums: List[int]) -> int: #[3,3,2,1,3,2,1]\n",
        "  ans = -1\n",
        "  count = 0\n",
        "  for num in nums:  #3 ans=3 count=1\n",
        "    if count == 0:  #3 ans=3 count=2\n",
        "      ans = num     #2 ans=3 count =1\n",
        "    if ans == num: # 1 ans=3 count =0\n",
        "      count +=1   #3 ans=3 count=1\n",
        "    else:         #2 ans =3 count=0\n",
        "      count -=1    #1 ans=1 count=1\n",
        "    print(ans, count)\n",
        "  return  ans\n",
        "  # Time: O(n)\n",
        "  # Space: O(1)"
      ],
      "metadata": {
        "id": "JyfjP056N3Jv"
      },
      "execution_count": 195,
      "outputs": []
    },
    {
      "cell_type": "code",
      "source": [
        "my_numbers2 = [3,2,1,1,2,3,3,2,3,3, 2,3,2]"
      ],
      "metadata": {
        "id": "GS3Wd3cVQWEZ"
      },
      "execution_count": 196,
      "outputs": []
    },
    {
      "cell_type": "code",
      "source": [
        "majorityElement3(my_numbers2)"
      ],
      "metadata": {
        "colab": {
          "base_uri": "https://localhost:8080/"
        },
        "id": "DG4RkZXLPOZe",
        "outputId": "b9e2ae2c-2b9f-4dce-c20d-67dca55b57b5"
      },
      "execution_count": 197,
      "outputs": [
        {
          "output_type": "stream",
          "name": "stdout",
          "text": [
            "3 1\n",
            "3 0\n",
            "1 1\n",
            "1 2\n",
            "1 1\n",
            "1 0\n",
            "3 1\n",
            "3 0\n",
            "3 1\n",
            "3 2\n",
            "3 1\n",
            "3 2\n",
            "3 1\n"
          ]
        },
        {
          "output_type": "execute_result",
          "data": {
            "text/plain": [
              "3"
            ]
          },
          "metadata": {},
          "execution_count": 197
        }
      ]
    },
    {
      "cell_type": "code",
      "source": [
        "# LeetCode 977 - Squares of a Sorted Array (2 Pointers)\n",
        "\n",
        "def sortedSquares(nums: List[int]) -> List[int]:\n",
        "  left =0\n",
        "  right = len(nums) - 1\n",
        "  result = []\n",
        "  while left <= right:\n",
        "    if abs(nums[left]) > abs(nums[right]):\n",
        "      result.append(nums[left] **2)\n",
        "      left +=1\n",
        "    else:\n",
        "      result.append(nums[right] **2)\n",
        "      right -=1\n",
        "  return result[::-1]\n",
        "\n",
        "  # Time: 0(n)\n",
        "  # Space:0(1)"
      ],
      "metadata": {
        "id": "ARjT03VHaMe1"
      },
      "execution_count": 198,
      "outputs": []
    },
    {
      "cell_type": "code",
      "source": [
        "numbers_list = [2,7,8,12,20]\n",
        "sortedSquares(numbers_list)"
      ],
      "metadata": {
        "colab": {
          "base_uri": "https://localhost:8080/"
        },
        "id": "sd9RPz_Mal5T",
        "outputId": "a3965d9e-df77-4a6d-e5e7-b6f2130f0b85"
      },
      "execution_count": 199,
      "outputs": [
        {
          "output_type": "execute_result",
          "data": {
            "text/plain": [
              "[4, 49, 64, 144, 400]"
            ]
          },
          "metadata": {},
          "execution_count": 199
        }
      ]
    },
    {
      "cell_type": "code",
      "source": [
        "# LeetCode 344 - Reverse String with Space O(1) 2 Pointers\n",
        "def reverseString(s: List[str]) ->None:\n",
        "  n = len(s)\n",
        "  l = 0\n",
        "  r = n-1\n",
        "\n",
        "  while l<r:\n",
        "    s[l], s[r]  = s[r], s[l]\n",
        "    l +=1\n",
        "    r -+1\n",
        "# Time: O(n)"
      ],
      "metadata": {
        "id": "Geuh3E0YgzDY"
      },
      "execution_count": 200,
      "outputs": []
    },
    {
      "cell_type": "code",
      "source": [
        "# LeetCode 167- Two Summ II - Input Array is Sorted and 1-indexed array\n",
        "def twoSummII(numbers: List[int], target: int) -> List[int]:\n",
        "  n = len(numbers)\n",
        "  l = 0\n",
        "  r = n-1\n",
        "  while l<r:\n",
        "    summ = numbers[l] + numbers[r]\n",
        "    if summ == target:\n",
        "      return [l+1, r+1]\n",
        "    elif summ < target:\n",
        "      l +=1\n",
        "    else:\n",
        "      r-=1\n",
        "# Time:O(n), Space: O(1)"
      ],
      "metadata": {
        "id": "x2GrScOPjWw_"
      },
      "execution_count": 201,
      "outputs": []
    },
    {
      "cell_type": "code",
      "source": [
        "# LeetCode 125 - Valid Palindrome\n",
        "# Alphanumeric characters include letters and numbers\n",
        "def isPalindrome(s: str) -> bool:\n",
        "  n = len(s)\n",
        "  L = 0\n",
        "  R = n-1\n",
        "  while L<R:\n",
        "    if not s[L].isalnum():\n",
        "      L+=1\n",
        "      continue\n",
        "    if not s[R].isalnum():\n",
        "      R-=1\n",
        "      continue\n",
        "    if s[L].lower() != s[R].lower():\n",
        "      return False\n",
        "    L+=1\n",
        "    R-=1\n",
        "    return True\n",
        "    # Time: O(n), Space:0(1)"
      ],
      "metadata": {
        "id": "sjCytjbBvAtw"
      },
      "execution_count": 202,
      "outputs": []
    },
    {
      "cell_type": "code",
      "source": [
        "# Leetcode-15: 3 Sum\n",
        "from typing import List\n",
        "def threeSum(nums: List[int]) -> List[List[int]]:\n",
        "  nums.sort()\n",
        "  n = len(nums)\n",
        "  answer = []\n",
        "  for i in range(n):\n",
        "    if nums[i] > 0:\n",
        "      break\n",
        "    elif i>0 and nums[i] == nums[i-1]:\n",
        "      continue\n",
        "    lo, hi = i+1, n-1\n",
        "    while lo<hi:\n",
        "      summ = nums[i] + nums[lo] + nums[hi]\n",
        "      if summ == 0:\n",
        "        answer.append([nums[i], nums[lo], nums[hi]])\n",
        "        lo, hi = lo+1, hi-1\n",
        "        while lo<hi and nums[lo] == nums[lo-1]:\n",
        "          lo+=1\n",
        "        while lo <hi and nums[hi] == nums[hi+1]:\n",
        "          hi -=1\n",
        "      elif summ<0:\n",
        "        lo+=1\n",
        "      else:\n",
        "        hi-=1\n",
        "  return answer\n",
        "\n",
        "\n",
        "  # Time: O(n^2), Space:O(n)"
      ],
      "metadata": {
        "id": "W3jvlwBvHpwG"
      },
      "execution_count": 203,
      "outputs": []
    },
    {
      "cell_type": "code",
      "source": [
        "mu_nombres= [0,-1,-2,-3,1,2,3]\n",
        "threeSum(mu_nombres)"
      ],
      "metadata": {
        "colab": {
          "base_uri": "https://localhost:8080/"
        },
        "id": "JBCYrBQDeA7I",
        "outputId": "fe65878c-da17-44a2-a793-cb4e1972fb7e"
      },
      "execution_count": 204,
      "outputs": [
        {
          "output_type": "execute_result",
          "data": {
            "text/plain": [
              "[[-3, 0, 3], [-3, 1, 2], [-2, -1, 3], [-2, 0, 2], [-1, 0, 1]]"
            ]
          },
          "metadata": {},
          "execution_count": 204
        }
      ]
    },
    {
      "cell_type": "code",
      "source": [
        "# LeetCode 11 - Container with Most Water - 2 Pointers\n",
        "def maxArea(height: List[int]) -> int:\n",
        "  n = len(height)\n",
        "  l = 0\n",
        "  r = n-1\n",
        "  max_area = 0\n",
        "  while l<r:\n",
        "    w = r-l\n",
        "    h = min(height[l], height[r])\n",
        "    a = w * h\n",
        "    max_area = max(max_area, a)\n",
        "    if height[l] < height[r]:\n",
        "      l +=1\n",
        "    else:\n",
        "      r-=1\n",
        "  return max_area\n"
      ],
      "metadata": {
        "id": "3EsViI2xkDh9"
      },
      "execution_count": 205,
      "outputs": []
    },
    {
      "cell_type": "code",
      "source": [
        "# LeetCode-42: Trapping Rain Water\n",
        "rain = [0,1,0,2,1,0,1,3,2,1,2,1]\n",
        "def trap(height: List[int]) -> int:\n",
        "  l_wall, l_right = 0,0\n",
        "  n = len(height)\n",
        "  max_left = [0] * n\n",
        "  max_right = [0] * n\n",
        "\n",
        "  for i in range(n):\n",
        "    j = -i-1\n",
        "    max_left[i] = l_wall\n",
        "    max_right[j] = l_right\n",
        "    l_wall = max(l_wall, height[i])\n",
        "    l_right = max(l_right, height[j])\n",
        "  print(max_left)\n",
        "  print(max_right)\n",
        "\n",
        "  summ = 0\n",
        "  for i in range(n):\n",
        "    pot = min(max_left[i], max_right[i])\n",
        "    summ += max(0, pot - height[i])\n",
        "    print(f\"pot: {pot}\")\n",
        "    print(f\"sum: {summ}\")\n",
        "  return summ"
      ],
      "metadata": {
        "id": "NTLgo3U-p3z0"
      },
      "execution_count": 206,
      "outputs": []
    },
    {
      "cell_type": "code",
      "source": [
        "trap(rain)"
      ],
      "metadata": {
        "colab": {
          "base_uri": "https://localhost:8080/"
        },
        "id": "TmIn05lirfNO",
        "outputId": "8d2e3ca6-5429-4700-d02d-cc1a7d24acba"
      },
      "execution_count": 207,
      "outputs": [
        {
          "output_type": "stream",
          "name": "stdout",
          "text": [
            "[0, 0, 1, 1, 2, 2, 2, 2, 3, 3, 3, 3]\n",
            "[3, 3, 3, 3, 3, 3, 3, 2, 2, 2, 1, 0]\n",
            "pot: 0\n",
            "sum: 0\n",
            "pot: 0\n",
            "sum: 0\n",
            "pot: 1\n",
            "sum: 1\n",
            "pot: 1\n",
            "sum: 1\n",
            "pot: 2\n",
            "sum: 2\n",
            "pot: 2\n",
            "sum: 4\n",
            "pot: 2\n",
            "sum: 5\n",
            "pot: 2\n",
            "sum: 5\n",
            "pot: 2\n",
            "sum: 5\n",
            "pot: 2\n",
            "sum: 6\n",
            "pot: 1\n",
            "sum: 6\n",
            "pot: 0\n",
            "sum: 6\n"
          ]
        },
        {
          "output_type": "execute_result",
          "data": {
            "text/plain": [
              "6"
            ]
          },
          "metadata": {},
          "execution_count": 207
        }
      ]
    },
    {
      "cell_type": "code",
      "source": [
        "# Leetcode: 682 - Baseball Game\n",
        "\n",
        "def calPoints(operations: List[str] ) -> int:\n",
        "  stk = []\n",
        "  for op in operations:\n",
        "    if op == '+':\n",
        "      if len(stk) >= 2:\n",
        "        stk.append(stk[-1]+stk[-2])\n",
        "      else:\n",
        "        continue\n",
        "    elif op == 'D':\n",
        "      stk.append(stk[-1]*2)\n",
        "    elif op == 'C':\n",
        "      stk.pop()\n",
        "    else:\n",
        "      stk.append(int(op))\n",
        "  return sum(stk)\n",
        "  # Time: 0(n)\n",
        "  # Space: 0(n)\n",
        "\n"
      ],
      "metadata": {
        "id": "8-sPlf3VRXvp"
      },
      "execution_count": 208,
      "outputs": []
    },
    {
      "cell_type": "code",
      "source": [
        "stalk = ['5','+']\n",
        "calPoints(stalk)"
      ],
      "metadata": {
        "colab": {
          "base_uri": "https://localhost:8080/"
        },
        "id": "Mz_qzCCaS5q8",
        "outputId": "fd1a0be8-da68-43eb-abb2-a2db5e9c324d"
      },
      "execution_count": 209,
      "outputs": [
        {
          "output_type": "execute_result",
          "data": {
            "text/plain": [
              "5"
            ]
          },
          "metadata": {},
          "execution_count": 209
        }
      ]
    },
    {
      "cell_type": "code",
      "source": [
        "# Leetcode: Valid Parentheses - Stakcs\n",
        "\n",
        "def isValid(s:str) -> bool:\n",
        "  hashmap = {')':'(', '}':'{', ']':'['}\n",
        "  stk = []\n",
        "  for c in s:\n",
        "    if c in hashmap.values():\n",
        "      stack.append(c)\n",
        "    elif char in hashmap.keys():\n",
        "      if not stack or hashmap[c] != stack.pop():\n",
        "        return False\n",
        "    return not stk\n",
        "\n",
        "  # Time: 0(n), Space: O(n)\n"
      ],
      "metadata": {
        "id": "_5cMy-WHT3c0"
      },
      "execution_count": 210,
      "outputs": []
    },
    {
      "cell_type": "code",
      "source": [
        "mu_hashmap ='([])'\n",
        "isValid(mu_hashmap)\n"
      ],
      "metadata": {
        "colab": {
          "base_uri": "https://localhost:8080/"
        },
        "id": "04Ta8Wl7Up-f",
        "outputId": "bd86ef9b-9443-48ea-eee5-e7c1f04663be"
      },
      "execution_count": 211,
      "outputs": [
        {
          "output_type": "execute_result",
          "data": {
            "text/plain": [
              "True"
            ]
          },
          "metadata": {},
          "execution_count": 211
        }
      ]
    },
    {
      "cell_type": "code",
      "source": [
        "# Leetcode 739 - Daily Temperatures - Stacks\n",
        "def dailyTemperatures(temperatures: List[int]) -> List[int]:\n",
        "  stk = []\n",
        "  n = len(temperatures)\n",
        "  ans = [0] * n\n",
        "  stk = []\n",
        "  # 12,34,34\n",
        "  # stk = (12,0) -\n",
        "  # ans = 0\n",
        "  for i,t in enumerate(temperatures): #1,34\n",
        "    while stk and stk[-1][0] < t:\n",
        "      stk_t, stk_i = stk.pop()\n",
        "      ans[stk_i] = i-stk_i\n",
        "\n",
        "    stk.append(t,i)\n",
        "  return ans"
      ],
      "metadata": {
        "id": "Zc3CwopU1yuY"
      },
      "execution_count": 212,
      "outputs": []
    },
    {
      "cell_type": "code",
      "source": [
        "temps = [67,5,23,23,7,5]\n",
        "for i,v in enumerate(temps):\n",
        "  print(i,v)\n",
        "  print(\"----------\")\n"
      ],
      "metadata": {
        "colab": {
          "base_uri": "https://localhost:8080/"
        },
        "id": "spz5t6ah-wA5",
        "outputId": "0686a1d1-45e1-485b-b478-990792430711"
      },
      "execution_count": 213,
      "outputs": [
        {
          "output_type": "stream",
          "name": "stdout",
          "text": [
            "0 67\n",
            "----------\n",
            "1 5\n",
            "----------\n",
            "2 23\n",
            "----------\n",
            "3 23\n",
            "----------\n",
            "4 7\n",
            "----------\n",
            "5 5\n",
            "----------\n"
          ]
        }
      ]
    },
    {
      "cell_type": "code",
      "source": [
        "# Leetcode 150 - Evaluate Reverse Polish Notation- Stack\n",
        "from math import floor, ceil\n",
        "def evalRPN(tokens: List[str]) -> int:\n",
        "  stk = []\n",
        "  for t in tokens:\n",
        "    if t in '+-*/':\n",
        "      b,a = stk.pop(), stk.pop()\n",
        "      if t =='+':\n",
        "        stk.append(a+b)\n",
        "      elif t =='-':\n",
        "        stk.append(a-b)\n",
        "      elif t =='*':\n",
        "        stk.append(a*b)\n",
        "      else:\n",
        "        division = b/a\n",
        "        if division < 0:\n",
        "          stk.append(math.ceil(division))\n",
        "        else:\n",
        "          stk.append(math.floor(division))\n",
        "    else:\n",
        "      stk.append(int(t))\n",
        "  return stk[0]\n"
      ],
      "metadata": {
        "id": "azRj1u0MGthR"
      },
      "execution_count": 214,
      "outputs": []
    },
    {
      "cell_type": "code",
      "source": [
        "# Leetcode 155 - Min Stack\n",
        "#Time: O(1), Space: O(n)\n",
        "class MinStack:\n",
        "  def __init__(self):\n",
        "    self.stk=[]\n",
        "    self.min_stk = []\n",
        "\n",
        "  def push(self, val:int) -> None:\n",
        "    self.stk.append(val)\n",
        "    if not self.min_stk:\n",
        "      self.min.stk.append(val)\n",
        "    elif self.min_stk[-1] < val:\n",
        "      self.min_stk.append(self.min_stk[-1])\n",
        "    else:\n",
        "      self.min_stk.append(val)\n",
        "  def pop(self)  -> None:\n",
        "    self.stk.pop()\n",
        "    self.min_stk.pop()\n",
        "  def top(self) -> int:\n",
        "    return self.stk[-1]\n",
        "  def getMin(self) -> int:\n",
        "    return self.min_stk[-1]"
      ],
      "metadata": {
        "id": "EV7xxdj-Iijr"
      },
      "execution_count": 215,
      "outputs": []
    },
    {
      "cell_type": "code",
      "source": [
        "# Leetcode 704- Binary Search Time: 0(log(n))\n",
        "def search(nums: List[int], target: int) -> int:\n",
        "  left = 0\n",
        "  right = len(nums) -1\n",
        "  while left <=right:\n",
        "    mid = (left + right) //2\n",
        "    if nums[mid] == target:\n",
        "      return mid\n",
        "    elif nums[mid] > target:\n",
        "      right = mid - 1\n",
        "    else:\n",
        "      left = mid +1\n",
        "  return -1"
      ],
      "metadata": {
        "id": "vo9ZMzi0cnD_"
      },
      "execution_count": 216,
      "outputs": []
    },
    {
      "cell_type": "code",
      "source": [
        "# Leetcode 35: Search Insert Position - Binary\n",
        "# Time: O(log n), Space: O(1)\n",
        "\n",
        "def searchInsert(nums: List[int], target: int) -> int:\n",
        "  n = len(nums)\n",
        "  l = 0\n",
        "  r = n-1\n",
        "  while l<=r:\n",
        "    m = (l+r)//2\n",
        "    if nums[m] == target:\n",
        "      return m\n",
        "    elif nums[m] < target:\n",
        "      l = m+1\n",
        "    else:\n",
        "      r = m-1\n",
        "\n",
        "  if nums[m] < target:\n",
        "    return m+1\n",
        "  else:\n",
        "    return m"
      ],
      "metadata": {
        "id": "HzhJca-9vkEw"
      },
      "execution_count": 217,
      "outputs": []
    },
    {
      "cell_type": "code",
      "source": [
        "# Leetcode 74: Search a 2D Matrix\n",
        "# Time: O(log(m*n))\n",
        "# Space: O(1)\n",
        "def searchMatrix(matrix: List[List[int]], target: int) -> bool:\n",
        "  m = len(matrix)\n",
        "  n = len(matrix[0])\n",
        "  t = m*n\n",
        "  l = 0\n",
        "  r = t -1\n",
        "  while l <=r:\n",
        "    m = (l+r) // 2\n",
        "    i = m //n\n",
        "    j = m % n\n",
        "    mid_num = matrix[i][j]\n",
        "    if target == mid_num:\n",
        "      return True\n",
        "    elif target<mid_num:\n",
        "      r=m-1\n",
        "    else:\n",
        "      l=m+1\n",
        "  return False"
      ],
      "metadata": {
        "id": "f98ddM6Qx4IZ"
      },
      "execution_count": 218,
      "outputs": []
    },
    {
      "cell_type": "code",
      "source": [
        "# Leetcode 153- Find Minimum in Rotated Sorted Array\n",
        "# Time: O(log(n)), Space: O(1)\n",
        "# 4,5,6,7,8,0,1,2\n",
        "def findMin(nums: List[int]) -> int:\n",
        "  n = len(nums)\n",
        "  l = 0\n",
        "  r = n-1\n",
        "  while l<r:\n",
        "    m = (l+r) //2\n",
        "    if nums[m] > nums[r]:\n",
        "      l = m+1\n",
        "    else:\n",
        "      r = m\n",
        "  return nums[l]"
      ],
      "metadata": {
        "id": "ilrObLVODED0"
      },
      "execution_count": 219,
      "outputs": []
    },
    {
      "cell_type": "code",
      "source": [
        "# Leetcode 33 - Search in Rotated Sorted Array\n",
        "def search(nums: List[int], target: int) -> int:\n",
        "  n = len(nums)\n",
        "  l = 0\n",
        "  r = n-1\n",
        "# 4,5,6,0,1,2,3\n",
        "  while l<r:\n",
        "    m = (l+r) // 2\n",
        "    if nums[m] > nums[r]:\n",
        "      l = m+1\n",
        "    else:\n",
        "      r= m\n",
        "  min_i = l\n",
        "  if min_i == 0:\n",
        "    l,r = 0, n-1\n",
        "  elif target >= nums[0] and target <= nums[min_i-1]:\n",
        "    l,r = 0, min_i-1\n",
        "  else:\n",
        "    l,r = min_i, n-1\n",
        "  while l<=r:\n",
        "    m=(l+r)//2\n",
        "\n",
        "    if nums[m] ==target:\n",
        "      return m\n",
        "    elif nums[m] < target:\n",
        "      l = m+1\n",
        "    else:\n",
        "      r = m-1\n",
        "  return -1\n",
        "\n",
        "  # Time: 0(log n)\n",
        "  # Space: O(1)\n"
      ],
      "metadata": {
        "id": "dATGN_CHKjMV"
      },
      "execution_count": 220,
      "outputs": []
    },
    {
      "cell_type": "code",
      "source": [
        "# Leetcode 278-First Bad Version\n",
        "def isBadVersion(version: int) -> bool:\n",
        "  pass\n",
        "\n",
        "# G,G,G,G,G,B,B,B\n",
        "# N =8\n",
        "def firstBadVersion(n: int) -> int:\n",
        "  L= 1\n",
        "  R= n\n",
        "  while L<R:\n",
        "    M = (L+R) // 2\n",
        "    if isBadVersion(M):\n",
        "      R=M\n",
        "    else:\n",
        "      L = M+1\n",
        "  return L\n",
        "# Time: 0(Log n), Space: 0(1)"
      ],
      "metadata": {
        "id": "KW2RxPA8dwng"
      },
      "execution_count": 221,
      "outputs": []
    },
    {
      "cell_type": "code",
      "source": [
        "# Leetcode-367: Valid Perfect Square\n",
        "def isPerfectSquare(num: int) -> bool:\n",
        "  for x in range(1, num+1):\n",
        "    if x **2 == num:\n",
        "      return True\n",
        "  return False\n"
      ],
      "metadata": {
        "id": "QwFB_qFHf7Zg"
      },
      "execution_count": 222,
      "outputs": []
    },
    {
      "cell_type": "code",
      "source": [
        "def isPerfectSquare2(num: int) -> bool:\n",
        "  #Time: 0(log n), Space: O(1) with binary search\n",
        "  r = num #5\n",
        "  # 1,2,3,4,5\n",
        "  while l<= r:\n",
        "    m = (l+r) //2\n",
        "    m_squared = m*m\n",
        "\n",
        "    if num==m_squared:\n",
        "      return True\n",
        "    elif m_squared < num:\n",
        "      l = m+1\n",
        "    else:\n",
        "      r = m-1\n",
        "  return False"
      ],
      "metadata": {
        "id": "nLNLPHLO46Va"
      },
      "execution_count": 223,
      "outputs": []
    },
    {
      "cell_type": "code",
      "source": [
        "# Leetcode-875 Koko Eating Bananas- Binary Search\n",
        "\n",
        "# piles=[3,6,7,11] k=3  1, 2, 4, 4 =11\n",
        "def minEatingSpeed(piles: List[int], h:int) -> int:\n",
        "  def k_works(k):\n",
        "    hours = 0\n",
        "    for p in piles:\n",
        "      hours += ceil(p/k)\n",
        "    return hours <=h\n",
        "  l = 1\n",
        "  r = max(piles) # 11\n",
        "  while l<r:\n",
        "    k = (l+r) // 2   # 6\n",
        "    if k_works(k):\n",
        "      r = k\n",
        "    else:\n",
        "      l = k+1\n",
        "  return r\n",
        "  # Time: O(n * log(max(piles)))\n",
        "  # Space: O(1)"
      ],
      "metadata": {
        "id": "WvxB-UF-_4dZ"
      },
      "execution_count": 224,
      "outputs": []
    },
    {
      "cell_type": "code",
      "source": [
        "# Leetcode 83: Remove Duplicates from Sorted List\n",
        "from typing import Optional\n",
        "class ListNode:\n",
        "  def __init__(self, val=0, next=None):\n",
        "    self.val = val\n",
        "    self.next = next\n",
        "\n",
        "def deleteDuplicates(head: Optional[ListNode]) -> Optional[ListNode]:\n",
        "  curr = head\n",
        "  while curr and curr.next:\n",
        "    if curr.val == curr.next.val:\n",
        "      curr.next = curr.next.next\n",
        "    else:\n",
        "      curr = curr.next\n",
        "  return head\n",
        "\n",
        "  # Time:O(n), Space: O(1)"
      ],
      "metadata": {
        "id": "OZQw84GRDEEW"
      },
      "execution_count": 225,
      "outputs": []
    },
    {
      "cell_type": "code",
      "source": [
        "# Leetcode:206 - Linkled List\n",
        "def reverseList(head: Optional[ListNode]) -> Optional[ListNode]:\n",
        "  cur = head\n",
        "  prev= None\n",
        "  while cur:\n",
        "    temp = cur.next\n",
        "    cur.next = prev\n",
        "    prev= cur\n",
        "    cur= temp\n",
        "  return prev #Time:O(n), Space:O(1)\n"
      ],
      "metadata": {
        "id": "a7bTZJxXU2ep"
      },
      "execution_count": 226,
      "outputs": []
    },
    {
      "cell_type": "code",
      "source": [
        "# Leetcode:21 - Merge 2 Sorted List - Linked Lists\n",
        "def mergeTwoLists(list1: Optional[ListNode], list2: Optional[ListNode]) -> Optional[ListNode]:\n",
        "  d = ListNode()\n",
        "  cur= d\n",
        "  while list1 and list2:\n",
        "    if list1.val < list2.val:\n",
        "      cur.next = list1\n",
        "      cur = list1\n",
        "      list1 = list1.next\n",
        "    else:\n",
        "      cur.next = list2\n",
        "      cur = list2\n",
        "      list2 = list2.next\n",
        "  cur.next = list1 if list1 else list2\n",
        "\n",
        "  return d.next    #Time:O(n), Space:O(1)\n"
      ],
      "metadata": {
        "id": "pWrnjGA3YIIS"
      },
      "execution_count": 227,
      "outputs": []
    },
    {
      "cell_type": "code",
      "source": [
        "# Leetcode 141: Linked List Cycle\n",
        "def hasCycle(head: Optional[ListNode]) -> bool:\n",
        "  dummy =ListNode()\n",
        "  dummy.next = head\n",
        "  slow = fast = dummy\n",
        "  while fast and fast.next:\n",
        "    fast = fast.next.next\n",
        "    slow = slow.next\n",
        "    if fast == slow:\n",
        "      return True\n",
        "  return False\n",
        "  # Time: O(n), Space:O(1)\n",
        "\n"
      ],
      "metadata": {
        "id": "Pv1rYijONhrf"
      },
      "execution_count": 228,
      "outputs": []
    },
    {
      "cell_type": "code",
      "source": [
        "# Leetcode 2807- Insert Greatest Common Division in Linked List\n",
        "def insertGreatestCommonDivisors(head: Optional[ListNode]) -> Optional[ListNode]:\n",
        "  prev = head\n",
        "  cur = head.next\n",
        "  while cur:\n",
        "    gcd = math.gcd(cur.val, prev.val)\n",
        "    g = ListNode(gcd)\n",
        "    prev.next = g\n",
        "    g.next = cur\n",
        "    prev = cur\n",
        "    cur = cur.next\n",
        "  return head\n",
        "  # Time: O(n*A)\n",
        "  # Space: O(1)"
      ],
      "metadata": {
        "id": "GpQUsOITQ3UW"
      },
      "execution_count": 229,
      "outputs": []
    },
    {
      "cell_type": "code",
      "source": [
        "# Leetcode 18- Remove Nth Node from End of List\n",
        "def removeNthFromEnd(head: Optional[ListNode], n: int) -> Optional[ListNode]:\n",
        "  dummy = ListNode()\n",
        "  dummy.next = head\n",
        "  behind = ahead = dummy\n",
        "  for _ in range(n+1):\n",
        "    ahead = ahead.next\n",
        "  while ahead:\n",
        "    behind = behind.next\n",
        "    ahead = ahead.next\n",
        "  behind.next = behind.next.next\n",
        "  return dummy.next\n",
        "# Time: O(M)\n",
        "#Space: O(1)"
      ],
      "metadata": {
        "id": "oPGW_oWkU9Dk"
      },
      "execution_count": 230,
      "outputs": []
    },
    {
      "cell_type": "code",
      "source": [
        "# Leetcode:876 = Middle of the Linked List\n",
        "def middleNode(head: Optional[ListNode]) -> Optional[ListNode]:\n",
        "  slow = head\n",
        "  fast = head\n",
        "  while fast and fast.next:\n",
        "    fast = fast.next.next\n",
        "    slow = slow.next\n",
        "  return slow\n",
        "# Time: O(n)\n",
        "# Space: 0(1)"
      ],
      "metadata": {
        "id": "2t9Ob6CBf7uh"
      },
      "execution_count": 231,
      "outputs": []
    },
    {
      "cell_type": "code",
      "source": [
        "# Leetcode 138: Copy List with Random Pointer\n",
        "class NodeR:\n",
        "  def __init__(self, x: int, next: 'Node' = None, random: 'Node' = None):\n",
        "    self.val = int(x)\n",
        "    self.next = next\n",
        "    self.random = random\n",
        "\n",
        "def copyRandomList(head: 'Optional[NodeR]') -> 'Optional[NodeR]':\n",
        "  if not head: return None\n",
        "  curr = head\n",
        "  old_to_new = {}\n",
        "  while curr:\n",
        "    node = NodeR(x=curr.val)\n",
        "    old_to_new[curr] = node\n",
        "    curr=curr.next\n",
        "  curr=head\n",
        "  while curr:\n",
        "    new_node = old_to_new[curr]\n",
        "    new_node.next = old_to_new.get(curr.next) if curr.next else None\n",
        "    new_node.random = old_to_new.get(curr.random) if curr.random else None\n",
        "    curr = curr.next\n",
        "  return old_to_new[head]\n",
        "\n",
        "  # Time: O(n)\n",
        "  #Space: O(n)"
      ],
      "metadata": {
        "id": "rDisPICigaqt"
      },
      "execution_count": 232,
      "outputs": []
    },
    {
      "cell_type": "code",
      "source": [
        "# Leetcode 1004: Max Consecutive Ones - Sliding Window\n",
        "def longestOnes(nums: List[int], k:int) -> int:\n",
        "  max_w=0\n",
        "  num_zeros = 0\n",
        "  n = len(nums)\n",
        "  l=0\n",
        "  for r in range(n):\n",
        "    if nums[r] ==0:\n",
        "      num_zeros +=1\n",
        "    while num_zeros > k:\n",
        "      if nums[l] == 0:\n",
        "        num_zeros -=1\n",
        "      l+=1\n",
        "    print(l,r)\n",
        "    w = r-l+1\n",
        "    print(w)\n",
        "    max_w = max(max_w, w)\n",
        "  return max_w\n",
        "  # Time: O(n)\n",
        "  # Space: O(1)"
      ],
      "metadata": {
        "id": "bwBgug8EfyWW"
      },
      "execution_count": 233,
      "outputs": []
    },
    {
      "cell_type": "code",
      "source": [
        "mj= [1,1,1,0,0,0,1,1,1,1]\n",
        "#longestOnes(mj, 2)"
      ],
      "metadata": {
        "id": "YelKCB97leoE"
      },
      "execution_count": 234,
      "outputs": []
    },
    {
      "cell_type": "code",
      "source": [
        "# Leetcode 3: Longest Substring Without Repeating Characters - Sliding Window\n",
        "def lengthOfLongestSubstring(s: str) -> int:\n",
        "  # abcbaca\n",
        "  l =0\n",
        "  longest = 0\n",
        "  sett = set()\n",
        "  n = len(s)\n",
        "  for r in range(n):\n",
        "    while s[r] in sett:\n",
        "      sett.remove(s[l])\n",
        "      l+=1\n",
        "    w = (r-l) +1\n",
        "    longest = max(longest, w)\n",
        "    sett.add(s[r])\n",
        "  return longest\n",
        "  # Time: 0(n)\n",
        "  # Space: 0(n)\n",
        "\n"
      ],
      "metadata": {
        "id": "2G_ENndFArqR"
      },
      "execution_count": 235,
      "outputs": []
    },
    {
      "cell_type": "code",
      "source": [
        "# Leetcode 424-Longest Repeating Character Replacement - Sliding Window\n",
        "def characterReplacement(s: str, k: int) -> int:\n",
        "  longest = 0\n",
        "  l = 0\n",
        "  counts = [0] * 26\n",
        "  # ABAB k=2\n",
        "  # counts = [1,2]\n",
        "  for r in range(len(s)):\n",
        "    counts[ord(s[r])- 65] +=1\n",
        "    while (r-l+1) - max(counts) > k:\n",
        "      counts[ord(s[l])-65] -=1\n",
        "      l+=1\n",
        "    longest = max(longest, r-l+1)\n",
        "  return longest\n",
        "  # Time: O(n)\n",
        "  # Space: O(1)\n"
      ],
      "metadata": {
        "id": "EsL9U3yDCfbm"
      },
      "execution_count": 236,
      "outputs": []
    },
    {
      "cell_type": "code",
      "source": [
        "# Leetcode 209: Minimum Size Subarray Sum - Sliding Window\n",
        "def minSubArrayLen(target: int, nums: List[int]) -> int:\n",
        "  min_lenght = float('inf')\n",
        "  summ = 0\n",
        "  l = 0\n",
        "  for r in range(len(nums)):\n",
        "    summ += nums[r]\n",
        "\n",
        "    while summ>= target:\n",
        "      min_lenght = min(min_lenght, r-l+1)\n",
        "      summ -= nums[l]\n",
        "      l +=1\n",
        "  return min_lenght if min_lenght < float('inf') else 0"
      ],
      "metadata": {
        "id": "o_HqYyGuG2-c"
      },
      "execution_count": 237,
      "outputs": []
    },
    {
      "cell_type": "code",
      "source": [
        "# Leetcode 643 - Maximum Average Subarray - Fized Sliding Window\n",
        "def findMaxAverage(nums: List[int], k: int) -> float:\n",
        "  n = len(nums)\n",
        "  cur_sum = 0\n",
        "  for i in range(k):\n",
        "    cur_sum += nums[i]\n",
        "# [3,4,2,   6,1,4,2]  =3\n",
        "  max_ave = cur_sum / k\n",
        "  for i in range(k, n):\n",
        "    cur_sum += nums[i]\n",
        "    cur_sum -= nums[i-k]\n",
        "\n",
        "    avg = cur_sum / k\n",
        "    max_ave = max(max_ave, avg)\n",
        "  return max_ave\n",
        "# Time: O(n), Space: 0(1)\n",
        "\n",
        "\n"
      ],
      "metadata": {
        "id": "VTuTYRy_ch5i"
      },
      "execution_count": 238,
      "outputs": []
    },
    {
      "cell_type": "code",
      "source": [
        "ord('a'), ord('e')"
      ],
      "metadata": {
        "colab": {
          "base_uri": "https://localhost:8080/"
        },
        "id": "eS_oBdGOflwm",
        "outputId": "9e88f9e5-8d29-42f3-ed5f-bb1b46fc591e"
      },
      "execution_count": 239,
      "outputs": [
        {
          "output_type": "execute_result",
          "data": {
            "text/plain": [
              "(97, 101)"
            ]
          },
          "metadata": {},
          "execution_count": 239
        }
      ]
    },
    {
      "cell_type": "code",
      "source": [
        "# Leetcode 567 - Permutation in String - Fixed Sliding Window\n",
        "def checkInclusion(s1: str, s2: str) -> bool:\n",
        "  n1 = len(s1)\n",
        "  n2 = len(s2)\n",
        "  # s1 = ab,  s2 = e i d  baooo 2-2\n",
        "  if n1>n2:\n",
        "    return False\n",
        "  s1_counts = [0] * 26\n",
        "  s2_counts = [0] * 26\n",
        "\n",
        "  for i in range(n1): #2 ,  0,1\n",
        "    s1_counts[ord(s1[i])-97] +=1\n",
        "    s2_counts[ord(s2[i])-97] +=1 #[0,1,1,1,0]\n",
        "  if s1_counts == s2_counts:\n",
        "    return True\n",
        "  for i in range(n1, n2):  # 2-8\n",
        "    s2_counts[ord(s2[i]) - 97] +=1\n",
        "    s2_counts[ord(s2[i-n1])- ord('a')] -=1\n",
        "    if s1_counts == s2_counts:\n",
        "      return True\n",
        "  return False\n",
        "# Time: O(n)\n",
        "# Space: O(1)\n"
      ],
      "metadata": {
        "id": "oAlUv5g1dPYx"
      },
      "execution_count": 240,
      "outputs": []
    },
    {
      "cell_type": "code",
      "source": [
        "class TreeNode:\n",
        "  def __init__(self, val=0, left=None, right=None):\n",
        "    self.val = val\n",
        "    self.left = left\n",
        "    self.right = right"
      ],
      "metadata": {
        "id": "b2k3kIng0GLZ"
      },
      "execution_count": 242,
      "outputs": []
    },
    {
      "cell_type": "code",
      "source": [
        "# Leetcode 226: Invert Binary Tree\n",
        "def invertTree(root: Optional[TreeNode]) -> Optional[TreeNode]:\n",
        "  if not root:\n",
        "    return None\n",
        "  root.left, root.right = root.right, root.left\n",
        "  invertTree(root.left)\n",
        "  invertTree(root.right)\n",
        "\n",
        "  return root\n",
        "# Time: O(n)\n",
        "# Space: O(n)\n"
      ],
      "metadata": {
        "id": "1V1nHYkL0HFG"
      },
      "execution_count": 244,
      "outputs": []
    },
    {
      "cell_type": "code",
      "source": [
        "# Leetcode 104: Max Depth of Binary Tree\n",
        "def maxDepth(root: Optional[TreeNode]) -> int:\n",
        "  if not root:\n",
        "    return 0\n",
        "  left = maxDepth(root.left)\n",
        "  right = max.Depth(root.right)\n",
        "  return 1+ max(left, right)\n",
        "# Time: 0(n)\n",
        "# Space: 0(h)"
      ],
      "metadata": {
        "id": "4SlZ5FAE0_LF"
      },
      "execution_count": 245,
      "outputs": []
    }
  ]
}