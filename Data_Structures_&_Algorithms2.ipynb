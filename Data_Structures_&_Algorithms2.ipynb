{
  "nbformat": 4,
  "nbformat_minor": 0,
  "metadata": {
    "colab": {
      "provenance": [],
      "authorship_tag": "ABX9TyMiSXBHuXJKOQZTOfdLe7EL",
      "include_colab_link": true
    },
    "kernelspec": {
      "name": "python3",
      "display_name": "Python 3"
    },
    "language_info": {
      "name": "python"
    }
  },
  "cells": [
    {
      "cell_type": "markdown",
      "metadata": {
        "id": "view-in-github",
        "colab_type": "text"
      },
      "source": [
        "<a href=\"https://colab.research.google.com/github/fahriyegrl/leetcode_practice_interview_coding/blob/main/Data_Structures_%26_Algorithms2.ipynb\" target=\"_parent\"><img src=\"https://colab.research.google.com/assets/colab-badge.svg\" alt=\"Open In Colab\"/></a>"
      ]
    },
    {
      "cell_type": "code",
      "execution_count": 1,
      "metadata": {
        "id": "nMjb0ZBeHHEt"
      },
      "outputs": [],
      "source": [
        "# Leetcode:1584 - Min Cost to Connect All Points  - Prim`s Algorithm to Create MST\n",
        "import heapq\n",
        "from typing import List\n",
        "def minCostConnectPoints(points: List[List[int]]):\n",
        "  # Prim`s Algorithm\n",
        "  # [(0,0), (2,2), (2,3)]\n",
        "  n= len(points)\n",
        "  total_cost = 0\n",
        "  seen = set()\n",
        "  min_heap = [(0,0)] # [A,1], [B,2]\n",
        "\n",
        "  while len(seen) < 0:\n",
        "    dist, i = heapq.heappop(min_heap) #0,0\n",
        "    if i in seen:\n",
        "      continue\n",
        "    seen.add(i) #i=0\n",
        "    total_cost += dist #0\n",
        "    xi, yi = points[i]  #0,0\n",
        "\n",
        "    for j in range(n):\n",
        "      if j not in seen:\n",
        "        xj, yj = points[j]\n",
        "        nei_dist = abs(xi-xj) + abs(yi-yj)\n",
        "        heapq.heappush(min_heap, (nei_dist, j))\n",
        "    return total_cost\n",
        "    # Time: O(n^2 log(n))\n",
        "    # Space: O(n^2)\n"
      ]
    },
    {
      "cell_type": "code",
      "source": [
        "# Leetcode: 743 - Network Delay Time (Djikstra`s Algorithm) - Graphs\n",
        "from collections import defaultdict\n",
        "import heapq\n",
        "from typing import List\n",
        "\n",
        "def networkDelayTime(times: List[List[int]], n:int, k:int) -> int:\n",
        "  graph = defaultdict(list)\n",
        "  for u,v,time in times:\n",
        "    graph[u].appned((v,time))\n",
        "\n",
        "  min_times = {}\n",
        "  min_heap= [(0,k)]\n",
        "\n",
        "  while min_heap:\n",
        "    time_k_to_i, i = heapq.heappop(min_heap)\n",
        "    if i in min_times:\n",
        "      continue\n",
        "    min_times[i] = time_k_to_i\n",
        "\n",
        "    for nei, nei_times in graph[i]:\n",
        "      if nei not in min_times:\n",
        "        heapq.heappush(min_heap, (time_k_to_i+nei_times, nei))\n",
        "    if len(min_times) == n:\n",
        "      return max(min_times.values())\n",
        "    else:\n",
        "      return -1\n",
        "      # Time: O((V+E) log(V))\n",
        "      # Space: O(V+E)"
      ],
      "metadata": {
        "id": "yRnSX2AnQYqV"
      },
      "execution_count": 3,
      "outputs": []
    },
    {
      "cell_type": "code",
      "source": [
        "# Leetcode:509 - Fibonacci Number - Dynamic Programming\n",
        "\n",
        "#1 - Top Down Recursive - Time:0(2^n), Space: O(n)\n",
        "\n",
        "def fib(n:int) -> int:\n",
        "  if n ==0:\n",
        "    return 0\n",
        "  elif n == 1:\n",
        "    return 1\n",
        "  else:\n",
        "    return fib(n-1) + fib(n-2)\n",
        "fib(7)"
      ],
      "metadata": {
        "colab": {
          "base_uri": "https://localhost:8080/"
        },
        "id": "2vw6wxFdissH",
        "outputId": "45e0a258-d55d-4298-b7f4-aec3753890c4"
      },
      "execution_count": 7,
      "outputs": [
        {
          "output_type": "execute_result",
          "data": {
            "text/plain": [
              "13"
            ]
          },
          "metadata": {},
          "execution_count": 7
        }
      ]
    },
    {
      "cell_type": "code",
      "source": [
        "#2 - Top Down Memorized - Time:O(n), Space:O(n)\n",
        "def fib2(n:int) -> int:\n",
        "  memo = {0:0, 1:1}\n",
        "  def f(x):\n",
        "    if x in memo:\n",
        "      return memo[x]\n",
        "    else:\n",
        "      memo[x] = f(x-1) + f(x-2)\n",
        "      return memo[x]\n",
        "  return f(n)"
      ],
      "metadata": {
        "id": "fqj7C9IQmYmp"
      },
      "execution_count": 8,
      "outputs": []
    },
    {
      "cell_type": "code",
      "source": [
        "#3 Bottom Up Tabulation - Time: O(n), Space: 0(n)\n",
        "def fib3(n:int) -> int:\n",
        "  if n==0:\n",
        "    return 0\n",
        "  if n==1:\n",
        "    return 0\n",
        "  dp = [0] * (n+1)\n",
        "  dp[0] = 0\n",
        "  dp[1]= 1\n",
        "  for i in range(2, n+1):\n",
        "    dp[i] = dp[i-1] + dp[i-2]\n",
        "\n",
        "  return dp[n]"
      ],
      "metadata": {
        "id": "kS7he4ZVnBd2"
      },
      "execution_count": 9,
      "outputs": []
    },
    {
      "cell_type": "code",
      "source": [
        "#3 Bottom Up Constant Space - Time: O(n), Space: 0(1)\n",
        "def fib4(n:int) -> int:\n",
        "  if n==0:\n",
        "    return 0\n",
        "  if n==1:\n",
        "    return 0\n",
        "  prev, cur = 0,1\n",
        "  for i in range(2, n+1):\n",
        "    prev, cur = cur, prev+cur\n",
        "  return cur"
      ],
      "metadata": {
        "id": "glgR9R2Cnp5o"
      },
      "execution_count": 10,
      "outputs": []
    }
  ]
}