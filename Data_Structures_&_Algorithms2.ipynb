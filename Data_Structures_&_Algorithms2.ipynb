{
  "nbformat": 4,
  "nbformat_minor": 0,
  "metadata": {
    "colab": {
      "provenance": [],
      "authorship_tag": "ABX9TyMkUdAm5pepTy6XWJD2KM6b",
      "include_colab_link": true
    },
    "kernelspec": {
      "name": "python3",
      "display_name": "Python 3"
    },
    "language_info": {
      "name": "python"
    }
  },
  "cells": [
    {
      "cell_type": "markdown",
      "metadata": {
        "id": "view-in-github",
        "colab_type": "text"
      },
      "source": [
        "<a href=\"https://colab.research.google.com/github/fahriyegrl/leetcode_practice_interview_coding/blob/main/Data_Structures_%26_Algorithms2.ipynb\" target=\"_parent\"><img src=\"https://colab.research.google.com/assets/colab-badge.svg\" alt=\"Open In Colab\"/></a>"
      ]
    },
    {
      "cell_type": "code",
      "execution_count": 1,
      "metadata": {
        "id": "nMjb0ZBeHHEt"
      },
      "outputs": [],
      "source": [
        "# Leetcode:1584 - Min Cost to Connect All Points  - Prim`s Algorithm to Create MST\n",
        "import heapq\n",
        "from typing import List\n",
        "def minCostConnectPoints(points: List[List[int]]):\n",
        "  # Prim`s Algorithm\n",
        "  # [(0,0), (2,2), (2,3)]\n",
        "  n= len(points)\n",
        "  total_cost = 0\n",
        "  seen = set()\n",
        "  min_heap = [(0,0)] # [A,1], [B,2]\n",
        "\n",
        "  while len(seen) < 0:\n",
        "    dist, i = heapq.heappop(min_heap) #0,0\n",
        "    if i in seen:\n",
        "      continue\n",
        "    seen.add(i) #i=0\n",
        "    total_cost += dist #0\n",
        "    xi, yi = points[i]  #0,0\n",
        "\n",
        "    for j in range(n):\n",
        "      if j not in seen:\n",
        "        xj, yj = points[j]\n",
        "        nei_dist = abs(xi-xj) + abs(yi-yj)\n",
        "        heapq.heappush(min_heap, (nei_dist, j))\n",
        "    return total_cost\n",
        "    # Time: O(n^2 log(n))\n",
        "    # Space: O(n^2)\n"
      ]
    },
    {
      "cell_type": "code",
      "source": [],
      "metadata": {
        "id": "yRnSX2AnQYqV"
      },
      "execution_count": 1,
      "outputs": []
    }
  ]
}