{
  "nbformat": 4,
  "nbformat_minor": 0,
  "metadata": {
    "colab": {
      "provenance": [],
      "authorship_tag": "ABX9TyPKFZcLDwg9IsZPgmMSYhrE",
      "include_colab_link": true
    },
    "kernelspec": {
      "name": "python3",
      "display_name": "Python 3"
    },
    "language_info": {
      "name": "python"
    }
  },
  "cells": [
    {
      "cell_type": "markdown",
      "metadata": {
        "id": "view-in-github",
        "colab_type": "text"
      },
      "source": [
        "<a href=\"https://colab.research.google.com/github/fahriyegrl/leetcode_practice_interview_coding/blob/main/Data_Structures_%26_Algorithms2.ipynb\" target=\"_parent\"><img src=\"https://colab.research.google.com/assets/colab-badge.svg\" alt=\"Open In Colab\"/></a>"
      ]
    },
    {
      "cell_type": "code",
      "execution_count": 1,
      "metadata": {
        "id": "nMjb0ZBeHHEt"
      },
      "outputs": [],
      "source": [
        "# Leetcode:1584 - Min Cost to Connect All Points  - Prim`s Algorithm to Create MST\n",
        "import heapq\n",
        "from typing import List\n",
        "def minCostConnectPoints(points: List[List[int]]):\n",
        "  # Prim`s Algorithm\n",
        "  # [(0,0), (2,2), (2,3)]\n",
        "  n= len(points)\n",
        "  total_cost = 0\n",
        "  seen = set()\n",
        "  min_heap = [(0,0)] # [A,1], [B,2]\n",
        "\n",
        "  while len(seen) < 0:\n",
        "    dist, i = heapq.heappop(min_heap) #0,0\n",
        "    if i in seen:\n",
        "      continue\n",
        "    seen.add(i) #i=0\n",
        "    total_cost += dist #0\n",
        "    xi, yi = points[i]  #0,0\n",
        "\n",
        "    for j in range(n):\n",
        "      if j not in seen:\n",
        "        xj, yj = points[j]\n",
        "        nei_dist = abs(xi-xj) + abs(yi-yj)\n",
        "        heapq.heappush(min_heap, (nei_dist, j))\n",
        "    return total_cost\n",
        "    # Time: O(n^2 log(n))\n",
        "    # Space: O(n^2)\n"
      ]
    },
    {
      "cell_type": "code",
      "source": [
        "# Leetcode: 743 - Network Delay Time (Djikstra`s Algorithm) - Graphs\n",
        "from collections import defaultdict\n",
        "import heapq\n",
        "from typing import List\n",
        "\n",
        "def networkDelayTime(times: List[List[int]], n:int, k:int) -> int:\n",
        "  graph = defaultdict(list)\n",
        "  for u,v,time in times:\n",
        "    graph[u].appned((v,time))\n",
        "\n",
        "  min_times = {}\n",
        "  min_heap= [(0,k)]\n",
        "\n",
        "  while min_heap:\n",
        "    time_k_to_i, i = heapq.heappop(min_heap)\n",
        "    if i in min_times:\n",
        "      continue\n",
        "    min_times[i] = time_k_to_i\n",
        "\n",
        "    for nei, nei_times in graph[i]:\n",
        "      if nei not in min_times:\n",
        "        heapq.heappush(min_heap, (time_k_to_i+nei_times, nei))\n",
        "    if len(min_times) == n:\n",
        "      return max(min_times.values())\n",
        "    else:\n",
        "      return -1\n",
        "      # Time: O((V+E) log(V))\n",
        "      # Space: O(V+E)"
      ],
      "metadata": {
        "id": "yRnSX2AnQYqV"
      },
      "execution_count": 2,
      "outputs": []
    },
    {
      "cell_type": "code",
      "source": [
        "# Leetcode:509 - Fibonacci Number - Dynamic Programming\n",
        "\n",
        "#1 - Top Down Recursive - Time:0(2^n), Space: O(n)\n",
        "\n",
        "def fib(n:int) -> int:\n",
        "  if n ==0:\n",
        "    return 0\n",
        "  elif n == 1:\n",
        "    return 1\n",
        "  else:\n",
        "    return fib(n-1) + fib(n-2)\n",
        "fib(7)"
      ],
      "metadata": {
        "colab": {
          "base_uri": "https://localhost:8080/"
        },
        "id": "2vw6wxFdissH",
        "outputId": "922ebe97-2806-4cca-9107-3b45684f8061"
      },
      "execution_count": 3,
      "outputs": [
        {
          "output_type": "execute_result",
          "data": {
            "text/plain": [
              "13"
            ]
          },
          "metadata": {},
          "execution_count": 3
        }
      ]
    },
    {
      "cell_type": "code",
      "source": [
        "#2 - Top Down Memorized - Time:O(n), Space:O(n)\n",
        "def fib2(n:int) -> int:\n",
        "  memo = {0:0, 1:1}\n",
        "  def f(x):\n",
        "    if x in memo:\n",
        "      return memo[x]\n",
        "    else:\n",
        "      memo[x] = f(x-1) + f(x-2)\n",
        "      return memo[x]\n",
        "  return f(n)"
      ],
      "metadata": {
        "id": "fqj7C9IQmYmp"
      },
      "execution_count": 4,
      "outputs": []
    },
    {
      "cell_type": "code",
      "source": [
        "#3 Bottom Up Tabulation - Time: O(n), Space: 0(n)\n",
        "def fib3(n:int) -> int:\n",
        "  if n==0:\n",
        "    return 0\n",
        "  if n==1:\n",
        "    return 0\n",
        "  dp = [0] * (n+1)\n",
        "  dp[0] = 0\n",
        "  dp[1]= 1\n",
        "  for i in range(2, n+1):\n",
        "    dp[i] = dp[i-1] + dp[i-2]\n",
        "\n",
        "  return dp[n]"
      ],
      "metadata": {
        "id": "kS7he4ZVnBd2"
      },
      "execution_count": 5,
      "outputs": []
    },
    {
      "cell_type": "code",
      "source": [
        "#3 Bottom Up Constant Space - Time: O(n), Space: 0(1)\n",
        "def fib4(n:int) -> int:\n",
        "  if n==0:\n",
        "    return 0\n",
        "  if n==1:\n",
        "    return 0\n",
        "  prev, cur = 0,1\n",
        "  for i in range(2, n+1):\n",
        "    prev, cur = cur, prev+cur\n",
        "  return cur"
      ],
      "metadata": {
        "id": "glgR9R2Cnp5o"
      },
      "execution_count": 6,
      "outputs": []
    },
    {
      "cell_type": "code",
      "source": [
        "fib4(5), fib3(5), fib2(5), fib(5)"
      ],
      "metadata": {
        "colab": {
          "base_uri": "https://localhost:8080/"
        },
        "id": "WPAg6zmypB9Q",
        "outputId": "6500970f-638a-4700-96ab-994b2b4115de"
      },
      "execution_count": 7,
      "outputs": [
        {
          "output_type": "execute_result",
          "data": {
            "text/plain": [
              "(5, 5, 5, 5)"
            ]
          },
          "metadata": {},
          "execution_count": 7
        }
      ]
    },
    {
      "cell_type": "code",
      "source": [
        "# Leetcode:70 - Climbing Stairs - Dynamic Programming\n",
        "\n",
        "# Recursive Solution - Time: O(2^n), Space: O(n)\n",
        "def climbStairs(n:int) -> int:\n",
        "  if n == 1:\n",
        "    return 1\n",
        "  elif n == 2:\n",
        "    return 2\n",
        "  else:\n",
        "    return climbStairs(n-1) + climbStairs(n-2)"
      ],
      "metadata": {
        "id": "updtmMaBv8GQ"
      },
      "execution_count": 8,
      "outputs": []
    },
    {
      "cell_type": "code",
      "source": [
        "# Top Down Memo - Time: O(n), Space: O(n)\n",
        "def climbStairs2(n:int) -> int:\n",
        "  memo = {1:1, 2:2}\n",
        "  def f(x):\n",
        "    if x in memo:\n",
        "      return memo[x]\n",
        "    else:\n",
        "      memo[x] = f(x-1) + f(x-2)\n",
        "      return memo[x]\n"
      ],
      "metadata": {
        "id": "QpWhLCFEwP66"
      },
      "execution_count": 9,
      "outputs": []
    },
    {
      "cell_type": "code",
      "source": [
        "# Bottom Up Tabulation - Time: O(n), Space: O(n)\n",
        "def climbStairs3(n:int) -> int:\n",
        "  if n==1:\n",
        "    return 1\n",
        "  if n==2:\n",
        "    return 2\n",
        "  dp = [0] * n\n",
        "  dp[0] = 1\n",
        "  dp[1] =2\n",
        "  for i in range(2,n):\n",
        "    dp[i] = dp[i-1] + dp[i-1]\n",
        "  return dp[n-1]"
      ],
      "metadata": {
        "id": "LxqLg6P5wft5"
      },
      "execution_count": 10,
      "outputs": []
    },
    {
      "cell_type": "code",
      "source": [
        "# Bottom Up Constant Time - Time: O(n), Space: O(1)\n",
        "def climbStairs4(n:int) -> int:\n",
        "  if n==1:\n",
        "    return 1\n",
        "  if n==2:\n",
        "    return 2\n",
        "  two_back = 1\n",
        "  one_back= 2\n",
        "  for i in range(2,n):\n",
        "    next_num = two_back + one_back\n",
        "    two_back = one_back\n",
        "    one_back = next_num\n",
        "  return one_back"
      ],
      "metadata": {
        "id": "EmAYBFghw_BQ"
      },
      "execution_count": 11,
      "outputs": []
    },
    {
      "cell_type": "code",
      "source": [
        "# Leetcode:746 - Min Cost Climbing Stairs - Dynamic Programming\n",
        "\n",
        "# Solution 1 - Recursive Time: O(2^n), Space: O(n)\n",
        "\n",
        "def minCostClimbingStairs(cost:List[int]) -> int:\n",
        "  n = len(cost)\n",
        "  def min_cost(i):\n",
        "    if i <0:\n",
        "      return 0\n",
        "    else:\n",
        "      min(cost[i-2]+ min_cost(i-2), cost[i-1]+ min_cost[i-1])\n",
        "  return min_cost(n)"
      ],
      "metadata": {
        "id": "ST3IQYRyy8A1"
      },
      "execution_count": 12,
      "outputs": []
    },
    {
      "cell_type": "code",
      "source": [
        "# Solution 2 - Top Down DP: O(n), Space: O(n)\n",
        "\n",
        "def minCostClimbingStairs2(cost:List[int]) -> int:\n",
        "  n = len(cost)\n",
        "  memo = {0:0, 1:0}\n",
        "  def min_cost(i):\n",
        "    if i in memo:\n",
        "      return memo[i]\n",
        "    else:\n",
        "      memo[i]= min(cost[i-2]+ min_cost(i-2), cost[i-1]+ min_cost[i-1])\n",
        "  return min_cost(n)"
      ],
      "metadata": {
        "id": "N1Na4PtiZ3jO"
      },
      "execution_count": 13,
      "outputs": []
    },
    {
      "cell_type": "code",
      "source": [
        "# Solution 3 - Bottom Up DP - Tabulation: O(n), Space: O(n)\n",
        "\n",
        "def minCostClimbingStairs3(cost:List[int]) -> int:\n",
        "  n = len(cost)\n",
        "  dp = [0] * (n+1)\n",
        "  for i in range(2, n+1):\n",
        "    dp[i] = min(cost[i-2]+ dp[i-2], cost[i-1]+ dp[i-1])\n",
        "  return dp[n]"
      ],
      "metadata": {
        "id": "irLLgB5YamBk"
      },
      "execution_count": 14,
      "outputs": []
    },
    {
      "cell_type": "code",
      "source": [
        "# Solution 4 - Bottom Up DP - Constant: O(n), Space: O(1)\n",
        "\n",
        "def minCostClimbingStairs3(cost:List[int]) -> int:\n",
        "  n = len(cost)\n",
        "  prev, cur = 0, 0\n",
        "  for i in range(2, n+1):\n",
        "    prev, curr = curr, min(cost[i-2]+ prev, cost[i-1]+ cur)\n",
        "  return cur"
      ],
      "metadata": {
        "id": "dWpjzcmrbEZ1"
      },
      "execution_count": 15,
      "outputs": []
    },
    {
      "cell_type": "code",
      "source": [
        "# Leetcode:198 - House Robber - Dynamic Programming\n",
        "\n",
        "# Solution1: Recursive Time: O(2^n), Space: O(n)\n",
        "def rob(nums:List[int]) -> int:\n",
        "  n = len(nums)\n",
        "  def helper(i):\n",
        "    if i == 0:\n",
        "      return nums[0]\n",
        "    if i ==1:\n",
        "      return max(nums[0], nums[1])\n",
        "\n",
        "    return max(nums[i]+helper[i-2], helper[i-1])\n",
        "  return helper(n-1)\n"
      ],
      "metadata": {
        "id": "2K95Xmvs67jO"
      },
      "execution_count": 16,
      "outputs": []
    },
    {
      "cell_type": "code",
      "source": [
        "# Solution2: Top Down DP(Memoized): O(n), Space: O(n)\n",
        "def rob2(nums:List[int]) -> int:\n",
        "  n = len(nums)\n",
        "  if n == 1:\n",
        "    return nums[0]\n",
        "  if n ==1:\n",
        "    return max(nums[0], nums[1])\n",
        "  memo = {0:nums[0], 1:max(nums[0], nums[1])}\n",
        "  def helper(i):\n",
        "    if i in memo:\n",
        "      return memo[i]\n",
        "    else:\n",
        "      memo[i]= max(nums[i]+helper[i-1], helper[i-1])\n",
        "  return helper(n-1)"
      ],
      "metadata": {
        "id": "5Mnbv3Nh7vcK"
      },
      "execution_count": 17,
      "outputs": []
    },
    {
      "cell_type": "code",
      "source": [
        "# Solution3: Bottom Down DP(Tabulation): O(n), Space: O(n)\n",
        "def rob3(nums:List[int]) -> int:\n",
        "  n = len(nums)\n",
        "  if n == 1:\n",
        "    return nums[0]\n",
        "  if n ==1:\n",
        "    return max(nums[0], nums[1])\n",
        "  dp  = [0] * n\n",
        "  dp[0] = nums[0]\n",
        "  dp[1]= max(nums[0], nums[1])\n",
        "  for i in range(2, n):\n",
        "    dp[i] = max(nums[i]+dp[i-2], dp[i-1])\n",
        "  return dp[n-1]"
      ],
      "metadata": {
        "id": "nhwmNdbN8nwL"
      },
      "execution_count": 18,
      "outputs": []
    },
    {
      "cell_type": "code",
      "source": [
        "# Solution3: Bottom Down DP(Constant): O(n), Space: O(1)\n",
        "def rob3(nums:List[int]) -> int:\n",
        "  n = len(nums)\n",
        "  if n == 1:\n",
        "    return nums[0]\n",
        "  if n ==1:\n",
        "    return max(nums[0], nums[1])\n",
        "\n",
        "  prev = nums[0]\n",
        "  cur= max(nums[0], nums[1])\n",
        "  for i in range(2, n):\n",
        "    prev, cur = cur, max(nums[i]+prev, cur)\n",
        "  return cur"
      ],
      "metadata": {
        "id": "FeJgrNfw89H-"
      },
      "execution_count": 19,
      "outputs": []
    },
    {
      "cell_type": "code",
      "source": [
        "# Leetcode:62 - Unique Paths\n",
        "\n",
        "# Recursive Solution - Time:O(2^(m*n)), Space: O(m*n)\n",
        "def uniquePaths(m:int, n:int) -> int:\n",
        "\n",
        "  def paths(i,j):\n",
        "    if i == j == 0:\n",
        "      return 1\n",
        "    elif i<0 or j<0 or i==m or j ==n:\n",
        "      return 0\n",
        "    else:\n",
        "      return paths(i-1,j) + paths(i, j-1)\n",
        "  return paths(m-1, n-1)"
      ],
      "metadata": {
        "id": "neAY96JizUHr"
      },
      "execution_count": 20,
      "outputs": []
    },
    {
      "cell_type": "code",
      "source": [
        "# Top Down DP(Memorization) - Time:O(m*n), Space: O(m*n)\n",
        "def uniquePaths2(m:int, n:int) -> int:\n",
        "  memo = {(0,0):1}\n",
        "  def paths(i,j):\n",
        "    if (i,j) in memo:\n",
        "      return memo[(i,j)]\n",
        "    elif i<0 or j<0 or i==m or j==n:\n",
        "      return 0\n",
        "    else:\n",
        "      val = paths(i, j-1) + paths(i-1, j)\n",
        "      memo[(i,j)] = val\n",
        "\n",
        "  return paths(m-1, n-1)"
      ],
      "metadata": {
        "id": "ceDCgddG0teS"
      },
      "execution_count": 21,
      "outputs": []
    },
    {
      "cell_type": "code",
      "source": [
        "# Bottom Up DP(Tabulation) - Time:O(m*n), Space: O(m*n)\n",
        "\n",
        "def uniquePaths3(m:int, n:int) -> int:\n",
        "  dp = []\n",
        "  for _ in range(m):\n",
        "    dp.append([0] *n)\n",
        "  dp[0][0] =1\n",
        "  for i in range(m):\n",
        "    for j in range(n):\n",
        "      if i == j == 0:\n",
        "        continue\n",
        "    val = 0\n",
        "    if i>0:\n",
        "      val += dp[i-1][j]\n",
        "    if j>0:\n",
        "      val += dp[i][j-1]\n",
        "    dp[i][j]= val\n",
        "\n",
        "  return dp[m-1][n-1]"
      ],
      "metadata": {
        "id": "khCNAjST2TvD"
      },
      "execution_count": 22,
      "outputs": []
    },
    {
      "cell_type": "code",
      "source": [
        "# Leetcode:322 - Coin Change - Dynamic Programming\n",
        "\n",
        "# Brute force with simple recursion - Time: O(coins ^ Amaount), Space: O(Amount)\n",
        "def coinChange(coins:List[int], amount:int) -> int:\n",
        "  if amount ==0:\n",
        "    return 0\n",
        "  elif amount < -1:\n",
        "    return -1\n",
        "\n",
        "  min_cnt = -1\n",
        "  for coin in coins:\n",
        "    cnt = coinChange(coins, amount-coin)\n",
        "    if cnt>= 0:\n",
        "      min_cnt = cnt + 1 if min_cnt <0 else min(min_cnt, cnt+1)\n",
        "  return min_cnt\n"
      ],
      "metadata": {
        "id": "Q3fhHW4RXqJY"
      },
      "execution_count": 23,
      "outputs": []
    },
    {
      "cell_type": "code",
      "source": [
        "# Top Down DP - Time: O(coins * Amount), Space: O(Amount)\n",
        "def coinChange2(coins:List[int], amount:int) -> int:\n",
        "  coins.sort()  # [1,4,5] 3\n",
        "  memo = {0:0}\n",
        "  def min_coins(amt):\n",
        "    if amt in memo:\n",
        "      return memo[amt]\n",
        "    minn = float('inf')\n",
        "    for coin in coins:\n",
        "      diff = amt - coin\n",
        "      if diff < 0:\n",
        "        break\n",
        "      minn = (minn, 1 + min_coins(diff))\n",
        "\n",
        "    memo[amt] = minn\n",
        "    return minn\n",
        "\n",
        "  result = min_coins(amount)\n",
        "  if result < float('inf'):\n",
        "    return result\n",
        "  else:\n",
        "    return -1\n"
      ],
      "metadata": {
        "id": "JDhhj0Jc6rQf"
      },
      "execution_count": 24,
      "outputs": []
    },
    {
      "cell_type": "code",
      "source": [
        "# Bottom Up DP, Tabulation - Time: O(coins * Amount), Space: O(Amount)\n",
        "def coinChange2(coins:List[int], amount:int) -> int:\n",
        "  dp = [0] * (amount+1)\n",
        "  coins.sort()\n",
        "\n",
        "  for i in range(1,amount+1): #i= 1,2,3\n",
        "    minn = float('inf')\n",
        "\n",
        "    for coin in coins: #[1,2,4] 3, [0,1,2,0]\n",
        "      diff = i -coin\n",
        "      if diff < 0:\n",
        "        break\n",
        "      minn = min(minn, dp[diff] +1)\n",
        "    dp[i] = minn\n",
        "\n",
        "  if dp[amount] < float('inf'):\n",
        "    return dp[amount]\n",
        "  else:\n",
        "    return -1"
      ],
      "metadata": {
        "id": "jIv3ZiFeHmXy"
      },
      "execution_count": 25,
      "outputs": []
    },
    {
      "cell_type": "code",
      "source": [
        "#Leetcode:53 - Maximum Subarray - Dynamic Programming\n",
        "\n",
        "# Bottom Up DP (Constant Space), Time:O(n), Space:O(1)\n",
        "def maxSubArray(nums:List[int]) -> int:\n",
        "  max_sum = float('-inf')\n",
        "  cur_sum = 0\n",
        "  for i in range(len(nums)):\n",
        "    cur_sum += nums[i]\n",
        "    max_sum = max(max_sum, cur_sum)\n",
        "    if cur_sum <0:\n",
        "      cur_sum=0\n",
        "  return max_sum\n"
      ],
      "metadata": {
        "id": "-tSy7KfCOSIY"
      },
      "execution_count": 26,
      "outputs": []
    },
    {
      "cell_type": "code",
      "source": [
        "# Leetcode:55 Jump Game - Dynamic Programming\n",
        "\n",
        "# Recursive Solution, Time:O(Max(nums)^n), Space: O(n)\n",
        "def canJump(nums:List[int]) -> bool:\n",
        "  n = len(nums)\n",
        "  def can_reach(i):\n",
        "    if i==n-1:\n",
        "      return True\n",
        "    for jump in range(1,nums[i]+1):\n",
        "      if can_reach(i+jump):\n",
        "        return True\n",
        "    return False\n",
        "  return can_reach(0)"
      ],
      "metadata": {
        "id": "KOXAEgutPT9s"
      },
      "execution_count": 27,
      "outputs": []
    },
    {
      "cell_type": "code",
      "source": [
        "# Top Down DP(Memoization), Time:O(n^2), Space: O(n)\n",
        "def canJump2(nums:List[int]) -> bool:\n",
        "  n= len(nums)\n",
        "  memo = {n-1:True}\n",
        "\n",
        "  def can_reach(i):\n",
        "    if i in memo:\n",
        "      return memo[i]\n",
        "    for jump in range(1, nums[i]+1):\n",
        "      if can_reach(i+jump):\n",
        "        memo[i]=True\n",
        "    memo[i]=False\n",
        "    return False\n",
        "  can_reach(0)"
      ],
      "metadata": {
        "id": "9ZgiCCizQ2L3"
      },
      "execution_count": 28,
      "outputs": []
    },
    {
      "cell_type": "code",
      "source": [
        "# Greedy - Start at end, Time:O(n), Space: O(1)\n",
        "def canJump3(nums:List[int]) -> bool:\n",
        "  n = len(nums) #[3,2,1,4]\n",
        "  target = n-1 #3\n",
        "  for i in range(n-1, -1,-1): #i= 3,2,1,0\n",
        "    max_jump = nums[i]\n",
        "    if i+max_jump >= target:\n",
        "      target = i #2\n",
        "  return target == 0\n"
      ],
      "metadata": {
        "id": "RG4tC8MYRfwY"
      },
      "execution_count": 29,
      "outputs": []
    },
    {
      "cell_type": "code",
      "source": [
        "# subsequence and subarray are different\n",
        "#A subarray is a contiguous (continuous) part of an array.\n",
        "#That means the elements are next to each other in the original array.\n",
        "#A subsequence is a sequence that can be derived\n",
        "#by deleting some elements (or none) without changing the order of the remaining elements"
      ],
      "metadata": {
        "id": "jxJuK0FyV2dO"
      },
      "execution_count": 30,
      "outputs": []
    },
    {
      "cell_type": "code",
      "source": [
        "# Leetcode:300 - Longest Increasing Subsequence - Dynamic Programming\n",
        "# Bottom Up DP (Tabulation) - Time:O(n^2), Space: O(n)\n",
        "def lengthOfLIS(nums:List[int]) -> int:\n",
        "  n = len(nums)\n",
        "  dp = [1] * n\n",
        "\n",
        "  for i in range(1,n):\n",
        "    for j in range(i):\n",
        "      if nums[i] > nums[j]:\n",
        "        dp[i] = max(dp[i], dp[j]+1)\n",
        "\n",
        "  return max(dp)\n"
      ],
      "metadata": {
        "id": "AjW7HIsiNzIj"
      },
      "execution_count": 31,
      "outputs": []
    },
    {
      "cell_type": "code",
      "source": [
        "# Leetcode:1143 - Longest Common Subsequence - Dynamic Programming\n",
        "\n",
        "#Top Down DP (Memoization), Time: O(m*n), Space: O(m*n)\n",
        "\n",
        "from functools import lru_cache\n",
        "\n",
        "def longestCommonSubsequence(text1:str, text2:str) -> int:\n",
        "  m,n = len(text1), len(text2)\n",
        "\n",
        "  @lru_cache(None)\n",
        "  def longest(i,j):\n",
        "    if i==m or j==n:\n",
        "      return 0\n",
        "    elif text1[i] == text2[j]:\n",
        "      return 1 + longest(i+1, j+1)\n",
        "    else:\n",
        "      return max(longest(i, j+1), longest(i+1, j))\n",
        "\n",
        "  return longest(0,0)"
      ],
      "metadata": {
        "id": "nepRE8E4gx78"
      },
      "execution_count": 32,
      "outputs": []
    },
    {
      "cell_type": "code",
      "source": [
        "longestCommonSubsequence('dfr', 'dgtr')"
      ],
      "metadata": {
        "colab": {
          "base_uri": "https://localhost:8080/"
        },
        "id": "DFgjBR75iDfc",
        "outputId": "fec90088-ede4-49c0-afa8-b99aad0ba1f9"
      },
      "execution_count": 33,
      "outputs": [
        {
          "output_type": "execute_result",
          "data": {
            "text/plain": [
              "2"
            ]
          },
          "metadata": {},
          "execution_count": 33
        }
      ]
    },
    {
      "cell_type": "code",
      "source": [
        "#Bottom Up DP (Tabulation), Time: O(m*n), Space: O(m*n)\n",
        "\n",
        "def longestCommonSubsequence2(text1:str, text2:str) -> int:\n",
        "  m,n = len(text1), len(text2)\n",
        "  dp = [[0]*(n+1) for _ in range(m+1)]\n",
        "  for i in range(1,m+1):\n",
        "    for j in range(1, n+1):\n",
        "      if text1[i-1] == text2[j-1]:\n",
        "        dp[i][j] = dp[i-1][j-1] +1\n",
        "      else:\n",
        "        dp[i][j] = max(dp[i-1][j], dp[i][j-1])\n",
        "\n",
        "  return dp[m][n]"
      ],
      "metadata": {
        "id": "uO1Wmgs3WXqQ"
      },
      "execution_count": 34,
      "outputs": []
    }
  ]
}